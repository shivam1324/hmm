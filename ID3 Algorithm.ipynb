{
 "cells": [
  {
   "cell_type": "code",
   "execution_count": 1,
   "metadata": {},
   "outputs": [],
   "source": [
    "import numpy as np\n",
    "import pandas as pd"
   ]
  },
  {
   "cell_type": "code",
   "execution_count": 2,
   "metadata": {},
   "outputs": [],
   "source": [
    "def find_entropy(df):\n",
    "    Class=df.keys()[-1]\n",
    "    values=df[Class].unique()\n",
    "    entropy=0\n",
    "    for value in values:\n",
    "        prob=len(df[df[Class]==value])/len(df[Class])\n",
    "        entropy+=-prob*np.log2(prob)\n",
    "    return entropy"
   ]
  },
  {
   "cell_type": "code",
   "execution_count": 3,
   "metadata": {},
   "outputs": [],
   "source": [
    "df=pd.read_csv('C:/Machine Learning/ML_Datasets/weather.csv')"
   ]
  },
  {
   "cell_type": "code",
   "execution_count": 4,
   "metadata": {},
   "outputs": [
    {
     "data": {
      "text/plain": [
       "0.9402859586706309"
      ]
     },
     "execution_count": 4,
     "metadata": {},
     "output_type": "execute_result"
    }
   ],
   "source": [
    "find_entropy(df)"
   ]
  },
  {
   "cell_type": "code",
   "execution_count": 5,
   "metadata": {},
   "outputs": [],
   "source": [
    "def find_information_entropy(df,attribute):\n",
    "    Class=df.keys()[-1]\n",
    "    labels=df[Class].unique()\n",
    "    attr_values=df[attribute].unique()\n",
    "    avg_entropy=0\n",
    "    for value1 in attr_values:\n",
    "        entropy_subsample=0\n",
    "        for value2 in labels:\n",
    "            num=len(df[attribute][df[attribute]==value1][df[Class]==value2])\n",
    "            den=len(df[attribute][df[attribute]==value1])\n",
    "            prob=num/den\n",
    "            entropy_subsample+=-(prob*np.log2(prob+1e-7))\n",
    "        weight=den/len(df)\n",
    "        avg_entropy+=weight*entropy_subsample\n",
    "    return avg_entropy"
   ]
  },
  {
   "cell_type": "code",
   "execution_count": 6,
   "metadata": {},
   "outputs": [
    {
     "data": {
      "text/plain": [
       "0.7884501687693255"
      ]
     },
     "execution_count": 6,
     "metadata": {},
     "output_type": "execute_result"
    }
   ],
   "source": [
    "find_information_entropy(df,'Humidity')"
   ]
  },
  {
   "cell_type": "code",
   "execution_count": 7,
   "metadata": {},
   "outputs": [],
   "source": [
    "def find_winner(df):\n",
    "    IG=[]\n",
    "    for attribute in df.keys()[:-1]:\n",
    "        IG.append(find_entropy(df)-find_information_entropy(df,attribute))\n",
    "    return df.keys()[:-1][np.argmax(IG)]"
   ]
  },
  {
   "cell_type": "code",
   "execution_count": 8,
   "metadata": {},
   "outputs": [
    {
     "data": {
      "text/plain": [
       "'Outlook'"
      ]
     },
     "execution_count": 8,
     "metadata": {},
     "output_type": "execute_result"
    }
   ],
   "source": [
    "find_winner(df)"
   ]
  },
  {
   "cell_type": "code",
   "execution_count": 9,
   "metadata": {},
   "outputs": [],
   "source": [
    "def training(df,tree=None):\n",
    "    Class=df.keys()[-1]\n",
    "    split_attr=find_winner(df)\n",
    "    split_attr_values=df[split_attr].unique()\n",
    "    if tree is None:\n",
    "        tree={}\n",
    "        tree[split_attr]={}\n",
    "    for value in split_attr_values:\n",
    "        sub_df=df[df[split_attr]==value].reset_index(drop=True)\n",
    "        #Clvalue,count=np.unique(sub_df[Class],return_counts=True)\n",
    "        Clvalue=sub_df[Class].unique()\n",
    "        if len(Clvalue)==1:\n",
    "            tree[split_attr][value]=Clvalue[0]\n",
    "        else:\n",
    "            tree[split_attr][value]=training(sub_df)\n",
    "    return tree"
   ]
  },
  {
   "cell_type": "code",
   "execution_count": 10,
   "metadata": {},
   "outputs": [],
   "source": [
    "tree=training(df)"
   ]
  },
  {
   "cell_type": "code",
   "execution_count": 11,
   "metadata": {},
   "outputs": [
    {
     "name": "stdout",
     "output_type": "stream",
     "text": [
      "{'Outlook': {'overcast': 1,\n",
      "             'rainy': {'Humidity': {'high': 0, 'normal': 1}},\n",
      "             'sunny': {'Windy': {0: 1, 1: 0}}}}\n"
     ]
    }
   ],
   "source": [
    "import pprint\n",
    "pprint.pprint(tree)"
   ]
  },
  {
   "cell_type": "code",
   "execution_count": 12,
   "metadata": {},
   "outputs": [],
   "source": [
    "def predict(inst,tree):\n",
    "    for nodes in tree.keys():\n",
    "        value=inst[nodes]\n",
    "        tree=tree[nodes][value]\n",
    "        prediction=0\n",
    "        if type(tree) is dict:\n",
    "            prediction=predict(inst,tree)\n",
    "        else:\n",
    "            prediction=tree\n",
    "            break;\n",
    "    return prediction"
   ]
  },
  {
   "cell_type": "code",
   "execution_count": 13,
   "metadata": {},
   "outputs": [],
   "source": [
    "df1=pd.read_csv('C:/Machine Learning/ML_Datasets/weather_test.csv')\n",
    "Y_label=[]\n",
    "for i in range(len(df1)):\n",
    "    inst=df1.iloc[i,:]\n",
    "    prediction=predict(inst,tree)\n",
    "    Y_label.append(prediction)\n",
    "    "
   ]
  },
  {
   "cell_type": "code",
   "execution_count": 14,
   "metadata": {},
   "outputs": [
    {
     "data": {
      "text/plain": [
       "[0, 1]"
      ]
     },
     "execution_count": 14,
     "metadata": {},
     "output_type": "execute_result"
    }
   ],
   "source": [
    "Y_label"
   ]
  },
  {
   "cell_type": "code",
   "execution_count": 58,
   "metadata": {},
   "outputs": [
    {
     "name": "stdout",
     "output_type": "stream",
     "text": [
      "              precision    recall  f1-score   support\n",
      "\n",
      "           0       1.00      1.00      1.00         1\n",
      "           1       1.00      1.00      1.00         1\n",
      "\n",
      "    accuracy                           1.00         2\n",
      "   macro avg       1.00      1.00      1.00         2\n",
      "weighted avg       1.00      1.00      1.00         2\n",
      "\n"
     ]
    }
   ],
   "source": [
    "from sklearn import metrics\n",
    "print(metrics.classification_report(df1.iloc[:,-1],Y_label))"
   ]
  },
  {
   "cell_type": "code",
   "execution_count": null,
   "metadata": {},
   "outputs": [],
   "source": []
  }
 ],
 "metadata": {
  "kernelspec": {
   "display_name": "Python 3",
   "language": "python",
   "name": "python3"
  },
  "language_info": {
   "codemirror_mode": {
    "name": "ipython",
    "version": 3
   },
   "file_extension": ".py",
   "mimetype": "text/x-python",
   "name": "python",
   "nbconvert_exporter": "python",
   "pygments_lexer": "ipython3",
   "version": "3.7.6"
  }
 },
 "nbformat": 4,
 "nbformat_minor": 4
}
