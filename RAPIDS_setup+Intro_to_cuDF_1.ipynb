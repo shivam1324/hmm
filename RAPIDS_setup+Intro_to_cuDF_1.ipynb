{
  "cells": [
    {
      "cell_type": "code",
      "source": [
        "!nvidia-smi"
      ],
      "metadata": {
        "colab": {
          "base_uri": "https://localhost:8080/"
        },
        "id": "Vwi3bFvEDKz6",
        "outputId": "af86ace4-c8b0-48ea-89f5-1d201252b177"
      },
      "execution_count": null,
      "outputs": [
        {
          "output_type": "stream",
          "name": "stdout",
          "text": [
            "Mon Oct 31 08:00:33 2022       \n",
            "+-----------------------------------------------------------------------------+\n",
            "| NVIDIA-SMI 460.32.03    Driver Version: 460.32.03    CUDA Version: 11.2     |\n",
            "|-------------------------------+----------------------+----------------------+\n",
            "| GPU  Name        Persistence-M| Bus-Id        Disp.A | Volatile Uncorr. ECC |\n",
            "| Fan  Temp  Perf  Pwr:Usage/Cap|         Memory-Usage | GPU-Util  Compute M. |\n",
            "|                               |                      |               MIG M. |\n",
            "|===============================+======================+======================|\n",
            "|   0  Tesla T4            Off  | 00000000:00:04.0 Off |                    0 |\n",
            "| N/A   39C    P8     9W /  70W |      0MiB / 15109MiB |      0%      Default |\n",
            "|                               |                      |                  N/A |\n",
            "+-------------------------------+----------------------+----------------------+\n",
            "                                                                               \n",
            "+-----------------------------------------------------------------------------+\n",
            "| Processes:                                                                  |\n",
            "|  GPU   GI   CI        PID   Type   Process name                  GPU Memory |\n",
            "|        ID   ID                                                   Usage      |\n",
            "|=============================================================================|\n",
            "|  No running processes found                                                 |\n",
            "+-----------------------------------------------------------------------------+\n"
          ]
        }
      ]
    },
    {
      "cell_type": "code",
      "source": [
        "!pip install pynvml\n",
        "# This get the RAPIDS-Colab install files and test check your GPU.  Run this and the next cell only.\n",
        "# Please read the output of this cell.  If your Colab Instance is not RAPIDS compatible, it will warn you and give you remediation steps.\n",
        "!git clone https://github.com/rapidsai/rapidsai-csp-utils.git\n",
        "!python rapidsai-csp-utils/colab/env-check.py"
      ],
      "metadata": {
        "colab": {
          "base_uri": "https://localhost:8080/"
        },
        "id": "LwFZ-sCKDYDg",
        "outputId": "5cb8c524-8e1e-4c8e-b1af-3a05431ad2b7"
      },
      "execution_count": null,
      "outputs": [
        {
          "output_type": "stream",
          "name": "stdout",
          "text": [
            "Looking in indexes: https://pypi.org/simple, https://us-python.pkg.dev/colab-wheels/public/simple/\n",
            "Collecting pynvml\n",
            "  Downloading pynvml-11.4.1-py3-none-any.whl (46 kB)\n",
            "\u001b[K     |████████████████████████████████| 46 kB 4.8 MB/s \n",
            "\u001b[?25hInstalling collected packages: pynvml\n",
            "Successfully installed pynvml-11.4.1\n",
            "Cloning into 'rapidsai-csp-utils'...\n",
            "remote: Enumerating objects: 300, done.\u001b[K\n",
            "remote: Counting objects: 100% (129/129), done.\u001b[K\n",
            "remote: Compressing objects: 100% (74/74), done.\u001b[K\n",
            "remote: Total 300 (delta 74), reused 99 (delta 55), pack-reused 171\u001b[K\n",
            "Receiving objects: 100% (300/300), 87.58 KiB | 17.52 MiB/s, done.\n",
            "Resolving deltas: 100% (136/136), done.\n",
            "***********************************************************************\n",
            "Woo! Your instance has the right kind of GPU, a Tesla T4!\n",
            "***********************************************************************\n",
            "\n"
          ]
        }
      ]
    },
    {
      "cell_type": "code",
      "source": [
        "# This will update the Colab environment and restart the kernel.  Don't run the next cell until you see the session crash.\n",
        "!bash rapidsai-csp-utils/colab/update_gcc.sh\n",
        "import os\n",
        "os._exit(00)"
      ],
      "metadata": {
        "colab": {
          "base_uri": "https://localhost:8080/"
        },
        "id": "5Jcg1m4QDuZR",
        "outputId": "0de0687d-ac0e-427a-edd5-3bb1d462b041"
      },
      "execution_count": null,
      "outputs": [
        {
          "output_type": "stream",
          "name": "stdout",
          "text": [
            "Updating your Colab environment.  This will restart your kernel.  Don't Panic!\n",
            "Get:1 https://cloud.r-project.org/bin/linux/ubuntu bionic-cran40/ InRelease [3,626 B]\n",
            "Hit:2 http://archive.ubuntu.com/ubuntu bionic InRelease\n",
            "Get:3 http://ppa.launchpad.net/c2d4u.team/c2d4u4.0+/ubuntu bionic InRelease [15.9 kB]\n",
            "Ign:4 https://developer.download.nvidia.com/compute/machine-learning/repos/ubuntu1804/x86_64  InRelease\n",
            "Hit:5 https://developer.download.nvidia.com/compute/cuda/repos/ubuntu1804/x86_64  InRelease\n",
            "Hit:6 https://developer.download.nvidia.com/compute/machine-learning/repos/ubuntu1804/x86_64  Release\n",
            "Get:7 http://security.ubuntu.com/ubuntu bionic-security InRelease [88.7 kB]\n",
            "Get:8 http://archive.ubuntu.com/ubuntu bionic-updates InRelease [88.7 kB]\n",
            "Hit:10 http://ppa.launchpad.net/cran/libgit2/ubuntu bionic InRelease\n",
            "Get:11 http://archive.ubuntu.com/ubuntu bionic-backports InRelease [83.3 kB]\n",
            "Get:12 http://ppa.launchpad.net/deadsnakes/ppa/ubuntu bionic InRelease [15.9 kB]\n",
            "Get:13 http://security.ubuntu.com/ubuntu bionic-security/restricted amd64 Packages [1,217 kB]\n",
            "Get:14 http://archive.ubuntu.com/ubuntu bionic-updates/restricted amd64 Packages [1,257 kB]\n",
            "Hit:15 http://ppa.launchpad.net/graphics-drivers/ppa/ubuntu bionic InRelease\n",
            "Get:16 http://ppa.launchpad.net/ubuntu-toolchain-r/test/ubuntu bionic InRelease [20.8 kB]\n",
            "Get:17 http://archive.ubuntu.com/ubuntu bionic-updates/main amd64 Packages [3,467 kB]\n",
            "Get:18 http://archive.ubuntu.com/ubuntu bionic-updates/universe amd64 Packages [2,332 kB]\n",
            "Get:19 http://ppa.launchpad.net/c2d4u.team/c2d4u4.0+/ubuntu bionic/main Sources [2,171 kB]\n",
            "Get:20 http://ppa.launchpad.net/c2d4u.team/c2d4u4.0+/ubuntu bionic/main amd64 Packages [1,112 kB]\n",
            "Get:21 http://ppa.launchpad.net/ubuntu-toolchain-r/test/ubuntu bionic/main amd64 Packages [50.4 kB]\n",
            "Fetched 11.9 MB in 6s (1,981 kB/s)\n",
            "Reading package lists... Done\n",
            "Added repo\n",
            "Hit:1 https://cloud.r-project.org/bin/linux/ubuntu bionic-cran40/ InRelease\n",
            "Hit:2 http://security.ubuntu.com/ubuntu bionic-security InRelease\n",
            "Ign:3 https://developer.download.nvidia.com/compute/machine-learning/repos/ubuntu1804/x86_64  InRelease\n",
            "Hit:4 https://developer.download.nvidia.com/compute/cuda/repos/ubuntu1804/x86_64  InRelease\n",
            "Hit:5 https://developer.download.nvidia.com/compute/machine-learning/repos/ubuntu1804/x86_64  Release\n",
            "Hit:7 http://ppa.launchpad.net/c2d4u.team/c2d4u4.0+/ubuntu bionic InRelease\n",
            "Hit:8 http://archive.ubuntu.com/ubuntu bionic InRelease\n",
            "Hit:9 http://archive.ubuntu.com/ubuntu bionic-updates InRelease\n",
            "Hit:10 http://ppa.launchpad.net/cran/libgit2/ubuntu bionic InRelease\n",
            "Hit:11 http://archive.ubuntu.com/ubuntu bionic-backports InRelease\n",
            "Hit:12 http://ppa.launchpad.net/deadsnakes/ppa/ubuntu bionic InRelease\n",
            "Hit:13 http://ppa.launchpad.net/graphics-drivers/ppa/ubuntu bionic InRelease\n",
            "Hit:14 http://ppa.launchpad.net/ubuntu-toolchain-r/test/ubuntu bionic InRelease\n",
            "Reading package lists... Done\n",
            "Installing libstdc++\n",
            "Reading package lists... Done\n",
            "Building dependency tree       \n",
            "Reading state information... Done\n",
            "Selected version '11.1.0-1ubuntu1~18.04.1' (Toolchain test builds:18.04/bionic [amd64]) for 'libstdc++6'\n",
            "The following package was automatically installed and is no longer required:\n",
            "  libnvidia-common-460\n",
            "Use 'sudo apt autoremove' to remove it.\n",
            "The following additional packages will be installed:\n",
            "  gcc-11-base libgcc-s1\n",
            "The following NEW packages will be installed:\n",
            "  gcc-11-base libgcc-s1\n",
            "The following packages will be upgraded:\n",
            "  libstdc++6\n",
            "1 upgraded, 2 newly installed, 0 to remove and 48 not upgraded.\n",
            "Need to get 641 kB of archives.\n",
            "After this operation, 981 kB of additional disk space will be used.\n",
            "Get:1 http://ppa.launchpad.net/ubuntu-toolchain-r/test/ubuntu bionic/main amd64 gcc-11-base amd64 11.1.0-1ubuntu1~18.04.1 [19.0 kB]\n",
            "Get:2 http://ppa.launchpad.net/ubuntu-toolchain-r/test/ubuntu bionic/main amd64 libgcc-s1 amd64 11.1.0-1ubuntu1~18.04.1 [41.8 kB]\n",
            "Get:3 http://ppa.launchpad.net/ubuntu-toolchain-r/test/ubuntu bionic/main amd64 libstdc++6 amd64 11.1.0-1ubuntu1~18.04.1 [580 kB]\n",
            "Fetched 641 kB in 2s (278 kB/s)\n",
            "debconf: unable to initialize frontend: Dialog\n",
            "debconf: (No usable dialog-like program is installed, so the dialog based frontend cannot be used. at /usr/share/perl5/Debconf/FrontEnd/Dialog.pm line 76, <> line 3.)\n",
            "debconf: falling back to frontend: Readline\n",
            "debconf: unable to initialize frontend: Readline\n",
            "debconf: (This frontend requires a controlling tty.)\n",
            "debconf: falling back to frontend: Teletype\n",
            "dpkg-preconfigure: unable to re-open stdin: \n",
            "Selecting previously unselected package gcc-11-base:amd64.\n",
            "(Reading database ... 123942 files and directories currently installed.)\n",
            "Preparing to unpack .../gcc-11-base_11.1.0-1ubuntu1~18.04.1_amd64.deb ...\n",
            "Unpacking gcc-11-base:amd64 (11.1.0-1ubuntu1~18.04.1) ...\n",
            "Setting up gcc-11-base:amd64 (11.1.0-1ubuntu1~18.04.1) ...\n",
            "Selecting previously unselected package libgcc-s1:amd64.\n",
            "(Reading database ... 123947 files and directories currently installed.)\n",
            "Preparing to unpack .../libgcc-s1_11.1.0-1ubuntu1~18.04.1_amd64.deb ...\n",
            "Unpacking libgcc-s1:amd64 (11.1.0-1ubuntu1~18.04.1) ...\n",
            "Replacing files in old package libgcc1:amd64 (1:8.4.0-1ubuntu1~18.04) ...\n",
            "Setting up libgcc-s1:amd64 (11.1.0-1ubuntu1~18.04.1) ...\n",
            "(Reading database ... 123949 files and directories currently installed.)\n",
            "Preparing to unpack .../libstdc++6_11.1.0-1ubuntu1~18.04.1_amd64.deb ...\n",
            "Unpacking libstdc++6:amd64 (11.1.0-1ubuntu1~18.04.1) over (8.4.0-1ubuntu1~18.04) ...\n",
            "Setting up libstdc++6:amd64 (11.1.0-1ubuntu1~18.04.1) ...\n",
            "Processing triggers for libc-bin (2.27-3ubuntu1.6) ...\n",
            "restarting Colab...\n"
          ]
        }
      ]
    },
    {
      "cell_type": "code",
      "source": [
        "# This will install CondaColab.  This will restart your kernel one last time.  Run this cell by itself and only run the next cell once you see the session crash.\n",
        "import condacolab\n",
        "condacolab.install()"
      ],
      "metadata": {
        "colab": {
          "base_uri": "https://localhost:8080/"
        },
        "id": "5BeL4PfzD9nA",
        "outputId": "210b480a-365a-4a77-83b2-a22e2e59b4a2"
      },
      "execution_count": null,
      "outputs": [
        {
          "output_type": "stream",
          "name": "stdout",
          "text": [
            "⏬ Downloading https://github.com/jaimergp/miniforge/releases/latest/download/Mambaforge-colab-Linux-x86_64.sh...\n",
            "📦 Installing...\n",
            "📌 Adjusting configuration...\n",
            "🩹 Patching environment...\n",
            "⏲ Done in 0:00:35\n",
            "🔁 Restarting kernel...\n"
          ]
        }
      ]
    },
    {
      "cell_type": "code",
      "source": [
        "# you can now run the rest of the cells as normal\n",
        "import condacolab\n",
        "condacolab.check()"
      ],
      "metadata": {
        "colab": {
          "base_uri": "https://localhost:8080/"
        },
        "id": "VNEFr_TgEQKX",
        "outputId": "41038a12-a0ba-4862-eb6b-300c580353d9"
      },
      "execution_count": null,
      "outputs": [
        {
          "output_type": "stream",
          "name": "stdout",
          "text": [
            "✨🍰✨ Everything looks OK!\n"
          ]
        }
      ]
    },
    {
      "cell_type": "code",
      "source": [
        "# Installing RAPIDS is now 'python rapidsai-csp-utils/colab/install_rapids.py <release> <packages>'\n",
        "# The <release> options are 'stable' and 'nightly'.  Leaving it blank or adding any other words will default to stable.\n",
        "# The <packages> option are default blank or 'core'.  By default, we install RAPIDSAI and BlazingSQL.  The 'core' option will install only RAPIDSAI and not include BlazingSQL, \n",
        "!python rapidsai-csp-utils/colab/install_rapids.py stable\n",
        "import os\n",
        "os.environ['NUMBAPRO_NVVM'] = '/usr/local/cuda/nvvm/lib64/libnvvm.so'\n",
        "os.environ['NUMBAPRO_LIBDEVICE'] = '/usr/local/cuda/nvvm/libdevice/'\n",
        "os.environ['CONDA_PREFIX'] = '/usr/local'"
      ],
      "metadata": {
        "colab": {
          "base_uri": "https://localhost:8080/"
        },
        "id": "nGNu8WsyEVNS",
        "outputId": "3acdb633-43f0-49c9-e260-f5bcc7f16f04"
      },
      "execution_count": null,
      "outputs": [
        {
          "output_type": "stream",
          "name": "stdout",
          "text": [
            "Found existing installation: cffi 1.15.1\n",
            "Uninstalling cffi-1.15.1:\n",
            "  Successfully uninstalled cffi-1.15.1\n",
            "WARNING: Running pip as the 'root' user can result in broken permissions and conflicting behaviour with the system package manager. It is recommended to use a virtual environment instead: https://pip.pypa.io/warnings/venv\n",
            "Found existing installation: cryptography 37.0.4\n",
            "Uninstalling cryptography-37.0.4:\n",
            "  Successfully uninstalled cryptography-37.0.4\n",
            "WARNING: Running pip as the 'root' user can result in broken permissions and conflicting behaviour with the system package manager. It is recommended to use a virtual environment instead: https://pip.pypa.io/warnings/venv\n",
            "Looking in indexes: https://pypi.org/simple, https://us-python.pkg.dev/colab-wheels/public/simple/\n",
            "Collecting cffi==1.15.0\n",
            "  Downloading cffi-1.15.0-cp37-cp37m-manylinux_2_12_x86_64.manylinux2010_x86_64.whl (427 kB)\n",
            "     ━━━━━━━━━━━━━━━━━━━━━━━━━━━━━━━━━━━━━━ 427.1/427.1 kB 31.8 MB/s eta 0:00:00\n",
            "Requirement already satisfied: pycparser in /usr/local/lib/python3.7/site-packages (from cffi==1.15.0) (2.21)\n",
            "Installing collected packages: cffi\n",
            "Successfully installed cffi-1.15.0\n",
            "WARNING: Running pip as the 'root' user can result in broken permissions and conflicting behaviour with the system package manager. It is recommended to use a virtual environment instead: https://pip.pypa.io/warnings/venv\n",
            "Installing RAPIDS Stable 21.12\n",
            "Starting the RAPIDS install on Colab.  This will take about 15 minutes.\n",
            "Collecting package metadata (current_repodata.json): ...working... done\n",
            "Solving environment: ...working... failed with initial frozen solve. Retrying with flexible solve.\n",
            "Solving environment: ...working... failed with repodata from current_repodata.json, will retry with next repodata source.\n",
            "Collecting package metadata (repodata.json): ...working... done\n",
            "Solving environment: ...working... done\n",
            "\n",
            "## Package Plan ##\n",
            "\n",
            "  environment location: /usr/local\n",
            "\n",
            "  added / updated specs:\n",
            "    - cudatoolkit=11.2\n",
            "    - dask-sql\n",
            "    - gcsfs\n",
            "    - llvmlite\n",
            "    - openssl\n",
            "    - python=3.7\n",
            "    - rapids=21.12\n",
            "\n",
            "\n",
            "The following packages will be downloaded:\n",
            "\n",
            "    package                    |            build\n",
            "    ---------------------------|-----------------\n",
            "    abseil-cpp-20210324.2      |       h9c3ff4c_0        1010 KB  conda-forge\n",
            "    aiohttp-3.8.3              |   py37h540881e_0         432 KB  conda-forge\n",
            "    aiosignal-1.2.0            |     pyhd8ed1ab_0          12 KB  conda-forge\n",
            "    alsa-lib-1.2.3.2           |       h166bdaf_0         554 KB  conda-forge\n",
            "    anyio-3.6.2                |     pyhd8ed1ab_0          83 KB  conda-forge\n",
            "    appdirs-1.4.4              |     pyh9f0ad1d_0          13 KB  conda-forge\n",
            "    argon2-cffi-21.3.0         |     pyhd8ed1ab_0          15 KB  conda-forge\n",
            "    argon2-cffi-bindings-21.2.0|   py37h540881e_2          34 KB  conda-forge\n",
            "    arrow-cpp-5.0.0            |py37h6ab10f6_20_cuda        22.4 MB  conda-forge\n",
            "    arrow-cpp-proc-3.0.0       |             cuda          24 KB  conda-forge\n",
            "    async-timeout-4.0.2        |     pyhd8ed1ab_0           9 KB  conda-forge\n",
            "    asynctest-0.13.0           |             py_0          24 KB  conda-forge\n",
            "    attrs-22.1.0               |     pyh71513ae_1          48 KB  conda-forge\n",
            "    aws-c-auth-0.6.8           |       hadad3cd_1          94 KB  conda-forge\n",
            "    aws-c-cal-0.5.12           |       h70efedd_7          36 KB  conda-forge\n",
            "    aws-c-common-0.6.17        |       h7f98852_0         179 KB  conda-forge\n",
            "    aws-c-compression-0.2.14   |       h7c7754b_7          17 KB  conda-forge\n",
            "    aws-c-event-stream-0.2.7   |      hd2be095_32          47 KB  conda-forge\n",
            "    aws-c-http-0.6.10          |       h416565a_3         173 KB  conda-forge\n",
            "    aws-c-io-0.10.14           |       he836878_0         137 KB  conda-forge\n",
            "    aws-c-mqtt-0.7.10          |       h885097b_0          67 KB  conda-forge\n",
            "    aws-c-s3-0.1.29            |       h8d70ed6_0          49 KB  conda-forge\n",
            "    aws-c-sdkutils-0.1.1       |       h7c7754b_4          23 KB  conda-forge\n",
            "    aws-checksums-0.1.12       |       h7c7754b_6          50 KB  conda-forge\n",
            "    aws-crt-cpp-0.17.10        |       h6ab17b9_5         207 KB  conda-forge\n",
            "    aws-sdk-cpp-1.9.160        |       h36ff4c5_0         4.6 MB  conda-forge\n",
            "    backcall-0.2.0             |     pyh9f0ad1d_0          13 KB  conda-forge\n",
            "    backports-1.0              |             py_2           4 KB  conda-forge\n",
            "    backports.functools_lru_cache-1.6.4|     pyhd8ed1ab_0           9 KB  conda-forge\n",
            "    backports.zoneinfo-0.2.1   |   py37h540881e_5          47 KB  conda-forge\n",
            "    beautifulsoup4-4.11.1      |     pyha770c72_0          96 KB  conda-forge\n",
            "    bleach-5.0.1               |     pyhd8ed1ab_0         124 KB  conda-forge\n",
            "    blinker-1.5                |     pyhd8ed1ab_0          15 KB  conda-forge\n",
            "    blosc-1.21.1               |       h83bc5f7_3          47 KB  conda-forge\n",
            "    bokeh-2.4.0                |   py37h89c1867_0        13.5 MB  conda-forge\n",
            "    boost-1.74.0               |   py37h796e4cb_5         342 KB  conda-forge\n",
            "    boost-cpp-1.74.0           |       h312852a_4        16.3 MB  conda-forge\n",
            "    brotli-1.0.9               |       h166bdaf_8          18 KB  conda-forge\n",
            "    brotli-bin-1.0.9           |       h166bdaf_8          20 KB  conda-forge\n",
            "    brunsli-0.1                |       h9c3ff4c_0         200 KB  conda-forge\n",
            "    c-blosc2-2.4.3             |       h7a311fb_0         250 KB  conda-forge\n",
            "    ca-certificates-2022.9.24  |       ha878542_0         150 KB  conda-forge\n",
            "    cachetools-5.2.0           |     pyhd8ed1ab_0          13 KB  conda-forge\n",
            "    cairo-1.16.0               |    h6cf1ce9_1008         1.5 MB  conda-forge\n",
            "    certifi-2022.9.24          |     pyhd8ed1ab_0         155 KB  conda-forge\n",
            "    cfitsio-3.470              |       hb418390_7         1.3 MB  conda-forge\n",
            "    charls-2.2.0               |       h9c3ff4c_0         138 KB  conda-forge\n",
            "    click-8.0.4                |   py37h89c1867_0         145 KB  conda-forge\n",
            "    click-plugins-1.1.1        |             py_0           9 KB  conda-forge\n",
            "    cligj-0.7.2                |     pyhd8ed1ab_1          10 KB  conda-forge\n",
            "    cloudpickle-2.2.0          |     pyhd8ed1ab_0          25 KB  conda-forge\n",
            "    colorcet-3.0.1             |     pyhd8ed1ab_0         1.6 MB  conda-forge\n",
            "    cucim-21.12.00             |cuda_11_py37_g6d1f082_0         3.2 MB  rapidsai\n",
            "    cudatoolkit-11.2.72        |       h2bc3f7f_0       933.4 MB  nvidia\n",
            "    cudf-21.12.02              |cuda_11_py37_g06540b9b37_0        12.6 MB  rapidsai\n",
            "    cudf_kafka-21.12.02        |py37_g06540b9b37_0         1.8 MB  rapidsai\n",
            "    cugraph-21.12.00           |cuda11_py37_g3a43e9d0_0         7.2 MB  rapidsai\n",
            "    cuml-21.12.00              |cuda11_py37_g04c4927f3_0         9.4 MB  rapidsai\n",
            "    cupy-9.6.0                 |   py37h07c33ac_0        51.5 MB  conda-forge\n",
            "    curl-7.83.1                |       h7bff187_0          89 KB  conda-forge\n",
            "    cusignal-21.12.00          |  py37_g2bf865c_0         1.1 MB  rapidsai\n",
            "    cuspatial-21.12.00         |  py37_gab6748f_0        15.9 MB  rapidsai\n",
            "    custreamz-21.12.02         |py37_g06540b9b37_0          32 KB  rapidsai\n",
            "    cuxfilter-21.12.00         |  py37_g2e0fb5a_0         137 KB  rapidsai\n",
            "    cycler-0.11.0              |     pyhd8ed1ab_0          10 KB  conda-forge\n",
            "    cyrus-sasl-2.1.27          |       h230043b_5         228 KB  conda-forge\n",
            "    cytoolz-0.12.0             |   py37h540881e_0         380 KB  conda-forge\n",
            "    dask-2021.11.2             |     pyhd8ed1ab_0           5 KB  conda-forge\n",
            "    dask-core-2021.11.2        |     pyhd8ed1ab_0         783 KB  conda-forge\n",
            "    dask-cuda-21.12.00         |           py37_0         123 KB  rapidsai\n",
            "    dask-cudf-21.12.02         |cuda_11_py37_g06540b9b37_0         112 KB  rapidsai\n",
            "    dask-sql-2022.1.0          |   py37h89c1867_0        19.7 MB  conda-forge\n",
            "    datashader-0.11.1          |     pyh9f0ad1d_0        14.0 MB  conda-forge\n",
            "    datashape-0.5.4            |             py_1          49 KB  conda-forge\n",
            "    debugpy-1.6.3              |   py37hd23a5d3_0         2.0 MB  conda-forge\n",
            "    decorator-5.1.1            |     pyhd8ed1ab_0          12 KB  conda-forge\n",
            "    defusedxml-0.7.1           |     pyhd8ed1ab_0          23 KB  conda-forge\n",
            "    distributed-2021.11.2      |   py37h89c1867_0         1.1 MB  conda-forge\n",
            "    dlpack-0.5                 |       h9c3ff4c_0          12 KB  conda-forge\n",
            "    entrypoints-0.4            |     pyhd8ed1ab_0           9 KB  conda-forge\n",
            "    expat-2.5.0                |       h27087fc_0         189 KB  conda-forge\n",
            "    faiss-proc-1.0.0           |             cuda          24 KB  rapidsai\n",
            "    fastapi-0.85.1             |     pyhd8ed1ab_0          45 KB  conda-forge\n",
            "    fastavro-1.6.1             |   py37h540881e_0         464 KB  conda-forge\n",
            "    fastrlock-0.8              |   py37hd23a5d3_2          31 KB  conda-forge\n",
            "    fiona-1.8.20               |   py37hb7e2723_2         1.1 MB  conda-forge\n",
            "    flit-core-3.7.1            |     pyhd8ed1ab_0          44 KB  conda-forge\n",
            "    font-ttf-dejavu-sans-mono-2.37|       hab24e00_0         388 KB  conda-forge\n",
            "    font-ttf-inconsolata-3.000 |       h77eed37_0          94 KB  conda-forge\n",
            "    font-ttf-source-code-pro-2.038|       h77eed37_0         684 KB  conda-forge\n",
            "    font-ttf-ubuntu-0.83       |       hab24e00_0         1.9 MB  conda-forge\n",
            "    fontconfig-2.14.0          |       hc2a2eb6_1         318 KB  conda-forge\n",
            "    fonts-conda-ecosystem-1    |                0           4 KB  conda-forge\n",
            "    fonts-conda-forge-1        |                0           4 KB  conda-forge\n",
            "    fonttools-4.38.0           |   py37h540881e_0         1.9 MB  conda-forge\n",
            "    freetype-2.12.1            |       hca18f0e_0         884 KB  conda-forge\n",
            "    freexl-1.0.6               |       h166bdaf_1          48 KB  conda-forge\n",
            "    frozenlist-1.3.1           |   py37h540881e_0          44 KB  conda-forge\n",
            "    fsspec-2022.10.0           |     pyhd8ed1ab_0          95 KB  conda-forge\n",
            "    gcsfs-2022.10.0            |     pyhd8ed1ab_0          26 KB  conda-forge\n",
            "    gdal-3.3.2                 |   py37hd5a0ba4_3         1.7 MB  conda-forge\n",
            "    geopandas-0.9.0            |     pyhd8ed1ab_1           5 KB  conda-forge\n",
            "    geopandas-base-0.9.0       |     pyhd8ed1ab_1         950 KB  conda-forge\n",
            "    geos-3.9.1                 |       h9c3ff4c_2         1.1 MB  conda-forge\n",
            "    geotiff-1.7.0              |       h08e826d_2         296 KB  conda-forge\n",
            "    gettext-0.21.1             |       h27087fc_0         4.1 MB  conda-forge\n",
            "    gflags-2.2.2               |    he1b5a44_1004         114 KB  conda-forge\n",
            "    giflib-5.2.1               |       h36c2ea0_2          77 KB  conda-forge\n",
            "    glog-0.5.0                 |       h48cff8f_0         104 KB  conda-forge\n",
            "    google-api-core-2.10.0     |     pyhd8ed1ab_0          71 KB  conda-forge\n",
            "    google-auth-2.13.0         |     pyh1a96a4e_0          93 KB  conda-forge\n",
            "    google-auth-oauthlib-0.7.0 |     pyhd8ed1ab_0          21 KB  conda-forge\n",
            "    google-cloud-core-2.3.2    |     pyhd8ed1ab_0          28 KB  conda-forge\n",
            "    google-cloud-storage-2.5.0 |     pyh6c4a22f_0          74 KB  conda-forge\n",
            "    google-crc32c-1.1.2        |   py37h5d4fa31_3          24 KB  conda-forge\n",
            "    google-resumable-media-2.4.0|     pyhd8ed1ab_0          43 KB  conda-forge\n",
            "    googleapis-common-protos-1.56.4|   py37h89c1867_0         123 KB  conda-forge\n",
            "    graphite2-1.3.13           |    h58526e2_1001         102 KB  conda-forge\n",
            "    grpc-cpp-1.42.0            |       ha1441d3_1         4.0 MB  conda-forge\n",
            "    grpcio-1.46.3              |   py37he500948_0         2.5 MB  conda-forge\n",
            "    h11-0.14.0                 |     pyhd8ed1ab_0          47 KB  conda-forge\n",
            "    harfbuzz-2.9.1             |       h83ec7ef_1         2.0 MB  conda-forge\n",
            "    hdf4-4.2.15                |       h9772cbc_4         955 KB  conda-forge\n",
            "    hdf5-1.12.1                |nompi_h2386368_104         3.5 MB  conda-forge\n",
            "    heapdict-1.0.1             |             py_0           7 KB  conda-forge\n",
            "    icu-68.2                   |       h9c3ff4c_0        13.1 MB  conda-forge\n",
            "    imagecodecs-2021.8.26      |   py37hfe5a812_1         7.2 MB  conda-forge\n",
            "    imageio-2.22.0             |     pyhfa7a67d_0         3.2 MB  conda-forge\n",
            "    importlib-metadata-4.11.4  |   py37h89c1867_0          33 KB  conda-forge\n",
            "    importlib_metadata-4.11.4  |       hd8ed1ab_0           4 KB  conda-forge\n",
            "    importlib_resources-5.10.0 |     pyhd8ed1ab_0          29 KB  conda-forge\n",
            "    ipykernel-6.16.2           |     pyh210e3f2_0         100 KB  conda-forge\n",
            "    ipython-7.33.0             |   py37h89c1867_0         1.1 MB  conda-forge\n",
            "    ipywidgets-8.0.2           |     pyhd8ed1ab_1         109 KB  conda-forge\n",
            "    jbig-2.1                   |    h7f98852_2003          43 KB  conda-forge\n",
            "    jedi-0.18.1                |     pyhd8ed1ab_2         799 KB  conda-forge\n",
            "    jinja2-3.1.2               |     pyhd8ed1ab_1          99 KB  conda-forge\n",
            "    joblib-1.2.0               |     pyhd8ed1ab_0         205 KB  conda-forge\n",
            "    jpeg-9e                    |       h166bdaf_2         269 KB  conda-forge\n",
            "    jpype1-1.4.0               |   py37h7cecad7_0         495 KB  conda-forge\n",
            "    json-c-0.15                |       h98cffda_0         274 KB  conda-forge\n",
            "    jsonschema-4.16.0          |     pyhd8ed1ab_0          65 KB  conda-forge\n",
            "    jupyter-server-proxy-3.2.2 |     pyhd8ed1ab_0          30 KB  conda-forge\n",
            "    jupyter_client-7.3.4       |     pyhd8ed1ab_0          91 KB  conda-forge\n",
            "    jupyter_core-4.11.1        |   py37h89c1867_0          81 KB  conda-forge\n",
            "    jupyter_server-1.21.0      |     pyhd8ed1ab_0         239 KB  conda-forge\n",
            "    jupyterlab_pygments-0.2.2  |     pyhd8ed1ab_0          17 KB  conda-forge\n",
            "    jupyterlab_widgets-3.0.3   |     pyhd8ed1ab_0         222 KB  conda-forge\n",
            "    jxrlib-1.1                 |       h7f98852_2         235 KB  conda-forge\n",
            "    kealib-1.4.15              |       hfe1a663_0         188 KB  conda-forge\n",
            "    kiwisolver-1.4.4           |   py37h7cecad7_0          73 KB  conda-forge\n",
            "    lcms2-2.12                 |       hddcbb42_0         443 KB  conda-forge\n",
            "    lerc-3.0                   |       h9c3ff4c_0         216 KB  conda-forge\n",
            "    libaec-1.0.6               |       h9c3ff4c_0          45 KB  conda-forge\n",
            "    libarchive-3.5.2           |       hccf745f_1         1.6 MB  conda-forge\n",
            "    libblas-3.9.0              |16_linux64_openblas          13 KB  conda-forge\n",
            "    libbrotlicommon-1.0.9      |       h166bdaf_8          66 KB  conda-forge\n",
            "    libbrotlidec-1.0.9         |       h166bdaf_8          33 KB  conda-forge\n",
            "    libbrotlienc-1.0.9         |       h166bdaf_8         288 KB  conda-forge\n",
            "    libcblas-3.9.0             |16_linux64_openblas          13 KB  conda-forge\n",
            "    libcrc32c-1.1.2            |       h9c3ff4c_0          20 KB  conda-forge\n",
            "    libcucim-21.12.00          |cuda11_g6d1f082_0         2.8 MB  rapidsai\n",
            "    libcudf-21.12.02           |cuda11_g06540b9b37_0       288.2 MB  rapidsai\n",
            "    libcudf_kafka-21.12.02     |    g06540b9b37_0         126 KB  rapidsai\n",
            "    libcugraph-21.12.00        |cuda11_g3a43e9d0_0       259.4 MB  rapidsai\n",
            "    libcuml-21.12.00           |cuda11_g04c4927f3_0       222.9 MB  rapidsai\n",
            "    libcumlprims-21.12.00      |cuda11_g0a7f19f_0         3.7 MB  nvidia\n",
            "    libcusolver-11.4.1.48      |                0        96.5 MB  nvidia\n",
            "    libcuspatial-21.12.00      |cuda11_gab6748f_0         6.4 MB  rapidsai\n",
            "    libdap4-3.20.6             |       hd7c4107_2        11.3 MB  conda-forge\n",
            "    libdeflate-1.8             |       h7f98852_0          67 KB  conda-forge\n",
            "    libevent-2.1.10            |       h9b69904_4         1.1 MB  conda-forge\n",
            "    libfaiss-1.7.0             |cuda112h5bea7ad_8_cuda        98.5 MB  conda-forge\n",
            "    libgcrypt-1.10.1           |       h166bdaf_0         703 KB  conda-forge\n",
            "    libgdal-3.3.2              |       h6acdded_3        13.1 MB  conda-forge\n",
            "    libgfortran-ng-12.2.0      |      h69a702a_19          22 KB  conda-forge\n",
            "    libgfortran5-12.2.0        |      h337968e_19         1.8 MB  conda-forge\n",
            "    libglib-2.72.1             |       h2d90d5f_0         3.1 MB  conda-forge\n",
            "    libgpg-error-1.45          |       hc0c96e0_0         286 KB  conda-forge\n",
            "    libgsasl-1.10.0            |       h5b4c23d_0         179 KB  conda-forge\n",
            "    libhwloc-2.3.0             |       h5e5b7d1_1         2.7 MB  conda-forge\n",
            "    libkml-1.3.0               |    h238a007_1014         591 KB  conda-forge\n",
            "    liblapack-3.9.0            |16_linux64_openblas          13 KB  conda-forge\n",
            "    libllvm11-11.1.0           |       he0ac6c6_4        28.8 MB  conda-forge\n",
            "    libnetcdf-4.8.1            |nompi_h329d8a1_102         1.5 MB  conda-forge\n",
            "    libntlm-1.4                |    h7f98852_1002          32 KB  conda-forge\n",
            "    libopenblas-0.3.21         |pthreads_h78a6416_3        10.1 MB  conda-forge\n",
            "    libpng-1.6.38              |       h753d276_0         371 KB  conda-forge\n",
            "    libpq-13.5                 |       hd57d9b9_1         2.8 MB  conda-forge\n",
            "    libprotobuf-3.19.4         |       h780b84a_0         2.6 MB  conda-forge\n",
            "    librdkafka-1.6.1           |       hc49e61c_1        12.6 MB  conda-forge\n",
            "    librmm-21.12.00            |cuda11_g957ad04_0         688 KB  rapidsai\n",
            "    librttopo-1.1.0            |       h1185371_6         235 KB  conda-forge\n",
            "    libsodium-1.0.18           |       h36c2ea0_1         366 KB  conda-forge\n",
            "    libspatialindex-1.9.3      |       h9c3ff4c_4         4.6 MB  conda-forge\n",
            "    libspatialite-5.0.1        |       h5cf074c_8         4.4 MB  conda-forge\n",
            "    libthrift-0.15.0           |       he6d91bd_1         4.6 MB  conda-forge\n",
            "    libtiff-4.3.0              |       h6f004c6_2         614 KB  conda-forge\n",
            "    libutf8proc-2.7.0          |       h7f98852_0          98 KB  conda-forge\n",
            "    libuuid-2.32.1             |    h7f98852_1000          28 KB  conda-forge\n",
            "    libuv-1.43.0               |       h7f98852_0         1.0 MB  conda-forge\n",
            "    libwebp-1.2.2              |       h3452ae3_0          85 KB  conda-forge\n",
            "    libwebp-base-1.2.2         |       h7f98852_1         824 KB  conda-forge\n",
            "    libxcb-1.13                |    h7f98852_1004         391 KB  conda-forge\n",
            "    libxgboost-1.5.0dev.rapidsai21.12|       cuda11.2_0       128.2 MB  rapidsai\n",
            "    libxml2-2.9.12             |       h72842e0_0         772 KB  conda-forge\n",
            "    libzip-1.9.2               |       hc869a4a_1          97 KB  conda-forge\n",
            "    libzopfli-1.0.3            |       h9c3ff4c_0         164 KB  conda-forge\n",
            "    llvmlite-0.39.1            |   py37h0761922_0         2.5 MB  conda-forge\n",
            "    locket-1.0.0               |     pyhd8ed1ab_0           8 KB  conda-forge\n",
            "    mapclassify-2.4.3          |     pyhd8ed1ab_0          36 KB  conda-forge\n",
            "    markdown-3.4.1             |     pyhd8ed1ab_0          65 KB  conda-forge\n",
            "    markupsafe-2.1.1           |   py37h540881e_1          22 KB  conda-forge\n",
            "    matplotlib-base-3.5.3      |   py37hf395dca_2         7.3 MB  conda-forge\n",
            "    matplotlib-inline-0.1.6    |     pyhd8ed1ab_0          12 KB  conda-forge\n",
            "    mistune-2.0.4              |     pyhd8ed1ab_0          67 KB  conda-forge\n",
            "    msgpack-python-1.0.4       |   py37h7cecad7_0          90 KB  conda-forge\n",
            "    multidict-6.0.2            |   py37h540881e_1          49 KB  conda-forge\n",
            "    multipledispatch-0.6.0     |             py_0          12 KB  conda-forge\n",
            "    munch-2.5.0                |             py_0          12 KB  conda-forge\n",
            "    munkres-1.1.4              |     pyh9f0ad1d_0          12 KB  conda-forge\n",
            "    nbclient-0.7.0             |     pyhd8ed1ab_0          65 KB  conda-forge\n",
            "    nbconvert-core-7.2.3       |     pyhd8ed1ab_0         191 KB  conda-forge\n",
            "    nbformat-5.7.0             |     pyhd8ed1ab_0         106 KB  conda-forge\n",
            "    nccl-2.14.3.1              |       h0800d71_0       145.2 MB  conda-forge\n",
            "    nest-asyncio-1.5.6         |     pyhd8ed1ab_0          10 KB  conda-forge\n",
            "    networkx-2.7.1             |     pyhd8ed1ab_0         1.5 MB  conda-forge\n",
            "    nodejs-14.18.3             |       h92b4a50_1        15.6 MB  conda-forge\n",
            "    nspr-4.32                  |       h9c3ff4c_1         233 KB  conda-forge\n",
            "    nss-3.78                   |       h2350873_0         2.1 MB  conda-forge\n",
            "    numba-0.56.3               |   py37hf081915_0         4.0 MB  conda-forge\n",
            "    numpy-1.21.6               |   py37h976b520_0         6.1 MB  conda-forge\n",
            "    nvtx-0.2.3                 |   py37h5e8e339_1          55 KB  conda-forge\n",
            "    oauthlib-3.2.2             |     pyhd8ed1ab_0          90 KB  conda-forge\n",
            "    openjdk-11.0.9.1           |       h5cc2fde_1       173.5 MB  conda-forge\n",
            "    openjpeg-2.5.0             |       h7d73246_0         515 KB  conda-forge\n",
            "    openssl-1.1.1q             |       h166bdaf_1         2.1 MB  conda-forge\n",
            "    orc-1.7.1                  |       h1be678f_1         1.1 MB  conda-forge\n",
            "    packaging-21.3             |     pyhd8ed1ab_0          36 KB  conda-forge\n",
            "    pandas-1.3.5               |   py37he8f5f7f_0        12.7 MB  conda-forge\n",
            "    pandocfilters-1.5.0        |     pyhd8ed1ab_0          11 KB  conda-forge\n",
            "    panel-0.12.4               |     pyhd8ed1ab_0         9.8 MB  conda-forge\n",
            "    param-1.12.2               |     pyh6c4a22f_0          72 KB  conda-forge\n",
            "    parquet-cpp-1.5.1          |                2           3 KB  conda-forge\n",
            "    parso-0.8.3                |     pyhd8ed1ab_0          69 KB  conda-forge\n",
            "    partd-1.3.0                |     pyhd8ed1ab_0          18 KB  conda-forge\n",
            "    pcre-8.45                  |       h9c3ff4c_0         253 KB  conda-forge\n",
            "    pexpect-4.8.0              |     pyh9f0ad1d_2          47 KB  conda-forge\n",
            "    pickle5-0.0.12             |   py37h5e8e339_0         173 KB  conda-forge\n",
            "    pickleshare-0.7.5          |          py_1003           9 KB  conda-forge\n",
            "    pillow-9.1.1               |   py37h44f0d7a_1        44.6 MB  conda-forge\n",
            "    pixman-0.40.0              |       h36c2ea0_0         627 KB  conda-forge\n",
            "    pkgutil-resolve-name-1.3.10|     pyhd8ed1ab_0           9 KB  conda-forge\n",
            "    pooch-1.6.0                |     pyhd8ed1ab_0          44 KB  conda-forge\n",
            "    poppler-21.09.0            |       ha39eefc_3        17.1 MB  conda-forge\n",
            "    poppler-data-0.4.11        |       hd8ed1ab_0         3.6 MB  conda-forge\n",
            "    postgresql-13.5            |       h2510834_1         5.3 MB  conda-forge\n",
            "    proj-8.1.0                 |       h277dcde_1         2.9 MB  conda-forge\n",
            "    prometheus_client-0.15.0   |     pyhd8ed1ab_0          50 KB  conda-forge\n",
            "    prompt-toolkit-3.0.31      |     pyha770c72_0         254 KB  conda-forge\n",
            "    protobuf-3.19.4            |   py37hcd2ae1e_0         337 KB  conda-forge\n",
            "    psutil-5.9.3               |   py37h540881e_0         348 KB  conda-forge\n",
            "    pthread-stubs-0.4          |    h36c2ea0_1001           5 KB  conda-forge\n",
            "    ptxcompiler-0.7.0          |   py37h9ef1b40_0         5.7 MB  conda-forge\n",
            "    ptyprocess-0.7.0           |     pyhd3deb0d_0          16 KB  conda-forge\n",
            "    py-xgboost-1.5.0dev.rapidsai21.12|   cuda11.2py37_0         159 KB  rapidsai\n",
            "    pyarrow-5.0.0              |py37h63cede7_20_cuda         2.6 MB  conda-forge\n",
            "    pyasn1-0.4.8               |             py_0          53 KB  conda-forge\n",
            "    pyasn1-modules-0.2.7       |             py_0          60 KB  conda-forge\n",
            "    pyct-0.4.6                 |             py_0           3 KB  conda-forge\n",
            "    pyct-core-0.4.6            |             py_0          13 KB  conda-forge\n",
            "    pydantic-1.10.2            |   py37h540881e_0         2.4 MB  conda-forge\n",
            "    pydeck-0.5.0               |     pyh9f0ad1d_0         3.6 MB  conda-forge\n",
            "    pyee-8.1.0                 |     pyhd8ed1ab_0          14 KB  conda-forge\n",
            "    pygments-2.13.0            |     pyhd8ed1ab_0         821 KB  conda-forge\n",
            "    pyjwt-2.6.0                |     pyhd8ed1ab_0          21 KB  conda-forge\n",
            "    pynvml-11.4.1              |     pyhd8ed1ab_0          40 KB  conda-forge\n",
            "    pyparsing-3.0.9            |     pyhd8ed1ab_0          79 KB  conda-forge\n",
            "    pyppeteer-1.0.2            |     pyhd8ed1ab_0          63 KB  conda-forge\n",
            "    pyproj-3.1.0               |   py37hdf91f24_4         523 KB  conda-forge\n",
            "    pyrsistent-0.18.1          |   py37h540881e_1          91 KB  conda-forge\n",
            "    python-confluent-kafka-1.6.0|   py37h5e8e339_1         125 KB  conda-forge\n",
            "    python-dateutil-2.8.2      |     pyhd8ed1ab_0         240 KB  conda-forge\n",
            "    python-fastjsonschema-2.16.2|     pyhd8ed1ab_0         242 KB  conda-forge\n",
            "    python-tzdata-2022.5       |     pyhd8ed1ab_0         147 KB  conda-forge\n",
            "    pytz-2022.5                |     pyhd8ed1ab_0         238 KB  conda-forge\n",
            "    pytz-deprecation-shim-0.1.0.post0|   py37h89c1867_2          22 KB  conda-forge\n",
            "    pyu2f-0.1.5                |     pyhd8ed1ab_0          31 KB  conda-forge\n",
            "    pyviz_comms-2.2.1          |     pyhd8ed1ab_1          31 KB  conda-forge\n",
            "    pywavelets-1.3.0           |   py37hda87dfa_1         4.4 MB  conda-forge\n",
            "    pyyaml-6.0                 |   py37h540881e_4         178 KB  conda-forge\n",
            "    pyzmq-24.0.1               |   py37h0c0c2a8_0         500 KB  conda-forge\n",
            "    rapids-21.12.00            |cuda11.2_py37_gc46440c_94           5 KB  rapidsai\n",
            "    rapids-xgboost-21.12.00    |cuda11.2_py37_gc46440c_94           5 KB  rapidsai\n",
            "    re2-2021.11.01             |       h9c3ff4c_0         222 KB  conda-forge\n",
            "    requests-oauthlib-1.3.1    |     pyhd8ed1ab_0          22 KB  conda-forge\n",
            "    rmm-21.12.00               |cuda11_py37_g957ad04_0_has_cma         943 KB  rapidsai\n",
            "    rsa-4.9                    |     pyhd8ed1ab_0          29 KB  conda-forge\n",
            "    rtree-1.0.1                |   py37h0b55af0_0          49 KB  conda-forge\n",
            "    s2n-1.3.0                  |       h9b69904_0         483 KB  conda-forge\n",
            "    scikit-image-0.18.1        |   py37hdc94413_0        11.5 MB  conda-forge\n",
            "    scikit-learn-1.0.2         |   py37hf9e9bfc_0         7.8 MB  conda-forge\n",
            "    scipy-1.7.3                |   py37hf2a6cf1_0        21.8 MB  conda-forge\n",
            "    send2trash-1.8.0           |     pyhd8ed1ab_0          17 KB  conda-forge\n",
            "    setuptools-59.8.0          |   py37h89c1867_1         1.0 MB  conda-forge\n",
            "    shapely-1.8.0              |   py37h48c49eb_0         367 KB  conda-forge\n",
            "    simpervisor-0.4            |     pyhd8ed1ab_0           9 KB  conda-forge\n",
            "    snappy-1.1.9               |       hbd366e4_1          35 KB  conda-forge\n",
            "    sniffio-1.3.0              |     pyhd8ed1ab_0          14 KB  conda-forge\n",
            "    sortedcontainers-2.4.0     |     pyhd8ed1ab_0          26 KB  conda-forge\n",
            "    soupsieve-2.3.2.post1      |     pyhd8ed1ab_0          34 KB  conda-forge\n",
            "    spdlog-1.8.5               |       h4bd325d_1         352 KB  conda-forge\n",
            "    starlette-0.20.4           |     pyhd8ed1ab_1          48 KB  conda-forge\n",
            "    streamz-0.6.4              |     pyh6c4a22f_0          63 KB  conda-forge\n",
            "    tabulate-0.9.0             |     pyhd8ed1ab_1          35 KB  conda-forge\n",
            "    tblib-1.7.0                |     pyhd8ed1ab_0          15 KB  conda-forge\n",
            "    terminado-0.17.0           |     pyh41d4057_0          19 KB  conda-forge\n",
            "    threadpoolctl-3.1.0        |     pyh8a188c0_0          18 KB  conda-forge\n",
            "    tifffile-2021.11.2         |     pyhd8ed1ab_0         139 KB  conda-forge\n",
            "    tiledb-2.3.4               |       he87e0bf_0         4.1 MB  conda-forge\n",
            "    tinycss2-1.2.1             |     pyhd8ed1ab_0          23 KB  conda-forge\n",
            "    tornado-6.1                |   py37h540881e_3         646 KB  conda-forge\n",
            "    traitlets-5.5.0            |     pyhd8ed1ab_0          85 KB  conda-forge\n",
            "    treelite-2.1.0             |   py37h4b3d254_0         1.4 MB  conda-forge\n",
            "    typing-extensions-4.4.0    |       hd8ed1ab_0           8 KB  conda-forge\n",
            "    typing_extensions-4.4.0    |     pyha770c72_0          29 KB  conda-forge\n",
            "    tzcode-2022e               |       h166bdaf_0          71 KB  conda-forge\n",
            "    tzdata-2022e               |       h191b570_0         118 KB  conda-forge\n",
            "    tzlocal-4.2                |   py37h89c1867_1          31 KB  conda-forge\n",
            "    ucx-1.11.2+gef2bbcf        |       cuda11.2_0        11.9 MB  rapidsai\n",
            "    ucx-proc-1.0.0             |              gpu           9 KB  rapidsai\n",
            "    ucx-py-0.23.0              |  py37_gef2bbcf_0         353 KB  rapidsai\n",
            "    unicodedata2-14.0.0        |   py37h540881e_1         496 KB  conda-forge\n",
            "    uvicorn-0.19.0             |   py37h89c1867_0          82 KB  conda-forge\n",
            "    wcwidth-0.2.5              |     pyh9f0ad1d_2          33 KB  conda-forge\n",
            "    webencodings-0.5.1         |             py_1          12 KB  conda-forge\n",
            "    websocket-client-1.4.1     |     pyhd8ed1ab_0          42 KB  conda-forge\n",
            "    websockets-10.3            |   py37h540881e_0         122 KB  conda-forge\n",
            "    widgetsnbextension-4.0.3   |     pyhd8ed1ab_0         1.6 MB  conda-forge\n",
            "    xarray-0.20.2              |     pyhd8ed1ab_0         628 KB  conda-forge\n",
            "    xerces-c-3.2.3             |       h9d8b166_3         1.8 MB  conda-forge\n",
            "    xgboost-1.5.0dev.rapidsai21.12|   cuda11.2py37_0          17 KB  rapidsai\n",
            "    xorg-fixesproto-5.0        |    h7f98852_1002           9 KB  conda-forge\n",
            "    xorg-inputproto-2.3.2      |    h7f98852_1002          19 KB  conda-forge\n",
            "    xorg-kbproto-1.0.7         |    h7f98852_1002          27 KB  conda-forge\n",
            "    xorg-libice-1.0.10         |       h7f98852_0          58 KB  conda-forge\n",
            "    xorg-libsm-1.2.3           |    hd9c2040_1000          26 KB  conda-forge\n",
            "    xorg-libx11-1.7.2          |       h7f98852_0         941 KB  conda-forge\n",
            "    xorg-libxau-1.0.9          |       h7f98852_0          13 KB  conda-forge\n",
            "    xorg-libxdmcp-1.1.3        |       h7f98852_0          19 KB  conda-forge\n",
            "    xorg-libxext-1.3.4         |       h7f98852_1          54 KB  conda-forge\n",
            "    xorg-libxfixes-5.0.3       |    h7f98852_1004          18 KB  conda-forge\n",
            "    xorg-libxi-1.7.10          |       h7f98852_0          46 KB  conda-forge\n",
            "    xorg-libxrender-0.9.10     |    h7f98852_1003          32 KB  conda-forge\n",
            "    xorg-libxtst-1.2.3         |    h7f98852_1002          31 KB  conda-forge\n",
            "    xorg-recordproto-1.14.2    |    h7f98852_1002           8 KB  conda-forge\n",
            "    xorg-renderproto-0.11.1    |    h7f98852_1002           9 KB  conda-forge\n",
            "    xorg-xextproto-7.3.0       |    h7f98852_1002          28 KB  conda-forge\n",
            "    xorg-xproto-7.0.31         |    h7f98852_1007          73 KB  conda-forge\n",
            "    yarl-1.7.2                 |   py37h540881e_2         132 KB  conda-forge\n",
            "    zeromq-4.3.4               |       h9c3ff4c_1         351 KB  conda-forge\n",
            "    zfp-0.5.5                  |       h9c3ff4c_8         190 KB  conda-forge\n",
            "    zict-2.2.0                 |     pyhd8ed1ab_0          20 KB  conda-forge\n",
            "    zipp-3.10.0                |     pyhd8ed1ab_0          14 KB  conda-forge\n",
            "    zlib-1.2.12                |       h166bdaf_2          91 KB  conda-forge\n",
            "    zlib-ng-2.0.6              |       h166bdaf_0          96 KB  conda-forge\n",
            "    ------------------------------------------------------------\n",
            "                                           Total:        2.91 GB\n",
            "\n",
            "The following NEW packages will be INSTALLED:\n",
            "\n",
            "  abseil-cpp         conda-forge/linux-64::abseil-cpp-20210324.2-h9c3ff4c_0\n",
            "  aiohttp            conda-forge/linux-64::aiohttp-3.8.3-py37h540881e_0\n",
            "  aiosignal          conda-forge/noarch::aiosignal-1.2.0-pyhd8ed1ab_0\n",
            "  alsa-lib           conda-forge/linux-64::alsa-lib-1.2.3.2-h166bdaf_0\n",
            "  anyio              conda-forge/noarch::anyio-3.6.2-pyhd8ed1ab_0\n",
            "  appdirs            conda-forge/noarch::appdirs-1.4.4-pyh9f0ad1d_0\n",
            "  argon2-cffi        conda-forge/noarch::argon2-cffi-21.3.0-pyhd8ed1ab_0\n",
            "  argon2-cffi-bindi~ conda-forge/linux-64::argon2-cffi-bindings-21.2.0-py37h540881e_2\n",
            "  arrow-cpp          conda-forge/linux-64::arrow-cpp-5.0.0-py37h6ab10f6_20_cuda\n",
            "  arrow-cpp-proc     conda-forge/linux-64::arrow-cpp-proc-3.0.0-cuda\n",
            "  async-timeout      conda-forge/noarch::async-timeout-4.0.2-pyhd8ed1ab_0\n",
            "  asynctest          conda-forge/noarch::asynctest-0.13.0-py_0\n",
            "  attrs              conda-forge/noarch::attrs-22.1.0-pyh71513ae_1\n",
            "  aws-c-auth         conda-forge/linux-64::aws-c-auth-0.6.8-hadad3cd_1\n",
            "  aws-c-cal          conda-forge/linux-64::aws-c-cal-0.5.12-h70efedd_7\n",
            "  aws-c-common       conda-forge/linux-64::aws-c-common-0.6.17-h7f98852_0\n",
            "  aws-c-compression  conda-forge/linux-64::aws-c-compression-0.2.14-h7c7754b_7\n",
            "  aws-c-event-stream conda-forge/linux-64::aws-c-event-stream-0.2.7-hd2be095_32\n",
            "  aws-c-http         conda-forge/linux-64::aws-c-http-0.6.10-h416565a_3\n",
            "  aws-c-io           conda-forge/linux-64::aws-c-io-0.10.14-he836878_0\n",
            "  aws-c-mqtt         conda-forge/linux-64::aws-c-mqtt-0.7.10-h885097b_0\n",
            "  aws-c-s3           conda-forge/linux-64::aws-c-s3-0.1.29-h8d70ed6_0\n",
            "  aws-c-sdkutils     conda-forge/linux-64::aws-c-sdkutils-0.1.1-h7c7754b_4\n",
            "  aws-checksums      conda-forge/linux-64::aws-checksums-0.1.12-h7c7754b_6\n",
            "  aws-crt-cpp        conda-forge/linux-64::aws-crt-cpp-0.17.10-h6ab17b9_5\n",
            "  aws-sdk-cpp        conda-forge/linux-64::aws-sdk-cpp-1.9.160-h36ff4c5_0\n",
            "  backcall           conda-forge/noarch::backcall-0.2.0-pyh9f0ad1d_0\n",
            "  backports          conda-forge/noarch::backports-1.0-py_2\n",
            "  backports.functoo~ conda-forge/noarch::backports.functools_lru_cache-1.6.4-pyhd8ed1ab_0\n",
            "  backports.zoneinfo conda-forge/linux-64::backports.zoneinfo-0.2.1-py37h540881e_5\n",
            "  beautifulsoup4     conda-forge/noarch::beautifulsoup4-4.11.1-pyha770c72_0\n",
            "  bleach             conda-forge/noarch::bleach-5.0.1-pyhd8ed1ab_0\n",
            "  blinker            conda-forge/noarch::blinker-1.5-pyhd8ed1ab_0\n",
            "  blosc              conda-forge/linux-64::blosc-1.21.1-h83bc5f7_3\n",
            "  bokeh              conda-forge/linux-64::bokeh-2.4.0-py37h89c1867_0\n",
            "  boost              conda-forge/linux-64::boost-1.74.0-py37h796e4cb_5\n",
            "  boost-cpp          conda-forge/linux-64::boost-cpp-1.74.0-h312852a_4\n",
            "  brotli             conda-forge/linux-64::brotli-1.0.9-h166bdaf_8\n",
            "  brotli-bin         conda-forge/linux-64::brotli-bin-1.0.9-h166bdaf_8\n",
            "  brunsli            conda-forge/linux-64::brunsli-0.1-h9c3ff4c_0\n",
            "  c-blosc2           conda-forge/linux-64::c-blosc2-2.4.3-h7a311fb_0\n",
            "  cachetools         conda-forge/noarch::cachetools-5.2.0-pyhd8ed1ab_0\n",
            "  cairo              conda-forge/linux-64::cairo-1.16.0-h6cf1ce9_1008\n",
            "  cfitsio            conda-forge/linux-64::cfitsio-3.470-hb418390_7\n",
            "  charls             conda-forge/linux-64::charls-2.2.0-h9c3ff4c_0\n",
            "  click              conda-forge/linux-64::click-8.0.4-py37h89c1867_0\n",
            "  click-plugins      conda-forge/noarch::click-plugins-1.1.1-py_0\n",
            "  cligj              conda-forge/noarch::cligj-0.7.2-pyhd8ed1ab_1\n",
            "  cloudpickle        conda-forge/noarch::cloudpickle-2.2.0-pyhd8ed1ab_0\n",
            "  colorcet           conda-forge/noarch::colorcet-3.0.1-pyhd8ed1ab_0\n",
            "  cucim              rapidsai/linux-64::cucim-21.12.00-cuda_11_py37_g6d1f082_0\n",
            "  cudatoolkit        nvidia/linux-64::cudatoolkit-11.2.72-h2bc3f7f_0\n",
            "  cudf               rapidsai/linux-64::cudf-21.12.02-cuda_11_py37_g06540b9b37_0\n",
            "  cudf_kafka         rapidsai/linux-64::cudf_kafka-21.12.02-py37_g06540b9b37_0\n",
            "  cugraph            rapidsai/linux-64::cugraph-21.12.00-cuda11_py37_g3a43e9d0_0\n",
            "  cuml               rapidsai/linux-64::cuml-21.12.00-cuda11_py37_g04c4927f3_0\n",
            "  cupy               conda-forge/linux-64::cupy-9.6.0-py37h07c33ac_0\n",
            "  curl               conda-forge/linux-64::curl-7.83.1-h7bff187_0\n",
            "  cusignal           rapidsai/noarch::cusignal-21.12.00-py37_g2bf865c_0\n",
            "  cuspatial          rapidsai/linux-64::cuspatial-21.12.00-py37_gab6748f_0\n",
            "  custreamz          rapidsai/linux-64::custreamz-21.12.02-py37_g06540b9b37_0\n",
            "  cuxfilter          rapidsai/linux-64::cuxfilter-21.12.00-py37_g2e0fb5a_0\n",
            "  cycler             conda-forge/noarch::cycler-0.11.0-pyhd8ed1ab_0\n",
            "  cyrus-sasl         conda-forge/linux-64::cyrus-sasl-2.1.27-h230043b_5\n",
            "  cytoolz            conda-forge/linux-64::cytoolz-0.12.0-py37h540881e_0\n",
            "  dask               conda-forge/noarch::dask-2021.11.2-pyhd8ed1ab_0\n",
            "  dask-core          conda-forge/noarch::dask-core-2021.11.2-pyhd8ed1ab_0\n",
            "  dask-cuda          rapidsai/linux-64::dask-cuda-21.12.00-py37_0\n",
            "  dask-cudf          rapidsai/linux-64::dask-cudf-21.12.02-cuda_11_py37_g06540b9b37_0\n",
            "  dask-sql           conda-forge/linux-64::dask-sql-2022.1.0-py37h89c1867_0\n",
            "  datashader         conda-forge/noarch::datashader-0.11.1-pyh9f0ad1d_0\n",
            "  datashape          conda-forge/noarch::datashape-0.5.4-py_1\n",
            "  debugpy            conda-forge/linux-64::debugpy-1.6.3-py37hd23a5d3_0\n",
            "  decorator          conda-forge/noarch::decorator-5.1.1-pyhd8ed1ab_0\n",
            "  defusedxml         conda-forge/noarch::defusedxml-0.7.1-pyhd8ed1ab_0\n",
            "  distributed        conda-forge/linux-64::distributed-2021.11.2-py37h89c1867_0\n",
            "  dlpack             conda-forge/linux-64::dlpack-0.5-h9c3ff4c_0\n",
            "  entrypoints        conda-forge/noarch::entrypoints-0.4-pyhd8ed1ab_0\n",
            "  expat              conda-forge/linux-64::expat-2.5.0-h27087fc_0\n",
            "  faiss-proc         rapidsai/linux-64::faiss-proc-1.0.0-cuda\n",
            "  fastapi            conda-forge/noarch::fastapi-0.85.1-pyhd8ed1ab_0\n",
            "  fastavro           conda-forge/linux-64::fastavro-1.6.1-py37h540881e_0\n",
            "  fastrlock          conda-forge/linux-64::fastrlock-0.8-py37hd23a5d3_2\n",
            "  fiona              conda-forge/linux-64::fiona-1.8.20-py37hb7e2723_2\n",
            "  flit-core          conda-forge/noarch::flit-core-3.7.1-pyhd8ed1ab_0\n",
            "  font-ttf-dejavu-s~ conda-forge/noarch::font-ttf-dejavu-sans-mono-2.37-hab24e00_0\n",
            "  font-ttf-inconsol~ conda-forge/noarch::font-ttf-inconsolata-3.000-h77eed37_0\n",
            "  font-ttf-source-c~ conda-forge/noarch::font-ttf-source-code-pro-2.038-h77eed37_0\n",
            "  font-ttf-ubuntu    conda-forge/noarch::font-ttf-ubuntu-0.83-hab24e00_0\n",
            "  fontconfig         conda-forge/linux-64::fontconfig-2.14.0-hc2a2eb6_1\n",
            "  fonts-conda-ecosy~ conda-forge/noarch::fonts-conda-ecosystem-1-0\n",
            "  fonts-conda-forge  conda-forge/noarch::fonts-conda-forge-1-0\n",
            "  fonttools          conda-forge/linux-64::fonttools-4.38.0-py37h540881e_0\n",
            "  freetype           conda-forge/linux-64::freetype-2.12.1-hca18f0e_0\n",
            "  freexl             conda-forge/linux-64::freexl-1.0.6-h166bdaf_1\n",
            "  frozenlist         conda-forge/linux-64::frozenlist-1.3.1-py37h540881e_0\n",
            "  fsspec             conda-forge/noarch::fsspec-2022.10.0-pyhd8ed1ab_0\n",
            "  gcsfs              conda-forge/noarch::gcsfs-2022.10.0-pyhd8ed1ab_0\n",
            "  gdal               conda-forge/linux-64::gdal-3.3.2-py37hd5a0ba4_3\n",
            "  geopandas          conda-forge/noarch::geopandas-0.9.0-pyhd8ed1ab_1\n",
            "  geopandas-base     conda-forge/noarch::geopandas-base-0.9.0-pyhd8ed1ab_1\n",
            "  geos               conda-forge/linux-64::geos-3.9.1-h9c3ff4c_2\n",
            "  geotiff            conda-forge/linux-64::geotiff-1.7.0-h08e826d_2\n",
            "  gettext            conda-forge/linux-64::gettext-0.21.1-h27087fc_0\n",
            "  gflags             conda-forge/linux-64::gflags-2.2.2-he1b5a44_1004\n",
            "  giflib             conda-forge/linux-64::giflib-5.2.1-h36c2ea0_2\n",
            "  glog               conda-forge/linux-64::glog-0.5.0-h48cff8f_0\n",
            "  google-api-core    conda-forge/noarch::google-api-core-2.10.0-pyhd8ed1ab_0\n",
            "  google-auth        conda-forge/noarch::google-auth-2.13.0-pyh1a96a4e_0\n",
            "  google-auth-oauth~ conda-forge/noarch::google-auth-oauthlib-0.7.0-pyhd8ed1ab_0\n",
            "  google-cloud-core  conda-forge/noarch::google-cloud-core-2.3.2-pyhd8ed1ab_0\n",
            "  google-cloud-stor~ conda-forge/noarch::google-cloud-storage-2.5.0-pyh6c4a22f_0\n",
            "  google-crc32c      conda-forge/linux-64::google-crc32c-1.1.2-py37h5d4fa31_3\n",
            "  google-resumable-~ conda-forge/noarch::google-resumable-media-2.4.0-pyhd8ed1ab_0\n",
            "  googleapis-common~ conda-forge/linux-64::googleapis-common-protos-1.56.4-py37h89c1867_0\n",
            "  graphite2          conda-forge/linux-64::graphite2-1.3.13-h58526e2_1001\n",
            "  grpc-cpp           conda-forge/linux-64::grpc-cpp-1.42.0-ha1441d3_1\n",
            "  grpcio             conda-forge/linux-64::grpcio-1.46.3-py37he500948_0\n",
            "  h11                conda-forge/noarch::h11-0.14.0-pyhd8ed1ab_0\n",
            "  harfbuzz           conda-forge/linux-64::harfbuzz-2.9.1-h83ec7ef_1\n",
            "  hdf4               conda-forge/linux-64::hdf4-4.2.15-h9772cbc_4\n",
            "  hdf5               conda-forge/linux-64::hdf5-1.12.1-nompi_h2386368_104\n",
            "  heapdict           conda-forge/noarch::heapdict-1.0.1-py_0\n",
            "  imagecodecs        conda-forge/linux-64::imagecodecs-2021.8.26-py37hfe5a812_1\n",
            "  imageio            conda-forge/noarch::imageio-2.22.0-pyhfa7a67d_0\n",
            "  importlib-metadata conda-forge/linux-64::importlib-metadata-4.11.4-py37h89c1867_0\n",
            "  importlib_metadata conda-forge/noarch::importlib_metadata-4.11.4-hd8ed1ab_0\n",
            "  importlib_resourc~ conda-forge/noarch::importlib_resources-5.10.0-pyhd8ed1ab_0\n",
            "  ipykernel          conda-forge/noarch::ipykernel-6.16.2-pyh210e3f2_0\n",
            "  ipython            conda-forge/linux-64::ipython-7.33.0-py37h89c1867_0\n",
            "  ipywidgets         conda-forge/noarch::ipywidgets-8.0.2-pyhd8ed1ab_1\n",
            "  jbig               conda-forge/linux-64::jbig-2.1-h7f98852_2003\n",
            "  jedi               conda-forge/noarch::jedi-0.18.1-pyhd8ed1ab_2\n",
            "  jinja2             conda-forge/noarch::jinja2-3.1.2-pyhd8ed1ab_1\n",
            "  joblib             conda-forge/noarch::joblib-1.2.0-pyhd8ed1ab_0\n",
            "  jpeg               conda-forge/linux-64::jpeg-9e-h166bdaf_2\n",
            "  jpype1             conda-forge/linux-64::jpype1-1.4.0-py37h7cecad7_0\n",
            "  json-c             conda-forge/linux-64::json-c-0.15-h98cffda_0\n",
            "  jsonschema         conda-forge/noarch::jsonschema-4.16.0-pyhd8ed1ab_0\n",
            "  jupyter-server-pr~ conda-forge/noarch::jupyter-server-proxy-3.2.2-pyhd8ed1ab_0\n",
            "  jupyter_client     conda-forge/noarch::jupyter_client-7.3.4-pyhd8ed1ab_0\n",
            "  jupyter_core       conda-forge/linux-64::jupyter_core-4.11.1-py37h89c1867_0\n",
            "  jupyter_server     conda-forge/noarch::jupyter_server-1.21.0-pyhd8ed1ab_0\n",
            "  jupyterlab_pygmen~ conda-forge/noarch::jupyterlab_pygments-0.2.2-pyhd8ed1ab_0\n",
            "  jupyterlab_widgets conda-forge/noarch::jupyterlab_widgets-3.0.3-pyhd8ed1ab_0\n",
            "  jxrlib             conda-forge/linux-64::jxrlib-1.1-h7f98852_2\n",
            "  kealib             conda-forge/linux-64::kealib-1.4.15-hfe1a663_0\n",
            "  kiwisolver         conda-forge/linux-64::kiwisolver-1.4.4-py37h7cecad7_0\n",
            "  lcms2              conda-forge/linux-64::lcms2-2.12-hddcbb42_0\n",
            "  lerc               conda-forge/linux-64::lerc-3.0-h9c3ff4c_0\n",
            "  libaec             conda-forge/linux-64::libaec-1.0.6-h9c3ff4c_0\n",
            "  libblas            conda-forge/linux-64::libblas-3.9.0-16_linux64_openblas\n",
            "  libbrotlicommon    conda-forge/linux-64::libbrotlicommon-1.0.9-h166bdaf_8\n",
            "  libbrotlidec       conda-forge/linux-64::libbrotlidec-1.0.9-h166bdaf_8\n",
            "  libbrotlienc       conda-forge/linux-64::libbrotlienc-1.0.9-h166bdaf_8\n",
            "  libcblas           conda-forge/linux-64::libcblas-3.9.0-16_linux64_openblas\n",
            "  libcrc32c          conda-forge/linux-64::libcrc32c-1.1.2-h9c3ff4c_0\n",
            "  libcucim           rapidsai/linux-64::libcucim-21.12.00-cuda11_g6d1f082_0\n",
            "  libcudf            rapidsai/linux-64::libcudf-21.12.02-cuda11_g06540b9b37_0\n",
            "  libcudf_kafka      rapidsai/linux-64::libcudf_kafka-21.12.02-g06540b9b37_0\n",
            "  libcugraph         rapidsai/linux-64::libcugraph-21.12.00-cuda11_g3a43e9d0_0\n",
            "  libcuml            rapidsai/linux-64::libcuml-21.12.00-cuda11_g04c4927f3_0\n",
            "  libcumlprims       nvidia/linux-64::libcumlprims-21.12.00-cuda11_g0a7f19f_0\n",
            "  libcusolver        nvidia/linux-64::libcusolver-11.4.1.48-0\n",
            "  libcuspatial       rapidsai/linux-64::libcuspatial-21.12.00-cuda11_gab6748f_0\n",
            "  libdap4            conda-forge/linux-64::libdap4-3.20.6-hd7c4107_2\n",
            "  libdeflate         conda-forge/linux-64::libdeflate-1.8-h7f98852_0\n",
            "  libevent           conda-forge/linux-64::libevent-2.1.10-h9b69904_4\n",
            "  libfaiss           conda-forge/linux-64::libfaiss-1.7.0-cuda112h5bea7ad_8_cuda\n",
            "  libgcrypt          conda-forge/linux-64::libgcrypt-1.10.1-h166bdaf_0\n",
            "  libgdal            conda-forge/linux-64::libgdal-3.3.2-h6acdded_3\n",
            "  libgfortran-ng     conda-forge/linux-64::libgfortran-ng-12.2.0-h69a702a_19\n",
            "  libgfortran5       conda-forge/linux-64::libgfortran5-12.2.0-h337968e_19\n",
            "  libglib            conda-forge/linux-64::libglib-2.72.1-h2d90d5f_0\n",
            "  libgpg-error       conda-forge/linux-64::libgpg-error-1.45-hc0c96e0_0\n",
            "  libgsasl           conda-forge/linux-64::libgsasl-1.10.0-h5b4c23d_0\n",
            "  libhwloc           conda-forge/linux-64::libhwloc-2.3.0-h5e5b7d1_1\n",
            "  libkml             conda-forge/linux-64::libkml-1.3.0-h238a007_1014\n",
            "  liblapack          conda-forge/linux-64::liblapack-3.9.0-16_linux64_openblas\n",
            "  libllvm11          conda-forge/linux-64::libllvm11-11.1.0-he0ac6c6_4\n",
            "  libnetcdf          conda-forge/linux-64::libnetcdf-4.8.1-nompi_h329d8a1_102\n",
            "  libntlm            conda-forge/linux-64::libntlm-1.4-h7f98852_1002\n",
            "  libopenblas        conda-forge/linux-64::libopenblas-0.3.21-pthreads_h78a6416_3\n",
            "  libpng             conda-forge/linux-64::libpng-1.6.38-h753d276_0\n",
            "  libpq              conda-forge/linux-64::libpq-13.5-hd57d9b9_1\n",
            "  libprotobuf        conda-forge/linux-64::libprotobuf-3.19.4-h780b84a_0\n",
            "  librdkafka         conda-forge/linux-64::librdkafka-1.6.1-hc49e61c_1\n",
            "  librmm             rapidsai/linux-64::librmm-21.12.00-cuda11_g957ad04_0\n",
            "  librttopo          conda-forge/linux-64::librttopo-1.1.0-h1185371_6\n",
            "  libsodium          conda-forge/linux-64::libsodium-1.0.18-h36c2ea0_1\n",
            "  libspatialindex    conda-forge/linux-64::libspatialindex-1.9.3-h9c3ff4c_4\n",
            "  libspatialite      conda-forge/linux-64::libspatialite-5.0.1-h5cf074c_8\n",
            "  libthrift          conda-forge/linux-64::libthrift-0.15.0-he6d91bd_1\n",
            "  libtiff            conda-forge/linux-64::libtiff-4.3.0-h6f004c6_2\n",
            "  libutf8proc        conda-forge/linux-64::libutf8proc-2.7.0-h7f98852_0\n",
            "  libuuid            conda-forge/linux-64::libuuid-2.32.1-h7f98852_1000\n",
            "  libuv              conda-forge/linux-64::libuv-1.43.0-h7f98852_0\n",
            "  libwebp            conda-forge/linux-64::libwebp-1.2.2-h3452ae3_0\n",
            "  libwebp-base       conda-forge/linux-64::libwebp-base-1.2.2-h7f98852_1\n",
            "  libxcb             conda-forge/linux-64::libxcb-1.13-h7f98852_1004\n",
            "  libxgboost         rapidsai/linux-64::libxgboost-1.5.0dev.rapidsai21.12-cuda11.2_0\n",
            "  libzip             conda-forge/linux-64::libzip-1.9.2-hc869a4a_1\n",
            "  libzopfli          conda-forge/linux-64::libzopfli-1.0.3-h9c3ff4c_0\n",
            "  llvmlite           conda-forge/linux-64::llvmlite-0.39.1-py37h0761922_0\n",
            "  locket             conda-forge/noarch::locket-1.0.0-pyhd8ed1ab_0\n",
            "  mapclassify        conda-forge/noarch::mapclassify-2.4.3-pyhd8ed1ab_0\n",
            "  markdown           conda-forge/noarch::markdown-3.4.1-pyhd8ed1ab_0\n",
            "  markupsafe         conda-forge/linux-64::markupsafe-2.1.1-py37h540881e_1\n",
            "  matplotlib-base    conda-forge/linux-64::matplotlib-base-3.5.3-py37hf395dca_2\n",
            "  matplotlib-inline  conda-forge/noarch::matplotlib-inline-0.1.6-pyhd8ed1ab_0\n",
            "  mistune            conda-forge/noarch::mistune-2.0.4-pyhd8ed1ab_0\n",
            "  msgpack-python     conda-forge/linux-64::msgpack-python-1.0.4-py37h7cecad7_0\n",
            "  multidict          conda-forge/linux-64::multidict-6.0.2-py37h540881e_1\n",
            "  multipledispatch   conda-forge/noarch::multipledispatch-0.6.0-py_0\n",
            "  munch              conda-forge/noarch::munch-2.5.0-py_0\n",
            "  munkres            conda-forge/noarch::munkres-1.1.4-pyh9f0ad1d_0\n",
            "  nbclient           conda-forge/noarch::nbclient-0.7.0-pyhd8ed1ab_0\n",
            "  nbconvert-core     conda-forge/noarch::nbconvert-core-7.2.3-pyhd8ed1ab_0\n",
            "  nbformat           conda-forge/noarch::nbformat-5.7.0-pyhd8ed1ab_0\n",
            "  nccl               conda-forge/linux-64::nccl-2.14.3.1-h0800d71_0\n",
            "  nest-asyncio       conda-forge/noarch::nest-asyncio-1.5.6-pyhd8ed1ab_0\n",
            "  networkx           conda-forge/noarch::networkx-2.7.1-pyhd8ed1ab_0\n",
            "  nodejs             conda-forge/linux-64::nodejs-14.18.3-h92b4a50_1\n",
            "  nspr               conda-forge/linux-64::nspr-4.32-h9c3ff4c_1\n",
            "  nss                conda-forge/linux-64::nss-3.78-h2350873_0\n",
            "  numba              conda-forge/linux-64::numba-0.56.3-py37hf081915_0\n",
            "  numpy              conda-forge/linux-64::numpy-1.21.6-py37h976b520_0\n",
            "  nvtx               conda-forge/linux-64::nvtx-0.2.3-py37h5e8e339_1\n",
            "  oauthlib           conda-forge/noarch::oauthlib-3.2.2-pyhd8ed1ab_0\n",
            "  openjdk            conda-forge/linux-64::openjdk-11.0.9.1-h5cc2fde_1\n",
            "  openjpeg           conda-forge/linux-64::openjpeg-2.5.0-h7d73246_0\n",
            "  orc                conda-forge/linux-64::orc-1.7.1-h1be678f_1\n",
            "  packaging          conda-forge/noarch::packaging-21.3-pyhd8ed1ab_0\n",
            "  pandas             conda-forge/linux-64::pandas-1.3.5-py37he8f5f7f_0\n",
            "  pandocfilters      conda-forge/noarch::pandocfilters-1.5.0-pyhd8ed1ab_0\n",
            "  panel              conda-forge/noarch::panel-0.12.4-pyhd8ed1ab_0\n",
            "  param              conda-forge/noarch::param-1.12.2-pyh6c4a22f_0\n",
            "  parquet-cpp        conda-forge/noarch::parquet-cpp-1.5.1-2\n",
            "  parso              conda-forge/noarch::parso-0.8.3-pyhd8ed1ab_0\n",
            "  partd              conda-forge/noarch::partd-1.3.0-pyhd8ed1ab_0\n",
            "  pcre               conda-forge/linux-64::pcre-8.45-h9c3ff4c_0\n",
            "  pexpect            conda-forge/noarch::pexpect-4.8.0-pyh9f0ad1d_2\n",
            "  pickle5            conda-forge/linux-64::pickle5-0.0.12-py37h5e8e339_0\n",
            "  pickleshare        conda-forge/noarch::pickleshare-0.7.5-py_1003\n",
            "  pillow             conda-forge/linux-64::pillow-9.1.1-py37h44f0d7a_1\n",
            "  pixman             conda-forge/linux-64::pixman-0.40.0-h36c2ea0_0\n",
            "  pkgutil-resolve-n~ conda-forge/noarch::pkgutil-resolve-name-1.3.10-pyhd8ed1ab_0\n",
            "  pooch              conda-forge/noarch::pooch-1.6.0-pyhd8ed1ab_0\n",
            "  poppler            conda-forge/linux-64::poppler-21.09.0-ha39eefc_3\n",
            "  poppler-data       conda-forge/noarch::poppler-data-0.4.11-hd8ed1ab_0\n",
            "  postgresql         conda-forge/linux-64::postgresql-13.5-h2510834_1\n",
            "  proj               conda-forge/linux-64::proj-8.1.0-h277dcde_1\n",
            "  prometheus_client  conda-forge/noarch::prometheus_client-0.15.0-pyhd8ed1ab_0\n",
            "  prompt-toolkit     conda-forge/noarch::prompt-toolkit-3.0.31-pyha770c72_0\n",
            "  protobuf           conda-forge/linux-64::protobuf-3.19.4-py37hcd2ae1e_0\n",
            "  psutil             conda-forge/linux-64::psutil-5.9.3-py37h540881e_0\n",
            "  pthread-stubs      conda-forge/linux-64::pthread-stubs-0.4-h36c2ea0_1001\n",
            "  ptxcompiler        conda-forge/linux-64::ptxcompiler-0.7.0-py37h9ef1b40_0\n",
            "  ptyprocess         conda-forge/noarch::ptyprocess-0.7.0-pyhd3deb0d_0\n",
            "  py-xgboost         rapidsai/linux-64::py-xgboost-1.5.0dev.rapidsai21.12-cuda11.2py37_0\n",
            "  pyarrow            conda-forge/linux-64::pyarrow-5.0.0-py37h63cede7_20_cuda\n",
            "  pyasn1             conda-forge/noarch::pyasn1-0.4.8-py_0\n",
            "  pyasn1-modules     conda-forge/noarch::pyasn1-modules-0.2.7-py_0\n",
            "  pyct               conda-forge/noarch::pyct-0.4.6-py_0\n",
            "  pyct-core          conda-forge/noarch::pyct-core-0.4.6-py_0\n",
            "  pydantic           conda-forge/linux-64::pydantic-1.10.2-py37h540881e_0\n",
            "  pydeck             conda-forge/noarch::pydeck-0.5.0-pyh9f0ad1d_0\n",
            "  pyee               conda-forge/noarch::pyee-8.1.0-pyhd8ed1ab_0\n",
            "  pygments           conda-forge/noarch::pygments-2.13.0-pyhd8ed1ab_0\n",
            "  pyjwt              conda-forge/noarch::pyjwt-2.6.0-pyhd8ed1ab_0\n",
            "  pynvml             conda-forge/noarch::pynvml-11.4.1-pyhd8ed1ab_0\n",
            "  pyparsing          conda-forge/noarch::pyparsing-3.0.9-pyhd8ed1ab_0\n",
            "  pyppeteer          conda-forge/noarch::pyppeteer-1.0.2-pyhd8ed1ab_0\n",
            "  pyproj             conda-forge/linux-64::pyproj-3.1.0-py37hdf91f24_4\n",
            "  pyrsistent         conda-forge/linux-64::pyrsistent-0.18.1-py37h540881e_1\n",
            "  python-confluent-~ conda-forge/linux-64::python-confluent-kafka-1.6.0-py37h5e8e339_1\n",
            "  python-dateutil    conda-forge/noarch::python-dateutil-2.8.2-pyhd8ed1ab_0\n",
            "  python-fastjsonsc~ conda-forge/noarch::python-fastjsonschema-2.16.2-pyhd8ed1ab_0\n",
            "  python-tzdata      conda-forge/noarch::python-tzdata-2022.5-pyhd8ed1ab_0\n",
            "  pytz               conda-forge/noarch::pytz-2022.5-pyhd8ed1ab_0\n",
            "  pytz-deprecation-~ conda-forge/linux-64::pytz-deprecation-shim-0.1.0.post0-py37h89c1867_2\n",
            "  pyu2f              conda-forge/noarch::pyu2f-0.1.5-pyhd8ed1ab_0\n",
            "  pyviz_comms        conda-forge/noarch::pyviz_comms-2.2.1-pyhd8ed1ab_1\n",
            "  pywavelets         conda-forge/linux-64::pywavelets-1.3.0-py37hda87dfa_1\n",
            "  pyyaml             conda-forge/linux-64::pyyaml-6.0-py37h540881e_4\n",
            "  pyzmq              conda-forge/linux-64::pyzmq-24.0.1-py37h0c0c2a8_0\n",
            "  rapids             rapidsai/linux-64::rapids-21.12.00-cuda11.2_py37_gc46440c_94\n",
            "  rapids-xgboost     rapidsai/linux-64::rapids-xgboost-21.12.00-cuda11.2_py37_gc46440c_94\n",
            "  re2                conda-forge/linux-64::re2-2021.11.01-h9c3ff4c_0\n",
            "  requests-oauthlib  conda-forge/noarch::requests-oauthlib-1.3.1-pyhd8ed1ab_0\n",
            "  rmm                rapidsai/linux-64::rmm-21.12.00-cuda11_py37_g957ad04_0_has_cma\n",
            "  rsa                conda-forge/noarch::rsa-4.9-pyhd8ed1ab_0\n",
            "  rtree              conda-forge/linux-64::rtree-1.0.1-py37h0b55af0_0\n",
            "  s2n                conda-forge/linux-64::s2n-1.3.0-h9b69904_0\n",
            "  scikit-image       conda-forge/linux-64::scikit-image-0.18.1-py37hdc94413_0\n",
            "  scikit-learn       conda-forge/linux-64::scikit-learn-1.0.2-py37hf9e9bfc_0\n",
            "  scipy              conda-forge/linux-64::scipy-1.7.3-py37hf2a6cf1_0\n",
            "  send2trash         conda-forge/noarch::send2trash-1.8.0-pyhd8ed1ab_0\n",
            "  shapely            conda-forge/linux-64::shapely-1.8.0-py37h48c49eb_0\n",
            "  simpervisor        conda-forge/noarch::simpervisor-0.4-pyhd8ed1ab_0\n",
            "  snappy             conda-forge/linux-64::snappy-1.1.9-hbd366e4_1\n",
            "  sniffio            conda-forge/noarch::sniffio-1.3.0-pyhd8ed1ab_0\n",
            "  sortedcontainers   conda-forge/noarch::sortedcontainers-2.4.0-pyhd8ed1ab_0\n",
            "  soupsieve          conda-forge/noarch::soupsieve-2.3.2.post1-pyhd8ed1ab_0\n",
            "  spdlog             conda-forge/linux-64::spdlog-1.8.5-h4bd325d_1\n",
            "  starlette          conda-forge/noarch::starlette-0.20.4-pyhd8ed1ab_1\n",
            "  streamz            conda-forge/noarch::streamz-0.6.4-pyh6c4a22f_0\n",
            "  tabulate           conda-forge/noarch::tabulate-0.9.0-pyhd8ed1ab_1\n",
            "  tblib              conda-forge/noarch::tblib-1.7.0-pyhd8ed1ab_0\n",
            "  terminado          conda-forge/noarch::terminado-0.17.0-pyh41d4057_0\n",
            "  threadpoolctl      conda-forge/noarch::threadpoolctl-3.1.0-pyh8a188c0_0\n",
            "  tifffile           conda-forge/noarch::tifffile-2021.11.2-pyhd8ed1ab_0\n",
            "  tiledb             conda-forge/linux-64::tiledb-2.3.4-he87e0bf_0\n",
            "  tinycss2           conda-forge/noarch::tinycss2-1.2.1-pyhd8ed1ab_0\n",
            "  tornado            conda-forge/linux-64::tornado-6.1-py37h540881e_3\n",
            "  traitlets          conda-forge/noarch::traitlets-5.5.0-pyhd8ed1ab_0\n",
            "  treelite           conda-forge/linux-64::treelite-2.1.0-py37h4b3d254_0\n",
            "  typing-extensions  conda-forge/noarch::typing-extensions-4.4.0-hd8ed1ab_0\n",
            "  typing_extensions  conda-forge/noarch::typing_extensions-4.4.0-pyha770c72_0\n",
            "  tzcode             conda-forge/linux-64::tzcode-2022e-h166bdaf_0\n",
            "  tzdata             conda-forge/noarch::tzdata-2022e-h191b570_0\n",
            "  tzlocal            conda-forge/linux-64::tzlocal-4.2-py37h89c1867_1\n",
            "  ucx                rapidsai/linux-64::ucx-1.11.2+gef2bbcf-cuda11.2_0\n",
            "  ucx-proc           rapidsai/linux-64::ucx-proc-1.0.0-gpu\n",
            "  ucx-py             rapidsai/linux-64::ucx-py-0.23.0-py37_gef2bbcf_0\n",
            "  unicodedata2       conda-forge/linux-64::unicodedata2-14.0.0-py37h540881e_1\n",
            "  uvicorn            conda-forge/linux-64::uvicorn-0.19.0-py37h89c1867_0\n",
            "  wcwidth            conda-forge/noarch::wcwidth-0.2.5-pyh9f0ad1d_2\n",
            "  webencodings       conda-forge/noarch::webencodings-0.5.1-py_1\n",
            "  websocket-client   conda-forge/noarch::websocket-client-1.4.1-pyhd8ed1ab_0\n",
            "  websockets         conda-forge/linux-64::websockets-10.3-py37h540881e_0\n",
            "  widgetsnbextension conda-forge/noarch::widgetsnbextension-4.0.3-pyhd8ed1ab_0\n",
            "  xarray             conda-forge/noarch::xarray-0.20.2-pyhd8ed1ab_0\n",
            "  xerces-c           conda-forge/linux-64::xerces-c-3.2.3-h9d8b166_3\n",
            "  xgboost            rapidsai/linux-64::xgboost-1.5.0dev.rapidsai21.12-cuda11.2py37_0\n",
            "  xorg-fixesproto    conda-forge/linux-64::xorg-fixesproto-5.0-h7f98852_1002\n",
            "  xorg-inputproto    conda-forge/linux-64::xorg-inputproto-2.3.2-h7f98852_1002\n",
            "  xorg-kbproto       conda-forge/linux-64::xorg-kbproto-1.0.7-h7f98852_1002\n",
            "  xorg-libice        conda-forge/linux-64::xorg-libice-1.0.10-h7f98852_0\n",
            "  xorg-libsm         conda-forge/linux-64::xorg-libsm-1.2.3-hd9c2040_1000\n",
            "  xorg-libx11        conda-forge/linux-64::xorg-libx11-1.7.2-h7f98852_0\n",
            "  xorg-libxau        conda-forge/linux-64::xorg-libxau-1.0.9-h7f98852_0\n",
            "  xorg-libxdmcp      conda-forge/linux-64::xorg-libxdmcp-1.1.3-h7f98852_0\n",
            "  xorg-libxext       conda-forge/linux-64::xorg-libxext-1.3.4-h7f98852_1\n",
            "  xorg-libxfixes     conda-forge/linux-64::xorg-libxfixes-5.0.3-h7f98852_1004\n",
            "  xorg-libxi         conda-forge/linux-64::xorg-libxi-1.7.10-h7f98852_0\n",
            "  xorg-libxrender    conda-forge/linux-64::xorg-libxrender-0.9.10-h7f98852_1003\n",
            "  xorg-libxtst       conda-forge/linux-64::xorg-libxtst-1.2.3-h7f98852_1002\n",
            "  xorg-recordproto   conda-forge/linux-64::xorg-recordproto-1.14.2-h7f98852_1002\n",
            "  xorg-renderproto   conda-forge/linux-64::xorg-renderproto-0.11.1-h7f98852_1002\n",
            "  xorg-xextproto     conda-forge/linux-64::xorg-xextproto-7.3.0-h7f98852_1002\n",
            "  xorg-xproto        conda-forge/linux-64::xorg-xproto-7.0.31-h7f98852_1007\n",
            "  yarl               conda-forge/linux-64::yarl-1.7.2-py37h540881e_2\n",
            "  zeromq             conda-forge/linux-64::zeromq-4.3.4-h9c3ff4c_1\n",
            "  zfp                conda-forge/linux-64::zfp-0.5.5-h9c3ff4c_8\n",
            "  zict               conda-forge/noarch::zict-2.2.0-pyhd8ed1ab_0\n",
            "  zipp               conda-forge/noarch::zipp-3.10.0-pyhd8ed1ab_0\n",
            "  zlib               conda-forge/linux-64::zlib-1.2.12-h166bdaf_2\n",
            "  zlib-ng            conda-forge/linux-64::zlib-ng-2.0.6-h166bdaf_0\n",
            "\n",
            "The following packages will be UPDATED:\n",
            "\n",
            "  ca-certificates                      2022.6.15-ha878542_0 --> 2022.9.24-ha878542_0\n",
            "  certifi            conda-forge/linux-64::certifi-2022.6.~ --> conda-forge/noarch::certifi-2022.9.24-pyhd8ed1ab_0\n",
            "  openssl                                 1.1.1q-h166bdaf_0 --> 1.1.1q-h166bdaf_1\n",
            "\n",
            "The following packages will be DOWNGRADED:\n",
            "\n",
            "  icu                                       70.1-h27087fc_0 --> 68.2-h9c3ff4c_0\n",
            "  libarchive                               3.5.2-hb890918_3 --> 3.5.2-hccf745f_1\n",
            "  libxml2                                 2.9.14-h22db469_4 --> 2.9.12-h72842e0_0\n",
            "  setuptools                          65.3.0-py37h89c1867_0 --> 59.8.0-py37h89c1867_1\n",
            "\n",
            "\n",
            "\n",
            "Downloading and Extracting Packages\n",
            "\n",
            "gdal-3.3.2           | 1.7 MB    |            |   0%\n",
            "gdal-3.3.2           | 1.7 MB    | ########## | 100%\n",
            "gdal-3.3.2           | 1.7 MB    | ########## | 100%\n",
            "\n",
            "munch-2.5.0          | 12 KB     |            |   0%\n",
            "munch-2.5.0          | 12 KB     | ########## | 100%\n",
            "\n",
            "gcsfs-2022.10.0      | 26 KB     |            |   0%\n",
            "gcsfs-2022.10.0      | 26 KB     | ########## | 100%\n",
            "\n",
            "datashape-0.5.4      | 49 KB     |            |   0%\n",
            "datashape-0.5.4      | 49 KB     | ########## | 100%\n",
            "\n",
            "ca-certificates-2022 | 150 KB    |            |   0%\n",
            "ca-certificates-2022 | 150 KB    | ########## | 100%\n",
            "\n",
            "cytoolz-0.12.0       | 380 KB    |            |   0%\n",
            "cytoolz-0.12.0       | 380 KB    | ########## | 100%\n",
            "cytoolz-0.12.0       | 380 KB    | ########## | 100%\n",
            "\n",
            "geotiff-1.7.0        | 296 KB    |            |   0%\n",
            "geotiff-1.7.0        | 296 KB    | ########## | 100%\n",
            "\n",
            "dask-cudf-21.12.02   | 112 KB    |            |   0%\n",
            "dask-cudf-21.12.02   | 112 KB    | #4         |  14%\n",
            "dask-cudf-21.12.02   | 112 KB    | ####2      |  43%\n",
            "dask-cudf-21.12.02   | 112 KB    | ########5  |  86%\n",
            "dask-cudf-21.12.02   | 112 KB    | ########## | 100%\n",
            "\n",
            "proj-8.1.0           | 2.9 MB    |            |   0%\n",
            "proj-8.1.0           | 2.9 MB    | ########## | 100%\n",
            "proj-8.1.0           | 2.9 MB    | ########## | 100%\n",
            "\n",
            "google-auth-oauthlib | 21 KB     |            |   0%\n",
            "google-auth-oauthlib | 21 KB     | ########## | 100%\n",
            "\n",
            "cachetools-5.2.0     | 13 KB     |            |   0%\n",
            "cachetools-5.2.0     | 13 KB     | ########## | 100%\n",
            "\n",
            "tornado-6.1          | 646 KB    |            |   0%\n",
            "tornado-6.1          | 646 KB    | ########## | 100%\n",
            "tornado-6.1          | 646 KB    | ########## | 100%\n",
            "\n",
            "xorg-libxfixes-5.0.3 | 18 KB     |            |   0%\n",
            "xorg-libxfixes-5.0.3 | 18 KB     | ########## | 100%\n",
            "\n",
            "dlpack-0.5           | 12 KB     |            |   0%\n",
            "dlpack-0.5           | 12 KB     | ########## | 100%\n",
            "\n",
            "grpcio-1.46.3        | 2.5 MB    |            |   0%\n",
            "grpcio-1.46.3        | 2.5 MB    | ########## | 100%\n",
            "grpcio-1.46.3        | 2.5 MB    | ########## | 100%\n",
            "\n",
            "datashader-0.11.1    | 14.0 MB   |            |   0%\n",
            "datashader-0.11.1    | 14.0 MB   | ##7        |  28%\n",
            "datashader-0.11.1    | 14.0 MB   | #####4     |  55%\n",
            "datashader-0.11.1    | 14.0 MB   | ########   |  81%\n",
            "datashader-0.11.1    | 14.0 MB   | ########## | 100%\n",
            "\n",
            "libcudf-21.12.02     | 288.2 MB  |            |   0%\n",
            "libcudf-21.12.02     | 288.2 MB  |            |   0%\n",
            "libcudf-21.12.02     | 288.2 MB  |            |   0%\n",
            "libcudf-21.12.02     | 288.2 MB  |            |   0%\n",
            "libcudf-21.12.02     | 288.2 MB  |            |   0%\n",
            "libcudf-21.12.02     | 288.2 MB  |            |   1%\n",
            "libcudf-21.12.02     | 288.2 MB  | 1          |   1%\n",
            "libcudf-21.12.02     | 288.2 MB  | 1          |   2%\n",
            "libcudf-21.12.02     | 288.2 MB  | 2          |   3%\n",
            "libcudf-21.12.02     | 288.2 MB  | 3          |   3%\n",
            "libcudf-21.12.02     | 288.2 MB  | 4          |   4%\n",
            "libcudf-21.12.02     | 288.2 MB  | 4          |   5%\n",
            "libcudf-21.12.02     | 288.2 MB  | 5          |   6%\n",
            "libcudf-21.12.02     | 288.2 MB  | 6          |   6%\n",
            "libcudf-21.12.02     | 288.2 MB  | 7          |   7%\n",
            "libcudf-21.12.02     | 288.2 MB  | 8          |   8%\n",
            "libcudf-21.12.02     | 288.2 MB  | 8          |   9%\n",
            "libcudf-21.12.02     | 288.2 MB  | 9          |  10%\n",
            "libcudf-21.12.02     | 288.2 MB  | #          |  10%\n",
            "libcudf-21.12.02     | 288.2 MB  | #          |  11%\n",
            "libcudf-21.12.02     | 288.2 MB  | #1         |  12%\n",
            "libcudf-21.12.02     | 288.2 MB  | #2         |  13%\n",
            "libcudf-21.12.02     | 288.2 MB  | #3         |  13%\n",
            "libcudf-21.12.02     | 288.2 MB  | #4         |  14%\n",
            "libcudf-21.12.02     | 288.2 MB  | #4         |  15%\n",
            "libcudf-21.12.02     | 288.2 MB  | #5         |  16%\n",
            "libcudf-21.12.02     | 288.2 MB  | #6         |  16%\n",
            "libcudf-21.12.02     | 288.2 MB  | #7         |  17%\n",
            "libcudf-21.12.02     | 288.2 MB  | #7         |  18%\n",
            "libcudf-21.12.02     | 288.2 MB  | #8         |  19%\n",
            "libcudf-21.12.02     | 288.2 MB  | #9         |  19%\n",
            "libcudf-21.12.02     | 288.2 MB  | ##         |  20%\n",
            "libcudf-21.12.02     | 288.2 MB  | ##1        |  21%\n",
            "libcudf-21.12.02     | 288.2 MB  | ##1        |  22%\n",
            "libcudf-21.12.02     | 288.2 MB  | ##2        |  23%\n",
            "libcudf-21.12.02     | 288.2 MB  | ##3        |  23%\n",
            "libcudf-21.12.02     | 288.2 MB  | ##4        |  24%\n",
            "libcudf-21.12.02     | 288.2 MB  | ##4        |  25%\n",
            "libcudf-21.12.02     | 288.2 MB  | ##5        |  26%\n",
            "libcudf-21.12.02     | 288.2 MB  | ##6        |  26%\n",
            "libcudf-21.12.02     | 288.2 MB  | ##7        |  27%\n",
            "libcudf-21.12.02     | 288.2 MB  | ##7        |  28%\n",
            "libcudf-21.12.02     | 288.2 MB  | ##8        |  29%\n",
            "libcudf-21.12.02     | 288.2 MB  | ##9        |  29%\n",
            "libcudf-21.12.02     | 288.2 MB  | ###        |  30%\n",
            "libcudf-21.12.02     | 288.2 MB  | ###        |  31%\n",
            "libcudf-21.12.02     | 288.2 MB  | ###1       |  32%\n",
            "libcudf-21.12.02     | 288.2 MB  | ###2       |  32%\n",
            "libcudf-21.12.02     | 288.2 MB  | ###3       |  33%\n",
            "libcudf-21.12.02     | 288.2 MB  | ###3       |  34%\n",
            "libcudf-21.12.02     | 288.2 MB  | ###4       |  35%\n",
            "libcudf-21.12.02     | 288.2 MB  | ###5       |  35%\n",
            "libcudf-21.12.02     | 288.2 MB  | ###6       |  36%\n",
            "libcudf-21.12.02     | 288.2 MB  | ###7       |  37%\n",
            "libcudf-21.12.02     | 288.2 MB  | ###7       |  38%\n",
            "libcudf-21.12.02     | 288.2 MB  | ###8       |  39%\n",
            "libcudf-21.12.02     | 288.2 MB  | ###9       |  39%\n",
            "libcudf-21.12.02     | 288.2 MB  | ####       |  40%\n",
            "libcudf-21.12.02     | 288.2 MB  | ####1      |  41%\n",
            "libcudf-21.12.02     | 288.2 MB  | ####1      |  42%\n",
            "libcudf-21.12.02     | 288.2 MB  | ####2      |  43%\n",
            "libcudf-21.12.02     | 288.2 MB  | ####3      |  44%\n",
            "libcudf-21.12.02     | 288.2 MB  | ####4      |  45%\n",
            "libcudf-21.12.02     | 288.2 MB  | ####5      |  46%\n",
            "libcudf-21.12.02     | 288.2 MB  | ####6      |  47%\n",
            "libcudf-21.12.02     | 288.2 MB  | ####7      |  48%\n",
            "libcudf-21.12.02     | 288.2 MB  | ####8      |  48%\n",
            "libcudf-21.12.02     | 288.2 MB  | ####9      |  49%\n",
            "libcudf-21.12.02     | 288.2 MB  | #####      |  50%\n",
            "libcudf-21.12.02     | 288.2 MB  | #####1     |  51%\n",
            "libcudf-21.12.02     | 288.2 MB  | #####2     |  52%\n",
            "libcudf-21.12.02     | 288.2 MB  | #####3     |  53%\n",
            "libcudf-21.12.02     | 288.2 MB  | #####4     |  54%\n",
            "libcudf-21.12.02     | 288.2 MB  | #####5     |  55%\n",
            "libcudf-21.12.02     | 288.2 MB  | #####6     |  56%\n",
            "libcudf-21.12.02     | 288.2 MB  | #####7     |  57%\n",
            "libcudf-21.12.02     | 288.2 MB  | #####8     |  58%\n",
            "libcudf-21.12.02     | 288.2 MB  | #####9     |  59%\n",
            "libcudf-21.12.02     | 288.2 MB  | ######     |  60%\n",
            "libcudf-21.12.02     | 288.2 MB  | ######1    |  61%\n",
            "libcudf-21.12.02     | 288.2 MB  | ######2    |  62%\n",
            "libcudf-21.12.02     | 288.2 MB  | ######3    |  63%\n",
            "libcudf-21.12.02     | 288.2 MB  | ######4    |  64%\n",
            "libcudf-21.12.02     | 288.2 MB  | ######5    |  65%\n",
            "libcudf-21.12.02     | 288.2 MB  | ######6    |  66%\n",
            "libcudf-21.12.02     | 288.2 MB  | ######7    |  67%\n",
            "libcudf-21.12.02     | 288.2 MB  | ######8    |  68%\n",
            "libcudf-21.12.02     | 288.2 MB  | ######9    |  69%\n",
            "libcudf-21.12.02     | 288.2 MB  | #######    |  70%\n",
            "libcudf-21.12.02     | 288.2 MB  | #######1   |  71%\n",
            "libcudf-21.12.02     | 288.2 MB  | #######2   |  72%\n",
            "libcudf-21.12.02     | 288.2 MB  | #######3   |  73%\n",
            "libcudf-21.12.02     | 288.2 MB  | #######4   |  74%\n",
            "libcudf-21.12.02     | 288.2 MB  | #######5   |  75%\n",
            "libcudf-21.12.02     | 288.2 MB  | #######6   |  76%\n",
            "libcudf-21.12.02     | 288.2 MB  | #######6   |  77%\n",
            "libcudf-21.12.02     | 288.2 MB  | #######7   |  78%\n",
            "libcudf-21.12.02     | 288.2 MB  | #######8   |  79%\n",
            "libcudf-21.12.02     | 288.2 MB  | #######9   |  80%\n",
            "libcudf-21.12.02     | 288.2 MB  | ########   |  81%\n",
            "libcudf-21.12.02     | 288.2 MB  | ########1  |  82%\n",
            "libcudf-21.12.02     | 288.2 MB  | ########2  |  83%\n",
            "libcudf-21.12.02     | 288.2 MB  | ########3  |  84%\n",
            "libcudf-21.12.02     | 288.2 MB  | ########4  |  85%\n",
            "libcudf-21.12.02     | 288.2 MB  | ########5  |  86%\n",
            "libcudf-21.12.02     | 288.2 MB  | ########6  |  87%\n",
            "libcudf-21.12.02     | 288.2 MB  | ########7  |  88%\n",
            "libcudf-21.12.02     | 288.2 MB  | ########8  |  89%\n",
            "libcudf-21.12.02     | 288.2 MB  | ########9  |  90%\n",
            "libcudf-21.12.02     | 288.2 MB  | #########  |  91%\n",
            "libcudf-21.12.02     | 288.2 MB  | #########1 |  91%\n",
            "libcudf-21.12.02     | 288.2 MB  | #########2 |  92%\n",
            "libcudf-21.12.02     | 288.2 MB  | #########3 |  93%\n",
            "libcudf-21.12.02     | 288.2 MB  | #########4 |  94%\n",
            "libcudf-21.12.02     | 288.2 MB  | #########5 |  95%\n",
            "libcudf-21.12.02     | 288.2 MB  | #########6 |  96%\n",
            "libcudf-21.12.02     | 288.2 MB  | #########7 |  97%\n",
            "libcudf-21.12.02     | 288.2 MB  | #########8 |  98%\n",
            "libcudf-21.12.02     | 288.2 MB  | #########9 |  99%\n",
            "libcudf-21.12.02     | 288.2 MB  | ########## | 100%\n",
            "libcudf-21.12.02     | 288.2 MB  | ########## | 100%\n",
            "\n",
            "click-8.0.4          | 145 KB    |            |   0%\n",
            "click-8.0.4          | 145 KB    | ########## | 100%\n",
            "\n",
            "tinycss2-1.2.1       | 23 KB     |            |   0%\n",
            "tinycss2-1.2.1       | 23 KB     | ########## | 100%\n",
            "\n",
            "pyparsing-3.0.9      | 79 KB     |            |   0%\n",
            "pyparsing-3.0.9      | 79 KB     | ########## | 100%\n",
            "\n",
            "tzcode-2022e         | 71 KB     |            |   0%\n",
            "tzcode-2022e         | 71 KB     | ########## | 100%\n",
            "\n",
            "typing_extensions-4. | 29 KB     |            |   0%\n",
            "typing_extensions-4. | 29 KB     | ########## | 100%\n",
            "\n",
            "cycler-0.11.0        | 10 KB     |            |   0%\n",
            "cycler-0.11.0        | 10 KB     | ########## | 100%\n",
            "\n",
            "tzlocal-4.2          | 31 KB     |            |   0%\n",
            "tzlocal-4.2          | 31 KB     | ########## | 100%\n",
            "\n",
            "c-blosc2-2.4.3       | 250 KB    |            |   0%\n",
            "c-blosc2-2.4.3       | 250 KB    | ########## | 100%\n",
            "\n",
            "ipython-7.33.0       | 1.1 MB    |            |   0%\n",
            "ipython-7.33.0       | 1.1 MB    | ########## | 100%\n",
            "ipython-7.33.0       | 1.1 MB    | ########## | 100%\n",
            "\n",
            "fastavro-1.6.1       | 464 KB    |            |   0%\n",
            "fastavro-1.6.1       | 464 KB    | ########## | 100%\n",
            "fastavro-1.6.1       | 464 KB    | ########## | 100%\n",
            "\n",
            "aws-sdk-cpp-1.9.160  | 4.6 MB    |            |   0%\n",
            "aws-sdk-cpp-1.9.160  | 4.6 MB    | ########## | 100%\n",
            "aws-sdk-cpp-1.9.160  | 4.6 MB    | ########## | 100%\n",
            "\n",
            "libcuml-21.12.00     | 222.9 MB  |            |   0%\n",
            "libcuml-21.12.00     | 222.9 MB  |            |   0%\n",
            "libcuml-21.12.00     | 222.9 MB  |            |   0%\n",
            "libcuml-21.12.00     | 222.9 MB  |            |   0%\n",
            "libcuml-21.12.00     | 222.9 MB  |            |   0%\n",
            "libcuml-21.12.00     | 222.9 MB  |            |   0%\n",
            "libcuml-21.12.00     | 222.9 MB  |            |   0%\n",
            "libcuml-21.12.00     | 222.9 MB  |            |   0%\n",
            "libcuml-21.12.00     | 222.9 MB  |            |   0%\n",
            "libcuml-21.12.00     | 222.9 MB  |            |   0%\n",
            "libcuml-21.12.00     | 222.9 MB  |            |   0%\n",
            "libcuml-21.12.00     | 222.9 MB  |            |   1%\n",
            "libcuml-21.12.00     | 222.9 MB  |            |   1%\n",
            "libcuml-21.12.00     | 222.9 MB  | 1          |   1%\n",
            "libcuml-21.12.00     | 222.9 MB  | 1          |   2%\n",
            "libcuml-21.12.00     | 222.9 MB  | 2          |   2%\n",
            "libcuml-21.12.00     | 222.9 MB  | 2          |   3%\n",
            "libcuml-21.12.00     | 222.9 MB  | 3          |   3%\n",
            "libcuml-21.12.00     | 222.9 MB  | 3          |   4%\n",
            "libcuml-21.12.00     | 222.9 MB  | 4          |   4%\n",
            "libcuml-21.12.00     | 222.9 MB  | 4          |   5%\n",
            "libcuml-21.12.00     | 222.9 MB  | 5          |   5%\n",
            "libcuml-21.12.00     | 222.9 MB  | 6          |   6%\n",
            "libcuml-21.12.00     | 222.9 MB  | 6          |   7%\n",
            "libcuml-21.12.00     | 222.9 MB  | 7          |   7%\n",
            "libcuml-21.12.00     | 222.9 MB  | 7          |   8%\n",
            "libcuml-21.12.00     | 222.9 MB  | 8          |   9%\n",
            "libcuml-21.12.00     | 222.9 MB  | 9          |   9%\n",
            "libcuml-21.12.00     | 222.9 MB  | 9          |  10%\n",
            "libcuml-21.12.00     | 222.9 MB  | #          |  10%\n",
            "libcuml-21.12.00     | 222.9 MB  | #          |  11%\n",
            "libcuml-21.12.00     | 222.9 MB  | #1         |  11%\n",
            "libcuml-21.12.00     | 222.9 MB  | #2         |  12%\n",
            "libcuml-21.12.00     | 222.9 MB  | #2         |  13%\n",
            "libcuml-21.12.00     | 222.9 MB  | #3         |  13%\n",
            "libcuml-21.12.00     | 222.9 MB  | #3         |  14%\n",
            "libcuml-21.12.00     | 222.9 MB  | #4         |  15%\n",
            "libcuml-21.12.00     | 222.9 MB  | #5         |  15%\n",
            "libcuml-21.12.00     | 222.9 MB  | #5         |  16%\n",
            "libcuml-21.12.00     | 222.9 MB  | #6         |  16%\n",
            "libcuml-21.12.00     | 222.9 MB  | #6         |  17%\n",
            "libcuml-21.12.00     | 222.9 MB  | #7         |  17%\n",
            "libcuml-21.12.00     | 222.9 MB  | #8         |  18%\n",
            "libcuml-21.12.00     | 222.9 MB  | #8         |  19%\n",
            "libcuml-21.12.00     | 222.9 MB  | #9         |  19%\n",
            "libcuml-21.12.00     | 222.9 MB  | #9         |  20%\n",
            "libcuml-21.12.00     | 222.9 MB  | ##         |  21%\n",
            "libcuml-21.12.00     | 222.9 MB  | ##1        |  21%\n",
            "libcuml-21.12.00     | 222.9 MB  | ##1        |  22%\n",
            "libcuml-21.12.00     | 222.9 MB  | ##2        |  22%\n",
            "libcuml-21.12.00     | 222.9 MB  | ##3        |  23%\n",
            "libcuml-21.12.00     | 222.9 MB  | ##3        |  24%\n",
            "libcuml-21.12.00     | 222.9 MB  | ##4        |  24%\n",
            "libcuml-21.12.00     | 222.9 MB  | ##4        |  25%\n",
            "libcuml-21.12.00     | 222.9 MB  | ##5        |  26%\n",
            "libcuml-21.12.00     | 222.9 MB  | ##6        |  26%\n",
            "libcuml-21.12.00     | 222.9 MB  | ##6        |  27%\n",
            "libcuml-21.12.00     | 222.9 MB  | ##7        |  27%\n",
            "libcuml-21.12.00     | 222.9 MB  | ##8        |  28%\n",
            "libcuml-21.12.00     | 222.9 MB  | ##8        |  29%\n",
            "libcuml-21.12.00     | 222.9 MB  | ##9        |  29%\n",
            "libcuml-21.12.00     | 222.9 MB  | ##9        |  30%\n",
            "libcuml-21.12.00     | 222.9 MB  | ###        |  30%\n",
            "libcuml-21.12.00     | 222.9 MB  | ###1       |  31%\n",
            "libcuml-21.12.00     | 222.9 MB  | ###1       |  32%\n",
            "libcuml-21.12.00     | 222.9 MB  | ###2       |  32%\n",
            "libcuml-21.12.00     | 222.9 MB  | ###2       |  33%\n",
            "libcuml-21.12.00     | 222.9 MB  | ###3       |  34%\n",
            "libcuml-21.12.00     | 222.9 MB  | ###4       |  34%\n",
            "libcuml-21.12.00     | 222.9 MB  | ###4       |  35%\n",
            "libcuml-21.12.00     | 222.9 MB  | ###5       |  35%\n",
            "libcuml-21.12.00     | 222.9 MB  | ###6       |  36%\n",
            "libcuml-21.12.00     | 222.9 MB  | ###6       |  37%\n",
            "libcuml-21.12.00     | 222.9 MB  | ###7       |  37%\n",
            "libcuml-21.12.00     | 222.9 MB  | ###8       |  38%\n",
            "libcuml-21.12.00     | 222.9 MB  | ###8       |  39%\n",
            "libcuml-21.12.00     | 222.9 MB  | ###9       |  39%\n",
            "libcuml-21.12.00     | 222.9 MB  | ###9       |  40%\n",
            "libcuml-21.12.00     | 222.9 MB  | ####       |  41%\n",
            "libcuml-21.12.00     | 222.9 MB  | ####1      |  41%\n",
            "libcuml-21.12.00     | 222.9 MB  | ####1      |  42%\n",
            "libcuml-21.12.00     | 222.9 MB  | ####2      |  42%\n",
            "libcuml-21.12.00     | 222.9 MB  | ####3      |  43%\n",
            "libcuml-21.12.00     | 222.9 MB  | ####3      |  44%\n",
            "libcuml-21.12.00     | 222.9 MB  | ####4      |  44%\n",
            "libcuml-21.12.00     | 222.9 MB  | ####4      |  45%\n",
            "libcuml-21.12.00     | 222.9 MB  | ####5      |  46%\n",
            "libcuml-21.12.00     | 222.9 MB  | ####6      |  46%\n",
            "libcuml-21.12.00     | 222.9 MB  | ####6      |  47%\n",
            "libcuml-21.12.00     | 222.9 MB  | ####7      |  47%\n",
            "libcuml-21.12.00     | 222.9 MB  | ####8      |  48%\n",
            "libcuml-21.12.00     | 222.9 MB  | ####8      |  49%\n",
            "libcuml-21.12.00     | 222.9 MB  | ####9      |  49%\n",
            "libcuml-21.12.00     | 222.9 MB  | ####9      |  50%\n",
            "libcuml-21.12.00     | 222.9 MB  | #####      |  51%\n",
            "libcuml-21.12.00     | 222.9 MB  | #####1     |  51%\n",
            "libcuml-21.12.00     | 222.9 MB  | #####1     |  52%\n",
            "libcuml-21.12.00     | 222.9 MB  | #####2     |  52%\n",
            "libcuml-21.12.00     | 222.9 MB  | #####3     |  53%\n",
            "libcuml-21.12.00     | 222.9 MB  | #####3     |  54%\n",
            "libcuml-21.12.00     | 222.9 MB  | #####4     |  54%\n",
            "libcuml-21.12.00     | 222.9 MB  | #####4     |  55%\n",
            "libcuml-21.12.00     | 222.9 MB  | #####5     |  56%\n",
            "libcuml-21.12.00     | 222.9 MB  | #####6     |  56%\n",
            "libcuml-21.12.00     | 222.9 MB  | #####6     |  57%\n",
            "libcuml-21.12.00     | 222.9 MB  | #####7     |  57%\n",
            "libcuml-21.12.00     | 222.9 MB  | #####8     |  58%\n",
            "libcuml-21.12.00     | 222.9 MB  | #####8     |  59%\n",
            "libcuml-21.12.00     | 222.9 MB  | #####9     |  59%\n",
            "libcuml-21.12.00     | 222.9 MB  | #####9     |  60%\n",
            "libcuml-21.12.00     | 222.9 MB  | ######     |  61%\n",
            "libcuml-21.12.00     | 222.9 MB  | ######1    |  61%\n",
            "libcuml-21.12.00     | 222.9 MB  | ######1    |  62%\n",
            "libcuml-21.12.00     | 222.9 MB  | ######2    |  62%\n",
            "libcuml-21.12.00     | 222.9 MB  | ######2    |  63%\n",
            "libcuml-21.12.00     | 222.9 MB  | ######3    |  64%\n",
            "libcuml-21.12.00     | 222.9 MB  | ######4    |  64%\n",
            "libcuml-21.12.00     | 222.9 MB  | ######4    |  65%\n",
            "libcuml-21.12.00     | 222.9 MB  | ######5    |  65%\n",
            "libcuml-21.12.00     | 222.9 MB  | ######6    |  66%\n",
            "libcuml-21.12.00     | 222.9 MB  | ######6    |  67%\n",
            "libcuml-21.12.00     | 222.9 MB  | ######7    |  67%\n",
            "libcuml-21.12.00     | 222.9 MB  | ######7    |  68%\n",
            "libcuml-21.12.00     | 222.9 MB  | ######8    |  69%\n",
            "libcuml-21.12.00     | 222.9 MB  | ######9    |  69%\n",
            "libcuml-21.12.00     | 222.9 MB  | ######9    |  70%\n",
            "libcuml-21.12.00     | 222.9 MB  | #######    |  70%\n",
            "libcuml-21.12.00     | 222.9 MB  | #######1   |  71%\n",
            "libcuml-21.12.00     | 222.9 MB  | #######1   |  72%\n",
            "libcuml-21.12.00     | 222.9 MB  | #######2   |  72%\n",
            "libcuml-21.12.00     | 222.9 MB  | #######2   |  73%\n",
            "libcuml-21.12.00     | 222.9 MB  | #######3   |  74%\n",
            "libcuml-21.12.00     | 222.9 MB  | #######4   |  74%\n",
            "libcuml-21.12.00     | 222.9 MB  | #######4   |  75%\n",
            "libcuml-21.12.00     | 222.9 MB  | #######5   |  75%\n",
            "libcuml-21.12.00     | 222.9 MB  | #######6   |  76%\n",
            "libcuml-21.12.00     | 222.9 MB  | #######6   |  77%\n",
            "libcuml-21.12.00     | 222.9 MB  | #######7   |  77%\n",
            "libcuml-21.12.00     | 222.9 MB  | #######7   |  78%\n",
            "libcuml-21.12.00     | 222.9 MB  | #######8   |  78%\n",
            "libcuml-21.12.00     | 222.9 MB  | #######9   |  79%\n",
            "libcuml-21.12.00     | 222.9 MB  | #######9   |  80%\n",
            "libcuml-21.12.00     | 222.9 MB  | ########   |  80%\n",
            "libcuml-21.12.00     | 222.9 MB  | ########   |  81%\n",
            "libcuml-21.12.00     | 222.9 MB  | ########1  |  82%\n",
            "libcuml-21.12.00     | 222.9 MB  | ########2  |  82%\n",
            "libcuml-21.12.00     | 222.9 MB  | ########2  |  83%\n",
            "libcuml-21.12.00     | 222.9 MB  | ########3  |  84%\n",
            "libcuml-21.12.00     | 222.9 MB  | ########4  |  84%\n",
            "libcuml-21.12.00     | 222.9 MB  | ########4  |  85%\n",
            "libcuml-21.12.00     | 222.9 MB  | ########5  |  86%\n",
            "libcuml-21.12.00     | 222.9 MB  | ########6  |  86%\n",
            "libcuml-21.12.00     | 222.9 MB  | ########6  |  87%\n",
            "libcuml-21.12.00     | 222.9 MB  | ########7  |  87%\n",
            "libcuml-21.12.00     | 222.9 MB  | ########7  |  88%\n",
            "libcuml-21.12.00     | 222.9 MB  | ########8  |  89%\n",
            "libcuml-21.12.00     | 222.9 MB  | ########9  |  89%\n",
            "libcuml-21.12.00     | 222.9 MB  | #########  |  90%\n",
            "libcuml-21.12.00     | 222.9 MB  | #########  |  91%\n",
            "libcuml-21.12.00     | 222.9 MB  | #########1 |  91%\n",
            "libcuml-21.12.00     | 222.9 MB  | #########1 |  92%\n",
            "libcuml-21.12.00     | 222.9 MB  | #########2 |  93%\n",
            "libcuml-21.12.00     | 222.9 MB  | #########3 |  94%\n",
            "libcuml-21.12.00     | 222.9 MB  | #########5 |  95%\n",
            "libcuml-21.12.00     | 222.9 MB  | #########6 |  96%\n",
            "libcuml-21.12.00     | 222.9 MB  | #########7 |  98%\n",
            "libcuml-21.12.00     | 222.9 MB  | #########8 |  99%\n",
            "libcuml-21.12.00     | 222.9 MB  | ########## | 100%\n",
            "libcuml-21.12.00     | 222.9 MB  | ########## | 100%\n",
            "\n",
            "libllvm11-11.1.0     | 28.8 MB   |            |   0%\n",
            "libllvm11-11.1.0     | 28.8 MB   | #5         |  16%\n",
            "libllvm11-11.1.0     | 28.8 MB   | #####6     |  56%\n",
            "libllvm11-11.1.0     | 28.8 MB   | ########6  |  87%\n",
            "libllvm11-11.1.0     | 28.8 MB   | ########## | 100%\n",
            "\n",
            "yarl-1.7.2           | 132 KB    |            |   0%\n",
            "yarl-1.7.2           | 132 KB    | ########## | 100%\n",
            "\n",
            "distributed-2021.11. | 1.1 MB    |            |   0%\n",
            "distributed-2021.11. | 1.1 MB    | ########## | 100%\n",
            "distributed-2021.11. | 1.1 MB    | ########## | 100%\n",
            "\n",
            "pyarrow-5.0.0        | 2.6 MB    |            |   0%\n",
            "pyarrow-5.0.0        | 2.6 MB    | ########## | 100%\n",
            "pyarrow-5.0.0        | 2.6 MB    | ########## | 100%\n",
            "\n",
            "libcudf_kafka-21.12. | 126 KB    |            |   0%\n",
            "libcudf_kafka-21.12. | 126 KB    | #2         |  13%\n",
            "libcudf_kafka-21.12. | 126 KB    | ###8       |  38%\n",
            "libcudf_kafka-21.12. | 126 KB    | #######6   |  76%\n",
            "libcudf_kafka-21.12. | 126 KB    | ########## | 100%\n",
            "\n",
            "google-cloud-storage | 74 KB     |            |   0%\n",
            "google-cloud-storage | 74 KB     | ########## | 100%\n",
            "\n",
            "scikit-learn-1.0.2   | 7.8 MB    |            |   0%\n",
            "scikit-learn-1.0.2   | 7.8 MB    | ########## | 100%\n",
            "scikit-learn-1.0.2   | 7.8 MB    | ########## | 100%\n",
            "\n",
            "jupyterlab_widgets-3 | 222 KB    |            |   0%\n",
            "jupyterlab_widgets-3 | 222 KB    | ########## | 100%\n",
            "\n",
            "libfaiss-1.7.0       | 98.5 MB   |            |   0%\n",
            "libfaiss-1.7.0       | 98.5 MB   | 5          |   5%\n",
            "libfaiss-1.7.0       | 98.5 MB   | #          |  10%\n",
            "libfaiss-1.7.0       | 98.5 MB   | ##4        |  24%\n",
            "libfaiss-1.7.0       | 98.5 MB   | ###8       |  39%\n",
            "libfaiss-1.7.0       | 98.5 MB   | #####2     |  52%\n",
            "libfaiss-1.7.0       | 98.5 MB   | ######4    |  64%\n",
            "libfaiss-1.7.0       | 98.5 MB   | #######4   |  75%\n",
            "libfaiss-1.7.0       | 98.5 MB   | ########9  |  90%\n",
            "libfaiss-1.7.0       | 98.5 MB   | ########## | 100%\n",
            "\n",
            "cuspatial-21.12.00   | 15.9 MB   |            |   0%\n",
            "cuspatial-21.12.00   | 15.9 MB   |            |   0%\n",
            "cuspatial-21.12.00   | 15.9 MB   |            |   0%\n",
            "cuspatial-21.12.00   | 15.9 MB   |            |   1%\n",
            "cuspatial-21.12.00   | 15.9 MB   | 1          |   1%\n",
            "cuspatial-21.12.00   | 15.9 MB   | 2          |   3%\n",
            "cuspatial-21.12.00   | 15.9 MB   | 5          |   6%\n",
            "cuspatial-21.12.00   | 15.9 MB   | #1         |  11%\n",
            "cuspatial-21.12.00   | 15.9 MB   | ##2        |  23%\n",
            "cuspatial-21.12.00   | 15.9 MB   | ###9       |  40%\n",
            "cuspatial-21.12.00   | 15.9 MB   | #####6     |  57%\n",
            "cuspatial-21.12.00   | 15.9 MB   | #######2   |  72%\n",
            "cuspatial-21.12.00   | 15.9 MB   | ########8  |  88%\n",
            "cuspatial-21.12.00   | 15.9 MB   | ########## | 100%\n",
            "cuspatial-21.12.00   | 15.9 MB   | ########## | 100%\n",
            "\n",
            "font-ttf-source-code | 684 KB    |            |   0%\n",
            "font-ttf-source-code | 684 KB    | ########## | 100%\n",
            "font-ttf-source-code | 684 KB    | ########## | 100%\n",
            "\n",
            "libsodium-1.0.18     | 366 KB    |            |   0%\n",
            "libsodium-1.0.18     | 366 KB    | ########## | 100%\n",
            "\n",
            "dask-cuda-21.12.00   | 123 KB    |            |   0%\n",
            "dask-cuda-21.12.00   | 123 KB    | #2         |  13%\n",
            "dask-cuda-21.12.00   | 123 KB    | ########## | 100%\n",
            "\n",
            "libhwloc-2.3.0       | 2.7 MB    |            |   0%\n",
            "libhwloc-2.3.0       | 2.7 MB    | ########## | 100%\n",
            "libhwloc-2.3.0       | 2.7 MB    | ########## | 100%\n",
            "\n",
            "partd-1.3.0          | 18 KB     |            |   0%\n",
            "partd-1.3.0          | 18 KB     | ########## | 100%\n",
            "\n",
            "ipykernel-6.16.2     | 100 KB    |            |   0%\n",
            "ipykernel-6.16.2     | 100 KB    | ########## | 100%\n",
            "\n",
            "pydantic-1.10.2      | 2.4 MB    |            |   0%\n",
            "pydantic-1.10.2      | 2.4 MB    | ########## | 100%\n",
            "pydantic-1.10.2      | 2.4 MB    | ########## | 100%\n",
            "\n",
            "libblas-3.9.0        | 13 KB     |            |   0%\n",
            "libblas-3.9.0        | 13 KB     | ########## | 100%\n",
            "\n",
            "brotli-bin-1.0.9     | 20 KB     |            |   0%\n",
            "brotli-bin-1.0.9     | 20 KB     | ########## | 100%\n",
            "\n",
            "libwebp-base-1.2.2   | 824 KB    |            |   0%\n",
            "libwebp-base-1.2.2   | 824 KB    | ########## | 100%\n",
            "libwebp-base-1.2.2   | 824 KB    | ########## | 100%\n",
            "\n",
            "freetype-2.12.1      | 884 KB    |            |   0%\n",
            "freetype-2.12.1      | 884 KB    | ########## | 100%\n",
            "freetype-2.12.1      | 884 KB    | ########## | 100%\n",
            "\n",
            "send2trash-1.8.0     | 17 KB     |            |   0%\n",
            "send2trash-1.8.0     | 17 KB     | ########## | 100%\n",
            "\n",
            "jedi-0.18.1          | 799 KB    |            |   0%\n",
            "jedi-0.18.1          | 799 KB    | ########## | 100%\n",
            "jedi-0.18.1          | 799 KB    | ########## | 100%\n",
            "\n",
            "packaging-21.3       | 36 KB     |            |   0%\n",
            "packaging-21.3       | 36 KB     | ########## | 100%\n",
            "\n",
            "lerc-3.0             | 216 KB    |            |   0%\n",
            "lerc-3.0             | 216 KB    | ########## | 100%\n",
            "\n",
            "cupy-9.6.0           | 51.5 MB   |            |   0%\n",
            "cupy-9.6.0           | 51.5 MB   | #7         |  17%\n",
            "cupy-9.6.0           | 51.5 MB   | ###4       |  34%\n",
            "cupy-9.6.0           | 51.5 MB   | #####3     |  54%\n",
            "cupy-9.6.0           | 51.5 MB   | ######6    |  67%\n",
            "cupy-9.6.0           | 51.5 MB   | ########6  |  86%\n",
            "cupy-9.6.0           | 51.5 MB   | ########## | 100%\n",
            "cupy-9.6.0           | 51.5 MB   | ########## | 100%\n",
            "\n",
            "cudf-21.12.02        | 12.6 MB   |            |   0%\n",
            "cudf-21.12.02        | 12.6 MB   |            |   0%\n",
            "cudf-21.12.02        | 12.6 MB   |            |   0%\n",
            "cudf-21.12.02        | 12.6 MB   |            |   0%\n",
            "cudf-21.12.02        | 12.6 MB   |            |   0%\n",
            "cudf-21.12.02        | 12.6 MB   |            |   1%\n",
            "cudf-21.12.02        | 12.6 MB   |            |   1%\n",
            "cudf-21.12.02        | 12.6 MB   |            |   1%\n",
            "cudf-21.12.02        | 12.6 MB   |            |   1%\n",
            "cudf-21.12.02        | 12.6 MB   | 1          |   1%\n",
            "cudf-21.12.02        | 12.6 MB   | 1          |   1%\n",
            "cudf-21.12.02        | 12.6 MB   | 1          |   1%\n",
            "cudf-21.12.02        | 12.6 MB   | 1          |   1%\n",
            "cudf-21.12.02        | 12.6 MB   | 1          |   2%\n",
            "cudf-21.12.02        | 12.6 MB   | 1          |   2%\n",
            "cudf-21.12.02        | 12.6 MB   | 2          |   2%\n",
            "cudf-21.12.02        | 12.6 MB   | 2          |   3%\n",
            "cudf-21.12.02        | 12.6 MB   | 3          |   3%\n",
            "cudf-21.12.02        | 12.6 MB   | 3          |   3%\n",
            "cudf-21.12.02        | 12.6 MB   | 3          |   4%\n",
            "cudf-21.12.02        | 12.6 MB   | 4          |   5%\n",
            "cudf-21.12.02        | 12.6 MB   | 5          |   5%\n",
            "cudf-21.12.02        | 12.6 MB   | 5          |   6%\n",
            "cudf-21.12.02        | 12.6 MB   | 6          |   7%\n",
            "cudf-21.12.02        | 12.6 MB   | 7          |   8%\n",
            "cudf-21.12.02        | 12.6 MB   | 8          |   9%\n",
            "cudf-21.12.02        | 12.6 MB   | #          |  10%\n",
            "cudf-21.12.02        | 12.6 MB   | #1         |  11%\n",
            "cudf-21.12.02        | 12.6 MB   | #2         |  13%\n",
            "cudf-21.12.02        | 12.6 MB   | #4         |  14%\n",
            "cudf-21.12.02        | 12.6 MB   | #6         |  16%\n",
            "cudf-21.12.02        | 12.6 MB   | #7         |  18%\n",
            "cudf-21.12.02        | 12.6 MB   | #9         |  20%\n",
            "cudf-21.12.02        | 12.6 MB   | ##2        |  22%\n",
            "cudf-21.12.02        | 12.6 MB   | ##4        |  24%\n",
            "cudf-21.12.02        | 12.6 MB   | ##7        |  27%\n",
            "cudf-21.12.02        | 12.6 MB   | ###        |  30%\n",
            "cudf-21.12.02        | 12.6 MB   | ###2       |  33%\n",
            "cudf-21.12.02        | 12.6 MB   | ###6       |  36%\n",
            "cudf-21.12.02        | 12.6 MB   | ###9       |  40%\n",
            "cudf-21.12.02        | 12.6 MB   | ####3      |  44%\n",
            "cudf-21.12.02        | 12.6 MB   | ####7      |  48%\n",
            "cudf-21.12.02        | 12.6 MB   | ####9      |  50%\n",
            "cudf-21.12.02        | 12.6 MB   | #####2     |  52%\n",
            "cudf-21.12.02        | 12.6 MB   | #####6     |  57%\n",
            "cudf-21.12.02        | 12.6 MB   | ######1    |  62%\n",
            "cudf-21.12.02        | 12.6 MB   | ######7    |  67%\n",
            "cudf-21.12.02        | 12.6 MB   | #######3   |  73%\n",
            "cudf-21.12.02        | 12.6 MB   | #######8   |  79%\n",
            "cudf-21.12.02        | 12.6 MB   | ########5  |  85%\n",
            "cudf-21.12.02        | 12.6 MB   | ########8  |  88%\n",
            "cudf-21.12.02        | 12.6 MB   | #########2 |  92%\n",
            "cudf-21.12.02        | 12.6 MB   | #########9 | 100%\n",
            "cudf-21.12.02        | 12.6 MB   | ########## | 100%\n",
            "\n",
            "openjdk-11.0.9.1     | 173.5 MB  |            |   0%\n",
            "openjdk-11.0.9.1     | 173.5 MB  | 3          |   3%\n",
            "openjdk-11.0.9.1     | 173.5 MB  | #          |  10%\n",
            "openjdk-11.0.9.1     | 173.5 MB  | #5         |  16%\n",
            "openjdk-11.0.9.1     | 173.5 MB  | #9         |  20%\n",
            "openjdk-11.0.9.1     | 173.5 MB  | ##6        |  26%\n",
            "openjdk-11.0.9.1     | 173.5 MB  | ###1       |  32%\n",
            "openjdk-11.0.9.1     | 173.5 MB  | ###8       |  38%\n",
            "openjdk-11.0.9.1     | 173.5 MB  | ####4      |  45%\n",
            "openjdk-11.0.9.1     | 173.5 MB  | #####2     |  53%\n",
            "openjdk-11.0.9.1     | 173.5 MB  | ######1    |  62%\n",
            "openjdk-11.0.9.1     | 173.5 MB  | ######9    |  69%\n",
            "openjdk-11.0.9.1     | 173.5 MB  | #######6   |  77%\n",
            "openjdk-11.0.9.1     | 173.5 MB  | ########3  |  84%\n",
            "openjdk-11.0.9.1     | 173.5 MB  | #########1 |  92%\n",
            "openjdk-11.0.9.1     | 173.5 MB  | #########8 |  99%\n",
            "openjdk-11.0.9.1     | 173.5 MB  | ########## | 100%\n",
            "\n",
            "giflib-5.2.1         | 77 KB     |            |   0%\n",
            "giflib-5.2.1         | 77 KB     | ########## | 100%\n",
            "\n",
            "importlib_metadata-4 | 4 KB      |            |   0%\n",
            "importlib_metadata-4 | 4 KB      | ########## | 100%\n",
            "\n",
            "libcuspatial-21.12.0 | 6.4 MB    |            |   0%\n",
            "libcuspatial-21.12.0 | 6.4 MB    |            |   0%\n",
            "libcuspatial-21.12.0 | 6.4 MB    |            |   1%\n",
            "libcuspatial-21.12.0 | 6.4 MB    | 1          |   1%\n",
            "libcuspatial-21.12.0 | 6.4 MB    | 3          |   3%\n",
            "libcuspatial-21.12.0 | 6.4 MB    | 6          |   7%\n",
            "libcuspatial-21.12.0 | 6.4 MB    | #3         |  14%\n",
            "libcuspatial-21.12.0 | 6.4 MB    | ##7        |  28%\n",
            "libcuspatial-21.12.0 | 6.4 MB    | #####5     |  56%\n",
            "libcuspatial-21.12.0 | 6.4 MB    | #########6 |  96%\n",
            "libcuspatial-21.12.0 | 6.4 MB    | ########## | 100%\n",
            "\n",
            "pillow-9.1.1         | 44.6 MB   |            |   0%\n",
            "pillow-9.1.1         | 44.6 MB   | #5         |  16%\n",
            "pillow-9.1.1         | 44.6 MB   | ####5      |  45%\n",
            "pillow-9.1.1         | 44.6 MB   | ######9    |  69%\n",
            "pillow-9.1.1         | 44.6 MB   | #########5 |  96%\n",
            "pillow-9.1.1         | 44.6 MB   | ########## | 100%\n",
            "\n",
            "psutil-5.9.3         | 348 KB    |            |   0%\n",
            "psutil-5.9.3         | 348 KB    | ########## | 100%\n",
            "\n",
            "pickle5-0.0.12       | 173 KB    |            |   0%\n",
            "pickle5-0.0.12       | 173 KB    | ########## | 100%\n",
            "\n",
            "xerces-c-3.2.3       | 1.8 MB    |            |   0%\n",
            "xerces-c-3.2.3       | 1.8 MB    | ########## | 100%\n",
            "xerces-c-3.2.3       | 1.8 MB    | ########## | 100%\n",
            "\n",
            "grpc-cpp-1.42.0      | 4.0 MB    |            |   0%\n",
            "grpc-cpp-1.42.0      | 4.0 MB    | ########## | 100%\n",
            "grpc-cpp-1.42.0      | 4.0 MB    | ########## | 100%\n",
            "\n",
            "aws-c-auth-0.6.8     | 94 KB     |            |   0%\n",
            "aws-c-auth-0.6.8     | 94 KB     | ########## | 100%\n",
            "\n",
            "frozenlist-1.3.1     | 44 KB     |            |   0%\n",
            "frozenlist-1.3.1     | 44 KB     | ########## | 100%\n",
            "\n",
            "mapclassify-2.4.3    | 36 KB     |            |   0%\n",
            "mapclassify-2.4.3    | 36 KB     | ########## | 100%\n",
            "\n",
            "matplotlib-inline-0. | 12 KB     |            |   0%\n",
            "matplotlib-inline-0. | 12 KB     | ########## | 100%\n",
            "\n",
            "xorg-fixesproto-5.0  | 9 KB      |            |   0%\n",
            "xorg-fixesproto-5.0  | 9 KB      | ########## | 100%\n",
            "\n",
            "freexl-1.0.6         | 48 KB     |            |   0%\n",
            "freexl-1.0.6         | 48 KB     | ########## | 100%\n",
            "\n",
            "fiona-1.8.20         | 1.1 MB    |            |   0%\n",
            "fiona-1.8.20         | 1.1 MB    | ########## | 100%\n",
            "fiona-1.8.20         | 1.1 MB    | ########## | 100%\n",
            "\n",
            "dask-2021.11.2       | 5 KB      |            |   0%\n",
            "dask-2021.11.2       | 5 KB      | ########## | 100%\n",
            "\n",
            "gflags-2.2.2         | 114 KB    |            |   0%\n",
            "gflags-2.2.2         | 114 KB    | ########## | 100%\n",
            "\n",
            "libbrotlidec-1.0.9   | 33 KB     |            |   0%\n",
            "libbrotlidec-1.0.9   | 33 KB     | ########## | 100%\n",
            "\n",
            "libthrift-0.15.0     | 4.6 MB    |            |   0%\n",
            "libthrift-0.15.0     | 4.6 MB    | ########## | 100%\n",
            "libthrift-0.15.0     | 4.6 MB    | ########## | 100%\n",
            "\n",
            "libzopfli-1.0.3      | 164 KB    |            |   0%\n",
            "libzopfli-1.0.3      | 164 KB    | ########## | 100%\n",
            "\n",
            "numba-0.56.3         | 4.0 MB    |            |   0%\n",
            "numba-0.56.3         | 4.0 MB    | ########## | 100%\n",
            "numba-0.56.3         | 4.0 MB    | ########## | 100%\n",
            "\n",
            "xorg-xextproto-7.3.0 | 28 KB     |            |   0%\n",
            "xorg-xextproto-7.3.0 | 28 KB     | ########## | 100%\n",
            "\n",
            "requests-oauthlib-1. | 22 KB     |            |   0%\n",
            "requests-oauthlib-1. | 22 KB     | ########## | 100%\n",
            "\n",
            "pyppeteer-1.0.2      | 63 KB     |            |   0%\n",
            "pyppeteer-1.0.2      | 63 KB     | ########## | 100%\n",
            "\n",
            "libgfortran5-12.2.0  | 1.8 MB    |            |   0%\n",
            "libgfortran5-12.2.0  | 1.8 MB    | ########## | 100%\n",
            "libgfortran5-12.2.0  | 1.8 MB    | ########## | 100%\n",
            "\n",
            "libcrc32c-1.1.2      | 20 KB     |            |   0%\n",
            "libcrc32c-1.1.2      | 20 KB     | ########## | 100%\n",
            "\n",
            "libzip-1.9.2         | 97 KB     |            |   0%\n",
            "libzip-1.9.2         | 97 KB     | ########## | 100%\n",
            "\n",
            "pthread-stubs-0.4    | 5 KB      |            |   0%\n",
            "pthread-stubs-0.4    | 5 KB      | ########## | 100%\n",
            "\n",
            "xgboost-1.5.0dev.rap | 17 KB     |            |   0%\n",
            "xgboost-1.5.0dev.rap | 17 KB     | #########2 |  93%\n",
            "xgboost-1.5.0dev.rap | 17 KB     | ########## | 100%\n",
            "\n",
            "libopenblas-0.3.21   | 10.1 MB   |            |   0%\n",
            "libopenblas-0.3.21   | 10.1 MB   | ########## | 100%\n",
            "libopenblas-0.3.21   | 10.1 MB   | ########## | 100%\n",
            "\n",
            "libutf8proc-2.7.0    | 98 KB     |            |   0%\n",
            "libutf8proc-2.7.0    | 98 KB     | ########## | 100%\n",
            "\n",
            "param-1.12.2         | 72 KB     |            |   0%\n",
            "param-1.12.2         | 72 KB     | ########## | 100%\n",
            "\n",
            "cugraph-21.12.00     | 7.2 MB    |            |   0%\n",
            "cugraph-21.12.00     | 7.2 MB    |            |   0%\n",
            "cugraph-21.12.00     | 7.2 MB    |            |   0%\n",
            "cugraph-21.12.00     | 7.2 MB    |            |   1%\n",
            "cugraph-21.12.00     | 7.2 MB    | 1          |   2%\n",
            "cugraph-21.12.00     | 7.2 MB    | 2          |   2%\n",
            "cugraph-21.12.00     | 7.2 MB    | 3          |   3%\n",
            "cugraph-21.12.00     | 7.2 MB    | 3          |   4%\n",
            "cugraph-21.12.00     | 7.2 MB    | 4          |   5%\n",
            "cugraph-21.12.00     | 7.2 MB    | 5          |   6%\n",
            "cugraph-21.12.00     | 7.2 MB    | 6          |   7%\n",
            "cugraph-21.12.00     | 7.2 MB    | 7          |   8%\n",
            "cugraph-21.12.00     | 7.2 MB    | 8          |   9%\n",
            "cugraph-21.12.00     | 7.2 MB    | 9          |  10%\n",
            "cugraph-21.12.00     | 7.2 MB    | #          |  11%\n",
            "cugraph-21.12.00     | 7.2 MB    | #2         |  12%\n",
            "cugraph-21.12.00     | 7.2 MB    | #3         |  13%\n",
            "cugraph-21.12.00     | 7.2 MB    | #4         |  15%\n",
            "cugraph-21.12.00     | 7.2 MB    | #5         |  16%\n",
            "cugraph-21.12.00     | 7.2 MB    | #7         |  17%\n",
            "cugraph-21.12.00     | 7.2 MB    | #9         |  19%\n",
            "cugraph-21.12.00     | 7.2 MB    | ##         |  21%\n",
            "cugraph-21.12.00     | 7.2 MB    | ##2        |  22%\n",
            "cugraph-21.12.00     | 7.2 MB    | ##4        |  24%\n",
            "cugraph-21.12.00     | 7.2 MB    | ##5        |  26%\n",
            "cugraph-21.12.00     | 7.2 MB    | ##7        |  28%\n",
            "cugraph-21.12.00     | 7.2 MB    | ##9        |  30%\n",
            "cugraph-21.12.00     | 7.2 MB    | ###1       |  32%\n",
            "cugraph-21.12.00     | 7.2 MB    | ###4       |  34%\n",
            "cugraph-21.12.00     | 7.2 MB    | ###6       |  37%\n",
            "cugraph-21.12.00     | 7.2 MB    | ###9       |  39%\n",
            "cugraph-21.12.00     | 7.2 MB    | ####1      |  42%\n",
            "cugraph-21.12.00     | 7.2 MB    | ####5      |  45%\n",
            "cugraph-21.12.00     | 7.2 MB    | ####8      |  48%\n",
            "cugraph-21.12.00     | 7.2 MB    | #####1     |  52%\n",
            "cugraph-21.12.00     | 7.2 MB    | #####5     |  56%\n",
            "cugraph-21.12.00     | 7.2 MB    | #####9     |  60%\n",
            "cugraph-21.12.00     | 7.2 MB    | ######4    |  64%\n",
            "cugraph-21.12.00     | 7.2 MB    | ######9    |  69%\n",
            "cugraph-21.12.00     | 7.2 MB    | #######4   |  74%\n",
            "cugraph-21.12.00     | 7.2 MB    | #######9   |  80%\n",
            "cugraph-21.12.00     | 7.2 MB    | ########5  |  86%\n",
            "cugraph-21.12.00     | 7.2 MB    | #########1 |  92%\n",
            "cugraph-21.12.00     | 7.2 MB    | #########8 |  99%\n",
            "cugraph-21.12.00     | 7.2 MB    | ########## | 100%\n",
            "\n",
            "xorg-libxext-1.3.4   | 54 KB     |            |   0%\n",
            "xorg-libxext-1.3.4   | 54 KB     | ########## | 100%\n",
            "\n",
            "s2n-1.3.0            | 483 KB    |            |   0%\n",
            "s2n-1.3.0            | 483 KB    | ########## | 100%\n",
            "\n",
            "blosc-1.21.1         | 47 KB     |            |   0%\n",
            "blosc-1.21.1         | 47 KB     | ########## | 100%\n",
            "\n",
            "xorg-recordproto-1.1 | 8 KB      |            |   0%\n",
            "xorg-recordproto-1.1 | 8 KB      | ########## | 100%\n",
            "\n",
            "xorg-libxrender-0.9. | 32 KB     |            |   0%\n",
            "xorg-libxrender-0.9. | 32 KB     | ########## | 100%\n",
            "\n",
            "pkgutil-resolve-name | 9 KB      |            |   0%\n",
            "pkgutil-resolve-name | 9 KB      | ########## | 100%\n",
            "\n",
            "nest-asyncio-1.5.6   | 10 KB     |            |   0%\n",
            "nest-asyncio-1.5.6   | 10 KB     | ########## | 100%\n",
            "\n",
            "protobuf-3.19.4      | 337 KB    |            |   0%\n",
            "protobuf-3.19.4      | 337 KB    | ########## | 100%\n",
            "\n",
            "numpy-1.21.6         | 6.1 MB    |            |   0%\n",
            "numpy-1.21.6         | 6.1 MB    | ########## | 100%\n",
            "numpy-1.21.6         | 6.1 MB    | ########## | 100%\n",
            "\n",
            "snappy-1.1.9         | 35 KB     |            |   0%\n",
            "snappy-1.1.9         | 35 KB     | ########## | 100%\n",
            "\n",
            "argon2-cffi-bindings | 34 KB     |            |   0%\n",
            "argon2-cffi-bindings | 34 KB     | ########## | 100%\n",
            "\n",
            "libbrotlienc-1.0.9   | 288 KB    |            |   0%\n",
            "libbrotlienc-1.0.9   | 288 KB    | ########## | 100%\n",
            "\n",
            "panel-0.12.4         | 9.8 MB    |            |   0%\n",
            "panel-0.12.4         | 9.8 MB    | ########2  |  82%\n",
            "panel-0.12.4         | 9.8 MB    | ########## | 100%\n",
            "\n",
            "matplotlib-base-3.5. | 7.3 MB    |            |   0%\n",
            "matplotlib-base-3.5. | 7.3 MB    | ########## | 100%\n",
            "matplotlib-base-3.5. | 7.3 MB    | ########## | 100%\n",
            "\n",
            "asynctest-0.13.0     | 24 KB     |            |   0%\n",
            "asynctest-0.13.0     | 24 KB     | ########## | 100%\n",
            "\n",
            "libcucim-21.12.00    | 2.8 MB    |            |   0%\n",
            "libcucim-21.12.00    | 2.8 MB    |            |   1%\n",
            "libcucim-21.12.00    | 2.8 MB    | 1          |   2%\n",
            "libcucim-21.12.00    | 2.8 MB    | 2          |   3%\n",
            "libcucim-21.12.00    | 2.8 MB    | 3          |   4%\n",
            "libcucim-21.12.00    | 2.8 MB    | 5          |   5%\n",
            "libcucim-21.12.00    | 2.8 MB    | 7          |   7%\n",
            "libcucim-21.12.00    | 2.8 MB    | #1         |  11%\n",
            "libcucim-21.12.00    | 2.8 MB    | #5         |  15%\n",
            "libcucim-21.12.00    | 2.8 MB    | ##2        |  23%\n",
            "libcucim-21.12.00    | 2.8 MB    | ###        |  31%\n",
            "libcucim-21.12.00    | 2.8 MB    | ####5      |  46%\n",
            "libcucim-21.12.00    | 2.8 MB    | ######2    |  63%\n",
            "libcucim-21.12.00    | 2.8 MB    | #########2 |  92%\n",
            "libcucim-21.12.00    | 2.8 MB    | ########## | 100%\n",
            "\n",
            "google-crc32c-1.1.2  | 24 KB     |            |   0%\n",
            "google-crc32c-1.1.2  | 24 KB     | ########## | 100%\n",
            "\n",
            "librmm-21.12.00      | 688 KB    |            |   0%\n",
            "librmm-21.12.00      | 688 KB    | 2          |   2%\n",
            "librmm-21.12.00      | 688 KB    | ########## | 100%\n",
            "librmm-21.12.00      | 688 KB    | ########## | 100%\n",
            "\n",
            "starlette-0.20.4     | 48 KB     |            |   0%\n",
            "starlette-0.20.4     | 48 KB     | ########## | 100%\n",
            "\n",
            "libcusolver-11.4.1.4 | 96.5 MB   |            |   0%\n",
            "libcusolver-11.4.1.4 | 96.5 MB   | ########## | 100%\n",
            "libcusolver-11.4.1.4 | 96.5 MB   | ########## | 100%\n",
            "\n",
            "cuml-21.12.00        | 9.4 MB    |            |   0%\n",
            "cuml-21.12.00        | 9.4 MB    |            |   0%\n",
            "cuml-21.12.00        | 9.4 MB    |            |   0%\n",
            "cuml-21.12.00        | 9.4 MB    |            |   1%\n",
            "cuml-21.12.00        | 9.4 MB    | 2          |   2%\n",
            "cuml-21.12.00        | 9.4 MB    | 2          |   3%\n",
            "cuml-21.12.00        | 9.4 MB    | 4          |   4%\n",
            "cuml-21.12.00        | 9.4 MB    | 5          |   5%\n",
            "cuml-21.12.00        | 9.4 MB    | 9          |   9%\n",
            "cuml-21.12.00        | 9.4 MB    | #          |  11%\n",
            "cuml-21.12.00        | 9.4 MB    | #8         |  18%\n",
            "cuml-21.12.00        | 9.4 MB    | ##1        |  21%\n",
            "cuml-21.12.00        | 9.4 MB    | ###6       |  37%\n",
            "cuml-21.12.00        | 9.4 MB    | ####2      |  43%\n",
            "cuml-21.12.00        | 9.4 MB    | ######2    |  63%\n",
            "cuml-21.12.00        | 9.4 MB    | #######2   |  72%\n",
            "cuml-21.12.00        | 9.4 MB    | ########6  |  86%\n",
            "cuml-21.12.00        | 9.4 MB    | #########7 |  97%\n",
            "cuml-21.12.00        | 9.4 MB    | ########## | 100%\n",
            "\n",
            "ucx-py-0.23.0        | 353 KB    |            |   0%\n",
            "ucx-py-0.23.0        | 353 KB    | 4          |   5%\n",
            "ucx-py-0.23.0        | 353 KB    | ########## | 100%\n",
            "\n",
            "ucx-1.11.2+gef2bbcf  | 11.9 MB   |            |   0%\n",
            "ucx-1.11.2+gef2bbcf  | 11.9 MB   |            |   0%\n",
            "ucx-1.11.2+gef2bbcf  | 11.9 MB   | ##5        |  25%\n",
            "ucx-1.11.2+gef2bbcf  | 11.9 MB   | ####       |  41%\n",
            "ucx-1.11.2+gef2bbcf  | 11.9 MB   | ######2    |  62%\n",
            "ucx-1.11.2+gef2bbcf  | 11.9 MB   | ########3  |  84%\n",
            "ucx-1.11.2+gef2bbcf  | 11.9 MB   | ########## | 100%\n",
            "ucx-1.11.2+gef2bbcf  | 11.9 MB   | ########## | 100%\n",
            "\n",
            "nbformat-5.7.0       | 106 KB    |            |   0%\n",
            "nbformat-5.7.0       | 106 KB    | ########## | 100%\n",
            "\n",
            "poppler-data-0.4.11  | 3.6 MB    |            |   0%\n",
            "poppler-data-0.4.11  | 3.6 MB    | ########## | 100%\n",
            "poppler-data-0.4.11  | 3.6 MB    | ########## | 100%\n",
            "\n",
            "zipp-3.10.0          | 14 KB     |            |   0%\n",
            "zipp-3.10.0          | 14 KB     | ########## | 100%\n",
            "\n",
            "libevent-2.1.10      | 1.1 MB    |            |   0%\n",
            "libevent-2.1.10      | 1.1 MB    | ########## | 100%\n",
            "libevent-2.1.10      | 1.1 MB    | ########## | 100%\n",
            "\n",
            "munkres-1.1.4        | 12 KB     |            |   0%\n",
            "munkres-1.1.4        | 12 KB     | ########## | 100%\n",
            "\n",
            "fonts-conda-forge-1  | 4 KB      |            |   0%\n",
            "fonts-conda-forge-1  | 4 KB      | ########## | 100%\n",
            "\n",
            "pyasn1-0.4.8         | 53 KB     |            |   0%\n",
            "pyasn1-0.4.8         | 53 KB     | ########## | 100%\n",
            "\n",
            "traitlets-5.5.0      | 85 KB     |            |   0%\n",
            "traitlets-5.5.0      | 85 KB     | ########## | 100%\n",
            "\n",
            "streamz-0.6.4        | 63 KB     |            |   0%\n",
            "streamz-0.6.4        | 63 KB     | ########## | 100%\n",
            "\n",
            "postgresql-13.5      | 5.3 MB    |            |   0%\n",
            "postgresql-13.5      | 5.3 MB    | ########## | 100%\n",
            "postgresql-13.5      | 5.3 MB    | ########## | 100%\n",
            "\n",
            "libxgboost-1.5.0dev. | 128.2 MB  |            |   0%\n",
            "libxgboost-1.5.0dev. | 128.2 MB  |            |   0%\n",
            "libxgboost-1.5.0dev. | 128.2 MB  | 2          |   2%\n",
            "libxgboost-1.5.0dev. | 128.2 MB  | 3          |   4%\n",
            "libxgboost-1.5.0dev. | 128.2 MB  | 5          |   6%\n",
            "libxgboost-1.5.0dev. | 128.2 MB  | 7          |   8%\n",
            "libxgboost-1.5.0dev. | 128.2 MB  | 9          |  10%\n",
            "libxgboost-1.5.0dev. | 128.2 MB  | #1         |  11%\n",
            "libxgboost-1.5.0dev. | 128.2 MB  | #3         |  13%\n",
            "libxgboost-1.5.0dev. | 128.2 MB  | #4         |  15%\n",
            "libxgboost-1.5.0dev. | 128.2 MB  | #6         |  17%\n",
            "libxgboost-1.5.0dev. | 128.2 MB  | #8         |  18%\n",
            "libxgboost-1.5.0dev. | 128.2 MB  | ##         |  20%\n",
            "libxgboost-1.5.0dev. | 128.2 MB  | ##2        |  22%\n",
            "libxgboost-1.5.0dev. | 128.2 MB  | ##4        |  24%\n",
            "libxgboost-1.5.0dev. | 128.2 MB  | ##6        |  26%\n",
            "libxgboost-1.5.0dev. | 128.2 MB  | ##8        |  28%\n",
            "libxgboost-1.5.0dev. | 128.2 MB  | ###        |  31%\n",
            "libxgboost-1.5.0dev. | 128.2 MB  | ###2       |  32%\n",
            "libxgboost-1.5.0dev. | 128.2 MB  | ###4       |  35%\n",
            "libxgboost-1.5.0dev. | 128.2 MB  | ###6       |  37%\n",
            "libxgboost-1.5.0dev. | 128.2 MB  | ###8       |  39%\n",
            "libxgboost-1.5.0dev. | 128.2 MB  | ####       |  41%\n",
            "libxgboost-1.5.0dev. | 128.2 MB  | ####2      |  43%\n",
            "libxgboost-1.5.0dev. | 128.2 MB  | ####4      |  45%\n",
            "libxgboost-1.5.0dev. | 128.2 MB  | ####6      |  47%\n",
            "libxgboost-1.5.0dev. | 128.2 MB  | ####9      |  49%\n",
            "libxgboost-1.5.0dev. | 128.2 MB  | #####1     |  51%\n",
            "libxgboost-1.5.0dev. | 128.2 MB  | #####3     |  53%\n",
            "libxgboost-1.5.0dev. | 128.2 MB  | #####5     |  55%\n",
            "libxgboost-1.5.0dev. | 128.2 MB  | #####7     |  57%\n",
            "libxgboost-1.5.0dev. | 128.2 MB  | #####9     |  59%\n",
            "libxgboost-1.5.0dev. | 128.2 MB  | ######1    |  62%\n",
            "libxgboost-1.5.0dev. | 128.2 MB  | ######3    |  64%\n",
            "libxgboost-1.5.0dev. | 128.2 MB  | ######5    |  66%\n",
            "libxgboost-1.5.0dev. | 128.2 MB  | ######7    |  68%\n",
            "libxgboost-1.5.0dev. | 128.2 MB  | #######    |  70%\n",
            "libxgboost-1.5.0dev. | 128.2 MB  | #######2   |  72%\n",
            "libxgboost-1.5.0dev. | 128.2 MB  | #######4   |  75%\n",
            "libxgboost-1.5.0dev. | 128.2 MB  | #######6   |  77%\n",
            "libxgboost-1.5.0dev. | 128.2 MB  | #######8   |  79%\n",
            "libxgboost-1.5.0dev. | 128.2 MB  | ########1  |  81%\n",
            "libxgboost-1.5.0dev. | 128.2 MB  | ########3  |  83%\n",
            "libxgboost-1.5.0dev. | 128.2 MB  | ########5  |  86%\n",
            "libxgboost-1.5.0dev. | 128.2 MB  | ########7  |  88%\n",
            "libxgboost-1.5.0dev. | 128.2 MB  | #########  |  90%\n",
            "libxgboost-1.5.0dev. | 128.2 MB  | #########2 |  92%\n",
            "libxgboost-1.5.0dev. | 128.2 MB  | #########4 |  94%\n",
            "libxgboost-1.5.0dev. | 128.2 MB  | #########6 |  97%\n",
            "libxgboost-1.5.0dev. | 128.2 MB  | #########8 |  99%\n",
            "libxgboost-1.5.0dev. | 128.2 MB  | ########## | 100%\n",
            "libxgboost-1.5.0dev. | 128.2 MB  | ########## | 100%\n",
            "\n",
            "llvmlite-0.39.1      | 2.5 MB    |            |   0%\n",
            "llvmlite-0.39.1      | 2.5 MB    | ########## | 100%\n",
            "llvmlite-0.39.1      | 2.5 MB    | ########## | 100%\n",
            "\n",
            "treelite-2.1.0       | 1.4 MB    |            |   0%\n",
            "treelite-2.1.0       | 1.4 MB    | ########## | 100%\n",
            "treelite-2.1.0       | 1.4 MB    | ########## | 100%\n",
            "\n",
            "cucim-21.12.00       | 3.2 MB    |            |   0%\n",
            "cucim-21.12.00       | 3.2 MB    |            |   0%\n",
            "cucim-21.12.00       | 3.2 MB    | 1          |   1%\n",
            "cucim-21.12.00       | 3.2 MB    | 3          |   3%\n",
            "cucim-21.12.00       | 3.2 MB    | 5          |   6%\n",
            "cucim-21.12.00       | 3.2 MB    | #1         |  12%\n",
            "cucim-21.12.00       | 3.2 MB    | ##3        |  24%\n",
            "cucim-21.12.00       | 3.2 MB    | ####7      |  48%\n",
            "cucim-21.12.00       | 3.2 MB    | #########6 |  97%\n",
            "cucim-21.12.00       | 3.2 MB    | ########## | 100%\n",
            "\n",
            "kiwisolver-1.4.4     | 73 KB     |            |   0%\n",
            "kiwisolver-1.4.4     | 73 KB     | ########## | 100%\n",
            "\n",
            "tiledb-2.3.4         | 4.1 MB    |            |   0%\n",
            "tiledb-2.3.4         | 4.1 MB    |            |   0%\n",
            "tiledb-2.3.4         | 4.1 MB    | ########## | 100%\n",
            "tiledb-2.3.4         | 4.1 MB    | ########## | 100%\n",
            "\n",
            "msgpack-python-1.0.4 | 90 KB     |            |   0%\n",
            "msgpack-python-1.0.4 | 90 KB     | ########## | 100%\n",
            "\n",
            "click-plugins-1.1.1  | 9 KB      |            |   0%\n",
            "click-plugins-1.1.1  | 9 KB      | ########## | 100%\n",
            "\n",
            "scipy-1.7.3          | 21.8 MB   |            |   0%\n",
            "scipy-1.7.3          | 21.8 MB   | ###4       |  35%\n",
            "scipy-1.7.3          | 21.8 MB   | #######9   |  79%\n",
            "scipy-1.7.3          | 21.8 MB   | ########## | 100%\n",
            "\n",
            "jpype1-1.4.0         | 495 KB    |            |   0%\n",
            "jpype1-1.4.0         | 495 KB    | ########## | 100%\n",
            "jpype1-1.4.0         | 495 KB    | ########## | 100%\n",
            "\n",
            "bokeh-2.4.0          | 13.5 MB   |            |   0%\n",
            "bokeh-2.4.0          | 13.5 MB   | ######1    |  61%\n",
            "bokeh-2.4.0          | 13.5 MB   | ########## | 100%\n",
            "\n",
            "simpervisor-0.4      | 9 KB      |            |   0%\n",
            "simpervisor-0.4      | 9 KB      | ########## | 100%\n",
            "\n",
            "cusignal-21.12.00    | 1.1 MB    |            |   0%\n",
            "cusignal-21.12.00    | 1.1 MB    | 1          |   1%\n",
            "cusignal-21.12.00    | 1.1 MB    | 4          |   4%\n",
            "cusignal-21.12.00    | 1.1 MB    | 9          |  10%\n",
            "cusignal-21.12.00    | 1.1 MB    | #9         |  20%\n",
            "cusignal-21.12.00    | 1.1 MB    | ###9       |  40%\n",
            "cusignal-21.12.00    | 1.1 MB    | ########2  |  82%\n",
            "cusignal-21.12.00    | 1.1 MB    | ########## | 100%\n",
            "cusignal-21.12.00    | 1.1 MB    | ########## | 100%\n",
            "\n",
            "pixman-0.40.0        | 627 KB    |            |   0%\n",
            "pixman-0.40.0        | 627 KB    | ########## | 100%\n",
            "pixman-0.40.0        | 627 KB    | ########## | 100%\n",
            "\n",
            "cloudpickle-2.2.0    | 25 KB     |            |   0%\n",
            "cloudpickle-2.2.0    | 25 KB     | ########## | 100%\n",
            "\n",
            "debugpy-1.6.3        | 2.0 MB    |            |   0%\n",
            "debugpy-1.6.3        | 2.0 MB    | ########## | 100%\n",
            "debugpy-1.6.3        | 2.0 MB    | ########## | 100%\n",
            "\n",
            "widgetsnbextension-4 | 1.6 MB    |            |   0%\n",
            "widgetsnbextension-4 | 1.6 MB    | ########## | 100%\n",
            "widgetsnbextension-4 | 1.6 MB    | ########## | 100%\n",
            "\n",
            "uvicorn-0.19.0       | 82 KB     |            |   0%\n",
            "uvicorn-0.19.0       | 82 KB     | ########## | 100%\n",
            "\n",
            "jinja2-3.1.2         | 99 KB     |            |   0%\n",
            "jinja2-3.1.2         | 99 KB     | ########## | 100%\n",
            "\n",
            "libgdal-3.3.2        | 13.1 MB   |            |   0%\n",
            "libgdal-3.3.2        | 13.1 MB   | ###6       |  36%\n",
            "libgdal-3.3.2        | 13.1 MB   | ########## | 100%\n",
            "libgdal-3.3.2        | 13.1 MB   | ########## | 100%\n",
            "\n",
            "xorg-libxdmcp-1.1.3  | 19 KB     |            |   0%\n",
            "xorg-libxdmcp-1.1.3  | 19 KB     | ########## | 100%\n",
            "\n",
            "libnetcdf-4.8.1      | 1.5 MB    |            |   0%\n",
            "libnetcdf-4.8.1      | 1.5 MB    | ########## | 100%\n",
            "libnetcdf-4.8.1      | 1.5 MB    | ########## | 100%\n",
            "\n",
            "kealib-1.4.15        | 188 KB    |            |   0%\n",
            "kealib-1.4.15        | 188 KB    | ########## | 100%\n",
            "\n",
            "aws-c-cal-0.5.12     | 36 KB     |            |   0%\n",
            "aws-c-cal-0.5.12     | 36 KB     | ########## | 100%\n",
            "\n",
            "pyee-8.1.0           | 14 KB     |            |   0%\n",
            "pyee-8.1.0           | 14 KB     | ########## | 100%\n",
            "\n",
            "setuptools-59.8.0    | 1.0 MB    |            |   0%\n",
            "setuptools-59.8.0    | 1.0 MB    | ########## | 100%\n",
            "setuptools-59.8.0    | 1.0 MB    | ########## | 100%\n",
            "\n",
            "font-ttf-dejavu-sans | 388 KB    |            |   0%\n",
            "font-ttf-dejavu-sans | 388 KB    | ########## | 100%\n",
            "\n",
            "jupyter_client-7.3.4 | 91 KB     |            |   0%\n",
            "jupyter_client-7.3.4 | 91 KB     | ########## | 100%\n",
            "\n",
            "zfp-0.5.5            | 190 KB    |            |   0%\n",
            "zfp-0.5.5            | 190 KB    | ########## | 100%\n",
            "\n",
            "beautifulsoup4-4.11. | 96 KB     |            |   0%\n",
            "beautifulsoup4-4.11. | 96 KB     | ########## | 100%\n",
            "\n",
            "ipywidgets-8.0.2     | 109 KB    |            |   0%\n",
            "ipywidgets-8.0.2     | 109 KB    | ########## | 100%\n",
            "\n",
            "multidict-6.0.2      | 49 KB     |            |   0%\n",
            "multidict-6.0.2      | 49 KB     | ########## | 100%\n",
            "\n",
            "terminado-0.17.0     | 19 KB     |            |   0%\n",
            "terminado-0.17.0     | 19 KB     | ########## | 100%\n",
            "\n",
            "pyu2f-0.1.5          | 31 KB     |            |   0%\n",
            "pyu2f-0.1.5          | 31 KB     | ########## | 100%\n",
            "\n",
            "libpng-1.6.38        | 371 KB    |            |   0%\n",
            "libpng-1.6.38        | 371 KB    | ########## | 100%\n",
            "\n",
            "boost-cpp-1.74.0     | 16.3 MB   |            |   0%\n",
            "boost-cpp-1.74.0     | 16.3 MB   | ###3       |  33%\n",
            "boost-cpp-1.74.0     | 16.3 MB   | ########## | 100%\n",
            "boost-cpp-1.74.0     | 16.3 MB   | ########## | 100%\n",
            "\n",
            "xorg-renderproto-0.1 | 9 KB      |            |   0%\n",
            "xorg-renderproto-0.1 | 9 KB      | ########## | 100%\n",
            "\n",
            "pcre-8.45            | 253 KB    |            |   0%\n",
            "pcre-8.45            | 253 KB    | ########## | 100%\n",
            "\n",
            "libntlm-1.4          | 32 KB     |            |   0%\n",
            "libntlm-1.4          | 32 KB     | ########## | 100%\n",
            "\n",
            "mistune-2.0.4        | 67 KB     |            |   0%\n",
            "mistune-2.0.4        | 67 KB     | ########## | 100%\n",
            "\n",
            "tblib-1.7.0          | 15 KB     |            |   0%\n",
            "tblib-1.7.0          | 15 KB     | ########## | 100%\n",
            "\n",
            "libprotobuf-3.19.4   | 2.6 MB    |            |   0%\n",
            "libprotobuf-3.19.4   | 2.6 MB    | ########## | 100%\n",
            "libprotobuf-3.19.4   | 2.6 MB    | ########## | 100%\n",
            "\n",
            "ucx-proc-1.0.0       | 9 KB      |            |   0%\n",
            "ucx-proc-1.0.0       | 9 KB      | ########## | 100%\n",
            "ucx-proc-1.0.0       | 9 KB      | ########## | 100%\n",
            "\n",
            "py-xgboost-1.5.0dev. | 159 KB    |            |   0%\n",
            "py-xgboost-1.5.0dev. | 159 KB    | #          |  10%\n",
            "py-xgboost-1.5.0dev. | 159 KB    | ##         |  20%\n",
            "py-xgboost-1.5.0dev. | 159 KB    | ####       |  40%\n",
            "py-xgboost-1.5.0dev. | 159 KB    | ########   |  81%\n",
            "py-xgboost-1.5.0dev. | 159 KB    | ########## | 100%\n",
            "\n",
            "libdap4-3.20.6       | 11.3 MB   |            |   0%\n",
            "libdap4-3.20.6       | 11.3 MB   | #####2     |  52%\n",
            "libdap4-3.20.6       | 11.3 MB   | ########## | 100%\n",
            "\n",
            "nspr-4.32            | 233 KB    |            |   0%\n",
            "nspr-4.32            | 233 KB    | ########## | 100%\n",
            "\n",
            "jxrlib-1.1           | 235 KB    |            |   0%\n",
            "jxrlib-1.1           | 235 KB    | ########## | 100%\n",
            "\n",
            "faiss-proc-1.0.0     | 24 KB     |            |   0%\n",
            "faiss-proc-1.0.0     | 24 KB     | ######7    |  68%\n",
            "faiss-proc-1.0.0     | 24 KB     | ########## | 100%\n",
            "\n",
            "fonttools-4.38.0     | 1.9 MB    |            |   0%\n",
            "fonttools-4.38.0     | 1.9 MB    | ########## | 100%\n",
            "fonttools-4.38.0     | 1.9 MB    | ########## | 100%\n",
            "\n",
            "tzdata-2022e         | 118 KB    |            |   0%\n",
            "tzdata-2022e         | 118 KB    | ########## | 100%\n",
            "\n",
            "libdeflate-1.8       | 67 KB     |            |   0%\n",
            "libdeflate-1.8       | 67 KB     | ########## | 100%\n",
            "\n",
            "pexpect-4.8.0        | 47 KB     |            |   0%\n",
            "pexpect-4.8.0        | 47 KB     | ########## | 100%\n",
            "\n",
            "nvtx-0.2.3           | 55 KB     |            |   0%\n",
            "nvtx-0.2.3           | 55 KB     | ########## | 100%\n",
            "\n",
            "jupyter-server-proxy | 30 KB     |            |   0%\n",
            "jupyter-server-proxy | 30 KB     | ########## | 100%\n",
            "\n",
            "scikit-image-0.18.1  | 11.5 MB   |            |   0%\n",
            "scikit-image-0.18.1  | 11.5 MB   | ####4      |  45%\n",
            "scikit-image-0.18.1  | 11.5 MB   | ########## | 100%\n",
            "scikit-image-0.18.1  | 11.5 MB   | ########## | 100%\n",
            "\n",
            "arrow-cpp-proc-3.0.0 | 24 KB     |            |   0%\n",
            "arrow-cpp-proc-3.0.0 | 24 KB     | ########## | 100%\n",
            "\n",
            "aws-c-common-0.6.17  | 179 KB    |            |   0%\n",
            "aws-c-common-0.6.17  | 179 KB    | ########## | 100%\n",
            "\n",
            "pyasn1-modules-0.2.7 | 60 KB     |            |   0%\n",
            "pyasn1-modules-0.2.7 | 60 KB     | ########## | 100%\n",
            "\n",
            "pydeck-0.5.0         | 3.6 MB    |            |   0%\n",
            "pydeck-0.5.0         | 3.6 MB    | ########## | 100%\n",
            "pydeck-0.5.0         | 3.6 MB    | ########## | 100%\n",
            "\n",
            "pandas-1.3.5         | 12.7 MB   |            |   0%\n",
            "pandas-1.3.5         | 12.7 MB   | ####5      |  46%\n",
            "pandas-1.3.5         | 12.7 MB   | ########## | 100%\n",
            "pandas-1.3.5         | 12.7 MB   | ########## | 100%\n",
            "\n",
            "aws-c-mqtt-0.7.10    | 67 KB     |            |   0%\n",
            "aws-c-mqtt-0.7.10    | 67 KB     | ########## | 100%\n",
            "\n",
            "rmm-21.12.00         | 943 KB    |            |   0%\n",
            "rmm-21.12.00         | 943 KB    | 1          |   2%\n",
            "rmm-21.12.00         | 943 KB    | 5          |   5%\n",
            "rmm-21.12.00         | 943 KB    | 8          |   8%\n",
            "rmm-21.12.00         | 943 KB    | #1         |  12%\n",
            "rmm-21.12.00         | 943 KB    | #8         |  19%\n",
            "rmm-21.12.00         | 943 KB    | ##2        |  22%\n",
            "rmm-21.12.00         | 943 KB    | ###9       |  39%\n",
            "rmm-21.12.00         | 943 KB    | ####7      |  48%\n",
            "rmm-21.12.00         | 943 KB    | #######9   |  80%\n",
            "rmm-21.12.00         | 943 KB    | #########6 |  97%\n",
            "rmm-21.12.00         | 943 KB    | ########## | 100%\n",
            "\n",
            "libcblas-3.9.0       | 13 KB     |            |   0%\n",
            "libcblas-3.9.0       | 13 KB     | ########## | 100%\n",
            "\n",
            "python-dateutil-2.8. | 240 KB    |            |   0%\n",
            "python-dateutil-2.8. | 240 KB    | ########## | 100%\n",
            "\n",
            "jupyter_core-4.11.1  | 81 KB     |            |   0%\n",
            "jupyter_core-4.11.1  | 81 KB     | ########## | 100%\n",
            "\n",
            "oauthlib-3.2.2       | 90 KB     |            |   0%\n",
            "oauthlib-3.2.2       | 90 KB     | ########## | 100%\n",
            "\n",
            "xorg-libxau-1.0.9    | 13 KB     |            |   0%\n",
            "xorg-libxau-1.0.9    | 13 KB     | ########## | 100%\n",
            "\n",
            "google-auth-2.13.0   | 93 KB     |            |   0%\n",
            "google-auth-2.13.0   | 93 KB     | ########## | 100%\n",
            "\n",
            "python-tzdata-2022.5 | 147 KB    |            |   0%\n",
            "python-tzdata-2022.5 | 147 KB    | ########## | 100%\n",
            "python-tzdata-2022.5 | 147 KB    | ########## | 100%\n",
            "\n",
            "aws-c-event-stream-0 | 47 KB     |            |   0%\n",
            "aws-c-event-stream-0 | 47 KB     | ########## | 100%\n",
            "\n",
            "geopandas-0.9.0      | 5 KB      |            |   0%\n",
            "geopandas-0.9.0      | 5 KB      | ########## | 100%\n",
            "\n",
            "libxcb-1.13          | 391 KB    |            |   0%\n",
            "libxcb-1.13          | 391 KB    | ########## | 100%\n",
            "libxcb-1.13          | 391 KB    | ########## | 100%\n",
            "\n",
            "lcms2-2.12           | 443 KB    |            |   0%\n",
            "lcms2-2.12           | 443 KB    | ########## | 100%\n",
            "\n",
            "libspatialite-5.0.1  | 4.4 MB    |            |   0%\n",
            "libspatialite-5.0.1  | 4.4 MB    | #####9     |  59%\n",
            "libspatialite-5.0.1  | 4.4 MB    | ########## | 100%\n",
            "\n",
            "libcumlprims-21.12.0 | 3.7 MB    |            |   0%\n",
            "libcumlprims-21.12.0 | 3.7 MB    | ########## | 100%\n",
            "libcumlprims-21.12.0 | 3.7 MB    | ########## | 100%\n",
            "\n",
            "glog-0.5.0           | 104 KB    |            |   0%\n",
            "glog-0.5.0           | 104 KB    | ########## | 100%\n",
            "\n",
            "nodejs-14.18.3       | 15.6 MB   |            |   0%\n",
            "nodejs-14.18.3       | 15.6 MB   | #####1     |  52%\n",
            "nodejs-14.18.3       | 15.6 MB   | ########## | 100%\n",
            "\n",
            "libxml2-2.9.12       | 772 KB    |            |   0%\n",
            "libxml2-2.9.12       | 772 KB    | ########## | 100%\n",
            "libxml2-2.9.12       | 772 KB    | ########## | 100%\n",
            "\n",
            "rsa-4.9              | 29 KB     |            |   0%\n",
            "rsa-4.9              | 29 KB     | ########## | 100%\n",
            "\n",
            "gettext-0.21.1       | 4.1 MB    |            |   0%\n",
            "gettext-0.21.1       | 4.1 MB    | ########## | 100%\n",
            "gettext-0.21.1       | 4.1 MB    | ########## | 100%\n",
            "\n",
            "libuv-1.43.0         | 1.0 MB    |            |   0%\n",
            "libuv-1.43.0         | 1.0 MB    | ########## | 100%\n",
            "libuv-1.43.0         | 1.0 MB    | ########## | 100%\n",
            "\n",
            "charls-2.2.0         | 138 KB    |            |   0%\n",
            "charls-2.2.0         | 138 KB    | ########## | 100%\n",
            "\n",
            "libaec-1.0.6         | 45 KB     |            |   0%\n",
            "libaec-1.0.6         | 45 KB     | ########## | 100%\n",
            "\n",
            "dask-sql-2022.1.0    | 19.7 MB   |            |   0%\n",
            "dask-sql-2022.1.0    | 19.7 MB   | ##4        |  24%\n",
            "dask-sql-2022.1.0    | 19.7 MB   | #######6   |  76%\n",
            "dask-sql-2022.1.0    | 19.7 MB   | ########## | 100%\n",
            "\n",
            "importlib_resources- | 29 KB     |            |   0%\n",
            "importlib_resources- | 29 KB     | ########## | 100%\n",
            "\n",
            "openjpeg-2.5.0       | 515 KB    |            |   0%\n",
            "openjpeg-2.5.0       | 515 KB    | ########## | 100%\n",
            "openjpeg-2.5.0       | 515 KB    | ########## | 100%\n",
            "\n",
            "async-timeout-4.0.2  | 9 KB      |            |   0%\n",
            "async-timeout-4.0.2  | 9 KB      | ########## | 100%\n",
            "\n",
            "brotli-1.0.9         | 18 KB     |            |   0%\n",
            "brotli-1.0.9         | 18 KB     | ########## | 100%\n",
            "\n",
            "graphite2-1.3.13     | 102 KB    |            |   0%\n",
            "graphite2-1.3.13     | 102 KB    | ########## | 100%\n",
            "\n",
            "json-c-0.15          | 274 KB    |            |   0%\n",
            "json-c-0.15          | 274 KB    | ########## | 100%\n",
            "\n",
            "pyzmq-24.0.1         | 500 KB    |            |   0%\n",
            "pyzmq-24.0.1         | 500 KB    | ########## | 100%\n",
            "pyzmq-24.0.1         | 500 KB    | ########## | 100%\n",
            "\n",
            "bleach-5.0.1         | 124 KB    |            |   0%\n",
            "bleach-5.0.1         | 124 KB    | ########## | 100%\n",
            "\n",
            "font-ttf-inconsolata | 94 KB     |            |   0%\n",
            "font-ttf-inconsolata | 94 KB     | ########## | 100%\n",
            "\n",
            "geopandas-base-0.9.0 | 950 KB    |            |   0%\n",
            "geopandas-base-0.9.0 | 950 KB    | ########## | 100%\n",
            "geopandas-base-0.9.0 | 950 KB    | ########## | 100%\n",
            "\n",
            "backcall-0.2.0       | 13 KB     |            |   0%\n",
            "backcall-0.2.0       | 13 KB     | ########## | 100%\n",
            "\n",
            "rapids-xgboost-21.12 | 5 KB      |            |   0%\n",
            "rapids-xgboost-21.12 | 5 KB      | ########## | 100%\n",
            "rapids-xgboost-21.12 | 5 KB      | ########## | 100%\n",
            "\n",
            "pyjwt-2.6.0          | 21 KB     |            |   0%\n",
            "pyjwt-2.6.0          | 21 KB     | ########## | 100%\n",
            "\n",
            "wcwidth-0.2.5        | 33 KB     |            |   0%\n",
            "wcwidth-0.2.5        | 33 KB     | ########## | 100%\n",
            "\n",
            "dask-core-2021.11.2  | 783 KB    |            |   0%\n",
            "dask-core-2021.11.2  | 783 KB    | ########## | 100%\n",
            "dask-core-2021.11.2  | 783 KB    | ########## | 100%\n",
            "\n",
            "zeromq-4.3.4         | 351 KB    |            |   0%\n",
            "zeromq-4.3.4         | 351 KB    | ########## | 100%\n",
            "\n",
            "tabulate-0.9.0       | 35 KB     |            |   0%\n",
            "tabulate-0.9.0       | 35 KB     | ########## | 100%\n",
            "\n",
            "aiosignal-1.2.0      | 12 KB     |            |   0%\n",
            "aiosignal-1.2.0      | 12 KB     | ########## | 100%\n",
            "\n",
            "h11-0.14.0           | 47 KB     |            |   0%\n",
            "h11-0.14.0           | 47 KB     | ########## | 100%\n",
            "\n",
            "fontconfig-2.14.0    | 318 KB    |            |   0%\n",
            "fontconfig-2.14.0    | 318 KB    | ########## | 100%\n",
            "\n",
            "alsa-lib-1.2.3.2     | 554 KB    |            |   0%\n",
            "alsa-lib-1.2.3.2     | 554 KB    | ########## | 100%\n",
            "alsa-lib-1.2.3.2     | 554 KB    | ########## | 100%\n",
            "\n",
            "hdf4-4.2.15          | 955 KB    |            |   0%\n",
            "hdf4-4.2.15          | 955 KB    | ########## | 100%\n",
            "hdf4-4.2.15          | 955 KB    | ########## | 100%\n",
            "\n",
            "liblapack-3.9.0      | 13 KB     |            |   0%\n",
            "liblapack-3.9.0      | 13 KB     | ########## | 100%\n",
            "\n",
            "decorator-5.1.1      | 12 KB     |            |   0%\n",
            "decorator-5.1.1      | 12 KB     | ########## | 100%\n",
            "\n",
            "sortedcontainers-2.4 | 26 KB     |            |   0%\n",
            "sortedcontainers-2.4 | 26 KB     | ########## | 100%\n",
            "\n",
            "multipledispatch-0.6 | 12 KB     |            |   0%\n",
            "multipledispatch-0.6 | 12 KB     | ########## | 100%\n",
            "\n",
            "ptxcompiler-0.7.0    | 5.7 MB    |            |   0%\n",
            "ptxcompiler-0.7.0    | 5.7 MB    | #########3 |  94%\n",
            "ptxcompiler-0.7.0    | 5.7 MB    | ########## | 100%\n",
            "\n",
            "pyrsistent-0.18.1    | 91 KB     |            |   0%\n",
            "pyrsistent-0.18.1    | 91 KB     | ########## | 100%\n",
            "\n",
            "shapely-1.8.0        | 367 KB    |            |   0%\n",
            "shapely-1.8.0        | 367 KB    | ########## | 100%\n",
            "shapely-1.8.0        | 367 KB    | ########## | 100%\n",
            "\n",
            "aws-checksums-0.1.12 | 50 KB     |            |   0%\n",
            "aws-checksums-0.1.12 | 50 KB     | ########## | 100%\n",
            "\n",
            "cudatoolkit-11.2.72  | 933.4 MB  |            |   0%\n",
            "cudatoolkit-11.2.72  | 933.4 MB  | ########## | 100%\n",
            "cudatoolkit-11.2.72  | 933.4 MB  | ########## | 100%\n",
            "\n",
            "threadpoolctl-3.1.0  | 18 KB     |            |   0%\n",
            "threadpoolctl-3.1.0  | 18 KB     | ########## | 100%\n",
            "\n",
            "blinker-1.5          | 15 KB     |            |   0%\n",
            "blinker-1.5          | 15 KB     | ########## | 100%\n",
            "\n",
            "aws-c-s3-0.1.29      | 49 KB     |            |   0%\n",
            "aws-c-s3-0.1.29      | 49 KB     | ########## | 100%\n",
            "\n",
            "python-confluent-kaf | 125 KB    |            |   0%\n",
            "python-confluent-kaf | 125 KB    | ########## | 100%\n",
            "\n",
            "libkml-1.3.0         | 591 KB    |            |   0%\n",
            "libkml-1.3.0         | 591 KB    | ########## | 100%\n",
            "libkml-1.3.0         | 591 KB    | ########## | 100%\n",
            "\n",
            "parquet-cpp-1.5.1    | 3 KB      |            |   0%\n",
            "parquet-cpp-1.5.1    | 3 KB      | ########## | 100%\n",
            "\n",
            "expat-2.5.0          | 189 KB    |            |   0%\n",
            "expat-2.5.0          | 189 KB    | ########## | 100%\n",
            "\n",
            "fastapi-0.85.1       | 45 KB     |            |   0%\n",
            "fastapi-0.85.1       | 45 KB     | ########## | 100%\n",
            "\n",
            "libtiff-4.3.0        | 614 KB    |            |   0%\n",
            "libtiff-4.3.0        | 614 KB    | ########## | 100%\n",
            "libtiff-4.3.0        | 614 KB    | ########## | 100%\n",
            "\n",
            "rtree-1.0.1          | 49 KB     |            |   0%\n",
            "rtree-1.0.1          | 49 KB     | ########## | 100%\n",
            "\n",
            "google-cloud-core-2. | 28 KB     |            |   0%\n",
            "google-cloud-core-2. | 28 KB     | ########## | 100%\n",
            "\n",
            "markdown-3.4.1       | 65 KB     |            |   0%\n",
            "markdown-3.4.1       | 65 KB     | ########## | 100%\n",
            "\n",
            "aws-c-http-0.6.10    | 173 KB    |            |   0%\n",
            "aws-c-http-0.6.10    | 173 KB    | ########## | 100%\n",
            "\n",
            "ptyprocess-0.7.0     | 16 KB     |            |   0%\n",
            "ptyprocess-0.7.0     | 16 KB     | ########## | 100%\n",
            "\n",
            "xorg-libice-1.0.10   | 58 KB     |            |   0%\n",
            "xorg-libice-1.0.10   | 58 KB     | ########## | 100%\n",
            "\n",
            "defusedxml-0.7.1     | 23 KB     |            |   0%\n",
            "defusedxml-0.7.1     | 23 KB     | ########## | 100%\n",
            "\n",
            "pytz-deprecation-shi | 22 KB     |            |   0%\n",
            "pytz-deprecation-shi | 22 KB     | ########## | 100%\n",
            "\n",
            "zlib-ng-2.0.6        | 96 KB     |            |   0%\n",
            "zlib-ng-2.0.6        | 96 KB     | ########## | 100%\n",
            "\n",
            "backports-1.0        | 4 KB      |            |   0%\n",
            "backports-1.0        | 4 KB      | ########## | 100%\n",
            "\n",
            "librdkafka-1.6.1     | 12.6 MB   |            |   0%\n",
            "librdkafka-1.6.1     | 12.6 MB   | ####4      |  44%\n",
            "librdkafka-1.6.1     | 12.6 MB   | ########## | 100%\n",
            "librdkafka-1.6.1     | 12.6 MB   | ########## | 100%\n",
            "\n",
            "typing-extensions-4. | 8 KB      |            |   0%\n",
            "typing-extensions-4. | 8 KB      | ########## | 100%\n",
            "\n",
            "arrow-cpp-5.0.0      | 22.4 MB   |            |   0%\n",
            "arrow-cpp-5.0.0      | 22.4 MB   | ###8       |  38%\n",
            "arrow-cpp-5.0.0      | 22.4 MB   | ########## | 100%\n",
            "arrow-cpp-5.0.0      | 22.4 MB   | ########## | 100%\n",
            "\n",
            "jupyter_server-1.21. | 239 KB    |            |   0%\n",
            "jupyter_server-1.21. | 239 KB    | ########## | 100%\n",
            "\n",
            "pywavelets-1.3.0     | 4.4 MB    |            |   0%\n",
            "pywavelets-1.3.0     | 4.4 MB    | ########## | 100%\n",
            "pywavelets-1.3.0     | 4.4 MB    | ########## | 100%\n",
            "\n",
            "pickleshare-0.7.5    | 9 KB      |            |   0%\n",
            "pickleshare-0.7.5    | 9 KB      | ########## | 100%\n",
            "\n",
            "cairo-1.16.0         | 1.5 MB    |            |   0%\n",
            "cairo-1.16.0         | 1.5 MB    | ########## | 100%\n",
            "cairo-1.16.0         | 1.5 MB    | ########## | 100%\n",
            "\n",
            "tifffile-2021.11.2   | 139 KB    |            |   0%\n",
            "tifffile-2021.11.2   | 139 KB    | ########## | 100%\n",
            "\n",
            "rapids-21.12.00      | 5 KB      |            |   0%\n",
            "rapids-21.12.00      | 5 KB      | ########## | 100%\n",
            "rapids-21.12.00      | 5 KB      | ########## | 100%\n",
            "\n",
            "libgcrypt-1.10.1     | 703 KB    |            |   0%\n",
            "libgcrypt-1.10.1     | 703 KB    | ########## | 100%\n",
            "libgcrypt-1.10.1     | 703 KB    | ########## | 100%\n",
            "\n",
            "curl-7.83.1          | 89 KB     |            |   0%\n",
            "curl-7.83.1          | 89 KB     | ########## | 100%\n",
            "\n",
            "sniffio-1.3.0        | 14 KB     |            |   0%\n",
            "sniffio-1.3.0        | 14 KB     | ########## | 100%\n",
            "\n",
            "xorg-libsm-1.2.3     | 26 KB     |            |   0%\n",
            "xorg-libsm-1.2.3     | 26 KB     | ########## | 100%\n",
            "\n",
            "aws-crt-cpp-0.17.10  | 207 KB    |            |   0%\n",
            "aws-crt-cpp-0.17.10  | 207 KB    | ########## | 100%\n",
            "\n",
            "openssl-1.1.1q       | 2.1 MB    |            |   0%\n",
            "openssl-1.1.1q       | 2.1 MB    | ########## | 100%\n",
            "openssl-1.1.1q       | 2.1 MB    | ########## | 100%\n",
            "\n",
            "spdlog-1.8.5         | 352 KB    |            |   0%\n",
            "spdlog-1.8.5         | 352 KB    | ########## | 100%\n",
            "\n",
            "appdirs-1.4.4        | 13 KB     |            |   0%\n",
            "appdirs-1.4.4        | 13 KB     | ########## | 100%\n",
            "\n",
            "libgpg-error-1.45    | 286 KB    |            |   0%\n",
            "libgpg-error-1.45    | 286 KB    | ########## | 100%\n",
            "\n",
            "font-ttf-ubuntu-0.83 | 1.9 MB    |            |   0%\n",
            "font-ttf-ubuntu-0.83 | 1.9 MB    | ########## | 100%\n",
            "font-ttf-ubuntu-0.83 | 1.9 MB    | ########## | 100%\n",
            "\n",
            "certifi-2022.9.24    | 155 KB    |            |   0%\n",
            "certifi-2022.9.24    | 155 KB    | ########## | 100%\n",
            "\n",
            "pyviz_comms-2.2.1    | 31 KB     |            |   0%\n",
            "pyviz_comms-2.2.1    | 31 KB     | ########## | 100%\n",
            "\n",
            "nss-3.78             | 2.1 MB    |            |   0%\n",
            "nss-3.78             | 2.1 MB    | ########## | 100%\n",
            "nss-3.78             | 2.1 MB    | ########## | 100%\n",
            "\n",
            "cligj-0.7.2          | 10 KB     |            |   0%\n",
            "cligj-0.7.2          | 10 KB     | ########## | 100%\n",
            "\n",
            "googleapis-common-pr | 123 KB    |            |   0%\n",
            "googleapis-common-pr | 123 KB    | ########## | 100%\n",
            "\n",
            "pyproj-3.1.0         | 523 KB    |            |   0%\n",
            "pyproj-3.1.0         | 523 KB    | ########## | 100%\n",
            "pyproj-3.1.0         | 523 KB    | ########## | 100%\n",
            "\n",
            "libbrotlicommon-1.0. | 66 KB     |            |   0%\n",
            "libbrotlicommon-1.0. | 66 KB     | ########## | 100%\n",
            "\n",
            "networkx-2.7.1       | 1.5 MB    |            |   0%\n",
            "networkx-2.7.1       | 1.5 MB    | ########## | 100%\n",
            "networkx-2.7.1       | 1.5 MB    | ########## | 100%\n",
            "\n",
            "libspatialindex-1.9. | 4.6 MB    |            |   0%\n",
            "libspatialindex-1.9. | 4.6 MB    | ########## | 100%\n",
            "libspatialindex-1.9. | 4.6 MB    | ########## | 100%\n",
            "\n",
            "entrypoints-0.4      | 9 KB      |            |   0%\n",
            "entrypoints-0.4      | 9 KB      | ########## | 100%\n",
            "\n",
            "heapdict-1.0.1       | 7 KB      |            |   0%\n",
            "heapdict-1.0.1       | 7 KB      | ########## | 100%\n",
            "\n",
            "cudf_kafka-21.12.02  | 1.8 MB    |            |   0%\n",
            "cudf_kafka-21.12.02  | 1.8 MB    |            |   1%\n",
            "cudf_kafka-21.12.02  | 1.8 MB    | 3          |   3%\n",
            "cudf_kafka-21.12.02  | 1.8 MB    | 6          |   6%\n",
            "cudf_kafka-21.12.02  | 1.8 MB    | #3         |  13%\n",
            "cudf_kafka-21.12.02  | 1.8 MB    | ##7        |  28%\n",
            "cudf_kafka-21.12.02  | 1.8 MB    | #####6     |  57%\n",
            "cudf_kafka-21.12.02  | 1.8 MB    | ########## | 100%\n",
            "cudf_kafka-21.12.02  | 1.8 MB    | ########## | 100%\n",
            "\n",
            "pooch-1.6.0          | 44 KB     |            |   0%\n",
            "pooch-1.6.0          | 44 KB     | ########## | 100%\n",
            "\n",
            "pyyaml-6.0           | 178 KB    |            |   0%\n",
            "pyyaml-6.0           | 178 KB    | ########## | 100%\n",
            "\n",
            "zlib-1.2.12          | 91 KB     |            |   0%\n",
            "zlib-1.2.12          | 91 KB     | ########## | 100%\n",
            "\n",
            "anyio-3.6.2          | 83 KB     |            |   0%\n",
            "anyio-3.6.2          | 83 KB     | ########## | 100%\n",
            "\n",
            "aws-c-compression-0. | 17 KB     |            |   0%\n",
            "aws-c-compression-0. | 17 KB     | ########## | 100%\n",
            "\n",
            "libuuid-2.32.1       | 28 KB     |            |   0%\n",
            "libuuid-2.32.1       | 28 KB     | ########## | 100%\n",
            "\n",
            "parso-0.8.3          | 69 KB     |            |   0%\n",
            "parso-0.8.3          | 69 KB     | ########## | 100%\n",
            "\n",
            "importlib-metadata-4 | 33 KB     |            |   0%\n",
            "importlib-metadata-4 | 33 KB     | ########## | 100%\n",
            "\n",
            "colorcet-3.0.1       | 1.6 MB    |            |   0%\n",
            "colorcet-3.0.1       | 1.6 MB    | ########## | 100%\n",
            "colorcet-3.0.1       | 1.6 MB    | ########## | 100%\n",
            "\n",
            "xorg-inputproto-2.3. | 19 KB     |            |   0%\n",
            "xorg-inputproto-2.3. | 19 KB     | ########## | 100%\n",
            "\n",
            "pynvml-11.4.1        | 40 KB     |            |   0%\n",
            "pynvml-11.4.1        | 40 KB     | ########## | 100%\n",
            "\n",
            "argon2-cffi-21.3.0   | 15 KB     |            |   0%\n",
            "argon2-cffi-21.3.0   | 15 KB     | ########## | 100%\n",
            "\n",
            "xorg-xproto-7.0.31   | 73 KB     |            |   0%\n",
            "xorg-xproto-7.0.31   | 73 KB     | ########## | 100%\n",
            "\n",
            "prompt-toolkit-3.0.3 | 254 KB    |            |   0%\n",
            "prompt-toolkit-3.0.3 | 254 KB    | ########## | 100%\n",
            "\n",
            "jsonschema-4.16.0    | 65 KB     |            |   0%\n",
            "jsonschema-4.16.0    | 65 KB     | ########## | 100%\n",
            "\n",
            "fastrlock-0.8        | 31 KB     |            |   0%\n",
            "fastrlock-0.8        | 31 KB     | ########## | 100%\n",
            "\n",
            "poppler-21.09.0      | 17.1 MB   |            |   0%\n",
            "poppler-21.09.0      | 17.1 MB   | ####4      |  45%\n",
            "poppler-21.09.0      | 17.1 MB   | ########9  |  89%\n",
            "poppler-21.09.0      | 17.1 MB   | ########## | 100%\n",
            "\n",
            "jbig-2.1             | 43 KB     |            |   0%\n",
            "jbig-2.1             | 43 KB     | ########## | 100%\n",
            "\n",
            "imageio-2.22.0       | 3.2 MB    |            |   0%\n",
            "imageio-2.22.0       | 3.2 MB    | ########## | 100%\n",
            "imageio-2.22.0       | 3.2 MB    | ########## | 100%\n",
            "\n",
            "pyct-core-0.4.6      | 13 KB     |            |   0%\n",
            "pyct-core-0.4.6      | 13 KB     | ########## | 100%\n",
            "\n",
            "libglib-2.72.1       | 3.1 MB    |            |   0%\n",
            "libglib-2.72.1       | 3.1 MB    | ########## | 100%\n",
            "libglib-2.72.1       | 3.1 MB    | ########## | 100%\n",
            "\n",
            "geos-3.9.1           | 1.1 MB    |            |   0%\n",
            "geos-3.9.1           | 1.1 MB    | ########## | 100%\n",
            "geos-3.9.1           | 1.1 MB    | ########## | 100%\n",
            "\n",
            "cyrus-sasl-2.1.27    | 228 KB    |            |   0%\n",
            "cyrus-sasl-2.1.27    | 228 KB    | ########## | 100%\n",
            "\n",
            "locket-1.0.0         | 8 KB      |            |   0%\n",
            "locket-1.0.0         | 8 KB      | ########## | 100%\n",
            "\n",
            "librttopo-1.1.0      | 235 KB    |            |   0%\n",
            "librttopo-1.1.0      | 235 KB    | ########## | 100%\n",
            "\n",
            "prometheus_client-0. | 50 KB     |            |   0%\n",
            "prometheus_client-0. | 50 KB     | ########## | 100%\n",
            "\n",
            "google-api-core-2.10 | 71 KB     |            |   0%\n",
            "google-api-core-2.10 | 71 KB     | ########## | 100%\n",
            "\n",
            "aiohttp-3.8.3        | 432 KB    |            |   0%\n",
            "aiohttp-3.8.3        | 432 KB    | ########## | 100%\n",
            "aiohttp-3.8.3        | 432 KB    | ########## | 100%\n",
            "\n",
            "pandocfilters-1.5.0  | 11 KB     |            |   0%\n",
            "pandocfilters-1.5.0  | 11 KB     | ########## | 100%\n",
            "\n",
            "libgsasl-1.10.0      | 179 KB    |            |   0%\n",
            "libgsasl-1.10.0      | 179 KB    | ########## | 100%\n",
            "\n",
            "jupyterlab_pygments- | 17 KB     |            |   0%\n",
            "jupyterlab_pygments- | 17 KB     | ########## | 100%\n",
            "\n",
            "cfitsio-3.470        | 1.3 MB    |            |   0%\n",
            "cfitsio-3.470        | 1.3 MB    | ########## | 100%\n",
            "cfitsio-3.470        | 1.3 MB    | ########## | 100%\n",
            "\n",
            "orc-1.7.1            | 1.1 MB    |            |   0%\n",
            "orc-1.7.1            | 1.1 MB    | ########## | 100%\n",
            "orc-1.7.1            | 1.1 MB    | ########## | 100%\n",
            "\n",
            "websocket-client-1.4 | 42 KB     |            |   0%\n",
            "websocket-client-1.4 | 42 KB     | ########## | 100%\n",
            "\n",
            "fsspec-2022.10.0     | 95 KB     |            |   0%\n",
            "fsspec-2022.10.0     | 95 KB     | ########## | 100%\n",
            "\n",
            "flit-core-3.7.1      | 44 KB     |            |   0%\n",
            "flit-core-3.7.1      | 44 KB     | ########## | 100%\n",
            "\n",
            "custreamz-21.12.02   | 32 KB     |            |   0%\n",
            "custreamz-21.12.02   | 32 KB     | ####9      |  50%\n",
            "custreamz-21.12.02   | 32 KB     | ########## | 100%\n",
            "\n",
            "hdf5-1.12.1          | 3.5 MB    |            |   0%\n",
            "hdf5-1.12.1          | 3.5 MB    | ########## | 100%\n",
            "hdf5-1.12.1          | 3.5 MB    | ########## | 100%\n",
            "\n",
            "brunsli-0.1          | 200 KB    |            |   0%\n",
            "brunsli-0.1          | 200 KB    | 7          |   8%\n",
            "brunsli-0.1          | 200 KB    | ########## | 100%\n",
            "\n",
            "joblib-1.2.0         | 205 KB    |            |   0%\n",
            "joblib-1.2.0         | 205 KB    | ########## | 100%\n",
            "\n",
            "boost-1.74.0         | 342 KB    |            |   0%\n",
            "boost-1.74.0         | 342 KB    | ########## | 100%\n",
            "boost-1.74.0         | 342 KB    | ########## | 100%\n",
            "\n",
            "xorg-libxtst-1.2.3   | 31 KB     |            |   0%\n",
            "xorg-libxtst-1.2.3   | 31 KB     | ########## | 100%\n",
            "\n",
            "websockets-10.3      | 122 KB    |            |   0%\n",
            "websockets-10.3      | 122 KB    | ########## | 100%\n",
            "\n",
            "zict-2.2.0           | 20 KB     |            |   0%\n",
            "zict-2.2.0           | 20 KB     | ########## | 100%\n",
            "\n",
            "xorg-libxi-1.7.10    | 46 KB     |            |   0%\n",
            "xorg-libxi-1.7.10    | 46 KB     | ########## | 100%\n",
            "\n",
            "nbconvert-core-7.2.3 | 191 KB    |            |   0%\n",
            "nbconvert-core-7.2.3 | 191 KB    | ########## | 100%\n",
            "nbconvert-core-7.2.3 | 191 KB    | ########## | 100%\n",
            "\n",
            "icu-68.2             | 13.1 MB   |            |   0%\n",
            "icu-68.2             | 13.1 MB   | ######4    |  64%\n",
            "icu-68.2             | 13.1 MB   | ########## | 100%\n",
            "\n",
            "nccl-2.14.3.1        | 145.2 MB  |            |   0%\n",
            "nccl-2.14.3.1        | 145.2 MB  | 6          |   6%\n",
            "nccl-2.14.3.1        | 145.2 MB  | #2         |  12%\n",
            "nccl-2.14.3.1        | 145.2 MB  | ##         |  20%\n",
            "nccl-2.14.3.1        | 145.2 MB  | ##7        |  27%\n",
            "nccl-2.14.3.1        | 145.2 MB  | ###4       |  34%\n",
            "nccl-2.14.3.1        | 145.2 MB  | ####3      |  44%\n",
            "nccl-2.14.3.1        | 145.2 MB  | #####3     |  54%\n",
            "nccl-2.14.3.1        | 145.2 MB  | ######1    |  62%\n",
            "nccl-2.14.3.1        | 145.2 MB  | ######9    |  70%\n",
            "nccl-2.14.3.1        | 145.2 MB  | #######7   |  77%\n",
            "nccl-2.14.3.1        | 145.2 MB  | ########4  |  85%\n",
            "nccl-2.14.3.1        | 145.2 MB  | #########3 |  94%\n",
            "nccl-2.14.3.1        | 145.2 MB  | ########## | 100%\n",
            "\n",
            "webencodings-0.5.1   | 12 KB     |            |   0%\n",
            "webencodings-0.5.1   | 12 KB     | ########## | 100%\n",
            "\n",
            "abseil-cpp-20210324. | 1010 KB   |            |   0%\n",
            "abseil-cpp-20210324. | 1010 KB   | ########## | 100%\n",
            "abseil-cpp-20210324. | 1010 KB   | ########## | 100%\n",
            "\n",
            "python-fastjsonschem | 242 KB    |            |   0%\n",
            "python-fastjsonschem | 242 KB    | ########## | 100%\n",
            "python-fastjsonschem | 242 KB    | ########## | 100%\n",
            "\n",
            "jpeg-9e              | 269 KB    |            |   0%\n",
            "jpeg-9e              | 269 KB    | ########## | 100%\n",
            "\n",
            "harfbuzz-2.9.1       | 2.0 MB    |            |   0%\n",
            "harfbuzz-2.9.1       | 2.0 MB    | ########## | 100%\n",
            "harfbuzz-2.9.1       | 2.0 MB    | ########## | 100%\n",
            "\n",
            "libarchive-3.5.2     | 1.6 MB    |            |   0%\n",
            "libarchive-3.5.2     | 1.6 MB    | ########## | 100%\n",
            "libarchive-3.5.2     | 1.6 MB    | ########## | 100%\n",
            "\n",
            "xorg-libx11-1.7.2    | 941 KB    |            |   0%\n",
            "xorg-libx11-1.7.2    | 941 KB    | ########## | 100%\n",
            "xorg-libx11-1.7.2    | 941 KB    | ########## | 100%\n",
            "\n",
            "libpq-13.5           | 2.8 MB    |            |   0%\n",
            "libpq-13.5           | 2.8 MB    | ########## | 100%\n",
            "libpq-13.5           | 2.8 MB    | ########## | 100%\n",
            "\n",
            "libwebp-1.2.2        | 85 KB     |            |   0%\n",
            "libwebp-1.2.2        | 85 KB     | ########## | 100%\n",
            "\n",
            "pygments-2.13.0      | 821 KB    |            |   0%\n",
            "pygments-2.13.0      | 821 KB    | ########## | 100%\n",
            "pygments-2.13.0      | 821 KB    | ########## | 100%\n",
            "\n",
            "cuxfilter-21.12.00   | 137 KB    |            |   0%\n",
            "cuxfilter-21.12.00   | 137 KB    | #1         |  12%\n",
            "cuxfilter-21.12.00   | 137 KB    | ###4       |  35%\n",
            "cuxfilter-21.12.00   | 137 KB    | ########1  |  81%\n",
            "cuxfilter-21.12.00   | 137 KB    | ########## | 100%\n",
            "\n",
            "attrs-22.1.0         | 48 KB     |            |   0%\n",
            "attrs-22.1.0         | 48 KB     | ########## | 100%\n",
            "\n",
            "aws-c-io-0.10.14     | 137 KB    |            |   0%\n",
            "aws-c-io-0.10.14     | 137 KB    | ########## | 100%\n",
            "\n",
            "aws-c-sdkutils-0.1.1 | 23 KB     |            |   0%\n",
            "aws-c-sdkutils-0.1.1 | 23 KB     | ########## | 100%\n",
            "\n",
            "xarray-0.20.2        | 628 KB    |            |   0%\n",
            "xarray-0.20.2        | 628 KB    | ########## | 100%\n",
            "xarray-0.20.2        | 628 KB    | ########## | 100%\n",
            "\n",
            "libgfortran-ng-12.2. | 22 KB     |            |   0%\n",
            "libgfortran-ng-12.2. | 22 KB     | ########## | 100%\n",
            "\n",
            "google-resumable-med | 43 KB     |            |   0%\n",
            "google-resumable-med | 43 KB     | ########## | 100%\n",
            "\n",
            "markupsafe-2.1.1     | 22 KB     |            |   0%\n",
            "markupsafe-2.1.1     | 22 KB     | ########## | 100%\n",
            "\n",
            "nbclient-0.7.0       | 65 KB     |            |   0%\n",
            "nbclient-0.7.0       | 65 KB     | ########## | 100%\n",
            "\n",
            "libcugraph-21.12.00  | 259.4 MB  |            |   0%\n",
            "libcugraph-21.12.00  | 259.4 MB  |            |   0%\n",
            "libcugraph-21.12.00  | 259.4 MB  |            |   0%\n",
            "libcugraph-21.12.00  | 259.4 MB  |            |   0%\n",
            "libcugraph-21.12.00  | 259.4 MB  |            |   0%\n",
            "libcugraph-21.12.00  | 259.4 MB  |            |   1%\n",
            "libcugraph-21.12.00  | 259.4 MB  | 1          |   1%\n",
            "libcugraph-21.12.00  | 259.4 MB  | 2          |   2%\n",
            "libcugraph-21.12.00  | 259.4 MB  | 3          |   3%\n",
            "libcugraph-21.12.00  | 259.4 MB  | 3          |   4%\n",
            "libcugraph-21.12.00  | 259.4 MB  | 4          |   5%\n",
            "libcugraph-21.12.00  | 259.4 MB  | 5          |   6%\n",
            "libcugraph-21.12.00  | 259.4 MB  | 6          |   6%\n",
            "libcugraph-21.12.00  | 259.4 MB  | 7          |   7%\n",
            "libcugraph-21.12.00  | 259.4 MB  | 8          |   8%\n",
            "libcugraph-21.12.00  | 259.4 MB  | 8          |   9%\n",
            "libcugraph-21.12.00  | 259.4 MB  | 9          |  10%\n",
            "libcugraph-21.12.00  | 259.4 MB  | #          |  11%\n",
            "libcugraph-21.12.00  | 259.4 MB  | #1         |  11%\n",
            "libcugraph-21.12.00  | 259.4 MB  | #2         |  12%\n",
            "libcugraph-21.12.00  | 259.4 MB  | #3         |  13%\n",
            "libcugraph-21.12.00  | 259.4 MB  | #3         |  14%\n",
            "libcugraph-21.12.00  | 259.4 MB  | #4         |  15%\n",
            "libcugraph-21.12.00  | 259.4 MB  | #5         |  16%\n",
            "libcugraph-21.12.00  | 259.4 MB  | #6         |  17%\n",
            "libcugraph-21.12.00  | 259.4 MB  | #7         |  17%\n",
            "libcugraph-21.12.00  | 259.4 MB  | #8         |  18%\n",
            "libcugraph-21.12.00  | 259.4 MB  | #9         |  19%\n",
            "libcugraph-21.12.00  | 259.4 MB  | ##         |  20%\n",
            "libcugraph-21.12.00  | 259.4 MB  | ##1        |  21%\n",
            "libcugraph-21.12.00  | 259.4 MB  | ##1        |  22%\n",
            "libcugraph-21.12.00  | 259.4 MB  | ##2        |  23%\n",
            "libcugraph-21.12.00  | 259.4 MB  | ##3        |  24%\n",
            "libcugraph-21.12.00  | 259.4 MB  | ##4        |  25%\n",
            "libcugraph-21.12.00  | 259.4 MB  | ##5        |  26%\n",
            "libcugraph-21.12.00  | 259.4 MB  | ##6        |  27%\n",
            "libcugraph-21.12.00  | 259.4 MB  | ##7        |  28%\n",
            "libcugraph-21.12.00  | 259.4 MB  | ##8        |  29%\n",
            "libcugraph-21.12.00  | 259.4 MB  | ##9        |  30%\n",
            "libcugraph-21.12.00  | 259.4 MB  | ###        |  31%\n",
            "libcugraph-21.12.00  | 259.4 MB  | ###1       |  32%\n",
            "libcugraph-21.12.00  | 259.4 MB  | ###2       |  33%\n",
            "libcugraph-21.12.00  | 259.4 MB  | ###3       |  34%\n",
            "libcugraph-21.12.00  | 259.4 MB  | ###4       |  35%\n",
            "libcugraph-21.12.00  | 259.4 MB  | ###5       |  36%\n",
            "libcugraph-21.12.00  | 259.4 MB  | ###6       |  37%\n",
            "libcugraph-21.12.00  | 259.4 MB  | ###7       |  38%\n",
            "libcugraph-21.12.00  | 259.4 MB  | ###8       |  38%\n",
            "libcugraph-21.12.00  | 259.4 MB  | ###9       |  39%\n",
            "libcugraph-21.12.00  | 259.4 MB  | ####       |  40%\n",
            "libcugraph-21.12.00  | 259.4 MB  | ####1      |  41%\n",
            "libcugraph-21.12.00  | 259.4 MB  | ####2      |  42%\n",
            "libcugraph-21.12.00  | 259.4 MB  | ####3      |  43%\n",
            "libcugraph-21.12.00  | 259.4 MB  | ####4      |  44%\n",
            "libcugraph-21.12.00  | 259.4 MB  | ####5      |  45%\n",
            "libcugraph-21.12.00  | 259.4 MB  | ####6      |  47%\n",
            "libcugraph-21.12.00  | 259.4 MB  | ####7      |  47%\n",
            "libcugraph-21.12.00  | 259.4 MB  | ####8      |  48%\n",
            "libcugraph-21.12.00  | 259.4 MB  | ####9      |  49%\n",
            "libcugraph-21.12.00  | 259.4 MB  | #####      |  50%\n",
            "libcugraph-21.12.00  | 259.4 MB  | #####1     |  51%\n",
            "libcugraph-21.12.00  | 259.4 MB  | #####2     |  52%\n",
            "libcugraph-21.12.00  | 259.4 MB  | #####3     |  53%\n",
            "libcugraph-21.12.00  | 259.4 MB  | #####4     |  55%\n",
            "libcugraph-21.12.00  | 259.4 MB  | #####5     |  56%\n",
            "libcugraph-21.12.00  | 259.4 MB  | #####6     |  57%\n",
            "libcugraph-21.12.00  | 259.4 MB  | #####7     |  58%\n",
            "libcugraph-21.12.00  | 259.4 MB  | #####8     |  59%\n",
            "libcugraph-21.12.00  | 259.4 MB  | #####9     |  60%\n",
            "libcugraph-21.12.00  | 259.4 MB  | ######     |  61%\n",
            "libcugraph-21.12.00  | 259.4 MB  | ######1    |  62%\n",
            "libcugraph-21.12.00  | 259.4 MB  | ######2    |  63%\n",
            "libcugraph-21.12.00  | 259.4 MB  | ######3    |  64%\n",
            "libcugraph-21.12.00  | 259.4 MB  | ######4    |  65%\n",
            "libcugraph-21.12.00  | 259.4 MB  | ######5    |  66%\n",
            "libcugraph-21.12.00  | 259.4 MB  | ######6    |  67%\n",
            "libcugraph-21.12.00  | 259.4 MB  | ######8    |  68%\n",
            "libcugraph-21.12.00  | 259.4 MB  | ######9    |  69%\n",
            "libcugraph-21.12.00  | 259.4 MB  | #######    |  70%\n",
            "libcugraph-21.12.00  | 259.4 MB  | #######1   |  71%\n",
            "libcugraph-21.12.00  | 259.4 MB  | #######2   |  72%\n",
            "libcugraph-21.12.00  | 259.4 MB  | #######3   |  73%\n",
            "libcugraph-21.12.00  | 259.4 MB  | #######4   |  74%\n",
            "libcugraph-21.12.00  | 259.4 MB  | #######5   |  75%\n",
            "libcugraph-21.12.00  | 259.4 MB  | #######6   |  77%\n",
            "libcugraph-21.12.00  | 259.4 MB  | #######7   |  78%\n",
            "libcugraph-21.12.00  | 259.4 MB  | #######8   |  79%\n",
            "libcugraph-21.12.00  | 259.4 MB  | #######9   |  80%\n",
            "libcugraph-21.12.00  | 259.4 MB  | ########   |  80%\n",
            "libcugraph-21.12.00  | 259.4 MB  | ########1  |  81%\n",
            "libcugraph-21.12.00  | 259.4 MB  | ########2  |  82%\n",
            "libcugraph-21.12.00  | 259.4 MB  | ########3  |  83%\n",
            "libcugraph-21.12.00  | 259.4 MB  | ########4  |  84%\n",
            "libcugraph-21.12.00  | 259.4 MB  | ########5  |  85%\n",
            "libcugraph-21.12.00  | 259.4 MB  | ########6  |  86%\n",
            "libcugraph-21.12.00  | 259.4 MB  | ########7  |  87%\n",
            "libcugraph-21.12.00  | 259.4 MB  | ########8  |  88%\n",
            "libcugraph-21.12.00  | 259.4 MB  | ########9  |  89%\n",
            "libcugraph-21.12.00  | 259.4 MB  | #########  |  90%\n",
            "libcugraph-21.12.00  | 259.4 MB  | #########1 |  91%\n",
            "libcugraph-21.12.00  | 259.4 MB  | #########2 |  92%\n",
            "libcugraph-21.12.00  | 259.4 MB  | #########3 |  93%\n",
            "libcugraph-21.12.00  | 259.4 MB  | #########4 |  95%\n",
            "libcugraph-21.12.00  | 259.4 MB  | #########5 |  96%\n",
            "libcugraph-21.12.00  | 259.4 MB  | #########6 |  97%\n",
            "libcugraph-21.12.00  | 259.4 MB  | #########7 |  98%\n",
            "libcugraph-21.12.00  | 259.4 MB  | #########8 |  99%\n",
            "libcugraph-21.12.00  | 259.4 MB  | #########9 | 100%\n",
            "libcugraph-21.12.00  | 259.4 MB  | ########## | 100%\n",
            "\n",
            "backports.functools_ | 9 KB      |            |   0%\n",
            "backports.functools_ | 9 KB      | ########## | 100%\n",
            "\n",
            "soupsieve-2.3.2.post | 34 KB     |            |   0%\n",
            "soupsieve-2.3.2.post | 34 KB     | ########## | 100%\n",
            "\n",
            "pytz-2022.5          | 238 KB    |            |   0%\n",
            "pytz-2022.5          | 238 KB    | ########## | 100%\n",
            "pytz-2022.5          | 238 KB    | ########## | 100%\n",
            "\n",
            "imagecodecs-2021.8.2 | 7.2 MB    |            |   0%\n",
            "imagecodecs-2021.8.2 | 7.2 MB    | ########## | 100%\n",
            "imagecodecs-2021.8.2 | 7.2 MB    | ########## | 100%\n",
            "\n",
            "xorg-kbproto-1.0.7   | 27 KB     |            |   0%\n",
            "xorg-kbproto-1.0.7   | 27 KB     | ########## | 100%\n",
            "\n",
            "unicodedata2-14.0.0  | 496 KB    |            |   0%\n",
            "unicodedata2-14.0.0  | 496 KB    | ########## | 100%\n",
            "\n",
            "re2-2021.11.01       | 222 KB    |            |   0%\n",
            "re2-2021.11.01       | 222 KB    | ########## | 100%\n",
            "\n",
            "pyct-0.4.6           | 3 KB      |            |   0%\n",
            "pyct-0.4.6           | 3 KB      | ########## | 100%\n",
            "\n",
            "backports.zoneinfo-0 | 47 KB     |            |   0%\n",
            "backports.zoneinfo-0 | 47 KB     | ########## | 100%\n",
            "\n",
            "fonts-conda-ecosyste | 4 KB      |            |   0%\n",
            "fonts-conda-ecosyste | 4 KB      | ########## | 100%\n",
            "Preparing transaction: ...working... done\n",
            "Verifying transaction: ...working... done\n",
            "Executing transaction: ...working... By downloading and using the CUDA Toolkit conda packages, you accept the terms and conditions of the CUDA End User License Agreement (EULA): https://docs.nvidia.com/cuda/eula/index.html\n",
            "\n",
            "done\n",
            "Retrieving notices: ...working... done\n",
            "\n",
            "\n",
            "==> WARNING: A newer version of conda exists. <==\n",
            "  current version: 4.14.0\n",
            "  latest version: 22.9.0\n",
            "\n",
            "Please update conda by running\n",
            "\n",
            "    $ conda update -n base -c conda-forge conda\n",
            "\n",
            "\n",
            "RAPIDS conda installation complete.  Updating Colab's libraries...\n",
            "Copying /usr/local/lib/libcudf.so to /usr/lib/libcudf.so\n",
            "Copying /usr/local/lib/libnccl.so to /usr/lib/libnccl.so\n",
            "Copying /usr/local/lib/libcuml.so to /usr/lib/libcuml.so\n",
            "Copying /usr/local/lib/libcugraph.so to /usr/lib/libcugraph.so\n",
            "Copying /usr/local/lib/libxgboost.so to /usr/lib/libxgboost.so\n",
            "Copying /usr/local/lib/libcuspatial.so to /usr/lib/libcuspatial.so\n",
            "Copying /usr/local/lib/libgeos.so to /usr/lib/libgeos.so\n",
            "Copying /usr/local/lib/libgeos_c.so to /usr/lib/libgeos_c.so\n"
          ]
        }
      ]
    },
    {
      "cell_type": "markdown",
      "metadata": {
        "id": "9h8pLLDmCWH-"
      },
      "source": [
        "Intro to cuDF\n",
        "=======================\n",
        "\n",
        "Welcome to first cuDF tutorial notebook! This is a short introduction to cuDF, partly modeled after 10 Minutes to Pandas, geared primarily for new users. cuDF is a Python GPU DataFrame library (built on the Apache Arrow columnar memory format) for loading, joining, aggregating, filtering, and otherwise manipulating data. While we'll only cover some of the cuDF functionality, but at the end of this tutorial we hope you'll feel confident creating and analyzing GPU DataFrames. The tutorial is split into different modules as shown in the list below, based on their individual content and also contain embedded exercises for your practice.\n",
        "\n",
        "For more information about CuDF refer to the documentation here: https://docs.rapids.ai/api/cudf/stable/\n",
        " \n",
        "We'll start by introducing the pandas library, and quickly move on cuDF."
      ]
    },
    {
      "cell_type": "markdown",
      "metadata": {
        "id": "fXR0_RUwCWH_"
      },
      "source": [
        "## Here is the list of contents in the lab:\n",
        "- <a href='#pandas'>Pandas</a><br> A short introduction to the Pandas library, used commonly in data science for data manipulation and convenient storage.\n",
        "- <a href='#dataframe'>CuDF Dataframes</a><br> This module shows you how to work with CuDF dataframes, the GPU equivalent of Pandas dataframes, for faster data transactions. It includes creating CuDF objects, viewing data, selecting data, boolean indexing and dealing with missing data.\n",
        "- <a href='#operation'>Operations</a><br> Learn how to view descriptive statistics, perform string operations, concatenate, joins, append, group data and use applymap.\n",
        "- <a href='#time'>TimeSeries</a><br> Introduction to using TimeSeries data format in CuDF   \n",
        "- <a href='#condatarep'>Converting Data Representations</a><br> Here we will work with converting data representations, including CuPy, Pandas and Numpy, that are commonly required in data science pipelines.\n",
        "- <a href='#datainout'>Getting Data In and Out</a><br> Transfering CuDf dataframes to and from CSV files.\n",
        "- <a href='#performance'>Performance</a><br> Study the performance metrics of code written using CuDF compared to the regular data science operations and observe the benefits.\n",
        "- <a href='#sensorex'>Sensor Data Example</a><br> Apply the fundamental methods of CuDF to work with a sample of sensor data."
      ]
    },
    {
      "cell_type": "code",
      "execution_count": null,
      "metadata": {
        "id": "h30pMfaCCWIA"
      },
      "outputs": [],
      "source": [
        "import os\n",
        "import numpy as np\n",
        "import math\n",
        "np.random.seed(12)"
      ]
    },
    {
      "cell_type": "markdown",
      "metadata": {
        "id": "S3VMMOOxCWIB"
      },
      "source": [
        "<a id=\"pandas\"></a>\n",
        "## Pandas\n",
        "\n",
        "Data scientists typically work with two types of data: unstructured and structured. Unstructured data often comes in the form of text, images, or videos. Structured data - as the name suggests - comes in a structured form, often represented by a table or CSV. We'll focus the majority of these tutorials on working with structured data.\n",
        "\n",
        "There exist many tools in the Python ecosystem for working with structured, tabular data but few are as widely used as Pandas. Pandas represents data in a table and allows a data scientist to manipulate the data to perform a number of useful operations such as filtering, transforming, aggregating, merging, visualizing and many more. \n",
        "\n",
        "For more information on Pandas, check out the excellent documentation: http://pandas.pydata.org/pandas-docs/stable/\n",
        "\n",
        "Below we show how to create a Pandas DataFrame, an internal object for representing tabular data."
      ]
    },
    {
      "cell_type": "code",
      "execution_count": null,
      "metadata": {
        "colab": {
          "base_uri": "https://localhost:8080/"
        },
        "id": "IhbYW0KNCWIB",
        "outputId": "f0a5471a-511b-4e2a-8257-5851428e13ff"
      },
      "outputs": [
        {
          "output_type": "stream",
          "name": "stdout",
          "text": [
            "Pandas Version: 1.3.5\n",
            "   key  value\n",
            "0    0   10.0\n",
            "1    0   11.0\n",
            "2    2   12.0\n",
            "3    2   13.0\n",
            "4    3   14.0\n"
          ]
        }
      ],
      "source": [
        "import pandas as pd; print('Pandas Version:', pd.__version__)\n",
        "\n",
        "\n",
        "# here we create a Pandas DataFrame with\n",
        "# two columns named \"key\" and \"value\"\n",
        "df = pd.DataFrame()\n",
        "df['key'] = [0, 0, 2, 2, 3]\n",
        "df['value'] = [float(i + 10) for i in range(5)]\n",
        "print(df)"
      ]
    },
    {
      "cell_type": "markdown",
      "metadata": {
        "id": "h0kAcXx4CWIC"
      },
      "source": [
        "We can perform many operations on this data. For example, let's say we wanted to sum all values in the in the `value` column. We could accomplish this using the following syntax:"
      ]
    },
    {
      "cell_type": "code",
      "execution_count": null,
      "metadata": {
        "colab": {
          "base_uri": "https://localhost:8080/"
        },
        "id": "0FwaymVNCWIC",
        "outputId": "50dd7eba-72c0-4244-8f3d-1e2c47e22bfa"
      },
      "outputs": [
        {
          "output_type": "stream",
          "name": "stdout",
          "text": [
            "60.0\n"
          ]
        }
      ],
      "source": [
        "aggregation = df['value'].sum()\n",
        "print(aggregation)"
      ]
    },
    {
      "cell_type": "markdown",
      "metadata": {
        "id": "pt2Tn5aSCWID"
      },
      "source": [
        "<a id=\"cudf\"></a>\n",
        "## cuDF\n",
        "\n",
        "Pandas is fantastic for working with small datasets that fit into your system's memory and workflows that are not computationally intense. However, datasets are growing larger and data scientists are working with increasingly complex workloads - the need for accelerated computing is increasing rapidly.\n",
        "\n",
        "cuDF is a package within the RAPIDS ecosystem that allows data scientists to easily migrate their existing Pandas workflows from CPU to GPU, where computations can leverage the immense parallelization that GPUs provide.\n",
        "\n",
        "Below, we show how to create a cuDF DataFrame."
      ]
    },
    {
      "cell_type": "code",
      "execution_count": null,
      "metadata": {
        "colab": {
          "base_uri": "https://localhost:8080/",
          "height": 224
        },
        "id": "zTYU7WmqCWID",
        "outputId": "a030a68e-1311-462d-b903-3955d095863b"
      },
      "outputs": [
        {
          "output_type": "stream",
          "name": "stdout",
          "text": [
            "cuDF Version: 21.12.02\n"
          ]
        },
        {
          "output_type": "execute_result",
          "data": {
            "text/plain": [
              "   key  value\n",
              "0    0   10.0\n",
              "1    0   11.0\n",
              "2    2   12.0\n",
              "3    2   13.0\n",
              "4    3   14.0"
            ],
            "text/html": [
              "<div>\n",
              "<style scoped>\n",
              "    .dataframe tbody tr th:only-of-type {\n",
              "        vertical-align: middle;\n",
              "    }\n",
              "\n",
              "    .dataframe tbody tr th {\n",
              "        vertical-align: top;\n",
              "    }\n",
              "\n",
              "    .dataframe thead th {\n",
              "        text-align: right;\n",
              "    }\n",
              "</style>\n",
              "<table border=\"1\" class=\"dataframe\">\n",
              "  <thead>\n",
              "    <tr style=\"text-align: right;\">\n",
              "      <th></th>\n",
              "      <th>key</th>\n",
              "      <th>value</th>\n",
              "    </tr>\n",
              "  </thead>\n",
              "  <tbody>\n",
              "    <tr>\n",
              "      <th>0</th>\n",
              "      <td>0</td>\n",
              "      <td>10.0</td>\n",
              "    </tr>\n",
              "    <tr>\n",
              "      <th>1</th>\n",
              "      <td>0</td>\n",
              "      <td>11.0</td>\n",
              "    </tr>\n",
              "    <tr>\n",
              "      <th>2</th>\n",
              "      <td>2</td>\n",
              "      <td>12.0</td>\n",
              "    </tr>\n",
              "    <tr>\n",
              "      <th>3</th>\n",
              "      <td>2</td>\n",
              "      <td>13.0</td>\n",
              "    </tr>\n",
              "    <tr>\n",
              "      <th>4</th>\n",
              "      <td>3</td>\n",
              "      <td>14.0</td>\n",
              "    </tr>\n",
              "  </tbody>\n",
              "</table>\n",
              "</div>"
            ]
          },
          "metadata": {},
          "execution_count": 6
        }
      ],
      "source": [
        "import cudf; print('cuDF Version:', cudf.__version__)\n",
        "\n",
        "\n",
        "# here we create a cuDF DataFrame with\n",
        "# two columns named \"key\" and \"value\"\n",
        "df = cudf.DataFrame()\n",
        "df['key'] = [0, 0, 2, 2, 3]\n",
        "df['value'] = [float(i + 10) for i in range(5)]\n",
        "df"
      ]
    },
    {
      "cell_type": "markdown",
      "metadata": {
        "id": "dQaQGWFfCWIE"
      },
      "source": [
        "As before, we can take this cuDF DataFrame and perform a `sum` operation over the `value` column. The key difference is that any operations we perform using cuDF use the GPU instead of the CPU."
      ]
    },
    {
      "cell_type": "code",
      "execution_count": null,
      "metadata": {
        "colab": {
          "base_uri": "https://localhost:8080/"
        },
        "id": "SD7Le_SUCWIE",
        "outputId": "9481417b-e645-49e1-a1aa-86e155b86b09"
      },
      "outputs": [
        {
          "output_type": "stream",
          "name": "stdout",
          "text": [
            "60.0\n"
          ]
        }
      ],
      "source": [
        "aggregation = df['value'].sum()\n",
        "print(aggregation)"
      ]
    },
    {
      "cell_type": "markdown",
      "metadata": {
        "id": "bINojv9lCWIE"
      },
      "source": [
        "Note how the syntax for both creating and manipulating a cuDF DataFrame is identical to the syntax necessary to create and manipulate Pandas DataFrames; the cuDF API is based on the Pandas API. This design choice minimizes the cognitive burden of switching from a CPU based workflow to a GPU based workflow and allows data scientists to focus on solving problems while benefitting from the speed of a GPU!"
      ]
    },
    {
      "cell_type": "markdown",
      "metadata": {
        "id": "sDD3zKzsCWIF"
      },
      "source": [
        "<a id='dataframe'></a>\n",
        "# DataFrame Basics with cuDF\n",
        "\n",
        "In the following tutorial, you'll get a chance to familiarize yourself with cuDF. For those of you with experience using pandas, this should look nearly identical.\n",
        "\n",
        "Along the way you'll notice small exercises. These exercises are designed to help you get a feel for writing the code yourself, but if you get stuck, you can take a look at the solutions.\n",
        "\n",
        "Portions of this were borrowed from the 10 Minutes to cuDF guide."
      ]
    },
    {
      "cell_type": "markdown",
      "metadata": {
        "id": "BqlohlZuCWIF"
      },
      "source": [
        "<a id=\"objcreation\"></a>\n",
        "\n",
        "Object Creation\n",
        "---------------"
      ]
    },
    {
      "cell_type": "markdown",
      "metadata": {
        "id": "cN4EMwa6CWIF"
      },
      "source": [
        "Creating a `cudf.Series`."
      ]
    },
    {
      "cell_type": "code",
      "execution_count": null,
      "metadata": {
        "colab": {
          "base_uri": "https://localhost:8080/"
        },
        "id": "kUpfWitOCWIG",
        "outputId": "72b1292f-422f-48bd-e592-2fd034cac539"
      },
      "outputs": [
        {
          "output_type": "stream",
          "name": "stdout",
          "text": [
            "0       1\n",
            "1       2\n",
            "2       3\n",
            "3    <NA>\n",
            "4       4\n",
            "dtype: int64\n"
          ]
        }
      ],
      "source": [
        "s = cudf.Series([1,2,3,None,4])\n",
        "print(s)"
      ]
    },
    {
      "cell_type": "markdown",
      "metadata": {
        "id": "G1SLtby0CWIG"
      },
      "source": [
        "Creating a `cudf.DataFrame` by specifying values for each column."
      ]
    },
    {
      "cell_type": "code",
      "execution_count": null,
      "metadata": {
        "colab": {
          "base_uri": "https://localhost:8080/"
        },
        "id": "QZev6VAzCWIG",
        "outputId": "51eb428d-da29-436f-cae3-e996c9b52d83"
      },
      "outputs": [
        {
          "output_type": "stream",
          "name": "stdout",
          "text": [
            "     a   b   c\n",
            "0    0  19   0\n",
            "1    1  18   1\n",
            "2    2  17   2\n",
            "3    3  16   3\n",
            "4    4  15   4\n",
            "5    5  14   5\n",
            "6    6  13   6\n",
            "7    7  12   7\n",
            "8    8  11   8\n",
            "9    9  10   9\n",
            "10  10   9  10\n",
            "11  11   8  11\n",
            "12  12   7  12\n",
            "13  13   6  13\n",
            "14  14   5  14\n",
            "15  15   4  15\n",
            "16  16   3  16\n",
            "17  17   2  17\n",
            "18  18   1  18\n",
            "19  19   0  19\n"
          ]
        }
      ],
      "source": [
        "df = cudf.DataFrame({'a': list(range(20)),\n",
        "'b': list(reversed(range(20))),\n",
        "'c': list(range(20))})\n",
        "print(df)"
      ]
    },
    {
      "cell_type": "markdown",
      "metadata": {
        "id": "ciEIXzBDCWIG"
      },
      "source": [
        "Creating a `cudf.DataFrame` from a `pd.Dataframe`."
      ]
    },
    {
      "cell_type": "code",
      "execution_count": null,
      "metadata": {
        "colab": {
          "base_uri": "https://localhost:8080/"
        },
        "id": "-SGjpwjjCWIH",
        "outputId": "d44e3437-6de6-4e2d-8904-07a9ab441338"
      },
      "outputs": [
        {
          "output_type": "stream",
          "name": "stdout",
          "text": [
            "   a     b\n",
            "0  0   0.1\n",
            "1  1   0.2\n",
            "2  2  <NA>\n",
            "3  3   0.3\n"
          ]
        }
      ],
      "source": [
        "pdf = pd.DataFrame({'a': [0, 1, 2, 3],'b': [0.1, 0.2, None, 0.3]})\n",
        "gdf = cudf.DataFrame.from_pandas(pdf)\n",
        "print(gdf)"
      ]
    },
    {
      "cell_type": "markdown",
      "metadata": {
        "id": "TTQzJ6uGCWIH"
      },
      "source": [
        "<a id='viewing'></a>\n",
        "\n",
        "Viewing Data\n",
        "-------------"
      ]
    },
    {
      "cell_type": "markdown",
      "metadata": {
        "id": "KZXD_eXaCWIH"
      },
      "source": [
        "Viewing the top rows of a GPU dataframe."
      ]
    },
    {
      "cell_type": "code",
      "execution_count": null,
      "metadata": {
        "colab": {
          "base_uri": "https://localhost:8080/"
        },
        "id": "9CY1__6DCWII",
        "outputId": "d459e72d-b616-47fa-c93c-2bc45b2479b4"
      },
      "outputs": [
        {
          "output_type": "stream",
          "name": "stdout",
          "text": [
            "   a   b  c\n",
            "0  0  19  0\n",
            "1  1  18  1\n"
          ]
        }
      ],
      "source": [
        "print(df.head(2))"
      ]
    },
    {
      "cell_type": "markdown",
      "metadata": {
        "id": "YYGcgvQJCWII"
      },
      "source": [
        "Sorting by values."
      ]
    },
    {
      "cell_type": "code",
      "execution_count": null,
      "metadata": {
        "colab": {
          "base_uri": "https://localhost:8080/"
        },
        "id": "9cZUS6nfCWII",
        "outputId": "49ac4364-97d1-433d-f126-1e2f6711147b"
      },
      "outputs": [
        {
          "output_type": "stream",
          "name": "stdout",
          "text": [
            "     a   b   c\n",
            "19  19   0  19\n",
            "18  18   1  18\n",
            "17  17   2  17\n",
            "16  16   3  16\n",
            "15  15   4  15\n",
            "14  14   5  14\n",
            "13  13   6  13\n",
            "12  12   7  12\n",
            "11  11   8  11\n",
            "10  10   9  10\n",
            "9    9  10   9\n",
            "8    8  11   8\n",
            "7    7  12   7\n",
            "6    6  13   6\n",
            "5    5  14   5\n",
            "4    4  15   4\n",
            "3    3  16   3\n",
            "2    2  17   2\n",
            "1    1  18   1\n",
            "0    0  19   0\n"
          ]
        }
      ],
      "source": [
        "print(df.sort_values(by='b'))"
      ]
    },
    {
      "cell_type": "markdown",
      "metadata": {
        "id": "QacjhsnfCWII"
      },
      "source": [
        "<a id='selection'></a>\n",
        "\n",
        "\n",
        "Selection\n",
        "------------\n",
        "\n",
        "## Getting data"
      ]
    },
    {
      "cell_type": "markdown",
      "metadata": {
        "id": "SE3ts0H2CWIJ"
      },
      "source": [
        "Selecting a single column, which initially yields a `cudf.Series` (equivalent to `df.a`)."
      ]
    },
    {
      "cell_type": "code",
      "execution_count": null,
      "metadata": {
        "colab": {
          "base_uri": "https://localhost:8080/"
        },
        "id": "iDJQs5PpCWIJ",
        "outputId": "66e6832a-7041-45a3-cc3c-537d0f468226"
      },
      "outputs": [
        {
          "output_type": "stream",
          "name": "stdout",
          "text": [
            "0      0\n",
            "1      1\n",
            "2      2\n",
            "3      3\n",
            "4      4\n",
            "5      5\n",
            "6      6\n",
            "7      7\n",
            "8      8\n",
            "9      9\n",
            "10    10\n",
            "11    11\n",
            "12    12\n",
            "13    13\n",
            "14    14\n",
            "15    15\n",
            "16    16\n",
            "17    17\n",
            "18    18\n",
            "19    19\n",
            "Name: a, dtype: int64\n"
          ]
        }
      ],
      "source": [
        "print(df['a'])"
      ]
    },
    {
      "cell_type": "markdown",
      "metadata": {
        "id": "Mi8DglXwCWIJ"
      },
      "source": [
        "<a id='sellabel'></a>\n",
        "## Selection by Label"
      ]
    },
    {
      "cell_type": "markdown",
      "metadata": {
        "id": "Zi9XosGTCWIJ"
      },
      "source": [
        "Selecting rows from index 2 to index 5 from columns `a` and `b`."
      ]
    },
    {
      "cell_type": "code",
      "execution_count": null,
      "metadata": {
        "colab": {
          "base_uri": "https://localhost:8080/"
        },
        "id": "srU_ZQH1CWIJ",
        "outputId": "ea14f0b8-bb8b-4d06-cd52-c5bd4d4d041f"
      },
      "outputs": [
        {
          "output_type": "stream",
          "name": "stdout",
          "text": [
            "   a   b\n",
            "2  2  17\n",
            "3  3  16\n",
            "4  4  15\n",
            "5  5  14\n"
          ]
        }
      ],
      "source": [
        "print(df.loc[2:5, ['a', 'b']])"
      ]
    },
    {
      "cell_type": "markdown",
      "metadata": {
        "id": "nYge9VdqCWIK"
      },
      "source": [
        "<a id='selpos'></a>\n",
        "\n",
        "## Selection by Position"
      ]
    },
    {
      "cell_type": "markdown",
      "metadata": {
        "id": "YyR3MisTCWIK"
      },
      "source": [
        "Selecting via integers and integer slices, like numpy/pandas."
      ]
    },
    {
      "cell_type": "code",
      "execution_count": null,
      "metadata": {
        "colab": {
          "base_uri": "https://localhost:8080/",
          "height": 143
        },
        "id": "DdI2OleaCWIK",
        "outputId": "c5088ad3-7de2-4222-f86c-a7c2bad959de"
      },
      "outputs": [
        {
          "output_type": "execute_result",
          "data": {
            "text/plain": [
              "   a   b\n",
              "0  0  19\n",
              "1  1  18\n",
              "2  2  17"
            ],
            "text/html": [
              "<div>\n",
              "<style scoped>\n",
              "    .dataframe tbody tr th:only-of-type {\n",
              "        vertical-align: middle;\n",
              "    }\n",
              "\n",
              "    .dataframe tbody tr th {\n",
              "        vertical-align: top;\n",
              "    }\n",
              "\n",
              "    .dataframe thead th {\n",
              "        text-align: right;\n",
              "    }\n",
              "</style>\n",
              "<table border=\"1\" class=\"dataframe\">\n",
              "  <thead>\n",
              "    <tr style=\"text-align: right;\">\n",
              "      <th></th>\n",
              "      <th>a</th>\n",
              "      <th>b</th>\n",
              "    </tr>\n",
              "  </thead>\n",
              "  <tbody>\n",
              "    <tr>\n",
              "      <th>0</th>\n",
              "      <td>0</td>\n",
              "      <td>19</td>\n",
              "    </tr>\n",
              "    <tr>\n",
              "      <th>1</th>\n",
              "      <td>1</td>\n",
              "      <td>18</td>\n",
              "    </tr>\n",
              "    <tr>\n",
              "      <th>2</th>\n",
              "      <td>2</td>\n",
              "      <td>17</td>\n",
              "    </tr>\n",
              "  </tbody>\n",
              "</table>\n",
              "</div>"
            ]
          },
          "metadata": {},
          "execution_count": 20
        }
      ],
      "source": [
        "df.iloc[0:3, 0:2]"
      ]
    },
    {
      "cell_type": "markdown",
      "metadata": {
        "id": "ty0DMaMZCWIK"
      },
      "source": [
        "You can also select elements of a `DataFrame` or `Series` with direct index access."
      ]
    },
    {
      "cell_type": "code",
      "execution_count": null,
      "metadata": {
        "colab": {
          "base_uri": "https://localhost:8080/",
          "height": 112
        },
        "id": "wHvioS_cCWIL",
        "outputId": "5cfc9247-1c20-400f-a2d8-95306101d053"
      },
      "outputs": [
        {
          "output_type": "execute_result",
          "data": {
            "text/plain": [
              "   a   b  c\n",
              "3  3  16  3\n",
              "4  4  15  4"
            ],
            "text/html": [
              "<div>\n",
              "<style scoped>\n",
              "    .dataframe tbody tr th:only-of-type {\n",
              "        vertical-align: middle;\n",
              "    }\n",
              "\n",
              "    .dataframe tbody tr th {\n",
              "        vertical-align: top;\n",
              "    }\n",
              "\n",
              "    .dataframe thead th {\n",
              "        text-align: right;\n",
              "    }\n",
              "</style>\n",
              "<table border=\"1\" class=\"dataframe\">\n",
              "  <thead>\n",
              "    <tr style=\"text-align: right;\">\n",
              "      <th></th>\n",
              "      <th>a</th>\n",
              "      <th>b</th>\n",
              "      <th>c</th>\n",
              "    </tr>\n",
              "  </thead>\n",
              "  <tbody>\n",
              "    <tr>\n",
              "      <th>3</th>\n",
              "      <td>3</td>\n",
              "      <td>16</td>\n",
              "      <td>3</td>\n",
              "    </tr>\n",
              "    <tr>\n",
              "      <th>4</th>\n",
              "      <td>4</td>\n",
              "      <td>15</td>\n",
              "      <td>4</td>\n",
              "    </tr>\n",
              "  </tbody>\n",
              "</table>\n",
              "</div>"
            ]
          },
          "metadata": {},
          "execution_count": 21
        }
      ],
      "source": [
        "df[3:5]"
      ]
    },
    {
      "cell_type": "code",
      "execution_count": null,
      "metadata": {
        "colab": {
          "base_uri": "https://localhost:8080/"
        },
        "id": "0VcxGLJmCWIL",
        "outputId": "6ede45b4-8c8d-4333-c1b3-8bbd76ae756e"
      },
      "outputs": [
        {
          "output_type": "execute_result",
          "data": {
            "text/plain": [
              "3    <NA>\n",
              "4       4\n",
              "dtype: int64"
            ]
          },
          "metadata": {},
          "execution_count": 23
        }
      ],
      "source": [
        "s[3:5]"
      ]
    },
    {
      "cell_type": "markdown",
      "metadata": {
        "id": "E5kRbT5pCWIL"
      },
      "source": [
        "<a id='exercise1'></a>\n",
        "\n",
        "## Exercise 1\n",
        "\n",
        "Try to select only the rows at index `4` and `9` from `df`.\n",
        "\n",
        "<details><summary><b>Solution</b></summary>\n",
        "   <pre>\n",
        "    <br>print(df.iloc[[4,9]])\n",
        "   </pre>\n",
        "</details>"
      ]
    },
    {
      "cell_type": "code",
      "execution_count": null,
      "metadata": {
        "colab": {
          "base_uri": "https://localhost:8080/"
        },
        "id": "I8puQ5LRCWIL",
        "outputId": "f2c944ea-8728-4345-9985-ec3f29c60419"
      },
      "outputs": [
        {
          "output_type": "stream",
          "name": "stdout",
          "text": [
            "   a   b  c\n",
            "4  4  15  4\n",
            "9  9  10  9\n"
          ]
        }
      ],
      "source": [
        "    \n",
        "print(df.iloc[[4,9]])"
      ]
    },
    {
      "cell_type": "markdown",
      "metadata": {
        "id": "X082qF5YCWIL"
      },
      "source": [
        "<a id='boolean'> </a>\n",
        "\n",
        "## Boolean Indexing"
      ]
    },
    {
      "cell_type": "markdown",
      "metadata": {
        "id": "ThfzTFkCCWIM"
      },
      "source": [
        "Selecting rows in a `DataFrame` or `Series` by direct Boolean indexing."
      ]
    },
    {
      "cell_type": "code",
      "execution_count": null,
      "metadata": {
        "colab": {
          "base_uri": "https://localhost:8080/"
        },
        "id": "XNzQkZssCWIM",
        "outputId": "d69183b7-b65b-4c7d-d091-defe13c38564"
      },
      "outputs": [
        {
          "output_type": "stream",
          "name": "stdout",
          "text": [
            "   a   b  c\n",
            "0  0  19  0\n",
            "1  1  18  1\n",
            "2  2  17  2\n",
            "3  3  16  3\n"
          ]
        }
      ],
      "source": [
        "print(df[df.b > 15])"
      ]
    },
    {
      "cell_type": "markdown",
      "metadata": {
        "id": "ncsj39xkCWIN"
      },
      "source": [
        "<a id='exercise2'></a>\n",
        "\n",
        "## Exercise 2\n",
        "\n",
        "Try to select only the rows from `df` where the value in column `b` is greater than the value in column `c` + 6.\n",
        "\n",
        "<details><summary><b>Solution</b></summary>\n",
        "   <pre>\n",
        "    <br>print(df.query(\"b > c + 6\"))\n",
        "   </pre>\n",
        "</details>"
      ]
    },
    {
      "cell_type": "code",
      "execution_count": null,
      "metadata": {
        "colab": {
          "base_uri": "https://localhost:8080/",
          "height": 269
        },
        "id": "Fw9Wxs5mCWIN",
        "outputId": "01df9235-0261-4036-e2af-2724cdfaf091"
      },
      "outputs": [
        {
          "output_type": "execute_result",
          "data": {
            "text/plain": [
              "   a   b  c\n",
              "0  0  19  0\n",
              "1  1  18  1\n",
              "2  2  17  2\n",
              "3  3  16  3\n",
              "4  4  15  4\n",
              "5  5  14  5\n",
              "6  6  13  6"
            ],
            "text/html": [
              "<div>\n",
              "<style scoped>\n",
              "    .dataframe tbody tr th:only-of-type {\n",
              "        vertical-align: middle;\n",
              "    }\n",
              "\n",
              "    .dataframe tbody tr th {\n",
              "        vertical-align: top;\n",
              "    }\n",
              "\n",
              "    .dataframe thead th {\n",
              "        text-align: right;\n",
              "    }\n",
              "</style>\n",
              "<table border=\"1\" class=\"dataframe\">\n",
              "  <thead>\n",
              "    <tr style=\"text-align: right;\">\n",
              "      <th></th>\n",
              "      <th>a</th>\n",
              "      <th>b</th>\n",
              "      <th>c</th>\n",
              "    </tr>\n",
              "  </thead>\n",
              "  <tbody>\n",
              "    <tr>\n",
              "      <th>0</th>\n",
              "      <td>0</td>\n",
              "      <td>19</td>\n",
              "      <td>0</td>\n",
              "    </tr>\n",
              "    <tr>\n",
              "      <th>1</th>\n",
              "      <td>1</td>\n",
              "      <td>18</td>\n",
              "      <td>1</td>\n",
              "    </tr>\n",
              "    <tr>\n",
              "      <th>2</th>\n",
              "      <td>2</td>\n",
              "      <td>17</td>\n",
              "      <td>2</td>\n",
              "    </tr>\n",
              "    <tr>\n",
              "      <th>3</th>\n",
              "      <td>3</td>\n",
              "      <td>16</td>\n",
              "      <td>3</td>\n",
              "    </tr>\n",
              "    <tr>\n",
              "      <th>4</th>\n",
              "      <td>4</td>\n",
              "      <td>15</td>\n",
              "      <td>4</td>\n",
              "    </tr>\n",
              "    <tr>\n",
              "      <th>5</th>\n",
              "      <td>5</td>\n",
              "      <td>14</td>\n",
              "      <td>5</td>\n",
              "    </tr>\n",
              "    <tr>\n",
              "      <th>6</th>\n",
              "      <td>6</td>\n",
              "      <td>13</td>\n",
              "      <td>6</td>\n",
              "    </tr>\n",
              "  </tbody>\n",
              "</table>\n",
              "</div>"
            ]
          },
          "metadata": {},
          "execution_count": 33
        }
      ],
      "source": [
        "df[df.b>df.c+6]"
      ]
    },
    {
      "cell_type": "markdown",
      "metadata": {
        "id": "O5NVuuEVCWIO"
      },
      "source": [
        "<a id='missing'></a>\n",
        "\n",
        "Missing Data\n",
        "------------"
      ]
    },
    {
      "cell_type": "markdown",
      "metadata": {
        "id": "0QhwwBG6CWIO"
      },
      "source": [
        "Missing data can be replaced by using the `fillna` method."
      ]
    },
    {
      "cell_type": "code",
      "execution_count": null,
      "metadata": {
        "colab": {
          "base_uri": "https://localhost:8080/"
        },
        "id": "GTD_YP5WCWIO",
        "outputId": "fe0127a2-7cbe-4355-b98b-6a912a550604"
      },
      "outputs": [
        {
          "output_type": "stream",
          "name": "stdout",
          "text": [
            "0      1\n",
            "1      2\n",
            "2      3\n",
            "3    999\n",
            "4      4\n",
            "dtype: int64\n"
          ]
        }
      ],
      "source": [
        "print(s.fillna(999))"
      ]
    },
    {
      "cell_type": "markdown",
      "metadata": {
        "id": "96x8TNrbCWIO"
      },
      "source": [
        "Missing data can be dropped by using the `dropna` method."
      ]
    },
    {
      "cell_type": "code",
      "execution_count": null,
      "metadata": {
        "colab": {
          "base_uri": "https://localhost:8080/"
        },
        "id": "RgF_eDDrCWIO",
        "outputId": "2f059558-cc28-4e06-86a1-1f942dd8d346"
      },
      "outputs": [
        {
          "output_type": "stream",
          "name": "stdout",
          "text": [
            "0    1\n",
            "1    2\n",
            "2    3\n",
            "4    4\n",
            "dtype: int64\n"
          ]
        }
      ],
      "source": [
        "print(s.dropna())"
      ]
    },
    {
      "cell_type": "markdown",
      "metadata": {
        "id": "fUlfa4I6CWIP"
      },
      "source": [
        "<a id='operation'></a>\n",
        "\n",
        "Operations\n",
        "------------"
      ]
    },
    {
      "cell_type": "markdown",
      "metadata": {
        "id": "A2-tUmBSCWIP"
      },
      "source": [
        "<a id='stats'></a>\n",
        "\n",
        "## Stats"
      ]
    },
    {
      "cell_type": "markdown",
      "metadata": {
        "id": "MiaszDAfCWIP"
      },
      "source": [
        "Calculating descriptive statistics for a `Series`."
      ]
    },
    {
      "cell_type": "code",
      "execution_count": null,
      "metadata": {
        "id": "kz6eLc2mCWIP"
      },
      "outputs": [],
      "source": [
        "s = cudf.Series(np.arange(10)).astype(np.float32)"
      ]
    },
    {
      "cell_type": "code",
      "execution_count": null,
      "metadata": {
        "colab": {
          "base_uri": "https://localhost:8080/"
        },
        "id": "zxl-jkh-CWIP",
        "outputId": "0d23f877-c39a-4079-c37b-ec60ae36fa35"
      },
      "outputs": [
        {
          "output_type": "stream",
          "name": "stdout",
          "text": [
            "4.5 9.166666666666668 3.0276503540974917 -1.200000000000001\n"
          ]
        }
      ],
      "source": [
        "print(s.mean(), s.var(), s.std(), s.kurtosis())"
      ]
    },
    {
      "cell_type": "code",
      "execution_count": null,
      "metadata": {
        "colab": {
          "base_uri": "https://localhost:8080/"
        },
        "id": "aYKMzD-DCWIQ",
        "outputId": "0627ac47-3b34-4a83-9a8f-5ec972919687"
      },
      "outputs": [
        {
          "output_type": "stream",
          "name": "stdout",
          "text": [
            "              a         b         c\n",
            "count  20.00000  20.00000  20.00000\n",
            "mean    9.50000   9.50000   9.50000\n",
            "std     5.91608   5.91608   5.91608\n",
            "min     0.00000   0.00000   0.00000\n",
            "25%     4.75000   4.75000   4.75000\n",
            "50%     9.50000   9.50000   9.50000\n",
            "75%    14.25000  14.25000  14.25000\n",
            "max    19.00000  19.00000  19.00000\n"
          ]
        }
      ],
      "source": [
        "print(df.describe())"
      ]
    },
    {
      "cell_type": "markdown",
      "metadata": {
        "id": "ylKgaMDvCWIQ"
      },
      "source": [
        "<a id='applymap'></a>\n",
        "\n",
        "## Applymap"
      ]
    },
    {
      "cell_type": "markdown",
      "metadata": {
        "id": "LwBcxLDsCWIQ"
      },
      "source": [
        "Applying functions to a `Series`."
      ]
    },
    {
      "cell_type": "code",
      "execution_count": null,
      "metadata": {
        "colab": {
          "base_uri": "https://localhost:8080/",
          "height": 537
        },
        "id": "eHor0W4kCWIQ",
        "outputId": "0b2a52ea-9ac4-490d-a5d3-5ac89b45b91b"
      },
      "outputs": [
        {
          "output_type": "error",
          "ename": "TypingError",
          "evalue": "ignored",
          "traceback": [
            "\u001b[0;31m---------------------------------------------------------------------------\u001b[0m",
            "\u001b[0;31mTypingError\u001b[0m                               Traceback (most recent call last)",
            "\u001b[0;32m<ipython-input-47-47b39a375f80>\u001b[0m in \u001b[0;36m<module>\u001b[0;34m\u001b[0m\n\u001b[0;32m----> 1\u001b[0;31m \u001b[0mprint\u001b[0m\u001b[0;34m(\u001b[0m\u001b[0ms\u001b[0m\u001b[0;34m.\u001b[0m\u001b[0mapplymap\u001b[0m\u001b[0;34m(\u001b[0m\u001b[0;32mlambda\u001b[0m \u001b[0mx\u001b[0m\u001b[0;34m:\u001b[0m \u001b[0;34m(\u001b[0m\u001b[0mx\u001b[0m \u001b[0;34m**\u001b[0m \u001b[0;36m2\u001b[0m\u001b[0;34m)\u001b[0m \u001b[0;34m+\u001b[0m \u001b[0;34m(\u001b[0m\u001b[0mx\u001b[0m \u001b[0;34m/\u001b[0m \u001b[0;36m2\u001b[0m\u001b[0;34m)\u001b[0m\u001b[0;34m)\u001b[0m\u001b[0;34m)\u001b[0m\u001b[0;34m\u001b[0m\u001b[0;34m\u001b[0m\u001b[0m\n\u001b[0m",
            "\u001b[0;32m/usr/local/lib/python3.7/site-packages/cudf/core/series.py\u001b[0m in \u001b[0;36mapplymap\u001b[0;34m(self, udf, out_dtype)\u001b[0m\n\u001b[1;32m   2639\u001b[0m         \u001b[0;32mif\u001b[0m \u001b[0;32mnot\u001b[0m \u001b[0mcallable\u001b[0m\u001b[0;34m(\u001b[0m\u001b[0mudf\u001b[0m\u001b[0;34m)\u001b[0m\u001b[0;34m:\u001b[0m\u001b[0;34m\u001b[0m\u001b[0;34m\u001b[0m\u001b[0m\n\u001b[1;32m   2640\u001b[0m             \u001b[0;32mraise\u001b[0m \u001b[0mValueError\u001b[0m\u001b[0;34m(\u001b[0m\u001b[0;34m\"Input UDF must be a callable object.\"\u001b[0m\u001b[0;34m)\u001b[0m\u001b[0;34m\u001b[0m\u001b[0;34m\u001b[0m\u001b[0m\n\u001b[0;32m-> 2641\u001b[0;31m         \u001b[0;32mreturn\u001b[0m \u001b[0mself\u001b[0m\u001b[0;34m.\u001b[0m\u001b[0m_from_data\u001b[0m\u001b[0;34m(\u001b[0m\u001b[0;34m{\u001b[0m\u001b[0mself\u001b[0m\u001b[0;34m.\u001b[0m\u001b[0mname\u001b[0m\u001b[0;34m:\u001b[0m \u001b[0mself\u001b[0m\u001b[0;34m.\u001b[0m\u001b[0m_unaryop\u001b[0m\u001b[0;34m(\u001b[0m\u001b[0mudf\u001b[0m\u001b[0;34m)\u001b[0m\u001b[0;34m}\u001b[0m\u001b[0;34m,\u001b[0m \u001b[0mself\u001b[0m\u001b[0;34m.\u001b[0m\u001b[0m_index\u001b[0m\u001b[0;34m)\u001b[0m\u001b[0;34m\u001b[0m\u001b[0;34m\u001b[0m\u001b[0m\n\u001b[0m\u001b[1;32m   2642\u001b[0m \u001b[0;34m\u001b[0m\u001b[0m\n\u001b[1;32m   2643\u001b[0m     \u001b[0;31m#\u001b[0m\u001b[0;34m\u001b[0m\u001b[0;34m\u001b[0m\u001b[0;34m\u001b[0m\u001b[0m\n",
            "\u001b[0;32m/usr/local/lib/python3.7/site-packages/cudf/core/frame.py\u001b[0m in \u001b[0;36m_unaryop\u001b[0;34m(self, op)\u001b[0m\n\u001b[1;32m   3824\u001b[0m         \u001b[0mdata_columns\u001b[0m \u001b[0;34m=\u001b[0m \u001b[0;34m(\u001b[0m\u001b[0mcol\u001b[0m\u001b[0;34m.\u001b[0m\u001b[0munary_operator\u001b[0m\u001b[0;34m(\u001b[0m\u001b[0mop\u001b[0m\u001b[0;34m)\u001b[0m \u001b[0;32mfor\u001b[0m \u001b[0mcol\u001b[0m \u001b[0;32min\u001b[0m \u001b[0mself\u001b[0m\u001b[0;34m.\u001b[0m\u001b[0m_columns\u001b[0m\u001b[0;34m)\u001b[0m\u001b[0;34m\u001b[0m\u001b[0;34m\u001b[0m\u001b[0m\n\u001b[1;32m   3825\u001b[0m         return self.__class__._from_data(\n\u001b[0;32m-> 3826\u001b[0;31m             \u001b[0mzip\u001b[0m\u001b[0;34m(\u001b[0m\u001b[0mself\u001b[0m\u001b[0;34m.\u001b[0m\u001b[0m_column_names\u001b[0m\u001b[0;34m,\u001b[0m \u001b[0mdata_columns\u001b[0m\u001b[0;34m)\u001b[0m\u001b[0;34m,\u001b[0m \u001b[0mself\u001b[0m\u001b[0;34m.\u001b[0m\u001b[0m_index\u001b[0m\u001b[0;34m\u001b[0m\u001b[0;34m\u001b[0m\u001b[0m\n\u001b[0m\u001b[1;32m   3827\u001b[0m         )\n\u001b[1;32m   3828\u001b[0m \u001b[0;34m\u001b[0m\u001b[0m\n",
            "\u001b[0;32m/usr/local/lib/python3.7/site-packages/cudf/core/series.py\u001b[0m in \u001b[0;36m_from_data\u001b[0;34m(cls, data, index, name)\u001b[0m\n\u001b[1;32m    461\u001b[0m         \u001b[0mConstruct\u001b[0m \u001b[0mthe\u001b[0m \u001b[0mSeries\u001b[0m \u001b[0;32mfrom\u001b[0m \u001b[0ma\u001b[0m \u001b[0mColumnAccessor\u001b[0m\u001b[0;34m\u001b[0m\u001b[0;34m\u001b[0m\u001b[0m\n\u001b[1;32m    462\u001b[0m         \"\"\"\n\u001b[0;32m--> 463\u001b[0;31m         \u001b[0mout\u001b[0m\u001b[0;34m:\u001b[0m \u001b[0mSeries\u001b[0m \u001b[0;34m=\u001b[0m \u001b[0msuper\u001b[0m\u001b[0;34m(\u001b[0m\u001b[0;34m)\u001b[0m\u001b[0;34m.\u001b[0m\u001b[0m_from_data\u001b[0m\u001b[0;34m(\u001b[0m\u001b[0mdata\u001b[0m\u001b[0;34m,\u001b[0m \u001b[0mindex\u001b[0m\u001b[0;34m,\u001b[0m \u001b[0mname\u001b[0m\u001b[0;34m)\u001b[0m\u001b[0;34m\u001b[0m\u001b[0;34m\u001b[0m\u001b[0m\n\u001b[0m\u001b[1;32m    464\u001b[0m         \u001b[0;32mif\u001b[0m \u001b[0mindex\u001b[0m \u001b[0;32mis\u001b[0m \u001b[0;32mNone\u001b[0m\u001b[0;34m:\u001b[0m\u001b[0;34m\u001b[0m\u001b[0;34m\u001b[0m\u001b[0m\n\u001b[1;32m    465\u001b[0m             \u001b[0mout\u001b[0m\u001b[0;34m.\u001b[0m\u001b[0m_index\u001b[0m \u001b[0;34m=\u001b[0m \u001b[0mRangeIndex\u001b[0m\u001b[0;34m(\u001b[0m\u001b[0mout\u001b[0m\u001b[0;34m.\u001b[0m\u001b[0m_data\u001b[0m\u001b[0;34m.\u001b[0m\u001b[0mnrows\u001b[0m\u001b[0;34m)\u001b[0m\u001b[0;34m\u001b[0m\u001b[0;34m\u001b[0m\u001b[0m\n",
            "\u001b[0;32m/usr/local/lib/python3.7/site-packages/cudf/core/single_column_frame.py\u001b[0m in \u001b[0;36m_from_data\u001b[0;34m(cls, data, index, name)\u001b[0m\n\u001b[1;32m     62\u001b[0m     ):\n\u001b[1;32m     63\u001b[0m \u001b[0;34m\u001b[0m\u001b[0m\n\u001b[0;32m---> 64\u001b[0;31m         \u001b[0mout\u001b[0m \u001b[0;34m=\u001b[0m \u001b[0msuper\u001b[0m\u001b[0;34m(\u001b[0m\u001b[0;34m)\u001b[0m\u001b[0;34m.\u001b[0m\u001b[0m_from_data\u001b[0m\u001b[0;34m(\u001b[0m\u001b[0mdata\u001b[0m\u001b[0;34m,\u001b[0m \u001b[0mindex\u001b[0m\u001b[0;34m)\u001b[0m\u001b[0;34m\u001b[0m\u001b[0;34m\u001b[0m\u001b[0m\n\u001b[0m\u001b[1;32m     65\u001b[0m         \u001b[0;32mif\u001b[0m \u001b[0mname\u001b[0m \u001b[0;32mis\u001b[0m \u001b[0;32mnot\u001b[0m \u001b[0;32mNone\u001b[0m\u001b[0;34m:\u001b[0m\u001b[0;34m\u001b[0m\u001b[0;34m\u001b[0m\u001b[0m\n\u001b[1;32m     66\u001b[0m             \u001b[0mout\u001b[0m\u001b[0;34m.\u001b[0m\u001b[0mname\u001b[0m \u001b[0;34m=\u001b[0m \u001b[0mname\u001b[0m\u001b[0;34m\u001b[0m\u001b[0;34m\u001b[0m\u001b[0m\n",
            "\u001b[0;32m/usr/local/lib/python3.7/site-packages/cudf/core/frame.py\u001b[0m in \u001b[0;36m_from_data\u001b[0;34m(cls, data, index)\u001b[0m\n\u001b[1;32m    138\u001b[0m     ):\n\u001b[1;32m    139\u001b[0m         \u001b[0mobj\u001b[0m \u001b[0;34m=\u001b[0m \u001b[0mcls\u001b[0m\u001b[0;34m.\u001b[0m\u001b[0m__new__\u001b[0m\u001b[0;34m(\u001b[0m\u001b[0mcls\u001b[0m\u001b[0;34m)\u001b[0m\u001b[0;34m\u001b[0m\u001b[0;34m\u001b[0m\u001b[0m\n\u001b[0;32m--> 140\u001b[0;31m         \u001b[0mFrame\u001b[0m\u001b[0;34m.\u001b[0m\u001b[0m__init__\u001b[0m\u001b[0;34m(\u001b[0m\u001b[0mobj\u001b[0m\u001b[0;34m,\u001b[0m \u001b[0mdata\u001b[0m\u001b[0;34m,\u001b[0m \u001b[0mindex\u001b[0m\u001b[0;34m)\u001b[0m\u001b[0;34m\u001b[0m\u001b[0;34m\u001b[0m\u001b[0m\n\u001b[0m\u001b[1;32m    141\u001b[0m         \u001b[0;32mreturn\u001b[0m \u001b[0mobj\u001b[0m\u001b[0;34m\u001b[0m\u001b[0;34m\u001b[0m\u001b[0m\n\u001b[1;32m    142\u001b[0m \u001b[0;34m\u001b[0m\u001b[0m\n",
            "\u001b[0;32m/usr/local/lib/python3.7/site-packages/cudf/core/frame.py\u001b[0m in \u001b[0;36m__init__\u001b[0;34m(self, data, index)\u001b[0m\n\u001b[1;32m     76\u001b[0m         \u001b[0;32mif\u001b[0m \u001b[0mdata\u001b[0m \u001b[0;32mis\u001b[0m \u001b[0;32mNone\u001b[0m\u001b[0;34m:\u001b[0m\u001b[0;34m\u001b[0m\u001b[0;34m\u001b[0m\u001b[0m\n\u001b[1;32m     77\u001b[0m             \u001b[0mdata\u001b[0m \u001b[0;34m=\u001b[0m \u001b[0;34m{\u001b[0m\u001b[0;34m}\u001b[0m\u001b[0;34m\u001b[0m\u001b[0;34m\u001b[0m\u001b[0m\n\u001b[0;32m---> 78\u001b[0;31m         \u001b[0mself\u001b[0m\u001b[0;34m.\u001b[0m\u001b[0m_data\u001b[0m \u001b[0;34m=\u001b[0m \u001b[0mcudf\u001b[0m\u001b[0;34m.\u001b[0m\u001b[0mcore\u001b[0m\u001b[0;34m.\u001b[0m\u001b[0mcolumn_accessor\u001b[0m\u001b[0;34m.\u001b[0m\u001b[0mColumnAccessor\u001b[0m\u001b[0;34m(\u001b[0m\u001b[0mdata\u001b[0m\u001b[0;34m)\u001b[0m\u001b[0;34m\u001b[0m\u001b[0;34m\u001b[0m\u001b[0m\n\u001b[0m\u001b[1;32m     79\u001b[0m         \u001b[0mself\u001b[0m\u001b[0;34m.\u001b[0m\u001b[0m_index\u001b[0m \u001b[0;34m=\u001b[0m \u001b[0mindex\u001b[0m\u001b[0;34m\u001b[0m\u001b[0;34m\u001b[0m\u001b[0m\n\u001b[1;32m     80\u001b[0m \u001b[0;34m\u001b[0m\u001b[0m\n",
            "\u001b[0;32m/usr/local/lib/python3.7/site-packages/cudf/core/column_accessor.py\u001b[0m in \u001b[0;36m__init__\u001b[0;34m(self, data, multiindex, level_names)\u001b[0m\n\u001b[1;32m    119\u001b[0m             \u001b[0mself\u001b[0m\u001b[0;34m.\u001b[0m\u001b[0m_data\u001b[0m \u001b[0;34m=\u001b[0m \u001b[0;34m{\u001b[0m\u001b[0;34m}\u001b[0m\u001b[0;34m\u001b[0m\u001b[0;34m\u001b[0m\u001b[0m\n\u001b[1;32m    120\u001b[0m             \u001b[0;32mif\u001b[0m \u001b[0mdata\u001b[0m\u001b[0;34m:\u001b[0m\u001b[0;34m\u001b[0m\u001b[0;34m\u001b[0m\u001b[0m\n\u001b[0;32m--> 121\u001b[0;31m                 \u001b[0mdata\u001b[0m \u001b[0;34m=\u001b[0m \u001b[0mdict\u001b[0m\u001b[0;34m(\u001b[0m\u001b[0mdata\u001b[0m\u001b[0;34m)\u001b[0m\u001b[0;34m\u001b[0m\u001b[0;34m\u001b[0m\u001b[0m\n\u001b[0m\u001b[1;32m    122\u001b[0m                 \u001b[0;31m# Faster than next(iter(data.values()))\u001b[0m\u001b[0;34m\u001b[0m\u001b[0;34m\u001b[0m\u001b[0;34m\u001b[0m\u001b[0m\n\u001b[1;32m    123\u001b[0m                 \u001b[0mcolumn_length\u001b[0m \u001b[0;34m=\u001b[0m \u001b[0mlen\u001b[0m\u001b[0;34m(\u001b[0m\u001b[0mdata\u001b[0m\u001b[0;34m[\u001b[0m\u001b[0mnext\u001b[0m\u001b[0;34m(\u001b[0m\u001b[0miter\u001b[0m\u001b[0;34m(\u001b[0m\u001b[0mdata\u001b[0m\u001b[0;34m)\u001b[0m\u001b[0;34m)\u001b[0m\u001b[0;34m]\u001b[0m\u001b[0;34m)\u001b[0m\u001b[0;34m\u001b[0m\u001b[0;34m\u001b[0m\u001b[0m\n",
            "\u001b[0;32m/usr/local/lib/python3.7/site-packages/cudf/core/frame.py\u001b[0m in \u001b[0;36m<genexpr>\u001b[0;34m(.0)\u001b[0m\n\u001b[1;32m   3822\u001b[0m \u001b[0;34m\u001b[0m\u001b[0m\n\u001b[1;32m   3823\u001b[0m     \u001b[0;32mdef\u001b[0m \u001b[0m_unaryop\u001b[0m\u001b[0;34m(\u001b[0m\u001b[0mself\u001b[0m\u001b[0;34m,\u001b[0m \u001b[0mop\u001b[0m\u001b[0;34m)\u001b[0m\u001b[0;34m:\u001b[0m\u001b[0;34m\u001b[0m\u001b[0;34m\u001b[0m\u001b[0m\n\u001b[0;32m-> 3824\u001b[0;31m         \u001b[0mdata_columns\u001b[0m \u001b[0;34m=\u001b[0m \u001b[0;34m(\u001b[0m\u001b[0mcol\u001b[0m\u001b[0;34m.\u001b[0m\u001b[0munary_operator\u001b[0m\u001b[0;34m(\u001b[0m\u001b[0mop\u001b[0m\u001b[0;34m)\u001b[0m \u001b[0;32mfor\u001b[0m \u001b[0mcol\u001b[0m \u001b[0;32min\u001b[0m \u001b[0mself\u001b[0m\u001b[0;34m.\u001b[0m\u001b[0m_columns\u001b[0m\u001b[0;34m)\u001b[0m\u001b[0;34m\u001b[0m\u001b[0;34m\u001b[0m\u001b[0m\n\u001b[0m\u001b[1;32m   3825\u001b[0m         return self.__class__._from_data(\n\u001b[1;32m   3826\u001b[0m             \u001b[0mzip\u001b[0m\u001b[0;34m(\u001b[0m\u001b[0mself\u001b[0m\u001b[0;34m.\u001b[0m\u001b[0m_column_names\u001b[0m\u001b[0;34m,\u001b[0m \u001b[0mdata_columns\u001b[0m\u001b[0;34m)\u001b[0m\u001b[0;34m,\u001b[0m \u001b[0mself\u001b[0m\u001b[0;34m.\u001b[0m\u001b[0m_index\u001b[0m\u001b[0;34m\u001b[0m\u001b[0;34m\u001b[0m\u001b[0m\n",
            "\u001b[0;32m/usr/local/lib/python3.7/site-packages/cudf/core/column/numerical.py\u001b[0m in \u001b[0;36munary_operator\u001b[0;34m(self, unaryop)\u001b[0m\n\u001b[1;32m    120\u001b[0m     \u001b[0;32mdef\u001b[0m \u001b[0munary_operator\u001b[0m\u001b[0;34m(\u001b[0m\u001b[0mself\u001b[0m\u001b[0;34m,\u001b[0m \u001b[0munaryop\u001b[0m\u001b[0;34m:\u001b[0m \u001b[0mUnion\u001b[0m\u001b[0;34m[\u001b[0m\u001b[0mstr\u001b[0m\u001b[0;34m,\u001b[0m \u001b[0mCallable\u001b[0m\u001b[0;34m]\u001b[0m\u001b[0;34m)\u001b[0m \u001b[0;34m->\u001b[0m \u001b[0mColumnBase\u001b[0m\u001b[0;34m:\u001b[0m\u001b[0;34m\u001b[0m\u001b[0;34m\u001b[0m\u001b[0m\n\u001b[1;32m    121\u001b[0m         \u001b[0;32mif\u001b[0m \u001b[0mcallable\u001b[0m\u001b[0;34m(\u001b[0m\u001b[0munaryop\u001b[0m\u001b[0;34m)\u001b[0m\u001b[0;34m:\u001b[0m\u001b[0;34m\u001b[0m\u001b[0;34m\u001b[0m\u001b[0m\n\u001b[0;32m--> 122\u001b[0;31m             \u001b[0;32mreturn\u001b[0m \u001b[0mlibcudf\u001b[0m\u001b[0;34m.\u001b[0m\u001b[0mtransform\u001b[0m\u001b[0;34m.\u001b[0m\u001b[0mtransform\u001b[0m\u001b[0;34m(\u001b[0m\u001b[0mself\u001b[0m\u001b[0;34m,\u001b[0m \u001b[0munaryop\u001b[0m\u001b[0;34m)\u001b[0m\u001b[0;34m\u001b[0m\u001b[0;34m\u001b[0m\u001b[0m\n\u001b[0m\u001b[1;32m    123\u001b[0m \u001b[0;34m\u001b[0m\u001b[0m\n\u001b[1;32m    124\u001b[0m         \u001b[0munaryop\u001b[0m \u001b[0;34m=\u001b[0m \u001b[0mlibcudf\u001b[0m\u001b[0;34m.\u001b[0m\u001b[0munary\u001b[0m\u001b[0;34m.\u001b[0m\u001b[0mUnaryOp\u001b[0m\u001b[0;34m[\u001b[0m\u001b[0munaryop\u001b[0m\u001b[0;34m.\u001b[0m\u001b[0mupper\u001b[0m\u001b[0;34m(\u001b[0m\u001b[0;34m)\u001b[0m\u001b[0;34m]\u001b[0m\u001b[0;34m\u001b[0m\u001b[0;34m\u001b[0m\u001b[0m\n",
            "\u001b[0;32mcudf/_lib/transform.pyx\u001b[0m in \u001b[0;36mcudf._lib.transform.transform\u001b[0;34m()\u001b[0m\n",
            "\u001b[0;32m/usr/local/lib/python3.7/site-packages/cudf/utils/cudautils.py\u001b[0m in \u001b[0;36mcompile_udf\u001b[0;34m(udf, type_signature)\u001b[0m\n\u001b[1;32m    265\u001b[0m     \u001b[0;31m# compilation with Numba\u001b[0m\u001b[0;34m\u001b[0m\u001b[0;34m\u001b[0m\u001b[0;34m\u001b[0m\u001b[0m\n\u001b[1;32m    266\u001b[0m     ptx_code, return_type = cuda.compile_ptx_for_current_device(\n\u001b[0;32m--> 267\u001b[0;31m         \u001b[0mudf\u001b[0m\u001b[0;34m,\u001b[0m \u001b[0mtype_signature\u001b[0m\u001b[0;34m,\u001b[0m \u001b[0mdevice\u001b[0m\u001b[0;34m=\u001b[0m\u001b[0;32mTrue\u001b[0m\u001b[0;34m\u001b[0m\u001b[0;34m\u001b[0m\u001b[0m\n\u001b[0m\u001b[1;32m    268\u001b[0m     )\n\u001b[1;32m    269\u001b[0m     \u001b[0;32mif\u001b[0m \u001b[0;32mnot\u001b[0m \u001b[0misinstance\u001b[0m\u001b[0;34m(\u001b[0m\u001b[0mreturn_type\u001b[0m\u001b[0;34m,\u001b[0m \u001b[0mcudf\u001b[0m\u001b[0;34m.\u001b[0m\u001b[0mcore\u001b[0m\u001b[0;34m.\u001b[0m\u001b[0mudf\u001b[0m\u001b[0;34m.\u001b[0m\u001b[0mtyping\u001b[0m\u001b[0;34m.\u001b[0m\u001b[0mMaskedType\u001b[0m\u001b[0;34m)\u001b[0m\u001b[0;34m:\u001b[0m\u001b[0;34m\u001b[0m\u001b[0;34m\u001b[0m\u001b[0m\n",
            "\u001b[0;32m/usr/local/lib/python3.7/site-packages/numba/cuda/compiler.py\u001b[0m in \u001b[0;36mcompile_ptx_for_current_device\u001b[0;34m(pyfunc, args, debug, lineinfo, device, fastmath, opt)\u001b[0m\n\u001b[1;32m    290\u001b[0m     \u001b[0mcc\u001b[0m \u001b[0;34m=\u001b[0m \u001b[0mget_current_device\u001b[0m\u001b[0;34m(\u001b[0m\u001b[0;34m)\u001b[0m\u001b[0;34m.\u001b[0m\u001b[0mcompute_capability\u001b[0m\u001b[0;34m\u001b[0m\u001b[0;34m\u001b[0m\u001b[0m\n\u001b[1;32m    291\u001b[0m     return compile_ptx(pyfunc, args, debug=debug, lineinfo=lineinfo,\n\u001b[0;32m--> 292\u001b[0;31m                        device=device, fastmath=fastmath, cc=cc, opt=True)\n\u001b[0m\u001b[1;32m    293\u001b[0m \u001b[0;34m\u001b[0m\u001b[0m\n\u001b[1;32m    294\u001b[0m \u001b[0;34m\u001b[0m\u001b[0m\n",
            "\u001b[0;32m/usr/local/lib/python3.7/site-packages/numba/core/compiler_lock.py\u001b[0m in \u001b[0;36m_acquire_compile_lock\u001b[0;34m(*args, **kwargs)\u001b[0m\n\u001b[1;32m     33\u001b[0m         \u001b[0;32mdef\u001b[0m \u001b[0m_acquire_compile_lock\u001b[0m\u001b[0;34m(\u001b[0m\u001b[0;34m*\u001b[0m\u001b[0margs\u001b[0m\u001b[0;34m,\u001b[0m \u001b[0;34m**\u001b[0m\u001b[0mkwargs\u001b[0m\u001b[0;34m)\u001b[0m\u001b[0;34m:\u001b[0m\u001b[0;34m\u001b[0m\u001b[0;34m\u001b[0m\u001b[0m\n\u001b[1;32m     34\u001b[0m             \u001b[0;32mwith\u001b[0m \u001b[0mself\u001b[0m\u001b[0;34m:\u001b[0m\u001b[0;34m\u001b[0m\u001b[0;34m\u001b[0m\u001b[0m\n\u001b[0;32m---> 35\u001b[0;31m                 \u001b[0;32mreturn\u001b[0m \u001b[0mfunc\u001b[0m\u001b[0;34m(\u001b[0m\u001b[0;34m*\u001b[0m\u001b[0margs\u001b[0m\u001b[0;34m,\u001b[0m \u001b[0;34m**\u001b[0m\u001b[0mkwargs\u001b[0m\u001b[0;34m)\u001b[0m\u001b[0;34m\u001b[0m\u001b[0;34m\u001b[0m\u001b[0m\n\u001b[0m\u001b[1;32m     36\u001b[0m         \u001b[0;32mreturn\u001b[0m \u001b[0m_acquire_compile_lock\u001b[0m\u001b[0;34m\u001b[0m\u001b[0;34m\u001b[0m\u001b[0m\n\u001b[1;32m     37\u001b[0m \u001b[0;34m\u001b[0m\u001b[0m\n",
            "\u001b[0;32m/usr/local/lib/python3.7/site-packages/numba/cuda/compiler.py\u001b[0m in \u001b[0;36mcompile_ptx\u001b[0;34m(pyfunc, args, debug, lineinfo, device, fastmath, cc, opt)\u001b[0m\n\u001b[1;32m    267\u001b[0m     cres = compile_cuda(pyfunc, None, args, debug=debug, lineinfo=lineinfo,\n\u001b[1;32m    268\u001b[0m                         \u001b[0mfastmath\u001b[0m\u001b[0;34m=\u001b[0m\u001b[0mfastmath\u001b[0m\u001b[0;34m,\u001b[0m\u001b[0;34m\u001b[0m\u001b[0;34m\u001b[0m\u001b[0m\n\u001b[0;32m--> 269\u001b[0;31m                         nvvm_options=nvvm_options)\n\u001b[0m\u001b[1;32m    270\u001b[0m     \u001b[0mresty\u001b[0m \u001b[0;34m=\u001b[0m \u001b[0mcres\u001b[0m\u001b[0;34m.\u001b[0m\u001b[0msignature\u001b[0m\u001b[0;34m.\u001b[0m\u001b[0mreturn_type\u001b[0m\u001b[0;34m\u001b[0m\u001b[0;34m\u001b[0m\u001b[0m\n\u001b[1;32m    271\u001b[0m     \u001b[0;32mif\u001b[0m \u001b[0mdevice\u001b[0m\u001b[0;34m:\u001b[0m\u001b[0;34m\u001b[0m\u001b[0;34m\u001b[0m\u001b[0m\n",
            "\u001b[0;32m/usr/local/lib/python3.7/site-packages/numba/core/compiler_lock.py\u001b[0m in \u001b[0;36m_acquire_compile_lock\u001b[0;34m(*args, **kwargs)\u001b[0m\n\u001b[1;32m     33\u001b[0m         \u001b[0;32mdef\u001b[0m \u001b[0m_acquire_compile_lock\u001b[0m\u001b[0;34m(\u001b[0m\u001b[0;34m*\u001b[0m\u001b[0margs\u001b[0m\u001b[0;34m,\u001b[0m \u001b[0;34m**\u001b[0m\u001b[0mkwargs\u001b[0m\u001b[0;34m)\u001b[0m\u001b[0;34m:\u001b[0m\u001b[0;34m\u001b[0m\u001b[0;34m\u001b[0m\u001b[0m\n\u001b[1;32m     34\u001b[0m             \u001b[0;32mwith\u001b[0m \u001b[0mself\u001b[0m\u001b[0;34m:\u001b[0m\u001b[0;34m\u001b[0m\u001b[0;34m\u001b[0m\u001b[0m\n\u001b[0;32m---> 35\u001b[0;31m                 \u001b[0;32mreturn\u001b[0m \u001b[0mfunc\u001b[0m\u001b[0;34m(\u001b[0m\u001b[0;34m*\u001b[0m\u001b[0margs\u001b[0m\u001b[0;34m,\u001b[0m \u001b[0;34m**\u001b[0m\u001b[0mkwargs\u001b[0m\u001b[0;34m)\u001b[0m\u001b[0;34m\u001b[0m\u001b[0;34m\u001b[0m\u001b[0m\n\u001b[0m\u001b[1;32m     36\u001b[0m         \u001b[0;32mreturn\u001b[0m \u001b[0m_acquire_compile_lock\u001b[0m\u001b[0;34m\u001b[0m\u001b[0;34m\u001b[0m\u001b[0m\n\u001b[1;32m     37\u001b[0m \u001b[0;34m\u001b[0m\u001b[0m\n",
            "\u001b[0;32m/usr/local/lib/python3.7/site-packages/numba/cuda/compiler.py\u001b[0m in \u001b[0;36mcompile_cuda\u001b[0;34m(pyfunc, return_type, args, debug, lineinfo, inline, fastmath, nvvm_options)\u001b[0m\n\u001b[1;32m    215\u001b[0m                                   \u001b[0mflags\u001b[0m\u001b[0;34m=\u001b[0m\u001b[0mflags\u001b[0m\u001b[0;34m,\u001b[0m\u001b[0;34m\u001b[0m\u001b[0;34m\u001b[0m\u001b[0m\n\u001b[1;32m    216\u001b[0m                                   \u001b[0mlocals\u001b[0m\u001b[0;34m=\u001b[0m\u001b[0;34m{\u001b[0m\u001b[0;34m}\u001b[0m\u001b[0;34m,\u001b[0m\u001b[0;34m\u001b[0m\u001b[0;34m\u001b[0m\u001b[0m\n\u001b[0;32m--> 217\u001b[0;31m                                   pipeline_class=CUDACompiler)\n\u001b[0m\u001b[1;32m    218\u001b[0m \u001b[0;34m\u001b[0m\u001b[0m\n\u001b[1;32m    219\u001b[0m     \u001b[0mlibrary\u001b[0m \u001b[0;34m=\u001b[0m \u001b[0mcres\u001b[0m\u001b[0;34m.\u001b[0m\u001b[0mlibrary\u001b[0m\u001b[0;34m\u001b[0m\u001b[0;34m\u001b[0m\u001b[0m\n",
            "\u001b[0;32m/usr/local/lib/python3.7/site-packages/numba/core/compiler.py\u001b[0m in \u001b[0;36mcompile_extra\u001b[0;34m(typingctx, targetctx, func, args, return_type, flags, locals, library, pipeline_class)\u001b[0m\n\u001b[1;32m    714\u001b[0m     pipeline = pipeline_class(typingctx, targetctx, library,\n\u001b[1;32m    715\u001b[0m                               args, return_type, flags, locals)\n\u001b[0;32m--> 716\u001b[0;31m     \u001b[0;32mreturn\u001b[0m \u001b[0mpipeline\u001b[0m\u001b[0;34m.\u001b[0m\u001b[0mcompile_extra\u001b[0m\u001b[0;34m(\u001b[0m\u001b[0mfunc\u001b[0m\u001b[0;34m)\u001b[0m\u001b[0;34m\u001b[0m\u001b[0;34m\u001b[0m\u001b[0m\n\u001b[0m\u001b[1;32m    717\u001b[0m \u001b[0;34m\u001b[0m\u001b[0m\n\u001b[1;32m    718\u001b[0m \u001b[0;34m\u001b[0m\u001b[0m\n",
            "\u001b[0;32m/usr/local/lib/python3.7/site-packages/numba/core/compiler.py\u001b[0m in \u001b[0;36mcompile_extra\u001b[0;34m(self, func)\u001b[0m\n\u001b[1;32m    450\u001b[0m         \u001b[0mself\u001b[0m\u001b[0;34m.\u001b[0m\u001b[0mstate\u001b[0m\u001b[0;34m.\u001b[0m\u001b[0mlifted\u001b[0m \u001b[0;34m=\u001b[0m \u001b[0;34m(\u001b[0m\u001b[0;34m)\u001b[0m\u001b[0;34m\u001b[0m\u001b[0;34m\u001b[0m\u001b[0m\n\u001b[1;32m    451\u001b[0m         \u001b[0mself\u001b[0m\u001b[0;34m.\u001b[0m\u001b[0mstate\u001b[0m\u001b[0;34m.\u001b[0m\u001b[0mlifted_from\u001b[0m \u001b[0;34m=\u001b[0m \u001b[0;32mNone\u001b[0m\u001b[0;34m\u001b[0m\u001b[0;34m\u001b[0m\u001b[0m\n\u001b[0;32m--> 452\u001b[0;31m         \u001b[0;32mreturn\u001b[0m \u001b[0mself\u001b[0m\u001b[0;34m.\u001b[0m\u001b[0m_compile_bytecode\u001b[0m\u001b[0;34m(\u001b[0m\u001b[0;34m)\u001b[0m\u001b[0;34m\u001b[0m\u001b[0;34m\u001b[0m\u001b[0m\n\u001b[0m\u001b[1;32m    453\u001b[0m \u001b[0;34m\u001b[0m\u001b[0m\n\u001b[1;32m    454\u001b[0m     \u001b[0;32mdef\u001b[0m \u001b[0mcompile_ir\u001b[0m\u001b[0;34m(\u001b[0m\u001b[0mself\u001b[0m\u001b[0;34m,\u001b[0m \u001b[0mfunc_ir\u001b[0m\u001b[0;34m,\u001b[0m \u001b[0mlifted\u001b[0m\u001b[0;34m=\u001b[0m\u001b[0;34m(\u001b[0m\u001b[0;34m)\u001b[0m\u001b[0;34m,\u001b[0m \u001b[0mlifted_from\u001b[0m\u001b[0;34m=\u001b[0m\u001b[0;32mNone\u001b[0m\u001b[0;34m)\u001b[0m\u001b[0;34m:\u001b[0m\u001b[0;34m\u001b[0m\u001b[0;34m\u001b[0m\u001b[0m\n",
            "\u001b[0;32m/usr/local/lib/python3.7/site-packages/numba/core/compiler.py\u001b[0m in \u001b[0;36m_compile_bytecode\u001b[0;34m(self)\u001b[0m\n\u001b[1;32m    518\u001b[0m         \"\"\"\n\u001b[1;32m    519\u001b[0m         \u001b[0;32massert\u001b[0m \u001b[0mself\u001b[0m\u001b[0;34m.\u001b[0m\u001b[0mstate\u001b[0m\u001b[0;34m.\u001b[0m\u001b[0mfunc_ir\u001b[0m \u001b[0;32mis\u001b[0m \u001b[0;32mNone\u001b[0m\u001b[0;34m\u001b[0m\u001b[0;34m\u001b[0m\u001b[0m\n\u001b[0;32m--> 520\u001b[0;31m         \u001b[0;32mreturn\u001b[0m \u001b[0mself\u001b[0m\u001b[0;34m.\u001b[0m\u001b[0m_compile_core\u001b[0m\u001b[0;34m(\u001b[0m\u001b[0;34m)\u001b[0m\u001b[0;34m\u001b[0m\u001b[0;34m\u001b[0m\u001b[0m\n\u001b[0m\u001b[1;32m    521\u001b[0m \u001b[0;34m\u001b[0m\u001b[0m\n\u001b[1;32m    522\u001b[0m     \u001b[0;32mdef\u001b[0m \u001b[0m_compile_ir\u001b[0m\u001b[0;34m(\u001b[0m\u001b[0mself\u001b[0m\u001b[0;34m)\u001b[0m\u001b[0;34m:\u001b[0m\u001b[0;34m\u001b[0m\u001b[0;34m\u001b[0m\u001b[0m\n",
            "\u001b[0;32m/usr/local/lib/python3.7/site-packages/numba/core/compiler.py\u001b[0m in \u001b[0;36m_compile_core\u001b[0;34m(self)\u001b[0m\n\u001b[1;32m    497\u001b[0m                     \u001b[0mself\u001b[0m\u001b[0;34m.\u001b[0m\u001b[0mstate\u001b[0m\u001b[0;34m.\u001b[0m\u001b[0mstatus\u001b[0m\u001b[0;34m.\u001b[0m\u001b[0mfail_reason\u001b[0m \u001b[0;34m=\u001b[0m \u001b[0me\u001b[0m\u001b[0;34m\u001b[0m\u001b[0;34m\u001b[0m\u001b[0m\n\u001b[1;32m    498\u001b[0m                     \u001b[0;32mif\u001b[0m \u001b[0mis_final_pipeline\u001b[0m\u001b[0;34m:\u001b[0m\u001b[0;34m\u001b[0m\u001b[0;34m\u001b[0m\u001b[0m\n\u001b[0;32m--> 499\u001b[0;31m                         \u001b[0;32mraise\u001b[0m \u001b[0me\u001b[0m\u001b[0;34m\u001b[0m\u001b[0;34m\u001b[0m\u001b[0m\n\u001b[0m\u001b[1;32m    500\u001b[0m             \u001b[0;32melse\u001b[0m\u001b[0;34m:\u001b[0m\u001b[0;34m\u001b[0m\u001b[0;34m\u001b[0m\u001b[0m\n\u001b[1;32m    501\u001b[0m                 \u001b[0;32mraise\u001b[0m \u001b[0mCompilerError\u001b[0m\u001b[0;34m(\u001b[0m\u001b[0;34m\"All available pipelines exhausted\"\u001b[0m\u001b[0;34m)\u001b[0m\u001b[0;34m\u001b[0m\u001b[0;34m\u001b[0m\u001b[0m\n",
            "\u001b[0;32m/usr/local/lib/python3.7/site-packages/numba/core/compiler.py\u001b[0m in \u001b[0;36m_compile_core\u001b[0;34m(self)\u001b[0m\n\u001b[1;32m    484\u001b[0m                 \u001b[0mres\u001b[0m \u001b[0;34m=\u001b[0m \u001b[0;32mNone\u001b[0m\u001b[0;34m\u001b[0m\u001b[0;34m\u001b[0m\u001b[0m\n\u001b[1;32m    485\u001b[0m                 \u001b[0;32mtry\u001b[0m\u001b[0;34m:\u001b[0m\u001b[0;34m\u001b[0m\u001b[0;34m\u001b[0m\u001b[0m\n\u001b[0;32m--> 486\u001b[0;31m                     \u001b[0mpm\u001b[0m\u001b[0;34m.\u001b[0m\u001b[0mrun\u001b[0m\u001b[0;34m(\u001b[0m\u001b[0mself\u001b[0m\u001b[0;34m.\u001b[0m\u001b[0mstate\u001b[0m\u001b[0;34m)\u001b[0m\u001b[0;34m\u001b[0m\u001b[0;34m\u001b[0m\u001b[0m\n\u001b[0m\u001b[1;32m    487\u001b[0m                     \u001b[0;32mif\u001b[0m \u001b[0mself\u001b[0m\u001b[0;34m.\u001b[0m\u001b[0mstate\u001b[0m\u001b[0;34m.\u001b[0m\u001b[0mcr\u001b[0m \u001b[0;32mis\u001b[0m \u001b[0;32mnot\u001b[0m \u001b[0;32mNone\u001b[0m\u001b[0;34m:\u001b[0m\u001b[0;34m\u001b[0m\u001b[0;34m\u001b[0m\u001b[0m\n\u001b[1;32m    488\u001b[0m                         \u001b[0;32mbreak\u001b[0m\u001b[0;34m\u001b[0m\u001b[0;34m\u001b[0m\u001b[0m\n",
            "\u001b[0;32m/usr/local/lib/python3.7/site-packages/numba/core/compiler_machinery.py\u001b[0m in \u001b[0;36mrun\u001b[0;34m(self, state)\u001b[0m\n\u001b[1;32m    366\u001b[0m                     \u001b[0;34m(\u001b[0m\u001b[0mself\u001b[0m\u001b[0;34m.\u001b[0m\u001b[0mpipeline_name\u001b[0m\u001b[0;34m,\u001b[0m \u001b[0mpass_desc\u001b[0m\u001b[0;34m)\u001b[0m\u001b[0;34m\u001b[0m\u001b[0;34m\u001b[0m\u001b[0m\n\u001b[1;32m    367\u001b[0m                 \u001b[0mpatched_exception\u001b[0m \u001b[0;34m=\u001b[0m \u001b[0mself\u001b[0m\u001b[0;34m.\u001b[0m\u001b[0m_patch_error\u001b[0m\u001b[0;34m(\u001b[0m\u001b[0mmsg\u001b[0m\u001b[0;34m,\u001b[0m \u001b[0me\u001b[0m\u001b[0;34m)\u001b[0m\u001b[0;34m\u001b[0m\u001b[0;34m\u001b[0m\u001b[0m\n\u001b[0;32m--> 368\u001b[0;31m                 \u001b[0;32mraise\u001b[0m \u001b[0mpatched_exception\u001b[0m\u001b[0;34m\u001b[0m\u001b[0;34m\u001b[0m\u001b[0m\n\u001b[0m\u001b[1;32m    369\u001b[0m \u001b[0;34m\u001b[0m\u001b[0m\n\u001b[1;32m    370\u001b[0m     \u001b[0;32mdef\u001b[0m \u001b[0mdependency_analysis\u001b[0m\u001b[0;34m(\u001b[0m\u001b[0mself\u001b[0m\u001b[0;34m)\u001b[0m\u001b[0;34m:\u001b[0m\u001b[0;34m\u001b[0m\u001b[0;34m\u001b[0m\u001b[0m\n",
            "\u001b[0;32m/usr/local/lib/python3.7/site-packages/numba/core/compiler_machinery.py\u001b[0m in \u001b[0;36mrun\u001b[0;34m(self, state)\u001b[0m\n\u001b[1;32m    354\u001b[0m                 \u001b[0mpass_inst\u001b[0m \u001b[0;34m=\u001b[0m \u001b[0m_pass_registry\u001b[0m\u001b[0;34m.\u001b[0m\u001b[0mget\u001b[0m\u001b[0;34m(\u001b[0m\u001b[0mpss\u001b[0m\u001b[0;34m)\u001b[0m\u001b[0;34m.\u001b[0m\u001b[0mpass_inst\u001b[0m\u001b[0;34m\u001b[0m\u001b[0;34m\u001b[0m\u001b[0m\n\u001b[1;32m    355\u001b[0m                 \u001b[0;32mif\u001b[0m \u001b[0misinstance\u001b[0m\u001b[0;34m(\u001b[0m\u001b[0mpass_inst\u001b[0m\u001b[0;34m,\u001b[0m \u001b[0mCompilerPass\u001b[0m\u001b[0;34m)\u001b[0m\u001b[0;34m:\u001b[0m\u001b[0;34m\u001b[0m\u001b[0;34m\u001b[0m\u001b[0m\n\u001b[0;32m--> 356\u001b[0;31m                     \u001b[0mself\u001b[0m\u001b[0;34m.\u001b[0m\u001b[0m_runPass\u001b[0m\u001b[0;34m(\u001b[0m\u001b[0midx\u001b[0m\u001b[0;34m,\u001b[0m \u001b[0mpass_inst\u001b[0m\u001b[0;34m,\u001b[0m \u001b[0mstate\u001b[0m\u001b[0;34m)\u001b[0m\u001b[0;34m\u001b[0m\u001b[0;34m\u001b[0m\u001b[0m\n\u001b[0m\u001b[1;32m    357\u001b[0m                 \u001b[0;32melse\u001b[0m\u001b[0;34m:\u001b[0m\u001b[0;34m\u001b[0m\u001b[0;34m\u001b[0m\u001b[0m\n\u001b[1;32m    358\u001b[0m                     \u001b[0;32mraise\u001b[0m \u001b[0mBaseException\u001b[0m\u001b[0;34m(\u001b[0m\u001b[0;34m\"Legacy pass in use\"\u001b[0m\u001b[0;34m)\u001b[0m\u001b[0;34m\u001b[0m\u001b[0;34m\u001b[0m\u001b[0m\n",
            "\u001b[0;32m/usr/local/lib/python3.7/site-packages/numba/core/compiler_lock.py\u001b[0m in \u001b[0;36m_acquire_compile_lock\u001b[0;34m(*args, **kwargs)\u001b[0m\n\u001b[1;32m     33\u001b[0m         \u001b[0;32mdef\u001b[0m \u001b[0m_acquire_compile_lock\u001b[0m\u001b[0;34m(\u001b[0m\u001b[0;34m*\u001b[0m\u001b[0margs\u001b[0m\u001b[0;34m,\u001b[0m \u001b[0;34m**\u001b[0m\u001b[0mkwargs\u001b[0m\u001b[0;34m)\u001b[0m\u001b[0;34m:\u001b[0m\u001b[0;34m\u001b[0m\u001b[0;34m\u001b[0m\u001b[0m\n\u001b[1;32m     34\u001b[0m             \u001b[0;32mwith\u001b[0m \u001b[0mself\u001b[0m\u001b[0;34m:\u001b[0m\u001b[0;34m\u001b[0m\u001b[0;34m\u001b[0m\u001b[0m\n\u001b[0;32m---> 35\u001b[0;31m                 \u001b[0;32mreturn\u001b[0m \u001b[0mfunc\u001b[0m\u001b[0;34m(\u001b[0m\u001b[0;34m*\u001b[0m\u001b[0margs\u001b[0m\u001b[0;34m,\u001b[0m \u001b[0;34m**\u001b[0m\u001b[0mkwargs\u001b[0m\u001b[0;34m)\u001b[0m\u001b[0;34m\u001b[0m\u001b[0;34m\u001b[0m\u001b[0m\n\u001b[0m\u001b[1;32m     36\u001b[0m         \u001b[0;32mreturn\u001b[0m \u001b[0m_acquire_compile_lock\u001b[0m\u001b[0;34m\u001b[0m\u001b[0;34m\u001b[0m\u001b[0m\n\u001b[1;32m     37\u001b[0m \u001b[0;34m\u001b[0m\u001b[0m\n",
            "\u001b[0;32m/usr/local/lib/python3.7/site-packages/numba/core/compiler_machinery.py\u001b[0m in \u001b[0;36m_runPass\u001b[0;34m(self, index, pss, internal_state)\u001b[0m\n\u001b[1;32m    309\u001b[0m                 \u001b[0mmutated\u001b[0m \u001b[0;34m|=\u001b[0m \u001b[0mcheck\u001b[0m\u001b[0;34m(\u001b[0m\u001b[0mpss\u001b[0m\u001b[0;34m.\u001b[0m\u001b[0mrun_initialization\u001b[0m\u001b[0;34m,\u001b[0m \u001b[0minternal_state\u001b[0m\u001b[0;34m)\u001b[0m\u001b[0;34m\u001b[0m\u001b[0;34m\u001b[0m\u001b[0m\n\u001b[1;32m    310\u001b[0m             \u001b[0;32mwith\u001b[0m \u001b[0mSimpleTimer\u001b[0m\u001b[0;34m(\u001b[0m\u001b[0;34m)\u001b[0m \u001b[0;32mas\u001b[0m \u001b[0mpass_time\u001b[0m\u001b[0;34m:\u001b[0m\u001b[0;34m\u001b[0m\u001b[0;34m\u001b[0m\u001b[0m\n\u001b[0;32m--> 311\u001b[0;31m                 \u001b[0mmutated\u001b[0m \u001b[0;34m|=\u001b[0m \u001b[0mcheck\u001b[0m\u001b[0;34m(\u001b[0m\u001b[0mpss\u001b[0m\u001b[0;34m.\u001b[0m\u001b[0mrun_pass\u001b[0m\u001b[0;34m,\u001b[0m \u001b[0minternal_state\u001b[0m\u001b[0;34m)\u001b[0m\u001b[0;34m\u001b[0m\u001b[0;34m\u001b[0m\u001b[0m\n\u001b[0m\u001b[1;32m    312\u001b[0m             \u001b[0;32mwith\u001b[0m \u001b[0mSimpleTimer\u001b[0m\u001b[0;34m(\u001b[0m\u001b[0;34m)\u001b[0m \u001b[0;32mas\u001b[0m \u001b[0mfinalize_time\u001b[0m\u001b[0;34m:\u001b[0m\u001b[0;34m\u001b[0m\u001b[0;34m\u001b[0m\u001b[0m\n\u001b[1;32m    313\u001b[0m                 \u001b[0mmutated\u001b[0m \u001b[0;34m|=\u001b[0m \u001b[0mcheck\u001b[0m\u001b[0;34m(\u001b[0m\u001b[0mpss\u001b[0m\u001b[0;34m.\u001b[0m\u001b[0mrun_finalizer\u001b[0m\u001b[0;34m,\u001b[0m \u001b[0minternal_state\u001b[0m\u001b[0;34m)\u001b[0m\u001b[0;34m\u001b[0m\u001b[0;34m\u001b[0m\u001b[0m\n",
            "\u001b[0;32m/usr/local/lib/python3.7/site-packages/numba/core/compiler_machinery.py\u001b[0m in \u001b[0;36mcheck\u001b[0;34m(func, compiler_state)\u001b[0m\n\u001b[1;32m    271\u001b[0m \u001b[0;34m\u001b[0m\u001b[0m\n\u001b[1;32m    272\u001b[0m         \u001b[0;32mdef\u001b[0m \u001b[0mcheck\u001b[0m\u001b[0;34m(\u001b[0m\u001b[0mfunc\u001b[0m\u001b[0;34m,\u001b[0m \u001b[0mcompiler_state\u001b[0m\u001b[0;34m)\u001b[0m\u001b[0;34m:\u001b[0m\u001b[0;34m\u001b[0m\u001b[0;34m\u001b[0m\u001b[0m\n\u001b[0;32m--> 273\u001b[0;31m             \u001b[0mmangled\u001b[0m \u001b[0;34m=\u001b[0m \u001b[0mfunc\u001b[0m\u001b[0;34m(\u001b[0m\u001b[0mcompiler_state\u001b[0m\u001b[0;34m)\u001b[0m\u001b[0;34m\u001b[0m\u001b[0;34m\u001b[0m\u001b[0m\n\u001b[0m\u001b[1;32m    274\u001b[0m             \u001b[0;32mif\u001b[0m \u001b[0mmangled\u001b[0m \u001b[0;32mnot\u001b[0m \u001b[0;32min\u001b[0m \u001b[0;34m(\u001b[0m\u001b[0;32mTrue\u001b[0m\u001b[0;34m,\u001b[0m \u001b[0;32mFalse\u001b[0m\u001b[0;34m)\u001b[0m\u001b[0;34m:\u001b[0m\u001b[0;34m\u001b[0m\u001b[0;34m\u001b[0m\u001b[0m\n\u001b[1;32m    275\u001b[0m                 msg = (\"CompilerPass implementations should return True/False. \"\n",
            "\u001b[0;32m/usr/local/lib/python3.7/site-packages/numba/core/typed_passes.py\u001b[0m in \u001b[0;36mrun_pass\u001b[0;34m(self, state)\u001b[0m\n\u001b[1;32m    110\u001b[0m                 \u001b[0mstate\u001b[0m\u001b[0;34m.\u001b[0m\u001b[0mreturn_type\u001b[0m\u001b[0;34m,\u001b[0m\u001b[0;34m\u001b[0m\u001b[0;34m\u001b[0m\u001b[0m\n\u001b[1;32m    111\u001b[0m                 \u001b[0mstate\u001b[0m\u001b[0;34m.\u001b[0m\u001b[0mlocals\u001b[0m\u001b[0;34m,\u001b[0m\u001b[0;34m\u001b[0m\u001b[0;34m\u001b[0m\u001b[0m\n\u001b[0;32m--> 112\u001b[0;31m                 raise_errors=self._raise_errors)\n\u001b[0m\u001b[1;32m    113\u001b[0m             \u001b[0mstate\u001b[0m\u001b[0;34m.\u001b[0m\u001b[0mtypemap\u001b[0m \u001b[0;34m=\u001b[0m \u001b[0mtypemap\u001b[0m\u001b[0;34m\u001b[0m\u001b[0;34m\u001b[0m\u001b[0m\n\u001b[1;32m    114\u001b[0m             \u001b[0;31m# save errors in case of partial typing\u001b[0m\u001b[0;34m\u001b[0m\u001b[0;34m\u001b[0m\u001b[0;34m\u001b[0m\u001b[0m\n",
            "\u001b[0;32m/usr/local/lib/python3.7/site-packages/numba/core/typed_passes.py\u001b[0m in \u001b[0;36mtype_inference_stage\u001b[0;34m(typingctx, targetctx, interp, args, return_type, locals, raise_errors)\u001b[0m\n\u001b[1;32m     81\u001b[0m         \u001b[0minfer\u001b[0m\u001b[0;34m.\u001b[0m\u001b[0mbuild_constraint\u001b[0m\u001b[0;34m(\u001b[0m\u001b[0;34m)\u001b[0m\u001b[0;34m\u001b[0m\u001b[0;34m\u001b[0m\u001b[0m\n\u001b[1;32m     82\u001b[0m         \u001b[0;31m# return errors in case of partial typing\u001b[0m\u001b[0;34m\u001b[0m\u001b[0;34m\u001b[0m\u001b[0;34m\u001b[0m\u001b[0m\n\u001b[0;32m---> 83\u001b[0;31m         \u001b[0merrs\u001b[0m \u001b[0;34m=\u001b[0m \u001b[0minfer\u001b[0m\u001b[0;34m.\u001b[0m\u001b[0mpropagate\u001b[0m\u001b[0;34m(\u001b[0m\u001b[0mraise_errors\u001b[0m\u001b[0;34m=\u001b[0m\u001b[0mraise_errors\u001b[0m\u001b[0;34m)\u001b[0m\u001b[0;34m\u001b[0m\u001b[0;34m\u001b[0m\u001b[0m\n\u001b[0m\u001b[1;32m     84\u001b[0m         \u001b[0mtypemap\u001b[0m\u001b[0;34m,\u001b[0m \u001b[0mrestype\u001b[0m\u001b[0;34m,\u001b[0m \u001b[0mcalltypes\u001b[0m \u001b[0;34m=\u001b[0m \u001b[0minfer\u001b[0m\u001b[0;34m.\u001b[0m\u001b[0munify\u001b[0m\u001b[0;34m(\u001b[0m\u001b[0mraise_errors\u001b[0m\u001b[0;34m=\u001b[0m\u001b[0mraise_errors\u001b[0m\u001b[0;34m)\u001b[0m\u001b[0;34m\u001b[0m\u001b[0;34m\u001b[0m\u001b[0m\n\u001b[1;32m     85\u001b[0m \u001b[0;34m\u001b[0m\u001b[0m\n",
            "\u001b[0;32m/usr/local/lib/python3.7/site-packages/numba/core/typeinfer.py\u001b[0m in \u001b[0;36mpropagate\u001b[0;34m(self, raise_errors)\u001b[0m\n\u001b[1;32m   1084\u001b[0m                                   if isinstance(e, ForceLiteralArg)]\n\u001b[1;32m   1085\u001b[0m                 \u001b[0;32mif\u001b[0m \u001b[0;32mnot\u001b[0m \u001b[0mforce_lit_args\u001b[0m\u001b[0;34m:\u001b[0m\u001b[0;34m\u001b[0m\u001b[0;34m\u001b[0m\u001b[0m\n\u001b[0;32m-> 1086\u001b[0;31m                     \u001b[0;32mraise\u001b[0m \u001b[0merrors\u001b[0m\u001b[0;34m[\u001b[0m\u001b[0;36m0\u001b[0m\u001b[0;34m]\u001b[0m\u001b[0;34m\u001b[0m\u001b[0;34m\u001b[0m\u001b[0m\n\u001b[0m\u001b[1;32m   1087\u001b[0m                 \u001b[0;32melse\u001b[0m\u001b[0;34m:\u001b[0m\u001b[0;34m\u001b[0m\u001b[0;34m\u001b[0m\u001b[0m\n\u001b[1;32m   1088\u001b[0m                     \u001b[0;32mraise\u001b[0m \u001b[0mreduce\u001b[0m\u001b[0;34m(\u001b[0m\u001b[0moperator\u001b[0m\u001b[0;34m.\u001b[0m\u001b[0mor_\u001b[0m\u001b[0;34m,\u001b[0m \u001b[0mforce_lit_args\u001b[0m\u001b[0;34m)\u001b[0m\u001b[0;34m\u001b[0m\u001b[0;34m\u001b[0m\u001b[0m\n",
            "\u001b[0;31mTypingError\u001b[0m: Failed in cuda mode pipeline (step: nopython frontend)\nInternal error at <numba.core.typeinfer.IntrinsicCallConstraint object at 0x7f57b1632a90>.\n\u001b[1m\u001b[1mVersion mismatch: this is the 'cffi' package version 1.15.1, located in '/usr/local/lib/python3.7/dist-packages/cffi/api.py'.  When we import the top-level '_cffi_backend' extension module, we get version 1.15.0, located in '/usr/local/lib/python3.7/site-packages/_cffi_backend.cpython-37m-x86_64-linux-gnu.so'.  The two versions should be equal; check your installation.\u001b[0m\n\u001b[0m\u001b[1mDuring: typing of intrinsic-call at <ipython-input-47-47b39a375f80> (1)\u001b[0m\nEnable logging at debug level for details.\n\u001b[1m\nFile \"<ipython-input-47-47b39a375f80>\", line 1:\u001b[0m\n\u001b[1m\u001b[1mprint(s.applymap(lambda x: (x ** 2) + (x / 2)))\n\u001b[0m\u001b[1m^\u001b[0m\u001b[0m\n"
          ]
        }
      ],
      "source": [
        "print(s.applymap(lambda x: (x ** 2) + (x / 2)))"
      ]
    },
    {
      "cell_type": "code",
      "execution_count": null,
      "metadata": {
        "colab": {
          "base_uri": "https://localhost:8080/",
          "height": 592
        },
        "id": "37ZPiphcCWIQ",
        "outputId": "17601be3-0be7-4afb-d086-50d531a117ee"
      },
      "outputs": [
        {
          "output_type": "error",
          "ename": "TypingError",
          "evalue": "ignored",
          "traceback": [
            "\u001b[0;31m---------------------------------------------------------------------------\u001b[0m",
            "\u001b[0;31mTypingError\u001b[0m                               Traceback (most recent call last)",
            "\u001b[0;32m<ipython-input-43-b60b2d5a45c7>\u001b[0m in \u001b[0;36m<module>\u001b[0;34m\u001b[0m\n\u001b[1;32m      2\u001b[0m     \u001b[0;32mreturn\u001b[0m \u001b[0mnum\u001b[0m \u001b[0;34m+\u001b[0m \u001b[0;36m10\u001b[0m\u001b[0;34m\u001b[0m\u001b[0;34m\u001b[0m\u001b[0m\n\u001b[1;32m      3\u001b[0m \u001b[0;34m\u001b[0m\u001b[0m\n\u001b[0;32m----> 4\u001b[0;31m \u001b[0mprint\u001b[0m\u001b[0;34m(\u001b[0m\u001b[0ms\u001b[0m\u001b[0;34m.\u001b[0m\u001b[0mapplymap\u001b[0m\u001b[0;34m(\u001b[0m\u001b[0madd_ten\u001b[0m\u001b[0;34m)\u001b[0m\u001b[0;34m)\u001b[0m\u001b[0;34m\u001b[0m\u001b[0;34m\u001b[0m\u001b[0m\n\u001b[0m",
            "\u001b[0;32m/usr/local/lib/python3.7/site-packages/cudf/core/series.py\u001b[0m in \u001b[0;36mapplymap\u001b[0;34m(self, udf, out_dtype)\u001b[0m\n\u001b[1;32m   2639\u001b[0m         \u001b[0;32mif\u001b[0m \u001b[0;32mnot\u001b[0m \u001b[0mcallable\u001b[0m\u001b[0;34m(\u001b[0m\u001b[0mudf\u001b[0m\u001b[0;34m)\u001b[0m\u001b[0;34m:\u001b[0m\u001b[0;34m\u001b[0m\u001b[0;34m\u001b[0m\u001b[0m\n\u001b[1;32m   2640\u001b[0m             \u001b[0;32mraise\u001b[0m \u001b[0mValueError\u001b[0m\u001b[0;34m(\u001b[0m\u001b[0;34m\"Input UDF must be a callable object.\"\u001b[0m\u001b[0;34m)\u001b[0m\u001b[0;34m\u001b[0m\u001b[0;34m\u001b[0m\u001b[0m\n\u001b[0;32m-> 2641\u001b[0;31m         \u001b[0;32mreturn\u001b[0m \u001b[0mself\u001b[0m\u001b[0;34m.\u001b[0m\u001b[0m_from_data\u001b[0m\u001b[0;34m(\u001b[0m\u001b[0;34m{\u001b[0m\u001b[0mself\u001b[0m\u001b[0;34m.\u001b[0m\u001b[0mname\u001b[0m\u001b[0;34m:\u001b[0m \u001b[0mself\u001b[0m\u001b[0;34m.\u001b[0m\u001b[0m_unaryop\u001b[0m\u001b[0;34m(\u001b[0m\u001b[0mudf\u001b[0m\u001b[0;34m)\u001b[0m\u001b[0;34m}\u001b[0m\u001b[0;34m,\u001b[0m \u001b[0mself\u001b[0m\u001b[0;34m.\u001b[0m\u001b[0m_index\u001b[0m\u001b[0;34m)\u001b[0m\u001b[0;34m\u001b[0m\u001b[0;34m\u001b[0m\u001b[0m\n\u001b[0m\u001b[1;32m   2642\u001b[0m \u001b[0;34m\u001b[0m\u001b[0m\n\u001b[1;32m   2643\u001b[0m     \u001b[0;31m#\u001b[0m\u001b[0;34m\u001b[0m\u001b[0;34m\u001b[0m\u001b[0;34m\u001b[0m\u001b[0m\n",
            "\u001b[0;32m/usr/local/lib/python3.7/site-packages/cudf/core/frame.py\u001b[0m in \u001b[0;36m_unaryop\u001b[0;34m(self, op)\u001b[0m\n\u001b[1;32m   3824\u001b[0m         \u001b[0mdata_columns\u001b[0m \u001b[0;34m=\u001b[0m \u001b[0;34m(\u001b[0m\u001b[0mcol\u001b[0m\u001b[0;34m.\u001b[0m\u001b[0munary_operator\u001b[0m\u001b[0;34m(\u001b[0m\u001b[0mop\u001b[0m\u001b[0;34m)\u001b[0m \u001b[0;32mfor\u001b[0m \u001b[0mcol\u001b[0m \u001b[0;32min\u001b[0m \u001b[0mself\u001b[0m\u001b[0;34m.\u001b[0m\u001b[0m_columns\u001b[0m\u001b[0;34m)\u001b[0m\u001b[0;34m\u001b[0m\u001b[0;34m\u001b[0m\u001b[0m\n\u001b[1;32m   3825\u001b[0m         return self.__class__._from_data(\n\u001b[0;32m-> 3826\u001b[0;31m             \u001b[0mzip\u001b[0m\u001b[0;34m(\u001b[0m\u001b[0mself\u001b[0m\u001b[0;34m.\u001b[0m\u001b[0m_column_names\u001b[0m\u001b[0;34m,\u001b[0m \u001b[0mdata_columns\u001b[0m\u001b[0;34m)\u001b[0m\u001b[0;34m,\u001b[0m \u001b[0mself\u001b[0m\u001b[0;34m.\u001b[0m\u001b[0m_index\u001b[0m\u001b[0;34m\u001b[0m\u001b[0;34m\u001b[0m\u001b[0m\n\u001b[0m\u001b[1;32m   3827\u001b[0m         )\n\u001b[1;32m   3828\u001b[0m \u001b[0;34m\u001b[0m\u001b[0m\n",
            "\u001b[0;32m/usr/local/lib/python3.7/site-packages/cudf/core/series.py\u001b[0m in \u001b[0;36m_from_data\u001b[0;34m(cls, data, index, name)\u001b[0m\n\u001b[1;32m    461\u001b[0m         \u001b[0mConstruct\u001b[0m \u001b[0mthe\u001b[0m \u001b[0mSeries\u001b[0m \u001b[0;32mfrom\u001b[0m \u001b[0ma\u001b[0m \u001b[0mColumnAccessor\u001b[0m\u001b[0;34m\u001b[0m\u001b[0;34m\u001b[0m\u001b[0m\n\u001b[1;32m    462\u001b[0m         \"\"\"\n\u001b[0;32m--> 463\u001b[0;31m         \u001b[0mout\u001b[0m\u001b[0;34m:\u001b[0m \u001b[0mSeries\u001b[0m \u001b[0;34m=\u001b[0m \u001b[0msuper\u001b[0m\u001b[0;34m(\u001b[0m\u001b[0;34m)\u001b[0m\u001b[0;34m.\u001b[0m\u001b[0m_from_data\u001b[0m\u001b[0;34m(\u001b[0m\u001b[0mdata\u001b[0m\u001b[0;34m,\u001b[0m \u001b[0mindex\u001b[0m\u001b[0;34m,\u001b[0m \u001b[0mname\u001b[0m\u001b[0;34m)\u001b[0m\u001b[0;34m\u001b[0m\u001b[0;34m\u001b[0m\u001b[0m\n\u001b[0m\u001b[1;32m    464\u001b[0m         \u001b[0;32mif\u001b[0m \u001b[0mindex\u001b[0m \u001b[0;32mis\u001b[0m \u001b[0;32mNone\u001b[0m\u001b[0;34m:\u001b[0m\u001b[0;34m\u001b[0m\u001b[0;34m\u001b[0m\u001b[0m\n\u001b[1;32m    465\u001b[0m             \u001b[0mout\u001b[0m\u001b[0;34m.\u001b[0m\u001b[0m_index\u001b[0m \u001b[0;34m=\u001b[0m \u001b[0mRangeIndex\u001b[0m\u001b[0;34m(\u001b[0m\u001b[0mout\u001b[0m\u001b[0;34m.\u001b[0m\u001b[0m_data\u001b[0m\u001b[0;34m.\u001b[0m\u001b[0mnrows\u001b[0m\u001b[0;34m)\u001b[0m\u001b[0;34m\u001b[0m\u001b[0;34m\u001b[0m\u001b[0m\n",
            "\u001b[0;32m/usr/local/lib/python3.7/site-packages/cudf/core/single_column_frame.py\u001b[0m in \u001b[0;36m_from_data\u001b[0;34m(cls, data, index, name)\u001b[0m\n\u001b[1;32m     62\u001b[0m     ):\n\u001b[1;32m     63\u001b[0m \u001b[0;34m\u001b[0m\u001b[0m\n\u001b[0;32m---> 64\u001b[0;31m         \u001b[0mout\u001b[0m \u001b[0;34m=\u001b[0m \u001b[0msuper\u001b[0m\u001b[0;34m(\u001b[0m\u001b[0;34m)\u001b[0m\u001b[0;34m.\u001b[0m\u001b[0m_from_data\u001b[0m\u001b[0;34m(\u001b[0m\u001b[0mdata\u001b[0m\u001b[0;34m,\u001b[0m \u001b[0mindex\u001b[0m\u001b[0;34m)\u001b[0m\u001b[0;34m\u001b[0m\u001b[0;34m\u001b[0m\u001b[0m\n\u001b[0m\u001b[1;32m     65\u001b[0m         \u001b[0;32mif\u001b[0m \u001b[0mname\u001b[0m \u001b[0;32mis\u001b[0m \u001b[0;32mnot\u001b[0m \u001b[0;32mNone\u001b[0m\u001b[0;34m:\u001b[0m\u001b[0;34m\u001b[0m\u001b[0;34m\u001b[0m\u001b[0m\n\u001b[1;32m     66\u001b[0m             \u001b[0mout\u001b[0m\u001b[0;34m.\u001b[0m\u001b[0mname\u001b[0m \u001b[0;34m=\u001b[0m \u001b[0mname\u001b[0m\u001b[0;34m\u001b[0m\u001b[0;34m\u001b[0m\u001b[0m\n",
            "\u001b[0;32m/usr/local/lib/python3.7/site-packages/cudf/core/frame.py\u001b[0m in \u001b[0;36m_from_data\u001b[0;34m(cls, data, index)\u001b[0m\n\u001b[1;32m    138\u001b[0m     ):\n\u001b[1;32m    139\u001b[0m         \u001b[0mobj\u001b[0m \u001b[0;34m=\u001b[0m \u001b[0mcls\u001b[0m\u001b[0;34m.\u001b[0m\u001b[0m__new__\u001b[0m\u001b[0;34m(\u001b[0m\u001b[0mcls\u001b[0m\u001b[0;34m)\u001b[0m\u001b[0;34m\u001b[0m\u001b[0;34m\u001b[0m\u001b[0m\n\u001b[0;32m--> 140\u001b[0;31m         \u001b[0mFrame\u001b[0m\u001b[0;34m.\u001b[0m\u001b[0m__init__\u001b[0m\u001b[0;34m(\u001b[0m\u001b[0mobj\u001b[0m\u001b[0;34m,\u001b[0m \u001b[0mdata\u001b[0m\u001b[0;34m,\u001b[0m \u001b[0mindex\u001b[0m\u001b[0;34m)\u001b[0m\u001b[0;34m\u001b[0m\u001b[0;34m\u001b[0m\u001b[0m\n\u001b[0m\u001b[1;32m    141\u001b[0m         \u001b[0;32mreturn\u001b[0m \u001b[0mobj\u001b[0m\u001b[0;34m\u001b[0m\u001b[0;34m\u001b[0m\u001b[0m\n\u001b[1;32m    142\u001b[0m \u001b[0;34m\u001b[0m\u001b[0m\n",
            "\u001b[0;32m/usr/local/lib/python3.7/site-packages/cudf/core/frame.py\u001b[0m in \u001b[0;36m__init__\u001b[0;34m(self, data, index)\u001b[0m\n\u001b[1;32m     76\u001b[0m         \u001b[0;32mif\u001b[0m \u001b[0mdata\u001b[0m \u001b[0;32mis\u001b[0m \u001b[0;32mNone\u001b[0m\u001b[0;34m:\u001b[0m\u001b[0;34m\u001b[0m\u001b[0;34m\u001b[0m\u001b[0m\n\u001b[1;32m     77\u001b[0m             \u001b[0mdata\u001b[0m \u001b[0;34m=\u001b[0m \u001b[0;34m{\u001b[0m\u001b[0;34m}\u001b[0m\u001b[0;34m\u001b[0m\u001b[0;34m\u001b[0m\u001b[0m\n\u001b[0;32m---> 78\u001b[0;31m         \u001b[0mself\u001b[0m\u001b[0;34m.\u001b[0m\u001b[0m_data\u001b[0m \u001b[0;34m=\u001b[0m \u001b[0mcudf\u001b[0m\u001b[0;34m.\u001b[0m\u001b[0mcore\u001b[0m\u001b[0;34m.\u001b[0m\u001b[0mcolumn_accessor\u001b[0m\u001b[0;34m.\u001b[0m\u001b[0mColumnAccessor\u001b[0m\u001b[0;34m(\u001b[0m\u001b[0mdata\u001b[0m\u001b[0;34m)\u001b[0m\u001b[0;34m\u001b[0m\u001b[0;34m\u001b[0m\u001b[0m\n\u001b[0m\u001b[1;32m     79\u001b[0m         \u001b[0mself\u001b[0m\u001b[0;34m.\u001b[0m\u001b[0m_index\u001b[0m \u001b[0;34m=\u001b[0m \u001b[0mindex\u001b[0m\u001b[0;34m\u001b[0m\u001b[0;34m\u001b[0m\u001b[0m\n\u001b[1;32m     80\u001b[0m \u001b[0;34m\u001b[0m\u001b[0m\n",
            "\u001b[0;32m/usr/local/lib/python3.7/site-packages/cudf/core/column_accessor.py\u001b[0m in \u001b[0;36m__init__\u001b[0;34m(self, data, multiindex, level_names)\u001b[0m\n\u001b[1;32m    119\u001b[0m             \u001b[0mself\u001b[0m\u001b[0;34m.\u001b[0m\u001b[0m_data\u001b[0m \u001b[0;34m=\u001b[0m \u001b[0;34m{\u001b[0m\u001b[0;34m}\u001b[0m\u001b[0;34m\u001b[0m\u001b[0;34m\u001b[0m\u001b[0m\n\u001b[1;32m    120\u001b[0m             \u001b[0;32mif\u001b[0m \u001b[0mdata\u001b[0m\u001b[0;34m:\u001b[0m\u001b[0;34m\u001b[0m\u001b[0;34m\u001b[0m\u001b[0m\n\u001b[0;32m--> 121\u001b[0;31m                 \u001b[0mdata\u001b[0m \u001b[0;34m=\u001b[0m \u001b[0mdict\u001b[0m\u001b[0;34m(\u001b[0m\u001b[0mdata\u001b[0m\u001b[0;34m)\u001b[0m\u001b[0;34m\u001b[0m\u001b[0;34m\u001b[0m\u001b[0m\n\u001b[0m\u001b[1;32m    122\u001b[0m                 \u001b[0;31m# Faster than next(iter(data.values()))\u001b[0m\u001b[0;34m\u001b[0m\u001b[0;34m\u001b[0m\u001b[0;34m\u001b[0m\u001b[0m\n\u001b[1;32m    123\u001b[0m                 \u001b[0mcolumn_length\u001b[0m \u001b[0;34m=\u001b[0m \u001b[0mlen\u001b[0m\u001b[0;34m(\u001b[0m\u001b[0mdata\u001b[0m\u001b[0;34m[\u001b[0m\u001b[0mnext\u001b[0m\u001b[0;34m(\u001b[0m\u001b[0miter\u001b[0m\u001b[0;34m(\u001b[0m\u001b[0mdata\u001b[0m\u001b[0;34m)\u001b[0m\u001b[0;34m)\u001b[0m\u001b[0;34m]\u001b[0m\u001b[0;34m)\u001b[0m\u001b[0;34m\u001b[0m\u001b[0;34m\u001b[0m\u001b[0m\n",
            "\u001b[0;32m/usr/local/lib/python3.7/site-packages/cudf/core/frame.py\u001b[0m in \u001b[0;36m<genexpr>\u001b[0;34m(.0)\u001b[0m\n\u001b[1;32m   3822\u001b[0m \u001b[0;34m\u001b[0m\u001b[0m\n\u001b[1;32m   3823\u001b[0m     \u001b[0;32mdef\u001b[0m \u001b[0m_unaryop\u001b[0m\u001b[0;34m(\u001b[0m\u001b[0mself\u001b[0m\u001b[0;34m,\u001b[0m \u001b[0mop\u001b[0m\u001b[0;34m)\u001b[0m\u001b[0;34m:\u001b[0m\u001b[0;34m\u001b[0m\u001b[0;34m\u001b[0m\u001b[0m\n\u001b[0;32m-> 3824\u001b[0;31m         \u001b[0mdata_columns\u001b[0m \u001b[0;34m=\u001b[0m \u001b[0;34m(\u001b[0m\u001b[0mcol\u001b[0m\u001b[0;34m.\u001b[0m\u001b[0munary_operator\u001b[0m\u001b[0;34m(\u001b[0m\u001b[0mop\u001b[0m\u001b[0;34m)\u001b[0m \u001b[0;32mfor\u001b[0m \u001b[0mcol\u001b[0m \u001b[0;32min\u001b[0m \u001b[0mself\u001b[0m\u001b[0;34m.\u001b[0m\u001b[0m_columns\u001b[0m\u001b[0;34m)\u001b[0m\u001b[0;34m\u001b[0m\u001b[0;34m\u001b[0m\u001b[0m\n\u001b[0m\u001b[1;32m   3825\u001b[0m         return self.__class__._from_data(\n\u001b[1;32m   3826\u001b[0m             \u001b[0mzip\u001b[0m\u001b[0;34m(\u001b[0m\u001b[0mself\u001b[0m\u001b[0;34m.\u001b[0m\u001b[0m_column_names\u001b[0m\u001b[0;34m,\u001b[0m \u001b[0mdata_columns\u001b[0m\u001b[0;34m)\u001b[0m\u001b[0;34m,\u001b[0m \u001b[0mself\u001b[0m\u001b[0;34m.\u001b[0m\u001b[0m_index\u001b[0m\u001b[0;34m\u001b[0m\u001b[0;34m\u001b[0m\u001b[0m\n",
            "\u001b[0;32m/usr/local/lib/python3.7/site-packages/cudf/core/column/numerical.py\u001b[0m in \u001b[0;36munary_operator\u001b[0;34m(self, unaryop)\u001b[0m\n\u001b[1;32m    120\u001b[0m     \u001b[0;32mdef\u001b[0m \u001b[0munary_operator\u001b[0m\u001b[0;34m(\u001b[0m\u001b[0mself\u001b[0m\u001b[0;34m,\u001b[0m \u001b[0munaryop\u001b[0m\u001b[0;34m:\u001b[0m \u001b[0mUnion\u001b[0m\u001b[0;34m[\u001b[0m\u001b[0mstr\u001b[0m\u001b[0;34m,\u001b[0m \u001b[0mCallable\u001b[0m\u001b[0;34m]\u001b[0m\u001b[0;34m)\u001b[0m \u001b[0;34m->\u001b[0m \u001b[0mColumnBase\u001b[0m\u001b[0;34m:\u001b[0m\u001b[0;34m\u001b[0m\u001b[0;34m\u001b[0m\u001b[0m\n\u001b[1;32m    121\u001b[0m         \u001b[0;32mif\u001b[0m \u001b[0mcallable\u001b[0m\u001b[0;34m(\u001b[0m\u001b[0munaryop\u001b[0m\u001b[0;34m)\u001b[0m\u001b[0;34m:\u001b[0m\u001b[0;34m\u001b[0m\u001b[0;34m\u001b[0m\u001b[0m\n\u001b[0;32m--> 122\u001b[0;31m             \u001b[0;32mreturn\u001b[0m \u001b[0mlibcudf\u001b[0m\u001b[0;34m.\u001b[0m\u001b[0mtransform\u001b[0m\u001b[0;34m.\u001b[0m\u001b[0mtransform\u001b[0m\u001b[0;34m(\u001b[0m\u001b[0mself\u001b[0m\u001b[0;34m,\u001b[0m \u001b[0munaryop\u001b[0m\u001b[0;34m)\u001b[0m\u001b[0;34m\u001b[0m\u001b[0;34m\u001b[0m\u001b[0m\n\u001b[0m\u001b[1;32m    123\u001b[0m \u001b[0;34m\u001b[0m\u001b[0m\n\u001b[1;32m    124\u001b[0m         \u001b[0munaryop\u001b[0m \u001b[0;34m=\u001b[0m \u001b[0mlibcudf\u001b[0m\u001b[0;34m.\u001b[0m\u001b[0munary\u001b[0m\u001b[0;34m.\u001b[0m\u001b[0mUnaryOp\u001b[0m\u001b[0;34m[\u001b[0m\u001b[0munaryop\u001b[0m\u001b[0;34m.\u001b[0m\u001b[0mupper\u001b[0m\u001b[0;34m(\u001b[0m\u001b[0;34m)\u001b[0m\u001b[0;34m]\u001b[0m\u001b[0;34m\u001b[0m\u001b[0;34m\u001b[0m\u001b[0m\n",
            "\u001b[0;32mcudf/_lib/transform.pyx\u001b[0m in \u001b[0;36mcudf._lib.transform.transform\u001b[0;34m()\u001b[0m\n",
            "\u001b[0;32m/usr/local/lib/python3.7/site-packages/cudf/utils/cudautils.py\u001b[0m in \u001b[0;36mcompile_udf\u001b[0;34m(udf, type_signature)\u001b[0m\n\u001b[1;32m    265\u001b[0m     \u001b[0;31m# compilation with Numba\u001b[0m\u001b[0;34m\u001b[0m\u001b[0;34m\u001b[0m\u001b[0;34m\u001b[0m\u001b[0m\n\u001b[1;32m    266\u001b[0m     ptx_code, return_type = cuda.compile_ptx_for_current_device(\n\u001b[0;32m--> 267\u001b[0;31m         \u001b[0mudf\u001b[0m\u001b[0;34m,\u001b[0m \u001b[0mtype_signature\u001b[0m\u001b[0;34m,\u001b[0m \u001b[0mdevice\u001b[0m\u001b[0;34m=\u001b[0m\u001b[0;32mTrue\u001b[0m\u001b[0;34m\u001b[0m\u001b[0;34m\u001b[0m\u001b[0m\n\u001b[0m\u001b[1;32m    268\u001b[0m     )\n\u001b[1;32m    269\u001b[0m     \u001b[0;32mif\u001b[0m \u001b[0;32mnot\u001b[0m \u001b[0misinstance\u001b[0m\u001b[0;34m(\u001b[0m\u001b[0mreturn_type\u001b[0m\u001b[0;34m,\u001b[0m \u001b[0mcudf\u001b[0m\u001b[0;34m.\u001b[0m\u001b[0mcore\u001b[0m\u001b[0;34m.\u001b[0m\u001b[0mudf\u001b[0m\u001b[0;34m.\u001b[0m\u001b[0mtyping\u001b[0m\u001b[0;34m.\u001b[0m\u001b[0mMaskedType\u001b[0m\u001b[0;34m)\u001b[0m\u001b[0;34m:\u001b[0m\u001b[0;34m\u001b[0m\u001b[0;34m\u001b[0m\u001b[0m\n",
            "\u001b[0;32m/usr/local/lib/python3.7/site-packages/numba/cuda/compiler.py\u001b[0m in \u001b[0;36mcompile_ptx_for_current_device\u001b[0;34m(pyfunc, args, debug, lineinfo, device, fastmath, opt)\u001b[0m\n\u001b[1;32m    290\u001b[0m     \u001b[0mcc\u001b[0m \u001b[0;34m=\u001b[0m \u001b[0mget_current_device\u001b[0m\u001b[0;34m(\u001b[0m\u001b[0;34m)\u001b[0m\u001b[0;34m.\u001b[0m\u001b[0mcompute_capability\u001b[0m\u001b[0;34m\u001b[0m\u001b[0;34m\u001b[0m\u001b[0m\n\u001b[1;32m    291\u001b[0m     return compile_ptx(pyfunc, args, debug=debug, lineinfo=lineinfo,\n\u001b[0;32m--> 292\u001b[0;31m                        device=device, fastmath=fastmath, cc=cc, opt=True)\n\u001b[0m\u001b[1;32m    293\u001b[0m \u001b[0;34m\u001b[0m\u001b[0m\n\u001b[1;32m    294\u001b[0m \u001b[0;34m\u001b[0m\u001b[0m\n",
            "\u001b[0;32m/usr/local/lib/python3.7/site-packages/numba/core/compiler_lock.py\u001b[0m in \u001b[0;36m_acquire_compile_lock\u001b[0;34m(*args, **kwargs)\u001b[0m\n\u001b[1;32m     33\u001b[0m         \u001b[0;32mdef\u001b[0m \u001b[0m_acquire_compile_lock\u001b[0m\u001b[0;34m(\u001b[0m\u001b[0;34m*\u001b[0m\u001b[0margs\u001b[0m\u001b[0;34m,\u001b[0m \u001b[0;34m**\u001b[0m\u001b[0mkwargs\u001b[0m\u001b[0;34m)\u001b[0m\u001b[0;34m:\u001b[0m\u001b[0;34m\u001b[0m\u001b[0;34m\u001b[0m\u001b[0m\n\u001b[1;32m     34\u001b[0m             \u001b[0;32mwith\u001b[0m \u001b[0mself\u001b[0m\u001b[0;34m:\u001b[0m\u001b[0;34m\u001b[0m\u001b[0;34m\u001b[0m\u001b[0m\n\u001b[0;32m---> 35\u001b[0;31m                 \u001b[0;32mreturn\u001b[0m \u001b[0mfunc\u001b[0m\u001b[0;34m(\u001b[0m\u001b[0;34m*\u001b[0m\u001b[0margs\u001b[0m\u001b[0;34m,\u001b[0m \u001b[0;34m**\u001b[0m\u001b[0mkwargs\u001b[0m\u001b[0;34m)\u001b[0m\u001b[0;34m\u001b[0m\u001b[0;34m\u001b[0m\u001b[0m\n\u001b[0m\u001b[1;32m     36\u001b[0m         \u001b[0;32mreturn\u001b[0m \u001b[0m_acquire_compile_lock\u001b[0m\u001b[0;34m\u001b[0m\u001b[0;34m\u001b[0m\u001b[0m\n\u001b[1;32m     37\u001b[0m \u001b[0;34m\u001b[0m\u001b[0m\n",
            "\u001b[0;32m/usr/local/lib/python3.7/site-packages/numba/cuda/compiler.py\u001b[0m in \u001b[0;36mcompile_ptx\u001b[0;34m(pyfunc, args, debug, lineinfo, device, fastmath, cc, opt)\u001b[0m\n\u001b[1;32m    267\u001b[0m     cres = compile_cuda(pyfunc, None, args, debug=debug, lineinfo=lineinfo,\n\u001b[1;32m    268\u001b[0m                         \u001b[0mfastmath\u001b[0m\u001b[0;34m=\u001b[0m\u001b[0mfastmath\u001b[0m\u001b[0;34m,\u001b[0m\u001b[0;34m\u001b[0m\u001b[0;34m\u001b[0m\u001b[0m\n\u001b[0;32m--> 269\u001b[0;31m                         nvvm_options=nvvm_options)\n\u001b[0m\u001b[1;32m    270\u001b[0m     \u001b[0mresty\u001b[0m \u001b[0;34m=\u001b[0m \u001b[0mcres\u001b[0m\u001b[0;34m.\u001b[0m\u001b[0msignature\u001b[0m\u001b[0;34m.\u001b[0m\u001b[0mreturn_type\u001b[0m\u001b[0;34m\u001b[0m\u001b[0;34m\u001b[0m\u001b[0m\n\u001b[1;32m    271\u001b[0m     \u001b[0;32mif\u001b[0m \u001b[0mdevice\u001b[0m\u001b[0;34m:\u001b[0m\u001b[0;34m\u001b[0m\u001b[0;34m\u001b[0m\u001b[0m\n",
            "\u001b[0;32m/usr/local/lib/python3.7/site-packages/numba/core/compiler_lock.py\u001b[0m in \u001b[0;36m_acquire_compile_lock\u001b[0;34m(*args, **kwargs)\u001b[0m\n\u001b[1;32m     33\u001b[0m         \u001b[0;32mdef\u001b[0m \u001b[0m_acquire_compile_lock\u001b[0m\u001b[0;34m(\u001b[0m\u001b[0;34m*\u001b[0m\u001b[0margs\u001b[0m\u001b[0;34m,\u001b[0m \u001b[0;34m**\u001b[0m\u001b[0mkwargs\u001b[0m\u001b[0;34m)\u001b[0m\u001b[0;34m:\u001b[0m\u001b[0;34m\u001b[0m\u001b[0;34m\u001b[0m\u001b[0m\n\u001b[1;32m     34\u001b[0m             \u001b[0;32mwith\u001b[0m \u001b[0mself\u001b[0m\u001b[0;34m:\u001b[0m\u001b[0;34m\u001b[0m\u001b[0;34m\u001b[0m\u001b[0m\n\u001b[0;32m---> 35\u001b[0;31m                 \u001b[0;32mreturn\u001b[0m \u001b[0mfunc\u001b[0m\u001b[0;34m(\u001b[0m\u001b[0;34m*\u001b[0m\u001b[0margs\u001b[0m\u001b[0;34m,\u001b[0m \u001b[0;34m**\u001b[0m\u001b[0mkwargs\u001b[0m\u001b[0;34m)\u001b[0m\u001b[0;34m\u001b[0m\u001b[0;34m\u001b[0m\u001b[0m\n\u001b[0m\u001b[1;32m     36\u001b[0m         \u001b[0;32mreturn\u001b[0m \u001b[0m_acquire_compile_lock\u001b[0m\u001b[0;34m\u001b[0m\u001b[0;34m\u001b[0m\u001b[0m\n\u001b[1;32m     37\u001b[0m \u001b[0;34m\u001b[0m\u001b[0m\n",
            "\u001b[0;32m/usr/local/lib/python3.7/site-packages/numba/cuda/compiler.py\u001b[0m in \u001b[0;36mcompile_cuda\u001b[0;34m(pyfunc, return_type, args, debug, lineinfo, inline, fastmath, nvvm_options)\u001b[0m\n\u001b[1;32m    215\u001b[0m                                   \u001b[0mflags\u001b[0m\u001b[0;34m=\u001b[0m\u001b[0mflags\u001b[0m\u001b[0;34m,\u001b[0m\u001b[0;34m\u001b[0m\u001b[0;34m\u001b[0m\u001b[0m\n\u001b[1;32m    216\u001b[0m                                   \u001b[0mlocals\u001b[0m\u001b[0;34m=\u001b[0m\u001b[0;34m{\u001b[0m\u001b[0;34m}\u001b[0m\u001b[0;34m,\u001b[0m\u001b[0;34m\u001b[0m\u001b[0;34m\u001b[0m\u001b[0m\n\u001b[0;32m--> 217\u001b[0;31m                                   pipeline_class=CUDACompiler)\n\u001b[0m\u001b[1;32m    218\u001b[0m \u001b[0;34m\u001b[0m\u001b[0m\n\u001b[1;32m    219\u001b[0m     \u001b[0mlibrary\u001b[0m \u001b[0;34m=\u001b[0m \u001b[0mcres\u001b[0m\u001b[0;34m.\u001b[0m\u001b[0mlibrary\u001b[0m\u001b[0;34m\u001b[0m\u001b[0;34m\u001b[0m\u001b[0m\n",
            "\u001b[0;32m/usr/local/lib/python3.7/site-packages/numba/core/compiler.py\u001b[0m in \u001b[0;36mcompile_extra\u001b[0;34m(typingctx, targetctx, func, args, return_type, flags, locals, library, pipeline_class)\u001b[0m\n\u001b[1;32m    714\u001b[0m     pipeline = pipeline_class(typingctx, targetctx, library,\n\u001b[1;32m    715\u001b[0m                               args, return_type, flags, locals)\n\u001b[0;32m--> 716\u001b[0;31m     \u001b[0;32mreturn\u001b[0m \u001b[0mpipeline\u001b[0m\u001b[0;34m.\u001b[0m\u001b[0mcompile_extra\u001b[0m\u001b[0;34m(\u001b[0m\u001b[0mfunc\u001b[0m\u001b[0;34m)\u001b[0m\u001b[0;34m\u001b[0m\u001b[0;34m\u001b[0m\u001b[0m\n\u001b[0m\u001b[1;32m    717\u001b[0m \u001b[0;34m\u001b[0m\u001b[0m\n\u001b[1;32m    718\u001b[0m \u001b[0;34m\u001b[0m\u001b[0m\n",
            "\u001b[0;32m/usr/local/lib/python3.7/site-packages/numba/core/compiler.py\u001b[0m in \u001b[0;36mcompile_extra\u001b[0;34m(self, func)\u001b[0m\n\u001b[1;32m    450\u001b[0m         \u001b[0mself\u001b[0m\u001b[0;34m.\u001b[0m\u001b[0mstate\u001b[0m\u001b[0;34m.\u001b[0m\u001b[0mlifted\u001b[0m \u001b[0;34m=\u001b[0m \u001b[0;34m(\u001b[0m\u001b[0;34m)\u001b[0m\u001b[0;34m\u001b[0m\u001b[0;34m\u001b[0m\u001b[0m\n\u001b[1;32m    451\u001b[0m         \u001b[0mself\u001b[0m\u001b[0;34m.\u001b[0m\u001b[0mstate\u001b[0m\u001b[0;34m.\u001b[0m\u001b[0mlifted_from\u001b[0m \u001b[0;34m=\u001b[0m \u001b[0;32mNone\u001b[0m\u001b[0;34m\u001b[0m\u001b[0;34m\u001b[0m\u001b[0m\n\u001b[0;32m--> 452\u001b[0;31m         \u001b[0;32mreturn\u001b[0m \u001b[0mself\u001b[0m\u001b[0;34m.\u001b[0m\u001b[0m_compile_bytecode\u001b[0m\u001b[0;34m(\u001b[0m\u001b[0;34m)\u001b[0m\u001b[0;34m\u001b[0m\u001b[0;34m\u001b[0m\u001b[0m\n\u001b[0m\u001b[1;32m    453\u001b[0m \u001b[0;34m\u001b[0m\u001b[0m\n\u001b[1;32m    454\u001b[0m     \u001b[0;32mdef\u001b[0m \u001b[0mcompile_ir\u001b[0m\u001b[0;34m(\u001b[0m\u001b[0mself\u001b[0m\u001b[0;34m,\u001b[0m \u001b[0mfunc_ir\u001b[0m\u001b[0;34m,\u001b[0m \u001b[0mlifted\u001b[0m\u001b[0;34m=\u001b[0m\u001b[0;34m(\u001b[0m\u001b[0;34m)\u001b[0m\u001b[0;34m,\u001b[0m \u001b[0mlifted_from\u001b[0m\u001b[0;34m=\u001b[0m\u001b[0;32mNone\u001b[0m\u001b[0;34m)\u001b[0m\u001b[0;34m:\u001b[0m\u001b[0;34m\u001b[0m\u001b[0;34m\u001b[0m\u001b[0m\n",
            "\u001b[0;32m/usr/local/lib/python3.7/site-packages/numba/core/compiler.py\u001b[0m in \u001b[0;36m_compile_bytecode\u001b[0;34m(self)\u001b[0m\n\u001b[1;32m    518\u001b[0m         \"\"\"\n\u001b[1;32m    519\u001b[0m         \u001b[0;32massert\u001b[0m \u001b[0mself\u001b[0m\u001b[0;34m.\u001b[0m\u001b[0mstate\u001b[0m\u001b[0;34m.\u001b[0m\u001b[0mfunc_ir\u001b[0m \u001b[0;32mis\u001b[0m \u001b[0;32mNone\u001b[0m\u001b[0;34m\u001b[0m\u001b[0;34m\u001b[0m\u001b[0m\n\u001b[0;32m--> 520\u001b[0;31m         \u001b[0;32mreturn\u001b[0m \u001b[0mself\u001b[0m\u001b[0;34m.\u001b[0m\u001b[0m_compile_core\u001b[0m\u001b[0;34m(\u001b[0m\u001b[0;34m)\u001b[0m\u001b[0;34m\u001b[0m\u001b[0;34m\u001b[0m\u001b[0m\n\u001b[0m\u001b[1;32m    521\u001b[0m \u001b[0;34m\u001b[0m\u001b[0m\n\u001b[1;32m    522\u001b[0m     \u001b[0;32mdef\u001b[0m \u001b[0m_compile_ir\u001b[0m\u001b[0;34m(\u001b[0m\u001b[0mself\u001b[0m\u001b[0;34m)\u001b[0m\u001b[0;34m:\u001b[0m\u001b[0;34m\u001b[0m\u001b[0;34m\u001b[0m\u001b[0m\n",
            "\u001b[0;32m/usr/local/lib/python3.7/site-packages/numba/core/compiler.py\u001b[0m in \u001b[0;36m_compile_core\u001b[0;34m(self)\u001b[0m\n\u001b[1;32m    497\u001b[0m                     \u001b[0mself\u001b[0m\u001b[0;34m.\u001b[0m\u001b[0mstate\u001b[0m\u001b[0;34m.\u001b[0m\u001b[0mstatus\u001b[0m\u001b[0;34m.\u001b[0m\u001b[0mfail_reason\u001b[0m \u001b[0;34m=\u001b[0m \u001b[0me\u001b[0m\u001b[0;34m\u001b[0m\u001b[0;34m\u001b[0m\u001b[0m\n\u001b[1;32m    498\u001b[0m                     \u001b[0;32mif\u001b[0m \u001b[0mis_final_pipeline\u001b[0m\u001b[0;34m:\u001b[0m\u001b[0;34m\u001b[0m\u001b[0;34m\u001b[0m\u001b[0m\n\u001b[0;32m--> 499\u001b[0;31m                         \u001b[0;32mraise\u001b[0m \u001b[0me\u001b[0m\u001b[0;34m\u001b[0m\u001b[0;34m\u001b[0m\u001b[0m\n\u001b[0m\u001b[1;32m    500\u001b[0m             \u001b[0;32melse\u001b[0m\u001b[0;34m:\u001b[0m\u001b[0;34m\u001b[0m\u001b[0;34m\u001b[0m\u001b[0m\n\u001b[1;32m    501\u001b[0m                 \u001b[0;32mraise\u001b[0m \u001b[0mCompilerError\u001b[0m\u001b[0;34m(\u001b[0m\u001b[0;34m\"All available pipelines exhausted\"\u001b[0m\u001b[0;34m)\u001b[0m\u001b[0;34m\u001b[0m\u001b[0;34m\u001b[0m\u001b[0m\n",
            "\u001b[0;32m/usr/local/lib/python3.7/site-packages/numba/core/compiler.py\u001b[0m in \u001b[0;36m_compile_core\u001b[0;34m(self)\u001b[0m\n\u001b[1;32m    484\u001b[0m                 \u001b[0mres\u001b[0m \u001b[0;34m=\u001b[0m \u001b[0;32mNone\u001b[0m\u001b[0;34m\u001b[0m\u001b[0;34m\u001b[0m\u001b[0m\n\u001b[1;32m    485\u001b[0m                 \u001b[0;32mtry\u001b[0m\u001b[0;34m:\u001b[0m\u001b[0;34m\u001b[0m\u001b[0;34m\u001b[0m\u001b[0m\n\u001b[0;32m--> 486\u001b[0;31m                     \u001b[0mpm\u001b[0m\u001b[0;34m.\u001b[0m\u001b[0mrun\u001b[0m\u001b[0;34m(\u001b[0m\u001b[0mself\u001b[0m\u001b[0;34m.\u001b[0m\u001b[0mstate\u001b[0m\u001b[0;34m)\u001b[0m\u001b[0;34m\u001b[0m\u001b[0;34m\u001b[0m\u001b[0m\n\u001b[0m\u001b[1;32m    487\u001b[0m                     \u001b[0;32mif\u001b[0m \u001b[0mself\u001b[0m\u001b[0;34m.\u001b[0m\u001b[0mstate\u001b[0m\u001b[0;34m.\u001b[0m\u001b[0mcr\u001b[0m \u001b[0;32mis\u001b[0m \u001b[0;32mnot\u001b[0m \u001b[0;32mNone\u001b[0m\u001b[0;34m:\u001b[0m\u001b[0;34m\u001b[0m\u001b[0;34m\u001b[0m\u001b[0m\n\u001b[1;32m    488\u001b[0m                         \u001b[0;32mbreak\u001b[0m\u001b[0;34m\u001b[0m\u001b[0;34m\u001b[0m\u001b[0m\n",
            "\u001b[0;32m/usr/local/lib/python3.7/site-packages/numba/core/compiler_machinery.py\u001b[0m in \u001b[0;36mrun\u001b[0;34m(self, state)\u001b[0m\n\u001b[1;32m    366\u001b[0m                     \u001b[0;34m(\u001b[0m\u001b[0mself\u001b[0m\u001b[0;34m.\u001b[0m\u001b[0mpipeline_name\u001b[0m\u001b[0;34m,\u001b[0m \u001b[0mpass_desc\u001b[0m\u001b[0;34m)\u001b[0m\u001b[0;34m\u001b[0m\u001b[0;34m\u001b[0m\u001b[0m\n\u001b[1;32m    367\u001b[0m                 \u001b[0mpatched_exception\u001b[0m \u001b[0;34m=\u001b[0m \u001b[0mself\u001b[0m\u001b[0;34m.\u001b[0m\u001b[0m_patch_error\u001b[0m\u001b[0;34m(\u001b[0m\u001b[0mmsg\u001b[0m\u001b[0;34m,\u001b[0m \u001b[0me\u001b[0m\u001b[0;34m)\u001b[0m\u001b[0;34m\u001b[0m\u001b[0;34m\u001b[0m\u001b[0m\n\u001b[0;32m--> 368\u001b[0;31m                 \u001b[0;32mraise\u001b[0m \u001b[0mpatched_exception\u001b[0m\u001b[0;34m\u001b[0m\u001b[0;34m\u001b[0m\u001b[0m\n\u001b[0m\u001b[1;32m    369\u001b[0m \u001b[0;34m\u001b[0m\u001b[0m\n\u001b[1;32m    370\u001b[0m     \u001b[0;32mdef\u001b[0m \u001b[0mdependency_analysis\u001b[0m\u001b[0;34m(\u001b[0m\u001b[0mself\u001b[0m\u001b[0;34m)\u001b[0m\u001b[0;34m:\u001b[0m\u001b[0;34m\u001b[0m\u001b[0;34m\u001b[0m\u001b[0m\n",
            "\u001b[0;32m/usr/local/lib/python3.7/site-packages/numba/core/compiler_machinery.py\u001b[0m in \u001b[0;36mrun\u001b[0;34m(self, state)\u001b[0m\n\u001b[1;32m    354\u001b[0m                 \u001b[0mpass_inst\u001b[0m \u001b[0;34m=\u001b[0m \u001b[0m_pass_registry\u001b[0m\u001b[0;34m.\u001b[0m\u001b[0mget\u001b[0m\u001b[0;34m(\u001b[0m\u001b[0mpss\u001b[0m\u001b[0;34m)\u001b[0m\u001b[0;34m.\u001b[0m\u001b[0mpass_inst\u001b[0m\u001b[0;34m\u001b[0m\u001b[0;34m\u001b[0m\u001b[0m\n\u001b[1;32m    355\u001b[0m                 \u001b[0;32mif\u001b[0m \u001b[0misinstance\u001b[0m\u001b[0;34m(\u001b[0m\u001b[0mpass_inst\u001b[0m\u001b[0;34m,\u001b[0m \u001b[0mCompilerPass\u001b[0m\u001b[0;34m)\u001b[0m\u001b[0;34m:\u001b[0m\u001b[0;34m\u001b[0m\u001b[0;34m\u001b[0m\u001b[0m\n\u001b[0;32m--> 356\u001b[0;31m                     \u001b[0mself\u001b[0m\u001b[0;34m.\u001b[0m\u001b[0m_runPass\u001b[0m\u001b[0;34m(\u001b[0m\u001b[0midx\u001b[0m\u001b[0;34m,\u001b[0m \u001b[0mpass_inst\u001b[0m\u001b[0;34m,\u001b[0m \u001b[0mstate\u001b[0m\u001b[0;34m)\u001b[0m\u001b[0;34m\u001b[0m\u001b[0;34m\u001b[0m\u001b[0m\n\u001b[0m\u001b[1;32m    357\u001b[0m                 \u001b[0;32melse\u001b[0m\u001b[0;34m:\u001b[0m\u001b[0;34m\u001b[0m\u001b[0;34m\u001b[0m\u001b[0m\n\u001b[1;32m    358\u001b[0m                     \u001b[0;32mraise\u001b[0m \u001b[0mBaseException\u001b[0m\u001b[0;34m(\u001b[0m\u001b[0;34m\"Legacy pass in use\"\u001b[0m\u001b[0;34m)\u001b[0m\u001b[0;34m\u001b[0m\u001b[0;34m\u001b[0m\u001b[0m\n",
            "\u001b[0;32m/usr/local/lib/python3.7/site-packages/numba/core/compiler_lock.py\u001b[0m in \u001b[0;36m_acquire_compile_lock\u001b[0;34m(*args, **kwargs)\u001b[0m\n\u001b[1;32m     33\u001b[0m         \u001b[0;32mdef\u001b[0m \u001b[0m_acquire_compile_lock\u001b[0m\u001b[0;34m(\u001b[0m\u001b[0;34m*\u001b[0m\u001b[0margs\u001b[0m\u001b[0;34m,\u001b[0m \u001b[0;34m**\u001b[0m\u001b[0mkwargs\u001b[0m\u001b[0;34m)\u001b[0m\u001b[0;34m:\u001b[0m\u001b[0;34m\u001b[0m\u001b[0;34m\u001b[0m\u001b[0m\n\u001b[1;32m     34\u001b[0m             \u001b[0;32mwith\u001b[0m \u001b[0mself\u001b[0m\u001b[0;34m:\u001b[0m\u001b[0;34m\u001b[0m\u001b[0;34m\u001b[0m\u001b[0m\n\u001b[0;32m---> 35\u001b[0;31m                 \u001b[0;32mreturn\u001b[0m \u001b[0mfunc\u001b[0m\u001b[0;34m(\u001b[0m\u001b[0;34m*\u001b[0m\u001b[0margs\u001b[0m\u001b[0;34m,\u001b[0m \u001b[0;34m**\u001b[0m\u001b[0mkwargs\u001b[0m\u001b[0;34m)\u001b[0m\u001b[0;34m\u001b[0m\u001b[0;34m\u001b[0m\u001b[0m\n\u001b[0m\u001b[1;32m     36\u001b[0m         \u001b[0;32mreturn\u001b[0m \u001b[0m_acquire_compile_lock\u001b[0m\u001b[0;34m\u001b[0m\u001b[0;34m\u001b[0m\u001b[0m\n\u001b[1;32m     37\u001b[0m \u001b[0;34m\u001b[0m\u001b[0m\n",
            "\u001b[0;32m/usr/local/lib/python3.7/site-packages/numba/core/compiler_machinery.py\u001b[0m in \u001b[0;36m_runPass\u001b[0;34m(self, index, pss, internal_state)\u001b[0m\n\u001b[1;32m    309\u001b[0m                 \u001b[0mmutated\u001b[0m \u001b[0;34m|=\u001b[0m \u001b[0mcheck\u001b[0m\u001b[0;34m(\u001b[0m\u001b[0mpss\u001b[0m\u001b[0;34m.\u001b[0m\u001b[0mrun_initialization\u001b[0m\u001b[0;34m,\u001b[0m \u001b[0minternal_state\u001b[0m\u001b[0;34m)\u001b[0m\u001b[0;34m\u001b[0m\u001b[0;34m\u001b[0m\u001b[0m\n\u001b[1;32m    310\u001b[0m             \u001b[0;32mwith\u001b[0m \u001b[0mSimpleTimer\u001b[0m\u001b[0;34m(\u001b[0m\u001b[0;34m)\u001b[0m \u001b[0;32mas\u001b[0m \u001b[0mpass_time\u001b[0m\u001b[0;34m:\u001b[0m\u001b[0;34m\u001b[0m\u001b[0;34m\u001b[0m\u001b[0m\n\u001b[0;32m--> 311\u001b[0;31m                 \u001b[0mmutated\u001b[0m \u001b[0;34m|=\u001b[0m \u001b[0mcheck\u001b[0m\u001b[0;34m(\u001b[0m\u001b[0mpss\u001b[0m\u001b[0;34m.\u001b[0m\u001b[0mrun_pass\u001b[0m\u001b[0;34m,\u001b[0m \u001b[0minternal_state\u001b[0m\u001b[0;34m)\u001b[0m\u001b[0;34m\u001b[0m\u001b[0;34m\u001b[0m\u001b[0m\n\u001b[0m\u001b[1;32m    312\u001b[0m             \u001b[0;32mwith\u001b[0m \u001b[0mSimpleTimer\u001b[0m\u001b[0;34m(\u001b[0m\u001b[0;34m)\u001b[0m \u001b[0;32mas\u001b[0m \u001b[0mfinalize_time\u001b[0m\u001b[0;34m:\u001b[0m\u001b[0;34m\u001b[0m\u001b[0;34m\u001b[0m\u001b[0m\n\u001b[1;32m    313\u001b[0m                 \u001b[0mmutated\u001b[0m \u001b[0;34m|=\u001b[0m \u001b[0mcheck\u001b[0m\u001b[0;34m(\u001b[0m\u001b[0mpss\u001b[0m\u001b[0;34m.\u001b[0m\u001b[0mrun_finalizer\u001b[0m\u001b[0;34m,\u001b[0m \u001b[0minternal_state\u001b[0m\u001b[0;34m)\u001b[0m\u001b[0;34m\u001b[0m\u001b[0;34m\u001b[0m\u001b[0m\n",
            "\u001b[0;32m/usr/local/lib/python3.7/site-packages/numba/core/compiler_machinery.py\u001b[0m in \u001b[0;36mcheck\u001b[0;34m(func, compiler_state)\u001b[0m\n\u001b[1;32m    271\u001b[0m \u001b[0;34m\u001b[0m\u001b[0m\n\u001b[1;32m    272\u001b[0m         \u001b[0;32mdef\u001b[0m \u001b[0mcheck\u001b[0m\u001b[0;34m(\u001b[0m\u001b[0mfunc\u001b[0m\u001b[0;34m,\u001b[0m \u001b[0mcompiler_state\u001b[0m\u001b[0;34m)\u001b[0m\u001b[0;34m:\u001b[0m\u001b[0;34m\u001b[0m\u001b[0;34m\u001b[0m\u001b[0m\n\u001b[0;32m--> 273\u001b[0;31m             \u001b[0mmangled\u001b[0m \u001b[0;34m=\u001b[0m \u001b[0mfunc\u001b[0m\u001b[0;34m(\u001b[0m\u001b[0mcompiler_state\u001b[0m\u001b[0;34m)\u001b[0m\u001b[0;34m\u001b[0m\u001b[0;34m\u001b[0m\u001b[0m\n\u001b[0m\u001b[1;32m    274\u001b[0m             \u001b[0;32mif\u001b[0m \u001b[0mmangled\u001b[0m \u001b[0;32mnot\u001b[0m \u001b[0;32min\u001b[0m \u001b[0;34m(\u001b[0m\u001b[0;32mTrue\u001b[0m\u001b[0;34m,\u001b[0m \u001b[0;32mFalse\u001b[0m\u001b[0;34m)\u001b[0m\u001b[0;34m:\u001b[0m\u001b[0;34m\u001b[0m\u001b[0;34m\u001b[0m\u001b[0m\n\u001b[1;32m    275\u001b[0m                 msg = (\"CompilerPass implementations should return True/False. \"\n",
            "\u001b[0;32m/usr/local/lib/python3.7/site-packages/numba/core/typed_passes.py\u001b[0m in \u001b[0;36mrun_pass\u001b[0;34m(self, state)\u001b[0m\n\u001b[1;32m    110\u001b[0m                 \u001b[0mstate\u001b[0m\u001b[0;34m.\u001b[0m\u001b[0mreturn_type\u001b[0m\u001b[0;34m,\u001b[0m\u001b[0;34m\u001b[0m\u001b[0;34m\u001b[0m\u001b[0m\n\u001b[1;32m    111\u001b[0m                 \u001b[0mstate\u001b[0m\u001b[0;34m.\u001b[0m\u001b[0mlocals\u001b[0m\u001b[0;34m,\u001b[0m\u001b[0;34m\u001b[0m\u001b[0;34m\u001b[0m\u001b[0m\n\u001b[0;32m--> 112\u001b[0;31m                 raise_errors=self._raise_errors)\n\u001b[0m\u001b[1;32m    113\u001b[0m             \u001b[0mstate\u001b[0m\u001b[0;34m.\u001b[0m\u001b[0mtypemap\u001b[0m \u001b[0;34m=\u001b[0m \u001b[0mtypemap\u001b[0m\u001b[0;34m\u001b[0m\u001b[0;34m\u001b[0m\u001b[0m\n\u001b[1;32m    114\u001b[0m             \u001b[0;31m# save errors in case of partial typing\u001b[0m\u001b[0;34m\u001b[0m\u001b[0;34m\u001b[0m\u001b[0;34m\u001b[0m\u001b[0m\n",
            "\u001b[0;32m/usr/local/lib/python3.7/site-packages/numba/core/typed_passes.py\u001b[0m in \u001b[0;36mtype_inference_stage\u001b[0;34m(typingctx, targetctx, interp, args, return_type, locals, raise_errors)\u001b[0m\n\u001b[1;32m     81\u001b[0m         \u001b[0minfer\u001b[0m\u001b[0;34m.\u001b[0m\u001b[0mbuild_constraint\u001b[0m\u001b[0;34m(\u001b[0m\u001b[0;34m)\u001b[0m\u001b[0;34m\u001b[0m\u001b[0;34m\u001b[0m\u001b[0m\n\u001b[1;32m     82\u001b[0m         \u001b[0;31m# return errors in case of partial typing\u001b[0m\u001b[0;34m\u001b[0m\u001b[0;34m\u001b[0m\u001b[0;34m\u001b[0m\u001b[0m\n\u001b[0;32m---> 83\u001b[0;31m         \u001b[0merrs\u001b[0m \u001b[0;34m=\u001b[0m \u001b[0minfer\u001b[0m\u001b[0;34m.\u001b[0m\u001b[0mpropagate\u001b[0m\u001b[0;34m(\u001b[0m\u001b[0mraise_errors\u001b[0m\u001b[0;34m=\u001b[0m\u001b[0mraise_errors\u001b[0m\u001b[0;34m)\u001b[0m\u001b[0;34m\u001b[0m\u001b[0;34m\u001b[0m\u001b[0m\n\u001b[0m\u001b[1;32m     84\u001b[0m         \u001b[0mtypemap\u001b[0m\u001b[0;34m,\u001b[0m \u001b[0mrestype\u001b[0m\u001b[0;34m,\u001b[0m \u001b[0mcalltypes\u001b[0m \u001b[0;34m=\u001b[0m \u001b[0minfer\u001b[0m\u001b[0;34m.\u001b[0m\u001b[0munify\u001b[0m\u001b[0;34m(\u001b[0m\u001b[0mraise_errors\u001b[0m\u001b[0;34m=\u001b[0m\u001b[0mraise_errors\u001b[0m\u001b[0;34m)\u001b[0m\u001b[0;34m\u001b[0m\u001b[0;34m\u001b[0m\u001b[0m\n\u001b[1;32m     85\u001b[0m \u001b[0;34m\u001b[0m\u001b[0m\n",
            "\u001b[0;32m/usr/local/lib/python3.7/site-packages/numba/core/typeinfer.py\u001b[0m in \u001b[0;36mpropagate\u001b[0;34m(self, raise_errors)\u001b[0m\n\u001b[1;32m   1084\u001b[0m                                   if isinstance(e, ForceLiteralArg)]\n\u001b[1;32m   1085\u001b[0m                 \u001b[0;32mif\u001b[0m \u001b[0;32mnot\u001b[0m \u001b[0mforce_lit_args\u001b[0m\u001b[0;34m:\u001b[0m\u001b[0;34m\u001b[0m\u001b[0;34m\u001b[0m\u001b[0m\n\u001b[0;32m-> 1086\u001b[0;31m                     \u001b[0;32mraise\u001b[0m \u001b[0merrors\u001b[0m\u001b[0;34m[\u001b[0m\u001b[0;36m0\u001b[0m\u001b[0;34m]\u001b[0m\u001b[0;34m\u001b[0m\u001b[0;34m\u001b[0m\u001b[0m\n\u001b[0m\u001b[1;32m   1087\u001b[0m                 \u001b[0;32melse\u001b[0m\u001b[0;34m:\u001b[0m\u001b[0;34m\u001b[0m\u001b[0;34m\u001b[0m\u001b[0m\n\u001b[1;32m   1088\u001b[0m                     \u001b[0;32mraise\u001b[0m \u001b[0mreduce\u001b[0m\u001b[0;34m(\u001b[0m\u001b[0moperator\u001b[0m\u001b[0;34m.\u001b[0m\u001b[0mor_\u001b[0m\u001b[0;34m,\u001b[0m \u001b[0mforce_lit_args\u001b[0m\u001b[0;34m)\u001b[0m\u001b[0;34m\u001b[0m\u001b[0;34m\u001b[0m\u001b[0m\n",
            "\u001b[0;31mTypingError\u001b[0m: Failed in cuda mode pipeline (step: nopython frontend)\nInternal error at <numba.core.typeinfer.IntrinsicCallConstraint object at 0x7f57b17b8090>.\n\u001b[1m\u001b[1mVersion mismatch: this is the 'cffi' package version 1.15.1, located in '/usr/local/lib/python3.7/dist-packages/cffi/api.py'.  When we import the top-level '_cffi_backend' extension module, we get version 1.15.0, located in '/usr/local/lib/python3.7/site-packages/_cffi_backend.cpython-37m-x86_64-linux-gnu.so'.  The two versions should be equal; check your installation.\u001b[0m\n\u001b[0m\u001b[1mDuring: typing of intrinsic-call at <ipython-input-43-b60b2d5a45c7> (2)\u001b[0m\nEnable logging at debug level for details.\n\u001b[1m\nFile \"<ipython-input-43-b60b2d5a45c7>\", line 2:\u001b[0m\n\u001b[1mdef add_ten(num):\n\u001b[1m    return num + 10\n\u001b[0m    \u001b[1m^\u001b[0m\u001b[0m\n"
          ]
        }
      ],
      "source": [
        "def add_ten(num):\n",
        "    return num + 10\n",
        "\n",
        "print(s.applymap(add_ten))"
      ]
    },
    {
      "cell_type": "markdown",
      "metadata": {
        "id": "gRpPzTmoCWIR"
      },
      "source": [
        "<a id='string'></a>\n",
        "\n",
        "## String Methods"
      ]
    },
    {
      "cell_type": "markdown",
      "metadata": {
        "id": "5M3IOMpwCWIR"
      },
      "source": [
        "Like pandas, cuDF provides string processing methods in the `str` attribute of `Series`. Full documentation of string methods is a work in progress. Please see the [cuDF](https://docs.rapids.ai/api/cudf/nightly/) and [nvStrings](https://docs.rapids.ai/api/nvstrings/nightly/) API documentation for more information."
      ]
    },
    {
      "cell_type": "code",
      "execution_count": null,
      "metadata": {
        "colab": {
          "base_uri": "https://localhost:8080/"
        },
        "id": "H1lDQcSqCWIR",
        "outputId": "be1c1164-7ff6-4e83-c9df-85c8ccf5a607"
      },
      "outputs": [
        {
          "output_type": "stream",
          "name": "stdout",
          "text": [
            "0       a\n",
            "1       b\n",
            "2       c\n",
            "3    aaba\n",
            "4    baca\n",
            "5    <NA>\n",
            "6    caba\n",
            "7     dog\n",
            "8     cat\n",
            "dtype: object\n"
          ]
        }
      ],
      "source": [
        "s = cudf.Series(['A', 'B', 'C', 'Aaba', 'Baca', None, 'CABA', 'dog', 'cat'])\n",
        "print(s.str.lower())"
      ]
    },
    {
      "cell_type": "markdown",
      "metadata": {
        "id": "TIwCrI_NCWIR"
      },
      "source": [
        "To check the number of bytes in each string of the series:"
      ]
    },
    {
      "cell_type": "code",
      "execution_count": null,
      "metadata": {
        "colab": {
          "base_uri": "https://localhost:8080/"
        },
        "id": "AHTkbGHZCWIR",
        "outputId": "529e605a-136e-4a5d-8423-2b11b450d93c"
      },
      "outputs": [
        {
          "output_type": "stream",
          "name": "stdout",
          "text": [
            "0       1\n",
            "1       1\n",
            "2       1\n",
            "3       4\n",
            "4       4\n",
            "5    <NA>\n",
            "6       4\n",
            "7       3\n",
            "8       3\n",
            "dtype: int32\n"
          ]
        }
      ],
      "source": [
        "print(s.str.byte_count())"
      ]
    },
    {
      "cell_type": "markdown",
      "metadata": {
        "id": "JyB1iMFvCWIS"
      },
      "source": [
        "To find whether a word or regular expression occurs in the strings of the series:"
      ]
    },
    {
      "cell_type": "code",
      "execution_count": null,
      "metadata": {
        "colab": {
          "base_uri": "https://localhost:8080/"
        },
        "id": "h4BU4-PLCWIS",
        "outputId": "fc992acf-702f-4199-d2e0-91c97c524d53"
      },
      "outputs": [
        {
          "output_type": "stream",
          "name": "stdout",
          "text": [
            "0    False\n",
            "1    False\n",
            "2     True\n",
            "3    False\n",
            "4    False\n",
            "5     <NA>\n",
            "6     True\n",
            "7     True\n",
            "8    False\n",
            "dtype: bool\n"
          ]
        }
      ],
      "source": [
        "print(s.str.contains('C|dog', regex=True))"
      ]
    },
    {
      "cell_type": "markdown",
      "metadata": {
        "id": "4kQoMoRgCWIS"
      },
      "source": [
        "<a id='exercise3'></a>\n",
        "\n",
        "## Exercise 3\n",
        "\n",
        "Try to convert all the strings to uppercase. Take a look at the nvStrings API documentation linked above if you need some help.\n",
        "\n",
        "<details><summary><b>Solution</b></summary>\n",
        "   <pre>\n",
        "    <br>print(s.str.upper())\n",
        "   </pre>\n",
        "</details>"
      ]
    },
    {
      "cell_type": "code",
      "execution_count": null,
      "metadata": {
        "colab": {
          "base_uri": "https://localhost:8080/"
        },
        "id": "J5Zs7kvkCWIS",
        "outputId": "93311f99-85b8-483f-b13c-32b4fe5a17fc"
      },
      "outputs": [
        {
          "output_type": "stream",
          "name": "stdout",
          "text": [
            "0       A\n",
            "1       B\n",
            "2       C\n",
            "3    AABA\n",
            "4    BACA\n",
            "5    <NA>\n",
            "6    CABA\n",
            "7     DOG\n",
            "8     CAT\n",
            "dtype: object\n"
          ]
        }
      ],
      "source": [
        "print(s.str.upper())"
      ]
    },
    {
      "cell_type": "markdown",
      "metadata": {
        "id": "ucbYgCwHCWIS"
      },
      "source": [
        "<a id='concat'></a>\n",
        "\n",
        "## Concat"
      ]
    },
    {
      "cell_type": "markdown",
      "metadata": {
        "id": "ON8zlYZpCWIT"
      },
      "source": [
        "Concatenating `Series` and `DataFrames` row-wise."
      ]
    },
    {
      "cell_type": "code",
      "execution_count": null,
      "metadata": {
        "colab": {
          "base_uri": "https://localhost:8080/"
        },
        "id": "OIb1tzdoCWIT",
        "outputId": "421edb58-df6a-4d54-b529-f9f552d2bfb9"
      },
      "outputs": [
        {
          "output_type": "stream",
          "name": "stdout",
          "text": [
            "0       1\n",
            "1       2\n",
            "2       3\n",
            "3    <NA>\n",
            "4       5\n",
            "0       1\n",
            "1       2\n",
            "2       3\n",
            "3    <NA>\n",
            "4       5\n",
            "dtype: int64\n"
          ]
        }
      ],
      "source": [
        "s = cudf.Series([1, 2, 3, None, 5])\n",
        "print(cudf.concat([s, s]))"
      ]
    },
    {
      "cell_type": "markdown",
      "metadata": {
        "id": "p75QmXLZCWIT"
      },
      "source": [
        "<a id='append'></a>\n",
        "\n",
        "## Append"
      ]
    },
    {
      "cell_type": "markdown",
      "metadata": {
        "id": "MX7R8dNlCWIT"
      },
      "source": [
        "Appending values from another `Series` or array-like object."
      ]
    },
    {
      "cell_type": "code",
      "execution_count": null,
      "metadata": {
        "colab": {
          "base_uri": "https://localhost:8080/"
        },
        "id": "atb4t9tpCWIT",
        "outputId": "010fe457-f927-4a0c-9695-58ce06d45e1a"
      },
      "outputs": [
        {
          "output_type": "stream",
          "name": "stdout",
          "text": [
            "0       1\n",
            "1       2\n",
            "2       3\n",
            "3    <NA>\n",
            "4       5\n",
            "0       1\n",
            "1       2\n",
            "2       3\n",
            "3    <NA>\n",
            "4       5\n",
            "dtype: int64\n"
          ]
        }
      ],
      "source": [
        "print(s.append(s))"
      ]
    },
    {
      "cell_type": "markdown",
      "metadata": {
        "id": "YdMN12AyCWIU"
      },
      "source": [
        "<a id='join'></a>\n",
        "\n",
        "## Join"
      ]
    },
    {
      "cell_type": "markdown",
      "metadata": {
        "id": "4qqZ-NjiCWIU"
      },
      "source": [
        "Performing SQL style merges. Note that the dataframe order is not maintained, but may be restored post-merge by sorting by the index."
      ]
    },
    {
      "cell_type": "code",
      "execution_count": null,
      "metadata": {
        "colab": {
          "base_uri": "https://localhost:8080/"
        },
        "id": "gR2FCSGkCWIU",
        "outputId": "d34b39b6-0216-496c-d075-b0fb1c9c8d52"
      },
      "outputs": [
        {
          "output_type": "stream",
          "name": "stdout",
          "text": [
            "  key  vals_a vals_b\n",
            "0   a    10.0  100.0\n",
            "1   c    12.0  101.0\n",
            "2   e    14.0  102.0\n",
            "3   b    11.0   <NA>\n",
            "4   d    13.0   <NA>\n"
          ]
        }
      ],
      "source": [
        "df_a = cudf.DataFrame()\n",
        "df_a['key'] = ['a', 'b', 'c', 'd', 'e']\n",
        "df_a['vals_a'] = [float(i + 10) for i in range(5)]\n",
        "\n",
        "df_b = cudf.DataFrame()\n",
        "df_b['key'] = ['a', 'c', 'e']\n",
        "df_b['vals_b'] = [float(i+100) for i in range(3)]\n",
        "\n",
        "merged = df_a.merge(df_b, on=['key'], how='left')\n",
        "print(merged)"
      ]
    },
    {
      "cell_type": "markdown",
      "metadata": {
        "id": "V-CMAoa9CWIU"
      },
      "source": [
        "<a id='exercise4'></a>\n",
        "\n",
        "## Exercise 4\n",
        "\n",
        "Using the DataFrames we created above, try to do an `inner` join using `merge`.\n",
        "\n",
        "<details><summary><b>Solution</b></summary>\n",
        "   <pre>\n",
        "    <br>print(df_a.merge(df_b, on=['key'], how='inner'))\n",
        "   </pre>\n",
        "</details>"
      ]
    },
    {
      "cell_type": "code",
      "execution_count": null,
      "metadata": {
        "colab": {
          "base_uri": "https://localhost:8080/"
        },
        "id": "zKmSoNVJCWIU",
        "outputId": "1ae1bab7-f6bc-4a59-a6b8-a40dc61ce682"
      },
      "outputs": [
        {
          "output_type": "stream",
          "name": "stdout",
          "text": [
            "  key  vals_a  vals_b\n",
            "0   a    10.0   100.0\n",
            "1   c    12.0   101.0\n",
            "2   e    14.0   102.0\n"
          ]
        }
      ],
      "source": [
        "print(df_a.merge(df_b, on=['key'], how='inner'))"
      ]
    },
    {
      "cell_type": "markdown",
      "metadata": {
        "id": "Pl48l2X7CWIV"
      },
      "source": [
        "<a id='grouping'></a>\n",
        "\n",
        "## Grouping"
      ]
    },
    {
      "cell_type": "markdown",
      "metadata": {
        "id": "GOtlqzl1CWIV"
      },
      "source": [
        "Like pandas, cuDF supports the [Split-Apply-Combine](https://pandas.pydata.org/pandas-docs/stable/user_guide/groupby.html) groupby paradigm."
      ]
    },
    {
      "cell_type": "code",
      "execution_count": null,
      "metadata": {
        "colab": {
          "base_uri": "https://localhost:8080/"
        },
        "id": "VMfJsJvrCWIV",
        "outputId": "17bf2236-531a-42d2-aaf7-3c67ea2d6013"
      },
      "outputs": [
        {
          "output_type": "stream",
          "name": "stdout",
          "text": [
            "     a   b   c  agg_col1  agg_col2\n",
            "0    0  19   0         1         1\n",
            "1    1  18   1         0         0\n",
            "2    2  17   2         1         0\n",
            "3    3  16   3         0         1\n",
            "4    4  15   4         1         0\n",
            "5    5  14   5         0         0\n",
            "6    6  13   6         1         1\n",
            "7    7  12   7         0         0\n",
            "8    8  11   8         1         0\n",
            "9    9  10   9         0         1\n",
            "10  10   9  10         1         0\n",
            "11  11   8  11         0         0\n",
            "12  12   7  12         1         1\n",
            "13  13   6  13         0         0\n",
            "14  14   5  14         1         0\n",
            "15  15   4  15         0         1\n",
            "16  16   3  16         1         0\n",
            "17  17   2  17         0         0\n",
            "18  18   1  18         1         1\n",
            "19  19   0  19         0         0\n"
          ]
        }
      ],
      "source": [
        "df['agg_col1'] = [1 if x % 2 == 0 else 0 for x in range(len(df))]\n",
        "df['agg_col2'] = [1 if x % 3 == 0 else 0 for x in range(len(df))]\n",
        "print(df)"
      ]
    },
    {
      "cell_type": "markdown",
      "metadata": {
        "id": "fk7vaV57CWIV"
      },
      "source": [
        "Grouping and then applying the `sum` function to the grouped data."
      ]
    },
    {
      "cell_type": "code",
      "execution_count": null,
      "metadata": {
        "colab": {
          "base_uri": "https://localhost:8080/",
          "height": 143
        },
        "id": "sryQBTs3CWIV",
        "outputId": "914fb995-239d-44ee-caae-c772baadb6a5"
      },
      "outputs": [
        {
          "output_type": "execute_result",
          "data": {
            "text/plain": [
              "            a    b    c  agg_col2\n",
              "agg_col1                         \n",
              "1          90  100   90         4\n",
              "0         100   90  100         3"
            ],
            "text/html": [
              "<div>\n",
              "<style scoped>\n",
              "    .dataframe tbody tr th:only-of-type {\n",
              "        vertical-align: middle;\n",
              "    }\n",
              "\n",
              "    .dataframe tbody tr th {\n",
              "        vertical-align: top;\n",
              "    }\n",
              "\n",
              "    .dataframe thead th {\n",
              "        text-align: right;\n",
              "    }\n",
              "</style>\n",
              "<table border=\"1\" class=\"dataframe\">\n",
              "  <thead>\n",
              "    <tr style=\"text-align: right;\">\n",
              "      <th></th>\n",
              "      <th>a</th>\n",
              "      <th>b</th>\n",
              "      <th>c</th>\n",
              "      <th>agg_col2</th>\n",
              "    </tr>\n",
              "    <tr>\n",
              "      <th>agg_col1</th>\n",
              "      <th></th>\n",
              "      <th></th>\n",
              "      <th></th>\n",
              "      <th></th>\n",
              "    </tr>\n",
              "  </thead>\n",
              "  <tbody>\n",
              "    <tr>\n",
              "      <th>1</th>\n",
              "      <td>90</td>\n",
              "      <td>100</td>\n",
              "      <td>90</td>\n",
              "      <td>4</td>\n",
              "    </tr>\n",
              "    <tr>\n",
              "      <th>0</th>\n",
              "      <td>100</td>\n",
              "      <td>90</td>\n",
              "      <td>100</td>\n",
              "      <td>3</td>\n",
              "    </tr>\n",
              "  </tbody>\n",
              "</table>\n",
              "</div>"
            ]
          },
          "metadata": {},
          "execution_count": 57
        }
      ],
      "source": [
        "df.groupby('agg_col1').sum()"
      ]
    },
    {
      "cell_type": "markdown",
      "metadata": {
        "id": "CUYQB_CQCWIW"
      },
      "source": [
        "Grouping and applying statistical functions to specific columns, using `agg`."
      ]
    },
    {
      "cell_type": "code",
      "execution_count": null,
      "metadata": {
        "colab": {
          "base_uri": "https://localhost:8080/",
          "height": 143
        },
        "id": "u2DbkDdtCWIW",
        "outputId": "95176543-f265-4550-899d-97fead39356a"
      },
      "outputs": [
        {
          "output_type": "execute_result",
          "data": {
            "text/plain": [
              "           a     b    c\n",
              "agg_col1               \n",
              "1         18  10.0   90\n",
              "0         19   9.0  100"
            ],
            "text/html": [
              "<div>\n",
              "<style scoped>\n",
              "    .dataframe tbody tr th:only-of-type {\n",
              "        vertical-align: middle;\n",
              "    }\n",
              "\n",
              "    .dataframe tbody tr th {\n",
              "        vertical-align: top;\n",
              "    }\n",
              "\n",
              "    .dataframe thead th {\n",
              "        text-align: right;\n",
              "    }\n",
              "</style>\n",
              "<table border=\"1\" class=\"dataframe\">\n",
              "  <thead>\n",
              "    <tr style=\"text-align: right;\">\n",
              "      <th></th>\n",
              "      <th>a</th>\n",
              "      <th>b</th>\n",
              "      <th>c</th>\n",
              "    </tr>\n",
              "    <tr>\n",
              "      <th>agg_col1</th>\n",
              "      <th></th>\n",
              "      <th></th>\n",
              "      <th></th>\n",
              "    </tr>\n",
              "  </thead>\n",
              "  <tbody>\n",
              "    <tr>\n",
              "      <th>1</th>\n",
              "      <td>18</td>\n",
              "      <td>10.0</td>\n",
              "      <td>90</td>\n",
              "    </tr>\n",
              "    <tr>\n",
              "      <th>0</th>\n",
              "      <td>19</td>\n",
              "      <td>9.0</td>\n",
              "      <td>100</td>\n",
              "    </tr>\n",
              "  </tbody>\n",
              "</table>\n",
              "</div>"
            ]
          },
          "metadata": {},
          "execution_count": 58
        }
      ],
      "source": [
        "df.groupby('agg_col1').agg({'a':'max', 'b':'mean', 'c':'sum'})"
      ]
    },
    {
      "cell_type": "markdown",
      "metadata": {
        "id": "m95RN6qSCWIW"
      },
      "source": [
        "<a id='exercise5'></a>\n",
        "\n",
        "## Exercise 5\n",
        "\n",
        "We can also group by multiple columns at once, which we call grouping hierarchically. Try to group `df` by `agg_col1` and `agg_col2` and calculate the mean of column `a` and minimum of column `b`.\n",
        "\n",
        "<details><summary><b>Solution</b></summary>\n",
        "   <pre>\n",
        "    <br>df.groupby(['agg_col1', 'agg_col2']).agg({'a':'mean', 'b':'min'})\n",
        "   </pre>\n",
        "</details>"
      ]
    },
    {
      "cell_type": "markdown",
      "metadata": {
        "id": "Va562ufCCWIW"
      },
      "source": [
        "<a id='time'></a>\n",
        "\n",
        "\n",
        "Time Series\n",
        "------------\n"
      ]
    },
    {
      "cell_type": "markdown",
      "metadata": {
        "id": "LPBOQpP2CWIX"
      },
      "source": [
        "`DataFrames` supports `datetime` typed columns, which allow users to interact with and filter data based on specific timestamps."
      ]
    },
    {
      "cell_type": "code",
      "execution_count": null,
      "metadata": {
        "colab": {
          "base_uri": "https://localhost:8080/"
        },
        "id": "x04ecS6FCWIX",
        "outputId": "d1e82b83-a4b5-48e3-e812-84b39549d65a"
      },
      "outputs": [
        {
          "output_type": "stream",
          "name": "stdout",
          "text": [
            "        date     value\n",
            "0 2018-11-20  0.154163\n",
            "1 2018-11-21  0.740050\n",
            "2 2018-11-22  0.263315\n",
            "3 2018-11-23  0.533739\n",
            "4 2018-11-24  0.014575\n"
          ]
        }
      ],
      "source": [
        "date_df = cudf.DataFrame()\n",
        "date_df['date'] = pd.date_range('11/20/2018', periods=72, freq='D')\n",
        "date_df['value'] = np.random.sample(len(date_df))\n",
        "print(date_df.head())"
      ]
    },
    {
      "cell_type": "markdown",
      "metadata": {
        "id": "wS2Bt5CeCWIX"
      },
      "source": [
        "<a id='exercise6'></a>\n",
        "\n",
        "## Exercise 6\n",
        "\n",
        "Try to use `query` to filter `date_df` to only those row with a date before `2018-11-23`. This is a bit trickier than the prior exercises. As a hint, you'll want to explore the `to_datetime` function from the `pandas` library.\n",
        "\n",
        "<details><summary><b>Solution</b></summary>\n",
        "   <pre>\n",
        "    <br>\n",
        "    search_date = pd.to_datetime('2018-11-23')\n",
        "    date_df.loc[date_df.date &lt= search_date]\n",
        "            </br>\n",
        "   </pre>\n",
        "</details>"
      ]
    },
    {
      "cell_type": "markdown",
      "metadata": {
        "id": "brw_kQ7BCWIY"
      },
      "source": [
        "You can also interact with datetime columns to extract things like the day, hour, minute, and more."
      ]
    },
    {
      "cell_type": "code",
      "execution_count": null,
      "metadata": {
        "colab": {
          "base_uri": "https://localhost:8080/"
        },
        "id": "CYVmUEwXCWIY",
        "outputId": "1eff44b7-bcec-4a9e-e377-79a3c38c6447"
      },
      "outputs": [
        {
          "output_type": "stream",
          "name": "stdout",
          "text": [
            "        date     value  minute\n",
            "0 2018-11-20  0.154163       0\n",
            "1 2018-11-21  0.740050       0\n",
            "2 2018-11-22  0.263315       0\n",
            "3 2018-11-23  0.533739       0\n",
            "4 2018-11-24  0.014575       0\n"
          ]
        }
      ],
      "source": [
        "date_df['minute'] = date_df.date.dt.minute\n",
        "print(date_df.head())"
      ]
    },
    {
      "cell_type": "markdown",
      "metadata": {
        "id": "UyEpmy_GCWIY"
      },
      "source": [
        "<a id='condatarep'></a>\n",
        "\n",
        "Converting Data Representation\n",
        "--------------------------------"
      ]
    },
    {
      "cell_type": "markdown",
      "metadata": {
        "id": "21rkmsBmCWIY"
      },
      "source": [
        "<a id='cupy'></a>\n",
        "\n",
        "## CuPy\n",
        "\n",
        "Combining cuDF and CuPy is particularly useful (it's the GPU equivalent of combining pandas and NumPy), so we've put together a Getting Started [guide](https://docs.rapids.ai/api/cudf/nightly/10min-cudf-cupy.html). Let's start of by importing cupy and doing data operations"
      ]
    },
    {
      "cell_type": "code",
      "execution_count": null,
      "metadata": {
        "id": "VtzAq5nCCWIY"
      },
      "outputs": [],
      "source": [
        "import cupy as cp"
      ]
    },
    {
      "cell_type": "markdown",
      "metadata": {
        "id": "Kcs5CANKCWIY"
      },
      "source": [
        "First we will convert cuDF DataFrame to a CuPy ndarray, using DLpack which is the best method:"
      ]
    },
    {
      "cell_type": "code",
      "execution_count": null,
      "metadata": {
        "colab": {
          "base_uri": "https://localhost:8080/"
        },
        "id": "AUARbDnHCWIZ",
        "outputId": "372c1eec-343c-4466-ae68-72c60b505e45"
      },
      "outputs": [
        {
          "output_type": "stream",
          "name": "stdout",
          "text": [
            "CPU times: user 562 µs, sys: 0 ns, total: 562 µs\n",
            "Wall time: 574 µs\n"
          ]
        },
        {
          "output_type": "execute_result",
          "data": {
            "text/plain": [
              "array([[    0,   500,  1000],\n",
              "       [    1,   501,  1001],\n",
              "       [    2,   502,  1002],\n",
              "       ...,\n",
              "       [ 9997, 10497, 10997],\n",
              "       [ 9998, 10498, 10998],\n",
              "       [ 9999, 10499, 10999]])"
            ]
          },
          "metadata": {},
          "execution_count": 66
        }
      ],
      "source": [
        "nelem = 10000\n",
        "df = cudf.DataFrame({'a':range(nelem),\n",
        "                     'b':range(500, nelem + 500),\n",
        "                     'c':range(1000, nelem + 1000)}\n",
        "                   )\n",
        "\n",
        "%time arr_cupy = cp.fromDlpack(df.to_dlpack())\n",
        "arr_cupy"
      ]
    },
    {
      "cell_type": "markdown",
      "metadata": {
        "id": "ym1tCbvjCWIZ"
      },
      "source": [
        "\n",
        "\n",
        "For now, note that you can convert a DataFrame or a Series to a CuPy array with `.values`. "
      ]
    },
    {
      "cell_type": "code",
      "execution_count": null,
      "metadata": {
        "colab": {
          "base_uri": "https://localhost:8080/"
        },
        "id": "As0Hht28CWIZ",
        "outputId": "e58065cb-8c90-4cdd-fd6a-6e1ee28199e6"
      },
      "outputs": [
        {
          "output_type": "execute_result",
          "data": {
            "text/plain": [
              "array([[    0,   500,  1000],\n",
              "       [    1,   501,  1001],\n",
              "       [    2,   502,  1002],\n",
              "       ...,\n",
              "       [ 9997, 10497, 10997],\n",
              "       [ 9998, 10498, 10998],\n",
              "       [ 9999, 10499, 10999]])"
            ]
          },
          "metadata": {},
          "execution_count": 67
        }
      ],
      "source": [
        "df.values"
      ]
    },
    {
      "cell_type": "markdown",
      "metadata": {
        "id": "C6kVMj_uCWIZ"
      },
      "source": [
        "<a id='pandas'></a>\n",
        "\n",
        "## Pandas"
      ]
    },
    {
      "cell_type": "markdown",
      "metadata": {
        "id": "Gp6Je3POCWIZ"
      },
      "source": [
        "Converting a cuDF `DataFrame` to a pandas `DataFrame`."
      ]
    },
    {
      "cell_type": "code",
      "execution_count": null,
      "metadata": {
        "colab": {
          "base_uri": "https://localhost:8080/",
          "height": 206
        },
        "id": "DR8POHgICWIa",
        "outputId": "e24a7ae2-e30f-49a7-c1f3-52ae259116fc"
      },
      "outputs": [
        {
          "output_type": "execute_result",
          "data": {
            "text/plain": [
              "   a    b     c\n",
              "0  0  500  1000\n",
              "1  1  501  1001\n",
              "2  2  502  1002\n",
              "3  3  503  1003\n",
              "4  4  504  1004"
            ],
            "text/html": [
              "\n",
              "  <div id=\"df-5b578c0e-1936-4a36-bc1a-f8c7ade88dc7\">\n",
              "    <div class=\"colab-df-container\">\n",
              "      <div>\n",
              "<style scoped>\n",
              "    .dataframe tbody tr th:only-of-type {\n",
              "        vertical-align: middle;\n",
              "    }\n",
              "\n",
              "    .dataframe tbody tr th {\n",
              "        vertical-align: top;\n",
              "    }\n",
              "\n",
              "    .dataframe thead th {\n",
              "        text-align: right;\n",
              "    }\n",
              "</style>\n",
              "<table border=\"1\" class=\"dataframe\">\n",
              "  <thead>\n",
              "    <tr style=\"text-align: right;\">\n",
              "      <th></th>\n",
              "      <th>a</th>\n",
              "      <th>b</th>\n",
              "      <th>c</th>\n",
              "    </tr>\n",
              "  </thead>\n",
              "  <tbody>\n",
              "    <tr>\n",
              "      <th>0</th>\n",
              "      <td>0</td>\n",
              "      <td>500</td>\n",
              "      <td>1000</td>\n",
              "    </tr>\n",
              "    <tr>\n",
              "      <th>1</th>\n",
              "      <td>1</td>\n",
              "      <td>501</td>\n",
              "      <td>1001</td>\n",
              "    </tr>\n",
              "    <tr>\n",
              "      <th>2</th>\n",
              "      <td>2</td>\n",
              "      <td>502</td>\n",
              "      <td>1002</td>\n",
              "    </tr>\n",
              "    <tr>\n",
              "      <th>3</th>\n",
              "      <td>3</td>\n",
              "      <td>503</td>\n",
              "      <td>1003</td>\n",
              "    </tr>\n",
              "    <tr>\n",
              "      <th>4</th>\n",
              "      <td>4</td>\n",
              "      <td>504</td>\n",
              "      <td>1004</td>\n",
              "    </tr>\n",
              "  </tbody>\n",
              "</table>\n",
              "</div>\n",
              "      <button class=\"colab-df-convert\" onclick=\"convertToInteractive('df-5b578c0e-1936-4a36-bc1a-f8c7ade88dc7')\"\n",
              "              title=\"Convert this dataframe to an interactive table.\"\n",
              "              style=\"display:none;\">\n",
              "        \n",
              "  <svg xmlns=\"http://www.w3.org/2000/svg\" height=\"24px\"viewBox=\"0 0 24 24\"\n",
              "       width=\"24px\">\n",
              "    <path d=\"M0 0h24v24H0V0z\" fill=\"none\"/>\n",
              "    <path d=\"M18.56 5.44l.94 2.06.94-2.06 2.06-.94-2.06-.94-.94-2.06-.94 2.06-2.06.94zm-11 1L8.5 8.5l.94-2.06 2.06-.94-2.06-.94L8.5 2.5l-.94 2.06-2.06.94zm10 10l.94 2.06.94-2.06 2.06-.94-2.06-.94-.94-2.06-.94 2.06-2.06.94z\"/><path d=\"M17.41 7.96l-1.37-1.37c-.4-.4-.92-.59-1.43-.59-.52 0-1.04.2-1.43.59L10.3 9.45l-7.72 7.72c-.78.78-.78 2.05 0 2.83L4 21.41c.39.39.9.59 1.41.59.51 0 1.02-.2 1.41-.59l7.78-7.78 2.81-2.81c.8-.78.8-2.07 0-2.86zM5.41 20L4 18.59l7.72-7.72 1.47 1.35L5.41 20z\"/>\n",
              "  </svg>\n",
              "      </button>\n",
              "      \n",
              "  <style>\n",
              "    .colab-df-container {\n",
              "      display:flex;\n",
              "      flex-wrap:wrap;\n",
              "      gap: 12px;\n",
              "    }\n",
              "\n",
              "    .colab-df-convert {\n",
              "      background-color: #E8F0FE;\n",
              "      border: none;\n",
              "      border-radius: 50%;\n",
              "      cursor: pointer;\n",
              "      display: none;\n",
              "      fill: #1967D2;\n",
              "      height: 32px;\n",
              "      padding: 0 0 0 0;\n",
              "      width: 32px;\n",
              "    }\n",
              "\n",
              "    .colab-df-convert:hover {\n",
              "      background-color: #E2EBFA;\n",
              "      box-shadow: 0px 1px 2px rgba(60, 64, 67, 0.3), 0px 1px 3px 1px rgba(60, 64, 67, 0.15);\n",
              "      fill: #174EA6;\n",
              "    }\n",
              "\n",
              "    [theme=dark] .colab-df-convert {\n",
              "      background-color: #3B4455;\n",
              "      fill: #D2E3FC;\n",
              "    }\n",
              "\n",
              "    [theme=dark] .colab-df-convert:hover {\n",
              "      background-color: #434B5C;\n",
              "      box-shadow: 0px 1px 3px 1px rgba(0, 0, 0, 0.15);\n",
              "      filter: drop-shadow(0px 1px 2px rgba(0, 0, 0, 0.3));\n",
              "      fill: #FFFFFF;\n",
              "    }\n",
              "  </style>\n",
              "\n",
              "      <script>\n",
              "        const buttonEl =\n",
              "          document.querySelector('#df-5b578c0e-1936-4a36-bc1a-f8c7ade88dc7 button.colab-df-convert');\n",
              "        buttonEl.style.display =\n",
              "          google.colab.kernel.accessAllowed ? 'block' : 'none';\n",
              "\n",
              "        async function convertToInteractive(key) {\n",
              "          const element = document.querySelector('#df-5b578c0e-1936-4a36-bc1a-f8c7ade88dc7');\n",
              "          const dataTable =\n",
              "            await google.colab.kernel.invokeFunction('convertToInteractive',\n",
              "                                                     [key], {});\n",
              "          if (!dataTable) return;\n",
              "\n",
              "          const docLinkHtml = 'Like what you see? Visit the ' +\n",
              "            '<a target=\"_blank\" href=https://colab.research.google.com/notebooks/data_table.ipynb>data table notebook</a>'\n",
              "            + ' to learn more about interactive tables.';\n",
              "          element.innerHTML = '';\n",
              "          dataTable['output_type'] = 'display_data';\n",
              "          await google.colab.output.renderOutput(dataTable, element);\n",
              "          const docLink = document.createElement('div');\n",
              "          docLink.innerHTML = docLinkHtml;\n",
              "          element.appendChild(docLink);\n",
              "        }\n",
              "      </script>\n",
              "    </div>\n",
              "  </div>\n",
              "  "
            ]
          },
          "metadata": {},
          "execution_count": 68
        }
      ],
      "source": [
        "df.head().to_pandas()"
      ]
    },
    {
      "cell_type": "markdown",
      "metadata": {
        "id": "-pQ8LQkOCWIa"
      },
      "source": [
        "<a id='numpy'></a>\n",
        "\n",
        "## Numpy"
      ]
    },
    {
      "cell_type": "markdown",
      "metadata": {
        "id": "OifGGEzzCWIa"
      },
      "source": [
        "Converting a cuDF `DataFrame` to a numpy `ndarray`."
      ]
    },
    {
      "cell_type": "code",
      "execution_count": null,
      "metadata": {
        "colab": {
          "base_uri": "https://localhost:8080/"
        },
        "id": "HY1rCowUCWIa",
        "outputId": "706259a1-83eb-43ca-a06a-a88518c235d7"
      },
      "outputs": [
        {
          "output_type": "stream",
          "name": "stderr",
          "text": [
            "/usr/local/lib/python3.7/site-packages/cudf/core/dataframe.py:3092: FutureWarning: The as_matrix method will be removed in a future cuDF release. Consider using `to_numpy` instead.\n",
            "  FutureWarning,\n",
            "/usr/local/lib/python3.7/site-packages/cudf/core/dataframe.py:3044: FutureWarning: The as_gpu_matrix method will be removed in a future cuDF release. Consider using `to_cupy` instead.\n",
            "  FutureWarning,\n"
          ]
        },
        {
          "output_type": "execute_result",
          "data": {
            "text/plain": [
              "array([[    0,   500,  1000],\n",
              "       [    1,   501,  1001],\n",
              "       [    2,   502,  1002],\n",
              "       ...,\n",
              "       [ 9997, 10497, 10997],\n",
              "       [ 9998, 10498, 10998],\n",
              "       [ 9999, 10499, 10999]])"
            ]
          },
          "metadata": {},
          "execution_count": 69
        }
      ],
      "source": [
        "df.as_matrix()"
      ]
    },
    {
      "cell_type": "markdown",
      "metadata": {
        "id": "tiSJxbznCWIa"
      },
      "source": [
        "Converting a cuDF `Series` to a numpy `ndarray`."
      ]
    },
    {
      "cell_type": "code",
      "execution_count": null,
      "metadata": {
        "colab": {
          "base_uri": "https://localhost:8080/"
        },
        "id": "jdQlZOEFCWIb",
        "outputId": "a8a3967e-4fc0-4336-f847-5dc4436078fc"
      },
      "outputs": [
        {
          "output_type": "stream",
          "name": "stdout",
          "text": [
            "[   0    1    2 ... 9997 9998 9999]\n"
          ]
        }
      ],
      "source": [
        "print(cp.asarray(df['a']))"
      ]
    },
    {
      "cell_type": "markdown",
      "metadata": {
        "id": "Nq1IjcvLCWIb"
      },
      "source": [
        "<a id='datainout'></a>\n",
        "\n",
        "Getting Data In/Out\n",
        "------------------------\n"
      ]
    },
    {
      "cell_type": "markdown",
      "metadata": {
        "id": "cdiCS8w3CWIb"
      },
      "source": [
        "<a id='csv'></a>\n",
        "\n",
        "## CSV"
      ]
    },
    {
      "cell_type": "markdown",
      "metadata": {
        "id": "UJ6J9pruCWIb"
      },
      "source": [
        "Writing to a CSV file, using a GPU-accelerated CSV writer."
      ]
    },
    {
      "cell_type": "code",
      "execution_count": null,
      "metadata": {
        "id": "ChraD5PCCWIb"
      },
      "outputs": [],
      "source": [
        "if not os.path.exists('example_output'):\n",
        "    os.mkdir('example_output')\n",
        "    \n",
        "df.to_csv('example_output/foo.csv', index=False)"
      ]
    },
    {
      "cell_type": "markdown",
      "metadata": {
        "id": "oK7ey81ECWIc"
      },
      "source": [
        "Reading from a csv file."
      ]
    },
    {
      "cell_type": "code",
      "execution_count": null,
      "metadata": {
        "colab": {
          "base_uri": "https://localhost:8080/"
        },
        "id": "vcExXqcLCWIc",
        "outputId": "f539748a-2883-49c8-fc33-d70fd1607a47"
      },
      "outputs": [
        {
          "output_type": "stream",
          "name": "stdout",
          "text": [
            "         a      b      c\n",
            "0        0    500   1000\n",
            "1        1    501   1001\n",
            "2        2    502   1002\n",
            "3        3    503   1003\n",
            "4        4    504   1004\n",
            "...    ...    ...    ...\n",
            "9995  9995  10495  10995\n",
            "9996  9996  10496  10996\n",
            "9997  9997  10497  10997\n",
            "9998  9998  10498  10998\n",
            "9999  9999  10499  10999\n",
            "\n",
            "[10000 rows x 3 columns]\n"
          ]
        }
      ],
      "source": [
        "df = cudf.read_csv('example_output/foo.csv')\n",
        "print(df)"
      ]
    },
    {
      "cell_type": "markdown",
      "metadata": {
        "id": "uS7xT7BfCWIc"
      },
      "source": [
        "That's it! You've got the basics of cuDF down! Let's talk a little bit about the computational performance of cuDF and GPUs."
      ]
    },
    {
      "cell_type": "markdown",
      "metadata": {
        "id": "g7vV0BOJCWIc"
      },
      "source": [
        "<a id='performance'></a>\n",
        "\n",
        "\n",
        "# Performance"
      ]
    },
    {
      "cell_type": "markdown",
      "metadata": {
        "id": "Ts_97eb1CWIc"
      },
      "source": [
        "One of the primary reasons to use cuDF over pandas is performance. For some workflows, the GPU can be **much** faster than the CPU. Let's illustrate this by starting with a small example: creating a DataFrame and calculating the sum of a column."
      ]
    },
    {
      "cell_type": "code",
      "execution_count": null,
      "metadata": {
        "id": "2uM9Ok5qCWIc"
      },
      "outputs": [],
      "source": [
        "a = np.random.rand(10000000) # 10 million values"
      ]
    },
    {
      "cell_type": "code",
      "execution_count": null,
      "metadata": {
        "id": "Jv7YXcpNCWId"
      },
      "outputs": [],
      "source": [
        "pdf = pd.DataFrame({'a': a})\n",
        "cdf = cudf.DataFrame({'a': a})"
      ]
    },
    {
      "cell_type": "code",
      "execution_count": null,
      "metadata": {
        "colab": {
          "base_uri": "https://localhost:8080/"
        },
        "id": "7H3CN9asCWId",
        "outputId": "ea3db958-d684-4b10-b58c-1d963bbbcc68"
      },
      "outputs": [
        {
          "output_type": "stream",
          "name": "stdout",
          "text": [
            "15.9 ms ± 342 µs per loop (mean ± std. dev. of 7 runs, 100 loops each)\n"
          ]
        }
      ],
      "source": [
        "%%timeit\n",
        "pdf['a'].sum()"
      ]
    },
    {
      "cell_type": "code",
      "execution_count": null,
      "metadata": {
        "colab": {
          "base_uri": "https://localhost:8080/"
        },
        "id": "0Q58omVJCWId",
        "outputId": "23771e7b-eb0f-47e0-cd05-1f94d381942d"
      },
      "outputs": [
        {
          "output_type": "stream",
          "name": "stdout",
          "text": [
            "1.14 ms ± 7.4 µs per loop (mean ± std. dev. of 7 runs, 1000 loops each)\n"
          ]
        }
      ],
      "source": [
        "%%timeit\n",
        "cdf['a'].sum()"
      ]
    },
    {
      "cell_type": "markdown",
      "metadata": {
        "id": "2fl9RwioCWId"
      },
      "source": [
        "Pretty cool! This is a pretty small example, though."
      ]
    },
    {
      "cell_type": "markdown",
      "metadata": {
        "id": "obwGRDlcCWId"
      },
      "source": [
        "<a id='sensorex'></a>\n",
        "\n",
        "### A More Realistic Example: Sensor Data Analytics\n",
        "\n",
        "To get a more realistic sense of how powerful cuDF and GPUs can be, let's imagine you had a fleet of sensors that collect data every millisecond. These sensors could be measuring pressure, temperature, or something else entirely.\n",
        "\n",
        "Let's imagine we want to analyze one day's worth of sensor data. We'll assign random values for the sensor `value` to use for this example. We'll start by creating the data, and generating some datetime related features like we learned about in the above tutorial."
      ]
    },
    {
      "cell_type": "code",
      "execution_count": null,
      "metadata": {
        "colab": {
          "base_uri": "https://localhost:8080/",
          "height": 268
        },
        "id": "sfqBYYidCWIe",
        "outputId": "8d9655a2-089a-483d-c846-76c301023001"
      },
      "outputs": [
        {
          "output_type": "stream",
          "name": "stdout",
          "text": [
            "(86400001, 4)\n",
            "CPU times: user 20.9 s, sys: 9.77 s, total: 30.7 s\n",
            "Wall time: 30.8 s\n"
          ]
        },
        {
          "output_type": "execute_result",
          "data": {
            "text/plain": [
              "                     date     value  hour  minute\n",
              "0 2019-07-05 00:00:00.000  0.391385     0       0\n",
              "1 2019-07-05 00:00:00.001  0.722956     0       0\n",
              "2 2019-07-05 00:00:00.002  0.062759     0       0\n",
              "3 2019-07-05 00:00:00.003  0.723346     0       0\n",
              "4 2019-07-05 00:00:00.004  0.914508     0       0"
            ],
            "text/html": [
              "\n",
              "  <div id=\"df-91816190-5421-45c9-b836-3385090c1a76\">\n",
              "    <div class=\"colab-df-container\">\n",
              "      <div>\n",
              "<style scoped>\n",
              "    .dataframe tbody tr th:only-of-type {\n",
              "        vertical-align: middle;\n",
              "    }\n",
              "\n",
              "    .dataframe tbody tr th {\n",
              "        vertical-align: top;\n",
              "    }\n",
              "\n",
              "    .dataframe thead th {\n",
              "        text-align: right;\n",
              "    }\n",
              "</style>\n",
              "<table border=\"1\" class=\"dataframe\">\n",
              "  <thead>\n",
              "    <tr style=\"text-align: right;\">\n",
              "      <th></th>\n",
              "      <th>date</th>\n",
              "      <th>value</th>\n",
              "      <th>hour</th>\n",
              "      <th>minute</th>\n",
              "    </tr>\n",
              "  </thead>\n",
              "  <tbody>\n",
              "    <tr>\n",
              "      <th>0</th>\n",
              "      <td>2019-07-05 00:00:00.000</td>\n",
              "      <td>0.391385</td>\n",
              "      <td>0</td>\n",
              "      <td>0</td>\n",
              "    </tr>\n",
              "    <tr>\n",
              "      <th>1</th>\n",
              "      <td>2019-07-05 00:00:00.001</td>\n",
              "      <td>0.722956</td>\n",
              "      <td>0</td>\n",
              "      <td>0</td>\n",
              "    </tr>\n",
              "    <tr>\n",
              "      <th>2</th>\n",
              "      <td>2019-07-05 00:00:00.002</td>\n",
              "      <td>0.062759</td>\n",
              "      <td>0</td>\n",
              "      <td>0</td>\n",
              "    </tr>\n",
              "    <tr>\n",
              "      <th>3</th>\n",
              "      <td>2019-07-05 00:00:00.003</td>\n",
              "      <td>0.723346</td>\n",
              "      <td>0</td>\n",
              "      <td>0</td>\n",
              "    </tr>\n",
              "    <tr>\n",
              "      <th>4</th>\n",
              "      <td>2019-07-05 00:00:00.004</td>\n",
              "      <td>0.914508</td>\n",
              "      <td>0</td>\n",
              "      <td>0</td>\n",
              "    </tr>\n",
              "  </tbody>\n",
              "</table>\n",
              "</div>\n",
              "      <button class=\"colab-df-convert\" onclick=\"convertToInteractive('df-91816190-5421-45c9-b836-3385090c1a76')\"\n",
              "              title=\"Convert this dataframe to an interactive table.\"\n",
              "              style=\"display:none;\">\n",
              "        \n",
              "  <svg xmlns=\"http://www.w3.org/2000/svg\" height=\"24px\"viewBox=\"0 0 24 24\"\n",
              "       width=\"24px\">\n",
              "    <path d=\"M0 0h24v24H0V0z\" fill=\"none\"/>\n",
              "    <path d=\"M18.56 5.44l.94 2.06.94-2.06 2.06-.94-2.06-.94-.94-2.06-.94 2.06-2.06.94zm-11 1L8.5 8.5l.94-2.06 2.06-.94-2.06-.94L8.5 2.5l-.94 2.06-2.06.94zm10 10l.94 2.06.94-2.06 2.06-.94-2.06-.94-.94-2.06-.94 2.06-2.06.94z\"/><path d=\"M17.41 7.96l-1.37-1.37c-.4-.4-.92-.59-1.43-.59-.52 0-1.04.2-1.43.59L10.3 9.45l-7.72 7.72c-.78.78-.78 2.05 0 2.83L4 21.41c.39.39.9.59 1.41.59.51 0 1.02-.2 1.41-.59l7.78-7.78 2.81-2.81c.8-.78.8-2.07 0-2.86zM5.41 20L4 18.59l7.72-7.72 1.47 1.35L5.41 20z\"/>\n",
              "  </svg>\n",
              "      </button>\n",
              "      \n",
              "  <style>\n",
              "    .colab-df-container {\n",
              "      display:flex;\n",
              "      flex-wrap:wrap;\n",
              "      gap: 12px;\n",
              "    }\n",
              "\n",
              "    .colab-df-convert {\n",
              "      background-color: #E8F0FE;\n",
              "      border: none;\n",
              "      border-radius: 50%;\n",
              "      cursor: pointer;\n",
              "      display: none;\n",
              "      fill: #1967D2;\n",
              "      height: 32px;\n",
              "      padding: 0 0 0 0;\n",
              "      width: 32px;\n",
              "    }\n",
              "\n",
              "    .colab-df-convert:hover {\n",
              "      background-color: #E2EBFA;\n",
              "      box-shadow: 0px 1px 2px rgba(60, 64, 67, 0.3), 0px 1px 3px 1px rgba(60, 64, 67, 0.15);\n",
              "      fill: #174EA6;\n",
              "    }\n",
              "\n",
              "    [theme=dark] .colab-df-convert {\n",
              "      background-color: #3B4455;\n",
              "      fill: #D2E3FC;\n",
              "    }\n",
              "\n",
              "    [theme=dark] .colab-df-convert:hover {\n",
              "      background-color: #434B5C;\n",
              "      box-shadow: 0px 1px 3px 1px rgba(0, 0, 0, 0.15);\n",
              "      filter: drop-shadow(0px 1px 2px rgba(0, 0, 0, 0.3));\n",
              "      fill: #FFFFFF;\n",
              "    }\n",
              "  </style>\n",
              "\n",
              "      <script>\n",
              "        const buttonEl =\n",
              "          document.querySelector('#df-91816190-5421-45c9-b836-3385090c1a76 button.colab-df-convert');\n",
              "        buttonEl.style.display =\n",
              "          google.colab.kernel.accessAllowed ? 'block' : 'none';\n",
              "\n",
              "        async function convertToInteractive(key) {\n",
              "          const element = document.querySelector('#df-91816190-5421-45c9-b836-3385090c1a76');\n",
              "          const dataTable =\n",
              "            await google.colab.kernel.invokeFunction('convertToInteractive',\n",
              "                                                     [key], {});\n",
              "          if (!dataTable) return;\n",
              "\n",
              "          const docLinkHtml = 'Like what you see? Visit the ' +\n",
              "            '<a target=\"_blank\" href=https://colab.research.google.com/notebooks/data_table.ipynb>data table notebook</a>'\n",
              "            + ' to learn more about interactive tables.';\n",
              "          element.innerHTML = '';\n",
              "          dataTable['output_type'] = 'display_data';\n",
              "          await google.colab.output.renderOutput(dataTable, element);\n",
              "          const docLink = document.createElement('div');\n",
              "          docLink.innerHTML = docLinkHtml;\n",
              "          element.appendChild(docLink);\n",
              "        }\n",
              "      </script>\n",
              "    </div>\n",
              "  </div>\n",
              "  "
            ]
          },
          "metadata": {},
          "execution_count": 77
        }
      ],
      "source": [
        "%%time\n",
        "\n",
        "date_df = pd.DataFrame()\n",
        "date_df['date'] = pd.date_range(start='2019-07-05', end='2019-07-06', freq='ms')\n",
        "date_df['value'] = np.random.sample(len(date_df))\n",
        "\n",
        "date_df['hour'] = date_df.date.dt.hour\n",
        "date_df['minute'] = date_df.date.dt.minute\n",
        "\n",
        "print(date_df.shape)\n",
        "date_df.head()"
      ]
    },
    {
      "cell_type": "markdown",
      "metadata": {
        "id": "9uTNzBsoCWIe"
      },
      "source": [
        "Just creating the data takes a while! Let's do our analysis. From our sensor data, we want to get the maximum sensor value for each minute. Since we don't want to combine values in the same minute of different hours, we'll need to do a hierarchical groupby."
      ]
    },
    {
      "cell_type": "code",
      "execution_count": null,
      "metadata": {
        "colab": {
          "base_uri": "https://localhost:8080/",
          "height": 250
        },
        "id": "YTSC6KY2CWIe",
        "outputId": "f484c9b6-d439-4e72-c0db-c1b584167fd7"
      },
      "outputs": [
        {
          "output_type": "stream",
          "name": "stdout",
          "text": [
            "CPU times: user 3.64 s, sys: 10.2 s, total: 13.9 s\n",
            "Wall time: 13.8 s\n"
          ]
        },
        {
          "output_type": "execute_result",
          "data": {
            "text/plain": [
              "                value\n",
              "hour minute          \n",
              "0    0       0.999994\n",
              "     1       0.999931\n",
              "     2       0.999995\n",
              "     3       0.999962\n",
              "     4       0.999975"
            ],
            "text/html": [
              "\n",
              "  <div id=\"df-3199c6a4-0889-4945-8437-ced70b2c6efd\">\n",
              "    <div class=\"colab-df-container\">\n",
              "      <div>\n",
              "<style scoped>\n",
              "    .dataframe tbody tr th:only-of-type {\n",
              "        vertical-align: middle;\n",
              "    }\n",
              "\n",
              "    .dataframe tbody tr th {\n",
              "        vertical-align: top;\n",
              "    }\n",
              "\n",
              "    .dataframe thead th {\n",
              "        text-align: right;\n",
              "    }\n",
              "</style>\n",
              "<table border=\"1\" class=\"dataframe\">\n",
              "  <thead>\n",
              "    <tr style=\"text-align: right;\">\n",
              "      <th></th>\n",
              "      <th></th>\n",
              "      <th>value</th>\n",
              "    </tr>\n",
              "    <tr>\n",
              "      <th>hour</th>\n",
              "      <th>minute</th>\n",
              "      <th></th>\n",
              "    </tr>\n",
              "  </thead>\n",
              "  <tbody>\n",
              "    <tr>\n",
              "      <th rowspan=\"5\" valign=\"top\">0</th>\n",
              "      <th>0</th>\n",
              "      <td>0.999994</td>\n",
              "    </tr>\n",
              "    <tr>\n",
              "      <th>1</th>\n",
              "      <td>0.999931</td>\n",
              "    </tr>\n",
              "    <tr>\n",
              "      <th>2</th>\n",
              "      <td>0.999995</td>\n",
              "    </tr>\n",
              "    <tr>\n",
              "      <th>3</th>\n",
              "      <td>0.999962</td>\n",
              "    </tr>\n",
              "    <tr>\n",
              "      <th>4</th>\n",
              "      <td>0.999975</td>\n",
              "    </tr>\n",
              "  </tbody>\n",
              "</table>\n",
              "</div>\n",
              "      <button class=\"colab-df-convert\" onclick=\"convertToInteractive('df-3199c6a4-0889-4945-8437-ced70b2c6efd')\"\n",
              "              title=\"Convert this dataframe to an interactive table.\"\n",
              "              style=\"display:none;\">\n",
              "        \n",
              "  <svg xmlns=\"http://www.w3.org/2000/svg\" height=\"24px\"viewBox=\"0 0 24 24\"\n",
              "       width=\"24px\">\n",
              "    <path d=\"M0 0h24v24H0V0z\" fill=\"none\"/>\n",
              "    <path d=\"M18.56 5.44l.94 2.06.94-2.06 2.06-.94-2.06-.94-.94-2.06-.94 2.06-2.06.94zm-11 1L8.5 8.5l.94-2.06 2.06-.94-2.06-.94L8.5 2.5l-.94 2.06-2.06.94zm10 10l.94 2.06.94-2.06 2.06-.94-2.06-.94-.94-2.06-.94 2.06-2.06.94z\"/><path d=\"M17.41 7.96l-1.37-1.37c-.4-.4-.92-.59-1.43-.59-.52 0-1.04.2-1.43.59L10.3 9.45l-7.72 7.72c-.78.78-.78 2.05 0 2.83L4 21.41c.39.39.9.59 1.41.59.51 0 1.02-.2 1.41-.59l7.78-7.78 2.81-2.81c.8-.78.8-2.07 0-2.86zM5.41 20L4 18.59l7.72-7.72 1.47 1.35L5.41 20z\"/>\n",
              "  </svg>\n",
              "      </button>\n",
              "      \n",
              "  <style>\n",
              "    .colab-df-container {\n",
              "      display:flex;\n",
              "      flex-wrap:wrap;\n",
              "      gap: 12px;\n",
              "    }\n",
              "\n",
              "    .colab-df-convert {\n",
              "      background-color: #E8F0FE;\n",
              "      border: none;\n",
              "      border-radius: 50%;\n",
              "      cursor: pointer;\n",
              "      display: none;\n",
              "      fill: #1967D2;\n",
              "      height: 32px;\n",
              "      padding: 0 0 0 0;\n",
              "      width: 32px;\n",
              "    }\n",
              "\n",
              "    .colab-df-convert:hover {\n",
              "      background-color: #E2EBFA;\n",
              "      box-shadow: 0px 1px 2px rgba(60, 64, 67, 0.3), 0px 1px 3px 1px rgba(60, 64, 67, 0.15);\n",
              "      fill: #174EA6;\n",
              "    }\n",
              "\n",
              "    [theme=dark] .colab-df-convert {\n",
              "      background-color: #3B4455;\n",
              "      fill: #D2E3FC;\n",
              "    }\n",
              "\n",
              "    [theme=dark] .colab-df-convert:hover {\n",
              "      background-color: #434B5C;\n",
              "      box-shadow: 0px 1px 3px 1px rgba(0, 0, 0, 0.15);\n",
              "      filter: drop-shadow(0px 1px 2px rgba(0, 0, 0, 0.3));\n",
              "      fill: #FFFFFF;\n",
              "    }\n",
              "  </style>\n",
              "\n",
              "      <script>\n",
              "        const buttonEl =\n",
              "          document.querySelector('#df-3199c6a4-0889-4945-8437-ced70b2c6efd button.colab-df-convert');\n",
              "        buttonEl.style.display =\n",
              "          google.colab.kernel.accessAllowed ? 'block' : 'none';\n",
              "\n",
              "        async function convertToInteractive(key) {\n",
              "          const element = document.querySelector('#df-3199c6a4-0889-4945-8437-ced70b2c6efd');\n",
              "          const dataTable =\n",
              "            await google.colab.kernel.invokeFunction('convertToInteractive',\n",
              "                                                     [key], {});\n",
              "          if (!dataTable) return;\n",
              "\n",
              "          const docLinkHtml = 'Like what you see? Visit the ' +\n",
              "            '<a target=\"_blank\" href=https://colab.research.google.com/notebooks/data_table.ipynb>data table notebook</a>'\n",
              "            + ' to learn more about interactive tables.';\n",
              "          element.innerHTML = '';\n",
              "          dataTable['output_type'] = 'display_data';\n",
              "          await google.colab.output.renderOutput(dataTable, element);\n",
              "          const docLink = document.createElement('div');\n",
              "          docLink.innerHTML = docLinkHtml;\n",
              "          element.appendChild(docLink);\n",
              "        }\n",
              "      </script>\n",
              "    </div>\n",
              "  </div>\n",
              "  "
            ]
          },
          "metadata": {},
          "execution_count": 78
        }
      ],
      "source": [
        "%time results = date_df.groupby(['hour', 'minute']).agg({'value':'max'})\n",
        "results.head()"
      ]
    },
    {
      "cell_type": "markdown",
      "metadata": {
        "id": "4ATnByH-CWIe"
      },
      "source": [
        "This is fairly slow! Imagine if we had a fleet of sensors. Time would become a serious concern.\n",
        "\n",
        "Let's try this in cuDF now, using the GPU DataFrame. We'll run the same code as above."
      ]
    },
    {
      "cell_type": "code",
      "execution_count": null,
      "metadata": {
        "colab": {
          "base_uri": "https://localhost:8080/"
        },
        "id": "Vlo-Wf6vCWIe",
        "outputId": "aaf91f93-55de-4dd5-d715-f71843a05470"
      },
      "outputs": [
        {
          "output_type": "stream",
          "name": "stdout",
          "text": [
            "(86400001, 5)\n",
            "                     date     value  hour  minute  second\n",
            "0 2019-07-05 00:00:00.000  0.453388     0       0       0\n",
            "1 2019-07-05 00:00:00.001  0.804337     0       0       0\n",
            "2 2019-07-05 00:00:00.002  0.449341     0       0       0\n",
            "3 2019-07-05 00:00:00.003  0.596637     0       0       0\n",
            "4 2019-07-05 00:00:00.004  0.552345     0       0       0\n",
            "CPU times: user 1.45 s, sys: 605 ms, total: 2.05 s\n",
            "Wall time: 2.11 s\n"
          ]
        }
      ],
      "source": [
        "%%time\n",
        "\n",
        "date_df = cudf.DataFrame()\n",
        "date_df['date'] = pd.date_range(start='2019-07-05', end='2019-07-06', freq='ms')\n",
        "date_df['value'] = np.random.sample(len(date_df))\n",
        "\n",
        "date_df['hour'] = date_df.date.dt.hour\n",
        "date_df['minute'] = date_df.date.dt.minute\n",
        "date_df['second'] = date_df.date.dt.second\n",
        "\n",
        "print(date_df.shape)\n",
        "print(date_df.head())"
      ]
    },
    {
      "cell_type": "code",
      "execution_count": null,
      "metadata": {
        "colab": {
          "base_uri": "https://localhost:8080/",
          "height": 274
        },
        "id": "yi4lGp_RCWIf",
        "outputId": "94e6191e-4bf2-412c-c187-f297c78d416f"
      },
      "outputs": [
        {
          "output_type": "stream",
          "name": "stdout",
          "text": [
            "CPU times: user 87.6 ms, sys: 8.39 ms, total: 96 ms\n",
            "Wall time: 98.2 ms\n"
          ]
        },
        {
          "output_type": "execute_result",
          "data": {
            "text/plain": [
              "                       value\n",
              "hour minute second          \n",
              "2    43     35      0.999544\n",
              "4    13     8       0.997685\n",
              "1    44     5       0.999127\n",
              "3    31     6       0.998985\n",
              "9    49     13      0.994060"
            ],
            "text/html": [
              "<div>\n",
              "<style scoped>\n",
              "    .dataframe tbody tr th:only-of-type {\n",
              "        vertical-align: middle;\n",
              "    }\n",
              "\n",
              "    .dataframe tbody tr th {\n",
              "        vertical-align: top;\n",
              "    }\n",
              "\n",
              "    .dataframe thead th {\n",
              "        text-align: right;\n",
              "    }\n",
              "</style>\n",
              "<table border=\"1\" class=\"dataframe\">\n",
              "  <thead>\n",
              "    <tr style=\"text-align: right;\">\n",
              "      <th></th>\n",
              "      <th></th>\n",
              "      <th></th>\n",
              "      <th>value</th>\n",
              "    </tr>\n",
              "    <tr>\n",
              "      <th>hour</th>\n",
              "      <th>minute</th>\n",
              "      <th>second</th>\n",
              "      <th></th>\n",
              "    </tr>\n",
              "  </thead>\n",
              "  <tbody>\n",
              "    <tr>\n",
              "      <th>2</th>\n",
              "      <th>43</th>\n",
              "      <th>35</th>\n",
              "      <td>0.999544</td>\n",
              "    </tr>\n",
              "    <tr>\n",
              "      <th>4</th>\n",
              "      <th>13</th>\n",
              "      <th>8</th>\n",
              "      <td>0.997685</td>\n",
              "    </tr>\n",
              "    <tr>\n",
              "      <th>1</th>\n",
              "      <th>44</th>\n",
              "      <th>5</th>\n",
              "      <td>0.999127</td>\n",
              "    </tr>\n",
              "    <tr>\n",
              "      <th>3</th>\n",
              "      <th>31</th>\n",
              "      <th>6</th>\n",
              "      <td>0.998985</td>\n",
              "    </tr>\n",
              "    <tr>\n",
              "      <th>9</th>\n",
              "      <th>49</th>\n",
              "      <th>13</th>\n",
              "      <td>0.994060</td>\n",
              "    </tr>\n",
              "  </tbody>\n",
              "</table>\n",
              "</div>"
            ]
          },
          "metadata": {},
          "execution_count": 80
        }
      ],
      "source": [
        "%time results = date_df.groupby(['hour', 'minute', 'second']).agg({'value':'max'})\n",
        "results.head()"
      ]
    },
    {
      "cell_type": "markdown",
      "metadata": {
        "id": "S9wS6zfOCWIf"
      },
      "source": [
        "The data creation accelerated from 23 s to 2.5 seconds and the processing from 3 s to 40 ms."
      ]
    },
    {
      "cell_type": "markdown",
      "metadata": {
        "id": "eF72cIfzCWIf"
      },
      "source": [
        "# Conclusion\n",
        "\n",
        "Now we are familiar with creating CUDF dataframes, selecting, viewing and manipulating data. The operations are almost the same as pandas, and can easily replace the pandas operations in our traditional data science pipeline. While the results may vary slightly on different GPUs, it should be clear that GPU acceleration can make a significant difference. We can get much faster results with the same code! The next tutorial will give us more control over the data and allow us to play with user defined functions. The kernel function allow us to specify how the data is chunked, thus we can accelerate the row-wise operations with greater control over execution."
      ]
    }
  ],
  "metadata": {
    "anaconda-cloud": {},
    "kernelspec": {
      "display_name": "Python 3",
      "language": "python",
      "name": "python3"
    },
    "language_info": {
      "codemirror_mode": {
        "name": "ipython",
        "version": 3
      },
      "file_extension": ".py",
      "mimetype": "text/x-python",
      "name": "python",
      "nbconvert_exporter": "python",
      "pygments_lexer": "ipython3",
      "version": "3.6.2"
    },
    "colab": {
      "provenance": [],
      "collapsed_sections": [
        "9h8pLLDmCWH-",
        "fXR0_RUwCWH_",
        "S3VMMOOxCWIB",
        "pt2Tn5aSCWID",
        "BqlohlZuCWIF",
        "TTQzJ6uGCWIH",
        "QacjhsnfCWII",
        "Mi8DglXwCWIJ",
        "nYge9VdqCWIK",
        "E5kRbT5pCWIL",
        "X082qF5YCWIL",
        "ncsj39xkCWIN",
        "O5NVuuEVCWIO",
        "fUlfa4I6CWIP",
        "A2-tUmBSCWIP",
        "ylKgaMDvCWIQ",
        "gRpPzTmoCWIR",
        "m95RN6qSCWIW",
        "UyEpmy_GCWIY",
        "Nq1IjcvLCWIb"
      ]
    },
    "accelerator": "GPU",
    "gpuClass": "standard"
  },
  "nbformat": 4,
  "nbformat_minor": 0
}